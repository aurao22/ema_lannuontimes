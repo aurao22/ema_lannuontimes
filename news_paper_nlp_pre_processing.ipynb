{
 "cells": [
  {
   "cell_type": "code",
   "execution_count": 1,
   "metadata": {},
   "outputs": [],
   "source": [
    "import pandas as pd\n",
    "from news_paper_dao import NewsPaperDao\n",
    "from IPython.core.display import HTML\n",
    "from os import getcwd\n",
    "from news_paper_nlp_pre_processing import *\n",
    "from nltk.corpus import stopwords, wordnet\n",
    "import nltk"
   ]
  },
  {
   "cell_type": "code",
   "execution_count": 2,
   "metadata": {},
   "outputs": [],
   "source": [
    "from nltk.corpus import stopwords, wordnet"
   ]
  },
  {
   "cell_type": "code",
   "execution_count": 3,
   "metadata": {},
   "outputs": [
    {
     "name": "stdout",
     "output_type": "stream",
     "text": [
      "c:\\Users\\User\\WORK\\workspace-ia\\PROJETS\\ema_lannuontimes\\\n"
     ]
    }
   ],
   "source": [
    "# Récupère le répertoire du programme\n",
    "curent_path = getcwd()+ \"\\\\\"\n",
    "if \"ema_lannuontimes\" not in curent_path:\n",
    "    curent_path += \"PROJETS\\\\ema_lannuontimes\\\\\"\n",
    "print(curent_path)"
   ]
  },
  {
   "cell_type": "markdown",
   "metadata": {},
   "source": [
    "<div style=\"display: flex; background-color: Blue; padding: 15px;\" >\n",
    "\n",
    "## Exploration des données: \n",
    "</div>"
   ]
  },
  {
   "cell_type": "code",
   "execution_count": 4,
   "metadata": {},
   "outputs": [
    {
     "name": "stdout",
     "output_type": "stream",
     "text": [
      "La version de SQLite est:  [('3.35.5',)]\n",
      "(1185, 7)\n"
     ]
    }
   ],
   "source": [
    "verbose = 1\n",
    "\n",
    "dao = NewsPaperDao(nom_bdd=curent_path+\"em_bdd.db\")\n",
    "assert dao.test_connexion()\n",
    "\n",
    "df_articles = dao.get_articles(verbose=0)\n",
    "print(df_articles.shape)"
   ]
  },
  {
   "cell_type": "code",
   "execution_count": null,
   "metadata": {},
   "outputs": [],
   "source": [
    "color_by_journal = {\"Le Trégor\":\"green\",\"ActuGaming\":\"orange\", \"Elle\":\"pink\", \"30 M. d\\\\'amis\":\"blue\"}\n",
    "journaux = df_articles[\"journal\"].unique()"
   ]
  },
  {
   "cell_type": "code",
   "execution_count": 5,
   "metadata": {},
   "outputs": [
    {
     "name": "stdout",
     "output_type": "stream",
     "text": [
      "(1185, 7)\n",
      "Index(['titre', 'date_parution', 'journal', 'auteur', 'tags', 'texte', 'url'], dtype='object')\n"
     ]
    },
    {
     "data": {
      "text/html": [
       "<table border=\"1\" class=\"dataframe\">\n",
       "  <thead>\n",
       "    <tr style=\"text-align: right;\">\n",
       "      <th></th>\n",
       "      <th>titre</th>\n",
       "      <th>date_parution</th>\n",
       "      <th>journal</th>\n",
       "      <th>auteur</th>\n",
       "      <th>tags</th>\n",
       "      <th>texte</th>\n",
       "      <th>url</th>\n",
       "    </tr>\n",
       "  </thead>\n",
       "  <tbody>\n",
       "    <tr>\n",
       "      <th>0</th>\n",
       "      <td>Lannion. Un cycliste renversé par une voiture en centre-ville</td>\n",
       "      <td>10 Mar 22 à 17:05</td>\n",
       "      <td>Le Trégor</td>\n",
       "      <td>Christophe Ganne</td>\n",
       "      <td>faits-divers</td>\n",
       "      <td>Jeudi 10 mars à 16 h 30, au rond point de la Poste à Lannion, en plein centre-ville, sur les quais, un cycliste a été renversé par une voiture. Légèrement blessé Le jeune cycliste, âgé de seize ans, a été légèrement blessé. Pompiers et policiers se sont rapidement rendus sur place. Le jeune homme a été pris en charge par les pompiers et transporté au centre hospitalier de Lannion.</td>\n",
       "      <td>https://actu.fr/bretagne/lannion_22113/lannion-un-cycliste-renverse-par-une-voiture-en-centre-ville_49325798.html</td>\n",
       "    </tr>\n",
       "    <tr>\n",
       "      <th>1</th>\n",
       "      <td>Perros-Guirec. Panne électrique : la mairie invite les citoyens à économiser l\\'énergie</td>\n",
       "      <td>8 Mar 22 à 10:33</td>\n",
       "      <td>Le Trégor</td>\n",
       "      <td>Christophe Ganne</td>\n",
       "      <td>societe</td>\n",
       "      <td>Suite à la panne d’électricité géante sur la côte de Granit rose,  ce week-end, de nombreuses coupures sont encore attendues jour et nuit. Les difficultés de réparation du poste de Saint-Quay-Perros vont encore durer un moment. Pas d’éclairage public Pour faire face, la mairie de Perros-Guirec va dès ce mardi soir 8 mars couper l’éclairage public. Nous avons 80 postes de répartition de l’éclairage public que nous allons couper, peut-être pas tout ce soir, mais dans les jours suivants. C’est une mesure d’économie pour ne pas trop tirer sur les installations précaires mises en place en attendant la réparation définitive. Economiser l’électricité Cette mesure publique s’accompagne aussi d’encouragements envers la population. Nous allons demander aux Perrosiens d’être vigilants sur leur consommation électrique le temps des réparations. Les élus confirment aussi les difficultés d’approvisionnement en gasoil des 124 groupes électrogènes installés dans les différentes communes de la côte de Granit rose. Les activités nautiques interdites Autre conséquence, les difficultés de fonctionnement des stations d’épuration. Les postes de relevage et de traitement ne fonctionnent pas normalement. La ville craint des débordements qui pourraient atteindre les plages. « Ce n’est pas encore le cas mais il y a des risques », explique Erven Léon. C’est pourquoi la mairie de Perros-Guirec a pris un arrêté interdisant les baignades et les activités nautiques sur les plages de Trestraou, Trestrignel et Saint-Guirec le temps d’un retour à la normale.</td>\n",
       "      <td>https://actu.fr/bretagne/perros-guirec_22168/perros-guirec-panne-electrique-la-mairie-invite-les-citoyens-a-economiser-lenergie_49242304.html</td>\n",
       "    </tr>\n",
       "    <tr>\n",
       "      <th>2</th>\n",
       "      <td>Louannec. Un gang de l\\'Est avait pillé le distributeur de billets : 5 interpellations</td>\n",
       "      <td>11 Mar 22 à 20:08</td>\n",
       "      <td>Le Trégor</td>\n",
       "      <td>Christophe Ganne</td>\n",
       "      <td>faits-divers</td>\n",
       "      <td>Les gendarmes de Perros-Guirec, Lannion, Rennes, Toulouse et le groupe de cybercriminalité de la gendarmerie ont pu interpeller les membres d’un groupe qui piratait les distributeurs il y a quelques jours. Liés à la criminalité Les membres de ce groupe sont liés à la criminalité organisée des pays de l’Est. Ils avaient dérobé 50 000 euros à Louannec. 50 000 euros à Louannec Les faits remontent à la nuit du 9 au 10 novembre 2021. A l’agence postale de Louannec, les individus percent le distributeur automatique afin de le pirater en se connectant dessus à l’aide d’un ordinateur. Une pratique connue appelée Jackpotting Le groupe repart avec 50 000 euros. Les gendarmes de Perros-Guirec et Lannion, appuyés par ceux de Rennes, mènent l’enquête. Des points communs Parallèlement, à Auch et Toulouse, des faits similaires sont relevés. Les enquêteurs mettent en commun leurs recherches et y trouvent des points communs. Le 3 février dernier, dans le sud ouest, les gendarmes de Toulouse ont interpellé 5 individus. 22 piratages pour 300 000 euros Ils ont reconnu avoir piraté 22 distributeurs de billets dans toute la France pour un montant total de 300 000 euros dont 50 000 euros à Louannec. C’est une opération énorme qui a été montée et une organisation qui a été démantelée. L’enquête se poursuit toutefois pour d’autres faits. Certains des membres du groupe sont actuellement incarcérés.</td>\n",
       "      <td>https://actu.fr/bretagne/louannec_22134/louannec-un-gang-de-lest-avait-pille-le-distributeur-de-billets-5-interpellations_49364830.html</td>\n",
       "    </tr>\n",
       "    <tr>\n",
       "      <th>3</th>\n",
       "      <td>Lannion. Une conférence et une expo sur l’hydrogène</td>\n",
       "      <td>9 Mar 22 à 12:25</td>\n",
       "      <td>Le Trégor</td>\n",
       "      <td>Rédaction Lannion</td>\n",
       "      <td>Actualité</td>\n",
       "      <td>L’association ArmorScience propose à l’IUT de Lannion une exposition et une conférence sur l’hydrogène : « Hydrogène, vers un avenir décarboné ? » Le mercredi 9 mars à 18 h 30 à l’amphi 2 aura lieu la conférence qui permettra d’inaugurer l’exposition sur ce même thème. La conférence sera présentée par Francis Nativel, d’ArmorScience, et Loïc Perrin, d’H2X Ecosystems. Transition énergétique L’hydrogène est le plus léger des gaz. Il s’inscrit dans la panoplie des solutions mises en œuvre par de nombreux pays dans le cadre des plans de transition énergétique destinés à limiter l’impact des activités humaines sur le climat. « Utilisé essentiellement dans le raffinage du pétrole et dans la chimie, l’hydrogène pourrait contribuer à décarboner les transports et certains secteurs industriels parce qu’il n’émet aucun gaz à effet de serre au moment de son utilisation. » Nous souhaitons amener au débat sur l’hydrogène, une information neutre, indépendante et accessible à un large public. Pendant deux semaines, du 9 au 25 mars, il sera possible de consulter en accès libre l’exposition qui se tiendra dans le couloir de la cafétéria de l’établissement. ArmorScience est une association ayant pour objectif la diffusion de la culture scientifique. Elle  souhaite vulgariser la culture scientifique auprès du grand public, mais « vise plus particulièrement les étudiants et les adhérents de l’association ». Lien d’inscription pour participer à la conférence : https://my.weezevent.com/conference-armorscience La conférence sera diffusée en direct sur https://us02web.zoom.us/j/89164878947/</td>\n",
       "      <td>https://actu.fr/bretagne/lannion_22113/lannion-une-conference-et-une-expo-sur-lhydrogene_49223963.html</td>\n",
       "    </tr>\n",
       "    <tr>\n",
       "      <th>4</th>\n",
       "      <td>Autour de Perros. Panne : des groupes électrogènes éteints dès ce vendredi</td>\n",
       "      <td>11 Mar 22 à 12:21</td>\n",
       "      <td>Le Trégor</td>\n",
       "      <td>Rédaction Lannion</td>\n",
       "      <td>societe</td>\n",
       "      <td>Le village vacances de la CCAS, à Trébeurden, n’a pas fermé ses portes dimanche 6 mars comme prévu. Une soixantaine de salariés d’Enedis, mobilisés sur le vaste chantier de la panne électrique du 5 mars, a été accueillie. Une bonne centaine a été logée dans les hôtels alentour. Jeudi 10 mars en soirée, ils n’étaient plus qu’une dizaine de Bretons à la CCAS, présents pour 4 jours avant que d’autres ne prennent le relais. Soutien aux collègues trégorrois Beaucoup des techniciens présents depuis dimanche sont des volontaires de la Force d’intervention rapide électricité (Fire). Quand j’ai vu le message dimanche matin sur WhatsApp, j’ai appelé mon chef et je suis parti. La Rennaise Virginie est assistante et sur cette panne, elle gère les approvisionnements en fuel (100 000 litres par jour). Aucun n’a hésité à venir soutenir ses collègues trégorrois pour amoindrir les conséquences sur la population. « On a de bons contacts avec les gens. » Des habitants manifestent leur reconnaissance en apportant du café aux équipes sur le terrain. « Jamais vu autant de moyens » « Je n’ai jamais vu autant de moyens déployés en 35 ans de carrière », assure Christian de Saint-Malo. « Mettre tout ça en place en 3 jours, c’est colossal ! On a vu des grues énormes qui peuvent déporter 5 tonnes à 20 m pour poser les générateurs dans des accès difficiles. Il y a 15 ans, on n’aurait pas eu ces moyens-là. » Des groupes débranchés dès ce vendredi « Ce vendredi on commence à éteindre progressivement les groupes électrogènes et à préparer la dépose pour la semaine prochaine », explique Jean-Pierre avant d’aller faire un footing avec Loïc. Chacun sait ce qu’il va faire le lendemain. La coordination se fait au centre Enedis de Lannion. La CCAS aussi s’est mobilisée Trois saisonniers ont été recrutés. « Les techniciens partent tôt et certains rentrent entre 20 h et 22 h. On doit attendre pour assurer le service », remarque Valérie Perrin, responsable opérationnelle des activités sociales, venue en renfort de Morgat depuis mardi. « Ce sont nos bénéficiaires. On est là pour eux et c’est grâce à eux qu’on a du travail », ajoute-t-elle. Ce n’était pas prévu mais elle devra rester un jour de plus. « Ça crée du lien, cette situation. » Ils sont contents d’être là pour rétablir l’électricité dans tous les foyers et bâtiments de la côte. « C’est la notion de service public », insiste Christian. Avec une certaine fierté d’appartenir à une grande maison comme Enedis.</td>\n",
       "      <td>https://actu.fr/bretagne/trebeurden_22343/autour-de-perros-panne-des-groupes-electrogenes-eteints-des-ce-vendredi_49345325.html</td>\n",
       "    </tr>\n",
       "  </tbody>\n",
       "</table>"
      ],
      "text/plain": [
       "<IPython.core.display.HTML object>"
      ]
     },
     "metadata": {},
     "output_type": "display_data"
    }
   ],
   "source": [
    "print(df_articles.shape)\n",
    "print(df_articles.columns)\n",
    "display(HTML(df_articles.head().to_html()))"
   ]
  },
  {
   "cell_type": "code",
   "execution_count": 6,
   "metadata": {},
   "outputs": [],
   "source": [
    "import matplotlib.pyplot as plt"
   ]
  },
  {
   "cell_type": "code",
   "execution_count": 45,
   "metadata": {},
   "outputs": [
    {
     "data": {
      "image/png": "[encoded data removed]",
      "text/plain": [
       "<Figure size 1080x360 with 1 Axes>"
      ]
     },
     "metadata": {},
     "output_type": "display_data"
    }
   ],
   "source": [
    "figure, axe = color_graph_background(1, 1)\n",
    "\n",
    "bins = len(journaux)\n",
    "for journal in journaux:\n",
    "    df_articles[df_articles[\"journal\"]==journal].journal.hist(ax=axe, color=color_by_journal.get(journal, \"gray\"), bins=bins)\n",
    "\n",
    "figure.set_size_inches(15, 5, forward=True)\n",
    "axe.set_ylabel(\"Nombre d'articles\")\n",
    "plt.title(\"Nombre d'articles par journal\")\n",
    "plt.xticks(rotation=45, ha=\"right\")\n",
    "plt.show()"
   ]
  },
  {
   "cell_type": "code",
   "execution_count": 8,
   "metadata": {},
   "outputs": [],
   "source": [
    "df_articles = df_word_tokenize(df_articles, text_col_name='texte', token_col_name=\"mots_origine\", verbose=verbose)"
   ]
  },
  {
   "cell_type": "code",
   "execution_count": 9,
   "metadata": {},
   "outputs": [],
   "source": [
    "df_articles[\"nb_mots_origine\"] = df_articles['texte'].apply(lambda x: word_count_func(x))"
   ]
  },
  {
   "cell_type": "code",
   "execution_count": 10,
   "metadata": {},
   "outputs": [
    {
     "data": {
      "text/html": [
       "<div>\n",
       "<style scoped>\n",
       "    .dataframe tbody tr th:only-of-type {\n",
       "        vertical-align: middle;\n",
       "    }\n",
       "\n",
       "    .dataframe tbody tr th {\n",
       "        vertical-align: top;\n",
       "    }\n",
       "\n",
       "    .dataframe thead tr th {\n",
       "        text-align: left;\n",
       "    }\n",
       "</style>\n",
       "<table border=\"1\" class=\"dataframe\">\n",
       "  <thead>\n",
       "    <tr>\n",
       "      <th></th>\n",
       "      <th>journal</th>\n",
       "      <th>nb_mots_origine</th>\n",
       "    </tr>\n",
       "    <tr>\n",
       "      <th></th>\n",
       "      <th></th>\n",
       "      <th>mean</th>\n",
       "    </tr>\n",
       "  </thead>\n",
       "  <tbody>\n",
       "    <tr>\n",
       "      <th>0</th>\n",
       "      <td>30 M. d\\'amis</td>\n",
       "      <td>1315.494340</td>\n",
       "    </tr>\n",
       "    <tr>\n",
       "      <th>1</th>\n",
       "      <td>ActuGaming</td>\n",
       "      <td>321.342000</td>\n",
       "    </tr>\n",
       "    <tr>\n",
       "      <th>2</th>\n",
       "      <td>Le Trégor</td>\n",
       "      <td>296.096774</td>\n",
       "    </tr>\n",
       "  </tbody>\n",
       "</table>\n",
       "</div>"
      ],
      "text/plain": [
       "         journal nb_mots_origine\n",
       "                            mean\n",
       "0  30 M. d\\'amis     1315.494340\n",
       "1     ActuGaming      321.342000\n",
       "2      Le Trégor      296.096774"
      ]
     },
     "execution_count": 10,
     "metadata": {},
     "output_type": "execute_result"
    }
   ],
   "source": [
    "group = df_articles.groupby([\"journal\"], as_index=True).agg({'nb_mots_origine':['mean']})\n",
    "group = group.reset_index()\n",
    "group\n"
   ]
  },
  {
   "cell_type": "code",
   "execution_count": 11,
   "metadata": {},
   "outputs": [
    {
     "data": {
      "text/plain": [
       "Index(['titre', 'date_parution', 'journal', 'auteur', 'tags', 'texte', 'url',\n",
       "       'mots_origine', 'nb_mots_origine'],\n",
       "      dtype='object')"
      ]
     },
     "execution_count": 11,
     "metadata": {},
     "output_type": "execute_result"
    }
   ],
   "source": [
    "df_articles.columns"
   ]
  },
  {
   "cell_type": "code",
   "execution_count": 12,
   "metadata": {},
   "outputs": [
    {
     "data": {
      "text/html": [
       "<div>\n",
       "<style scoped>\n",
       "    .dataframe tbody tr th:only-of-type {\n",
       "        vertical-align: middle;\n",
       "    }\n",
       "\n",
       "    .dataframe tbody tr th {\n",
       "        vertical-align: top;\n",
       "    }\n",
       "\n",
       "    .dataframe thead th {\n",
       "        text-align: right;\n",
       "    }\n",
       "</style>\n",
       "<table border=\"1\" class=\"dataframe\">\n",
       "  <thead>\n",
       "    <tr style=\"text-align: right;\">\n",
       "      <th></th>\n",
       "      <th>titre</th>\n",
       "      <th>date_parution</th>\n",
       "      <th>journal</th>\n",
       "      <th>auteur</th>\n",
       "      <th>tags</th>\n",
       "      <th>texte</th>\n",
       "      <th>url</th>\n",
       "      <th>mots_origine</th>\n",
       "      <th>nb_mots_origine</th>\n",
       "      <th>tranche_nb_origin</th>\n",
       "    </tr>\n",
       "  </thead>\n",
       "  <tbody>\n",
       "    <tr>\n",
       "      <th>0</th>\n",
       "      <td>Lannion. Un cycliste renversé par une voiture ...</td>\n",
       "      <td>10 Mar 22 à 17:05</td>\n",
       "      <td>Le Trégor</td>\n",
       "      <td>Christophe Ganne</td>\n",
       "      <td>faits-divers</td>\n",
       "      <td>Jeudi 10 mars à 16 h 30, au rond point de la P...</td>\n",
       "      <td>https://actu.fr/bretagne/lannion_22113/lannion...</td>\n",
       "      <td>[jeudi, 10, mars, à, 16, h, 30, au, rond, poin...</td>\n",
       "      <td>69</td>\n",
       "      <td>(0.0, 99.0]</td>\n",
       "    </tr>\n",
       "    <tr>\n",
       "      <th>1</th>\n",
       "      <td>Perros-Guirec. Panne électrique : la mairie in...</td>\n",
       "      <td>8 Mar 22 à 10:33</td>\n",
       "      <td>Le Trégor</td>\n",
       "      <td>Christophe Ganne</td>\n",
       "      <td>societe</td>\n",
       "      <td>Suite à la panne d’électricité géante sur la c...</td>\n",
       "      <td>https://actu.fr/bretagne/perros-guirec_22168/p...</td>\n",
       "      <td>[suite, à, la, panne, d, électricité, géante, ...</td>\n",
       "      <td>233</td>\n",
       "      <td>(200.0, 299.0]</td>\n",
       "    </tr>\n",
       "    <tr>\n",
       "      <th>2</th>\n",
       "      <td>Louannec. Un gang de l\\'Est avait pillé le dis...</td>\n",
       "      <td>11 Mar 22 à 20:08</td>\n",
       "      <td>Le Trégor</td>\n",
       "      <td>Christophe Ganne</td>\n",
       "      <td>faits-divers</td>\n",
       "      <td>Les gendarmes de Perros-Guirec, Lannion, Renne...</td>\n",
       "      <td>https://actu.fr/bretagne/louannec_22134/louann...</td>\n",
       "      <td>[les, gendarmes, de, perros, guirec, lannion, ...</td>\n",
       "      <td>228</td>\n",
       "      <td>(200.0, 299.0]</td>\n",
       "    </tr>\n",
       "    <tr>\n",
       "      <th>3</th>\n",
       "      <td>Lannion. Une conférence et une expo sur l’hydr...</td>\n",
       "      <td>9 Mar 22 à 12:25</td>\n",
       "      <td>Le Trégor</td>\n",
       "      <td>Rédaction Lannion</td>\n",
       "      <td>Actualité</td>\n",
       "      <td>L’association ArmorScience propose à l’IUT de ...</td>\n",
       "      <td>https://actu.fr/bretagne/lannion_22113/lannion...</td>\n",
       "      <td>[l, association, armorscience, propose, à, l, ...</td>\n",
       "      <td>236</td>\n",
       "      <td>(200.0, 299.0]</td>\n",
       "    </tr>\n",
       "    <tr>\n",
       "      <th>4</th>\n",
       "      <td>Autour de Perros. Panne : des groupes électrog...</td>\n",
       "      <td>11 Mar 22 à 12:21</td>\n",
       "      <td>Le Trégor</td>\n",
       "      <td>Rédaction Lannion</td>\n",
       "      <td>societe</td>\n",
       "      <td>Le village vacances de la CCAS, à Trébeurden, ...</td>\n",
       "      <td>https://actu.fr/bretagne/trebeurden_22343/auto...</td>\n",
       "      <td>[le, village, vacances, de, la, ccas, à, trébe...</td>\n",
       "      <td>422</td>\n",
       "      <td>NaN</td>\n",
       "    </tr>\n",
       "  </tbody>\n",
       "</table>\n",
       "</div>"
      ],
      "text/plain": [
       "                                               titre      date_parution  \\\n",
       "0  Lannion. Un cycliste renversé par une voiture ...  10 Mar 22 à 17:05   \n",
       "1  Perros-Guirec. Panne électrique : la mairie in...   8 Mar 22 à 10:33   \n",
       "2  Louannec. Un gang de l\\'Est avait pillé le dis...  11 Mar 22 à 20:08   \n",
       "3  Lannion. Une conférence et une expo sur l’hydr...   9 Mar 22 à 12:25   \n",
       "4  Autour de Perros. Panne : des groupes électrog...  11 Mar 22 à 12:21   \n",
       "\n",
       "     journal             auteur          tags  \\\n",
       "0  Le Trégor   Christophe Ganne  faits-divers   \n",
       "1  Le Trégor   Christophe Ganne       societe   \n",
       "2  Le Trégor   Christophe Ganne  faits-divers   \n",
       "3  Le Trégor  Rédaction Lannion     Actualité   \n",
       "4  Le Trégor  Rédaction Lannion       societe   \n",
       "\n",
       "                                               texte  \\\n",
       "0  Jeudi 10 mars à 16 h 30, au rond point de la P...   \n",
       "1  Suite à la panne d’électricité géante sur la c...   \n",
       "2  Les gendarmes de Perros-Guirec, Lannion, Renne...   \n",
       "3  L’association ArmorScience propose à l’IUT de ...   \n",
       "4  Le village vacances de la CCAS, à Trébeurden, ...   \n",
       "\n",
       "                                                 url  \\\n",
       "0  https://actu.fr/bretagne/lannion_22113/lannion...   \n",
       "1  https://actu.fr/bretagne/perros-guirec_22168/p...   \n",
       "2  https://actu.fr/bretagne/louannec_22134/louann...   \n",
       "3  https://actu.fr/bretagne/lannion_22113/lannion...   \n",
       "4  https://actu.fr/bretagne/trebeurden_22343/auto...   \n",
       "\n",
       "                                        mots_origine  nb_mots_origine  \\\n",
       "0  [jeudi, 10, mars, à, 16, h, 30, au, rond, poin...               69   \n",
       "1  [suite, à, la, panne, d, électricité, géante, ...              233   \n",
       "2  [les, gendarmes, de, perros, guirec, lannion, ...              228   \n",
       "3  [l, association, armorscience, propose, à, l, ...              236   \n",
       "4  [le, village, vacances, de, la, ccas, à, trébe...              422   \n",
       "\n",
       "  tranche_nb_origin  \n",
       "0       (0.0, 99.0]  \n",
       "1    (200.0, 299.0]  \n",
       "2    (200.0, 299.0]  \n",
       "3    (200.0, 299.0]  \n",
       "4               NaN  "
      ]
     },
     "execution_count": 12,
     "metadata": {},
     "output_type": "execute_result"
    }
   ],
   "source": [
    "list_tuple = [(i, i+299) for i in range (600, 3300, 300)]\n",
    "list_tuple.insert(0, (200, 299))\n",
    "list_tuple.insert(0, (100, 199))\n",
    "list_tuple.insert(0, (0, 99))\n",
    "list_tuple.append((3300, 100000))\n",
    "bins = pd.IntervalIndex.from_tuples(list_tuple)\n",
    "df_articles[\"tranche_nb_origin\"] = pd.cut(df_articles['nb_mots_origine'], bins)\n",
    "df_articles.head()"
   ]
  },
  {
   "cell_type": "code",
   "execution_count": 13,
   "metadata": {},
   "outputs": [
    {
     "data": {
      "text/html": [
       "<div>\n",
       "<style scoped>\n",
       "    .dataframe tbody tr th:only-of-type {\n",
       "        vertical-align: middle;\n",
       "    }\n",
       "\n",
       "    .dataframe tbody tr th {\n",
       "        vertical-align: top;\n",
       "    }\n",
       "\n",
       "    .dataframe thead th {\n",
       "        text-align: right;\n",
       "    }\n",
       "</style>\n",
       "<table border=\"1\" class=\"dataframe\">\n",
       "  <thead>\n",
       "    <tr style=\"text-align: right;\">\n",
       "      <th>journal</th>\n",
       "      <th>30 M. d\\'amis</th>\n",
       "      <th>ActuGaming</th>\n",
       "      <th>Le Trégor</th>\n",
       "    </tr>\n",
       "    <tr>\n",
       "      <th>tranche_nb_origin</th>\n",
       "      <th></th>\n",
       "      <th></th>\n",
       "      <th></th>\n",
       "    </tr>\n",
       "  </thead>\n",
       "  <tbody>\n",
       "    <tr>\n",
       "      <th>(0, 99]</th>\n",
       "      <td>0</td>\n",
       "      <td>14</td>\n",
       "      <td>7</td>\n",
       "    </tr>\n",
       "    <tr>\n",
       "      <th>(100, 199]</th>\n",
       "      <td>0</td>\n",
       "      <td>96</td>\n",
       "      <td>46</td>\n",
       "    </tr>\n",
       "    <tr>\n",
       "      <th>(200, 299]</th>\n",
       "      <td>5</td>\n",
       "      <td>231</td>\n",
       "      <td>50</td>\n",
       "    </tr>\n",
       "    <tr>\n",
       "      <th>(600, 899]</th>\n",
       "      <td>83</td>\n",
       "      <td>11</td>\n",
       "      <td>12</td>\n",
       "    </tr>\n",
       "    <tr>\n",
       "      <th>(900, 1199]</th>\n",
       "      <td>97</td>\n",
       "      <td>11</td>\n",
       "      <td>0</td>\n",
       "    </tr>\n",
       "  </tbody>\n",
       "</table>\n",
       "</div>"
      ],
      "text/plain": [
       "journal            30 M. d\\'amis  ActuGaming  Le Trégor\n",
       "tranche_nb_origin                                      \n",
       "(0, 99]                        0          14          7\n",
       "(100, 199]                     0          96         46\n",
       "(200, 299]                     5         231         50\n",
       "(600, 899]                    83          11         12\n",
       "(900, 1199]                   97          11          0"
      ]
     },
     "execution_count": 13,
     "metadata": {},
     "output_type": "execute_result"
    }
   ],
   "source": [
    "group_nb_mots_art = df_articles.groupby([\"journal\", \"tranche_nb_origin\" ])[\"titre\"].count().unstack(\"journal\").fillna(0)\n",
    "group_nb_mots_art.head()"
   ]
  },
  {
   "cell_type": "code",
   "execution_count": 14,
   "metadata": {},
   "outputs": [
    {
     "data": {
      "image/png": "[encoded data removed]",
      "text/plain": [
       "<Figure size 1152x576 with 1 Axes>"
      ]
     },
     "metadata": {},
     "output_type": "display_data"
    }
   ],
   "source": [
    "figure, axe = color_graph_background(1,1)\n",
    "\n",
    "# Affichage d'articles par journal\n",
    "group_nb_mots_art.plot(kind='bar', ax=axe)\n",
    "axe.set_ylabel(\"Nombre d'articles\")\n",
    "axe.grid(axis='y')\n",
    "\n",
    "figure.set_size_inches(16, 8, forward=True)\n",
    "figure.suptitle(\"Nombre d'articles par tranche de mots\", fontsize=16)\n",
    "plt.xticks(rotation=45, ha=\"right\")\n",
    "plt.show()"
   ]
  },
  {
   "cell_type": "code",
   "execution_count": 15,
   "metadata": {},
   "outputs": [
    {
     "data": {
      "text/html": [
       "<div>\n",
       "<style scoped>\n",
       "    .dataframe tbody tr th:only-of-type {\n",
       "        vertical-align: middle;\n",
       "    }\n",
       "\n",
       "    .dataframe tbody tr th {\n",
       "        vertical-align: top;\n",
       "    }\n",
       "\n",
       "    .dataframe thead th {\n",
       "        text-align: right;\n",
       "    }\n",
       "</style>\n",
       "<table border=\"1\" class=\"dataframe\">\n",
       "  <thead>\n",
       "    <tr style=\"text-align: right;\">\n",
       "      <th></th>\n",
       "      <th>nb_mots_origine</th>\n",
       "    </tr>\n",
       "  </thead>\n",
       "  <tbody>\n",
       "    <tr>\n",
       "      <th>count</th>\n",
       "      <td>1185.000000</td>\n",
       "    </tr>\n",
       "    <tr>\n",
       "      <th>mean</th>\n",
       "      <td>762.681857</td>\n",
       "    </tr>\n",
       "    <tr>\n",
       "      <th>std</th>\n",
       "      <td>797.149464</td>\n",
       "    </tr>\n",
       "    <tr>\n",
       "      <th>min</th>\n",
       "      <td>60.000000</td>\n",
       "    </tr>\n",
       "    <tr>\n",
       "      <th>25%</th>\n",
       "      <td>239.000000</td>\n",
       "    </tr>\n",
       "    <tr>\n",
       "      <th>50%</th>\n",
       "      <td>413.000000</td>\n",
       "    </tr>\n",
       "    <tr>\n",
       "      <th>75%</th>\n",
       "      <td>1041.000000</td>\n",
       "    </tr>\n",
       "    <tr>\n",
       "      <th>max</th>\n",
       "      <td>6930.000000</td>\n",
       "    </tr>\n",
       "  </tbody>\n",
       "</table>\n",
       "</div>"
      ],
      "text/plain": [
       "       nb_mots_origine\n",
       "count      1185.000000\n",
       "mean        762.681857\n",
       "std         797.149464\n",
       "min          60.000000\n",
       "25%         239.000000\n",
       "50%         413.000000\n",
       "75%        1041.000000\n",
       "max        6930.000000"
      ]
     },
     "execution_count": 15,
     "metadata": {},
     "output_type": "execute_result"
    }
   ],
   "source": [
    "df_articles.describe()"
   ]
  },
  {
   "cell_type": "code",
   "execution_count": 16,
   "metadata": {},
   "outputs": [
    {
     "data": {
      "text/html": [
       "<div>\n",
       "<style scoped>\n",
       "    .dataframe tbody tr th:only-of-type {\n",
       "        vertical-align: middle;\n",
       "    }\n",
       "\n",
       "    .dataframe tbody tr th {\n",
       "        vertical-align: top;\n",
       "    }\n",
       "\n",
       "    .dataframe thead th {\n",
       "        text-align: right;\n",
       "    }\n",
       "</style>\n",
       "<table border=\"1\" class=\"dataframe\">\n",
       "  <thead>\n",
       "    <tr style=\"text-align: right;\">\n",
       "      <th></th>\n",
       "      <th>titre</th>\n",
       "      <th>date_parution</th>\n",
       "      <th>journal</th>\n",
       "      <th>auteur</th>\n",
       "      <th>tags</th>\n",
       "      <th>texte</th>\n",
       "      <th>url</th>\n",
       "      <th>mots_origine</th>\n",
       "      <th>nb_mots_origine</th>\n",
       "      <th>tranche_nb_origin</th>\n",
       "    </tr>\n",
       "  </thead>\n",
       "  <tbody>\n",
       "    <tr>\n",
       "      <th>0</th>\n",
       "      <td>Lannion. Un cycliste renversé par une voiture ...</td>\n",
       "      <td>10 Mar 22 à 17:05</td>\n",
       "      <td>Le Trégor</td>\n",
       "      <td>Christophe Ganne</td>\n",
       "      <td>faits-divers</td>\n",
       "      <td>Jeudi 10 mars à 16 h 30, au rond point de la P...</td>\n",
       "      <td>https://actu.fr/bretagne/lannion_22113/lannion...</td>\n",
       "      <td>[jeudi, 10, mars, à, 16, h, 30, au, rond, poin...</td>\n",
       "      <td>69</td>\n",
       "      <td>(0.0, 99.0]</td>\n",
       "    </tr>\n",
       "    <tr>\n",
       "      <th>1</th>\n",
       "      <td>Perros-Guirec. Panne électrique : la mairie in...</td>\n",
       "      <td>8 Mar 22 à 10:33</td>\n",
       "      <td>Le Trégor</td>\n",
       "      <td>Christophe Ganne</td>\n",
       "      <td>societe</td>\n",
       "      <td>Suite à la panne d’électricité géante sur la c...</td>\n",
       "      <td>https://actu.fr/bretagne/perros-guirec_22168/p...</td>\n",
       "      <td>[suite, à, la, panne, d, électricité, géante, ...</td>\n",
       "      <td>233</td>\n",
       "      <td>(200.0, 299.0]</td>\n",
       "    </tr>\n",
       "    <tr>\n",
       "      <th>2</th>\n",
       "      <td>Louannec. Un gang de l\\'Est avait pillé le dis...</td>\n",
       "      <td>11 Mar 22 à 20:08</td>\n",
       "      <td>Le Trégor</td>\n",
       "      <td>Christophe Ganne</td>\n",
       "      <td>faits-divers</td>\n",
       "      <td>Les gendarmes de Perros-Guirec, Lannion, Renne...</td>\n",
       "      <td>https://actu.fr/bretagne/louannec_22134/louann...</td>\n",
       "      <td>[les, gendarmes, de, perros, guirec, lannion, ...</td>\n",
       "      <td>228</td>\n",
       "      <td>(200.0, 299.0]</td>\n",
       "    </tr>\n",
       "    <tr>\n",
       "      <th>3</th>\n",
       "      <td>Lannion. Une conférence et une expo sur l’hydr...</td>\n",
       "      <td>9 Mar 22 à 12:25</td>\n",
       "      <td>Le Trégor</td>\n",
       "      <td>Rédaction Lannion</td>\n",
       "      <td>Actualité</td>\n",
       "      <td>L’association ArmorScience propose à l’IUT de ...</td>\n",
       "      <td>https://actu.fr/bretagne/lannion_22113/lannion...</td>\n",
       "      <td>[l, association, armorscience, propose, à, l, ...</td>\n",
       "      <td>236</td>\n",
       "      <td>(200.0, 299.0]</td>\n",
       "    </tr>\n",
       "    <tr>\n",
       "      <th>4</th>\n",
       "      <td>Autour de Perros. Panne : des groupes électrog...</td>\n",
       "      <td>11 Mar 22 à 12:21</td>\n",
       "      <td>Le Trégor</td>\n",
       "      <td>Rédaction Lannion</td>\n",
       "      <td>societe</td>\n",
       "      <td>Le village vacances de la CCAS, à Trébeurden, ...</td>\n",
       "      <td>https://actu.fr/bretagne/trebeurden_22343/auto...</td>\n",
       "      <td>[le, village, vacances, de, la, ccas, à, trébe...</td>\n",
       "      <td>422</td>\n",
       "      <td>NaN</td>\n",
       "    </tr>\n",
       "  </tbody>\n",
       "</table>\n",
       "</div>"
      ],
      "text/plain": [
       "                                               titre      date_parution  \\\n",
       "0  Lannion. Un cycliste renversé par une voiture ...  10 Mar 22 à 17:05   \n",
       "1  Perros-Guirec. Panne électrique : la mairie in...   8 Mar 22 à 10:33   \n",
       "2  Louannec. Un gang de l\\'Est avait pillé le dis...  11 Mar 22 à 20:08   \n",
       "3  Lannion. Une conférence et une expo sur l’hydr...   9 Mar 22 à 12:25   \n",
       "4  Autour de Perros. Panne : des groupes électrog...  11 Mar 22 à 12:21   \n",
       "\n",
       "     journal             auteur          tags  \\\n",
       "0  Le Trégor   Christophe Ganne  faits-divers   \n",
       "1  Le Trégor   Christophe Ganne       societe   \n",
       "2  Le Trégor   Christophe Ganne  faits-divers   \n",
       "3  Le Trégor  Rédaction Lannion     Actualité   \n",
       "4  Le Trégor  Rédaction Lannion       societe   \n",
       "\n",
       "                                               texte  \\\n",
       "0  Jeudi 10 mars à 16 h 30, au rond point de la P...   \n",
       "1  Suite à la panne d’électricité géante sur la c...   \n",
       "2  Les gendarmes de Perros-Guirec, Lannion, Renne...   \n",
       "3  L’association ArmorScience propose à l’IUT de ...   \n",
       "4  Le village vacances de la CCAS, à Trébeurden, ...   \n",
       "\n",
       "                                                 url  \\\n",
       "0  https://actu.fr/bretagne/lannion_22113/lannion...   \n",
       "1  https://actu.fr/bretagne/perros-guirec_22168/p...   \n",
       "2  https://actu.fr/bretagne/louannec_22134/louann...   \n",
       "3  https://actu.fr/bretagne/lannion_22113/lannion...   \n",
       "4  https://actu.fr/bretagne/trebeurden_22343/auto...   \n",
       "\n",
       "                                        mots_origine  nb_mots_origine  \\\n",
       "0  [jeudi, 10, mars, à, 16, h, 30, au, rond, poin...               69   \n",
       "1  [suite, à, la, panne, d, électricité, géante, ...              233   \n",
       "2  [les, gendarmes, de, perros, guirec, lannion, ...              228   \n",
       "3  [l, association, armorscience, propose, à, l, ...              236   \n",
       "4  [le, village, vacances, de, la, ccas, à, trébe...              422   \n",
       "\n",
       "  tranche_nb_origin  \n",
       "0       (0.0, 99.0]  \n",
       "1    (200.0, 299.0]  \n",
       "2    (200.0, 299.0]  \n",
       "3    (200.0, 299.0]  \n",
       "4               NaN  "
      ]
     },
     "execution_count": 16,
     "metadata": {},
     "output_type": "execute_result"
    }
   ],
   "source": [
    "df_articles.head()"
   ]
  },
  {
   "cell_type": "code",
   "execution_count": 17,
   "metadata": {},
   "outputs": [
    {
     "data": {
      "text/plain": [
       "Index(['titre', 'date_parution', 'journal', 'auteur', 'tags', 'texte', 'url',\n",
       "       'mots_origine', 'nb_mots_origine', 'tranche_nb_origin'],\n",
       "      dtype='object')"
      ]
     },
     "execution_count": 17,
     "metadata": {},
     "output_type": "execute_result"
    }
   ],
   "source": [
    "df_articles.columns"
   ]
  },
  {
   "cell_type": "code",
   "execution_count": null,
   "metadata": {},
   "outputs": [],
   "source": []
  },
  {
   "cell_type": "markdown",
   "metadata": {},
   "source": [
    "<div style=\"display: flex; background-color: Blue; padding: 15px;\" >\n",
    "\n",
    "## NLP Preprocessing\n",
    "</div>"
   ]
  },
  {
   "cell_type": "code",
   "execution_count": 18,
   "metadata": {},
   "outputs": [
    {
     "data": {
      "text/plain": [
       "157"
      ]
     },
     "execution_count": 18,
     "metadata": {},
     "output_type": "execute_result"
    }
   ],
   "source": [
    "personnal_stop_word = []\n",
    "if personnal_stop_word is None:\n",
    "    personnal_stop_word = stopwords.words(\"french\")\n",
    "else :\n",
    "    personnal_stop_word.extend(stopwords.words(\"french\"))\n",
    "len(personnal_stop_word)"
   ]
  },
  {
   "cell_type": "code",
   "execution_count": 19,
   "metadata": {},
   "outputs": [],
   "source": [
    "def nlp_pre_process(input, sw=None, verbose=0):\n",
    "    res = []\n",
    "    res = tokenize(input)\n",
    "    res = remove_stopwords_func(res, sw=sw)\n",
    "    res = normalize_accented_chars(res)\n",
    "    res = remove_irr_char_func(res)        \n",
    "    res = remove_stopwords_func(res, sw=sw)\n",
    "        \n",
    "    res = list(filter(None, res))\n",
    "    return res"
   ]
  },
  {
   "cell_type": "code",
   "execution_count": 20,
   "metadata": {},
   "outputs": [
    {
     "name": "stdout",
     "output_type": "stream",
     "text": [
      "Index(['titre', 'date_parution', 'journal', 'auteur', 'tags', 'texte', 'url',\n",
      "       'mots_origine', 'nb_mots_origine', 'tranche_nb_origin', 'clean_words'],\n",
      "      dtype='object')\n"
     ]
    },
    {
     "data": {
      "text/html": [
       "<table border=\"1\" class=\"dataframe\">\n",
       "  <thead>\n",
       "    <tr style=\"text-align: right;\">\n",
       "      <th></th>\n",
       "      <th>titre</th>\n",
       "      <th>date_parution</th>\n",
       "      <th>journal</th>\n",
       "      <th>auteur</th>\n",
       "      <th>tags</th>\n",
       "      <th>texte</th>\n",
       "      <th>url</th>\n",
       "      <th>mots_origine</th>\n",
       "      <th>nb_mots_origine</th>\n",
       "      <th>tranche_nb_origin</th>\n",
       "      <th>clean_words</th>\n",
       "    </tr>\n",
       "  </thead>\n",
       "  <tbody>\n",
       "    <tr>\n",
       "      <th>0</th>\n",
       "      <td>Lannion. Un cycliste renversé par une voiture en centre-ville</td>\n",
       "      <td>10 Mar 22 à 17:05</td>\n",
       "      <td>Le Trégor</td>\n",
       "      <td>Christophe Ganne</td>\n",
       "      <td>faits-divers</td>\n",
       "      <td>Jeudi 10 mars à 16 h 30, au rond point de la Poste à Lannion, en plein centre-ville, sur les quais, un cycliste a été renversé par une voiture. Légèrement blessé Le jeune cycliste, âgé de seize ans, a été légèrement blessé. Pompiers et policiers se sont rapidement rendus sur place. Le jeune homme a été pris en charge par les pompiers et transporté au centre hospitalier de Lannion.</td>\n",
       "      <td>https://actu.fr/bretagne/lannion_22113/lannion-un-cycliste-renverse-par-une-voiture-en-centre-ville_49325798.html</td>\n",
       "      <td>[jeudi, 10, mars, à, 16, h, 30, au, rond, point, de, la, poste, à, lannion, en, plein, centre, ville, sur, les, quais, un, cycliste, a, été, renversé, par, une, voiture, légèrement, blessé, le, jeune, cycliste, âgé, de, seize, ans, a, été, légèrement, blessé, pompiers, et, policiers, se, sont, rapidement, rendus, sur, place, le, jeune, homme, a, été, pris, en, charge, par, les, pompiers, et, transporté, au, centre, hospitalier, de, lannion]</td>\n",
       "      <td>69</td>\n",
       "      <td>(0.0, 99.0]</td>\n",
       "      <td>[jeudi, mars, h, rond, point, poste, lannion, plein, centre, ville, quais, cycliste, a, renverse, voiture, legerement, blesse, jeune, cycliste, age, seize, ans, a, legerement, blesse, pompiers, policiers, rapidement, rendus, place, jeune, homme, a, pris, charge, pompiers, transporte, centre, hospitalier, lannion]</td>\n",
       "    </tr>\n",
       "    <tr>\n",
       "      <th>1</th>\n",
       "      <td>Perros-Guirec. Panne électrique : la mairie invite les citoyens à économiser l\\'énergie</td>\n",
       "      <td>8 Mar 22 à 10:33</td>\n",
       "      <td>Le Trégor</td>\n",
       "      <td>Christophe Ganne</td>\n",
       "      <td>societe</td>\n",
       "      <td>Suite à la panne d’électricité géante sur la côte de Granit rose,  ce week-end, de nombreuses coupures sont encore attendues jour et nuit. Les difficultés de réparation du poste de Saint-Quay-Perros vont encore durer un moment. Pas d’éclairage public Pour faire face, la mairie de Perros-Guirec va dès ce mardi soir 8 mars couper l’éclairage public. Nous avons 80 postes de répartition de l’éclairage public que nous allons couper, peut-être pas tout ce soir, mais dans les jours suivants. C’est une mesure d’économie pour ne pas trop tirer sur les installations précaires mises en place en attendant la réparation définitive. Economiser l’électricité Cette mesure publique s’accompagne aussi d’encouragements envers la population. Nous allons demander aux Perrosiens d’être vigilants sur leur consommation électrique le temps des réparations. Les élus confirment aussi les difficultés d’approvisionnement en gasoil des 124 groupes électrogènes installés dans les différentes communes de la côte de Granit rose. Les activités nautiques interdites Autre conséquence, les difficultés de fonctionnement des stations d’épuration. Les postes de relevage et de traitement ne fonctionnent pas normalement. La ville craint des débordements qui pourraient atteindre les plages. « Ce n’est pas encore le cas mais il y a des risques », explique Erven Léon. C’est pourquoi la mairie de Perros-Guirec a pris un arrêté interdisant les baignades et les activités nautiques sur les plages de Trestraou, Trestrignel et Saint-Guirec le temps d’un retour à la normale.</td>\n",
       "      <td>https://actu.fr/bretagne/perros-guirec_22168/perros-guirec-panne-electrique-la-mairie-invite-les-citoyens-a-economiser-lenergie_49242304.html</td>\n",
       "      <td>[suite, à, la, panne, d, électricité, géante, sur, la, côte, de, granit, rose, ce, week, end, de, nombreuses, coupures, sont, encore, attendues, jour, et, nuit, les, difficultés, de, réparation, du, poste, de, saint, quay, perros, vont, encore, durer, un, moment, pas, d, éclairage, public, pour, faire, face, la, mairie, de, perros, guirec, va, dès, ce, mardi, soir, 8, mars, couper, l, éclairage, public, nous, avons, 80, postes, de, répartition, de, l, éclairage, public, que, nous, allons, couper, peut, être, pas, tout, ce, soir, mais, dans, les, jours, suivants, c, est, une, mesure, d, économie, pour, ne, pas, trop, tirer, sur, ...]</td>\n",
       "      <td>233</td>\n",
       "      <td>(200.0, 299.0]</td>\n",
       "      <td>[suite, panne, electricite, geante, cote, granit, rose, week, end, nombreuses, coupures, encore, attendues, jour, nuit, difficultes, reparation, poste, saint, quay, perros, vont, encore, durer, moment, eclairage, public, faire, face, mairie, perros, guirec, va, mardi, soir, mars, couper, eclairage, public, postes, repartition, eclairage, public, allons, couper, peut, etre, tout, soir, jours, suivants, mesure, economie, trop, tirer, installations, precaires, mises, place, attendant, reparation, definitive, economiser, electricite, cette, mesure, publique, accompagne, aussi, encouragements, envers, population, allons, demander, perrosiens, etre, vigilants, consommation, electrique, temps, reparations, elus, confirment, aussi, difficultes, approvisionnement, gasoil, groupes, electrogenes, installes, differentes, communes, cote, granit, rose, activites, nautiques, interdites, autre, consequence, ...]</td>\n",
       "    </tr>\n",
       "    <tr>\n",
       "      <th>2</th>\n",
       "      <td>Louannec. Un gang de l\\'Est avait pillé le distributeur de billets : 5 interpellations</td>\n",
       "      <td>11 Mar 22 à 20:08</td>\n",
       "      <td>Le Trégor</td>\n",
       "      <td>Christophe Ganne</td>\n",
       "      <td>faits-divers</td>\n",
       "      <td>Les gendarmes de Perros-Guirec, Lannion, Rennes, Toulouse et le groupe de cybercriminalité de la gendarmerie ont pu interpeller les membres d’un groupe qui piratait les distributeurs il y a quelques jours. Liés à la criminalité Les membres de ce groupe sont liés à la criminalité organisée des pays de l’Est. Ils avaient dérobé 50 000 euros à Louannec. 50 000 euros à Louannec Les faits remontent à la nuit du 9 au 10 novembre 2021. A l’agence postale de Louannec, les individus percent le distributeur automatique afin de le pirater en se connectant dessus à l’aide d’un ordinateur. Une pratique connue appelée Jackpotting Le groupe repart avec 50 000 euros. Les gendarmes de Perros-Guirec et Lannion, appuyés par ceux de Rennes, mènent l’enquête. Des points communs Parallèlement, à Auch et Toulouse, des faits similaires sont relevés. Les enquêteurs mettent en commun leurs recherches et y trouvent des points communs. Le 3 février dernier, dans le sud ouest, les gendarmes de Toulouse ont interpellé 5 individus. 22 piratages pour 300 000 euros Ils ont reconnu avoir piraté 22 distributeurs de billets dans toute la France pour un montant total de 300 000 euros dont 50 000 euros à Louannec. C’est une opération énorme qui a été montée et une organisation qui a été démantelée. L’enquête se poursuit toutefois pour d’autres faits. Certains des membres du groupe sont actuellement incarcérés.</td>\n",
       "      <td>https://actu.fr/bretagne/louannec_22134/louannec-un-gang-de-lest-avait-pille-le-distributeur-de-billets-5-interpellations_49364830.html</td>\n",
       "      <td>[les, gendarmes, de, perros, guirec, lannion, rennes, toulouse, et, le, groupe, de, cybercriminalité, de, la, gendarmerie, ont, pu, interpeller, les, membres, d, un, groupe, qui, piratait, les, distributeurs, il, y, a, quelques, jours, liés, à, la, criminalité, les, membres, de, ce, groupe, sont, liés, à, la, criminalité, organisée, des, pays, de, l, est, ils, avaient, dérobé, 50, 000, euros, à, louannec, 50, 000, euros, à, louannec, les, faits, remontent, à, la, nuit, du, 9, au, 10, novembre, 2021, a, l, agence, postale, de, louannec, les, individus, percent, le, distributeur, automatique, afin, de, le, pirater, en, se, connectant, dessus, à, l, ...]</td>\n",
       "      <td>228</td>\n",
       "      <td>(200.0, 299.0]</td>\n",
       "      <td>[gendarmes, perros, guirec, lannion, rennes, toulouse, groupe, cybercriminalite, gendarmerie, pu, interpeller, membres, groupe, piratait, distributeurs, a, quelques, jours, lies, criminalite, membres, groupe, lies, criminalite, organisee, pays, derobe, euros, louannec, euros, louannec, faits, remontent, nuit, novembre, a, agence, postale, louannec, individus, percent, distributeur, automatique, afin, pirater, connectant, dessus, aide, ordinateur, pratique, connue, appelee, jackpotting, groupe, repart, euros, gendarmes, perros, guirec, lannion, appuyes, ceux, rennes, menent, enquete, points, communs, parallelement, auch, toulouse, faits, similaires, releves, enqueteurs, mettent, commun, leurs, recherches, trouvent, points, communs, fevrier, dernier, sud, ouest, gendarmes, toulouse, interpelle, individus, piratages, euros, reconnu, avoir, pirate, distributeurs, billets, toute, france, montant, total, ...]</td>\n",
       "    </tr>\n",
       "    <tr>\n",
       "      <th>3</th>\n",
       "      <td>Lannion. Une conférence et une expo sur l’hydrogène</td>\n",
       "      <td>9 Mar 22 à 12:25</td>\n",
       "      <td>Le Trégor</td>\n",
       "      <td>Rédaction Lannion</td>\n",
       "      <td>Actualité</td>\n",
       "      <td>L’association ArmorScience propose à l’IUT de Lannion une exposition et une conférence sur l’hydrogène : « Hydrogène, vers un avenir décarboné ? » Le mercredi 9 mars à 18 h 30 à l’amphi 2 aura lieu la conférence qui permettra d’inaugurer l’exposition sur ce même thème. La conférence sera présentée par Francis Nativel, d’ArmorScience, et Loïc Perrin, d’H2X Ecosystems. Transition énergétique L’hydrogène est le plus léger des gaz. Il s’inscrit dans la panoplie des solutions mises en œuvre par de nombreux pays dans le cadre des plans de transition énergétique destinés à limiter l’impact des activités humaines sur le climat. « Utilisé essentiellement dans le raffinage du pétrole et dans la chimie, l’hydrogène pourrait contribuer à décarboner les transports et certains secteurs industriels parce qu’il n’émet aucun gaz à effet de serre au moment de son utilisation. » Nous souhaitons amener au débat sur l’hydrogène, une information neutre, indépendante et accessible à un large public. Pendant deux semaines, du 9 au 25 mars, il sera possible de consulter en accès libre l’exposition qui se tiendra dans le couloir de la cafétéria de l’établissement. ArmorScience est une association ayant pour objectif la diffusion de la culture scientifique. Elle  souhaite vulgariser la culture scientifique auprès du grand public, mais « vise plus particulièrement les étudiants et les adhérents de l’association ». Lien d’inscription pour participer à la conférence : https://my.weezevent.com/conference-armorscience La conférence sera diffusée en direct sur https://us02web.zoom.us/j/89164878947/</td>\n",
       "      <td>https://actu.fr/bretagne/lannion_22113/lannion-une-conference-et-une-expo-sur-lhydrogene_49223963.html</td>\n",
       "      <td>[l, association, armorscience, propose, à, l, iut, de, lannion, une, exposition, et, une, conférence, sur, l, hydrogène, hydrogène, vers, un, avenir, décarboné, le, mercredi, 9, mars, à, 18, h, 30, à, l, amphi, 2, aura, lieu, la, conférence, qui, permettra, d, inaugurer, l, exposition, sur, ce, même, thème, la, conférence, sera, présentée, par, francis, nativel, d, armorscience, et, loïc, perrin, d, h2x, ecosystems, transition, énergétique, l, hydrogène, est, le, plus, léger, des, gaz, il, s, inscrit, dans, la, panoplie, des, solutions, mises, en, œuvre, par, de, nombreux, pays, dans, le, cadre, des, plans, de, transition, énergétique, destinés, à, limiter, l, ...]</td>\n",
       "      <td>236</td>\n",
       "      <td>(200.0, 299.0]</td>\n",
       "      <td>[association, armorscience, propose, iut, lannion, exposition, conference, hydrogene, hydrogene, vers, avenir, decarbone, mercredi, mars, h, amphi, lieu, conference, permettra, inaugurer, exposition, theme, conference, presentee, francis, nativel, armorscience, loic, perrin, h x, ecosystems, transition, energetique, hydrogene, plus, leger, gaz, inscrit, panoplie, solutions, mises, uvre, nombreux, pays, cadre, plans, transition, energetique, destines, limiter, impact, activites, humaines, climat, utilise, essentiellement, raffinage, petrole, chimie, hydrogene, pourrait, contribuer, decarboner, transports, certains, secteurs, industriels, parce, emet, aucun, gaz, effet, serre, moment, utilisation, souhaitons, amener, debat, hydrogene, information, neutre, independante, accessible, large, public, pendant, deux, semaines, mars, possible, consulter, acces, libre, exposition, tiendra, couloir, cafeteria, etablissement, armorscience, association, ...]</td>\n",
       "    </tr>\n",
       "    <tr>\n",
       "      <th>4</th>\n",
       "      <td>Autour de Perros. Panne : des groupes électrogènes éteints dès ce vendredi</td>\n",
       "      <td>11 Mar 22 à 12:21</td>\n",
       "      <td>Le Trégor</td>\n",
       "      <td>Rédaction Lannion</td>\n",
       "      <td>societe</td>\n",
       "      <td>Le village vacances de la CCAS, à Trébeurden, n’a pas fermé ses portes dimanche 6 mars comme prévu. Une soixantaine de salariés d’Enedis, mobilisés sur le vaste chantier de la panne électrique du 5 mars, a été accueillie. Une bonne centaine a été logée dans les hôtels alentour. Jeudi 10 mars en soirée, ils n’étaient plus qu’une dizaine de Bretons à la CCAS, présents pour 4 jours avant que d’autres ne prennent le relais. Soutien aux collègues trégorrois Beaucoup des techniciens présents depuis dimanche sont des volontaires de la Force d’intervention rapide électricité (Fire). Quand j’ai vu le message dimanche matin sur WhatsApp, j’ai appelé mon chef et je suis parti. La Rennaise Virginie est assistante et sur cette panne, elle gère les approvisionnements en fuel (100 000 litres par jour). Aucun n’a hésité à venir soutenir ses collègues trégorrois pour amoindrir les conséquences sur la population. « On a de bons contacts avec les gens. » Des habitants manifestent leur reconnaissance en apportant du café aux équipes sur le terrain. « Jamais vu autant de moyens » « Je n’ai jamais vu autant de moyens déployés en 35 ans de carrière », assure Christian de Saint-Malo. « Mettre tout ça en place en 3 jours, c’est colossal ! On a vu des grues énormes qui peuvent déporter 5 tonnes à 20 m pour poser les générateurs dans des accès difficiles. Il y a 15 ans, on n’aurait pas eu ces moyens-là. » Des groupes débranchés dès ce vendredi « Ce vendredi on commence à éteindre progressivement les groupes électrogènes et à préparer la dépose pour la semaine prochaine », explique Jean-Pierre avant d’aller faire un footing avec Loïc. Chacun sait ce qu’il va faire le lendemain. La coordination se fait au centre Enedis de Lannion. La CCAS aussi s’est mobilisée Trois saisonniers ont été recrutés. « Les techniciens partent tôt et certains rentrent entre 20 h et 22 h. On doit attendre pour assurer le service », remarque Valérie Perrin, responsable opérationnelle des activités sociales, venue en renfort de Morgat depuis mardi. « Ce sont nos bénéficiaires. On est là pour eux et c’est grâce à eux qu’on a du travail », ajoute-t-elle. Ce n’était pas prévu mais elle devra rester un jour de plus. « Ça crée du lien, cette situation. » Ils sont contents d’être là pour rétablir l’électricité dans tous les foyers et bâtiments de la côte. « C’est la notion de service public », insiste Christian. Avec une certaine fierté d’appartenir à une grande maison comme Enedis.</td>\n",
       "      <td>https://actu.fr/bretagne/trebeurden_22343/autour-de-perros-panne-des-groupes-electrogenes-eteints-des-ce-vendredi_49345325.html</td>\n",
       "      <td>[le, village, vacances, de, la, ccas, à, trébeurden, n, a, pas, fermé, ses, portes, dimanche, 6, mars, comme, prévu, une, soixantaine, de, salariés, d, enedis, mobilisés, sur, le, vaste, chantier, de, la, panne, électrique, du, 5, mars, a, été, accueillie, une, bonne, centaine, a, été, logée, dans, les, hôtels, alentour, jeudi, 10, mars, en, soirée, ils, n, étaient, plus, qu, une, dizaine, de, bretons, à, la, ccas, présents, pour, 4, jours, avant, que, d, autres, ne, prennent, le, relais, soutien, aux, collègues, trégorrois, beaucoup, des, techniciens, présents, depuis, dimanche, sont, des, volontaires, de, la, force, d, intervention, rapide, électricité, fire, ...]</td>\n",
       "      <td>422</td>\n",
       "      <td>NaN</td>\n",
       "      <td>[village, vacances, ccas, trebeurden, a, ferme, portes, dimanche, mars, comme, prevu, soixantaine, salaries, enedis, mobilises, vaste, chantier, panne, electrique, mars, a, accueillie, bonne, centaine, a, logee, hotels, alentour, jeudi, mars, soiree, plus, dizaine, bretons, ccas, presents, jours, avant, autres, prennent, relais, soutien, collegues, tregorrois, beaucoup, techniciens, presents, depuis, dimanche, volontaires, force, intervention, rapide, electricite, fire, quand, vu, message, dimanche, matin, whatsapp, appele, chef, parti, rennaise, virginie, assistante, cette, panne, gere, approvisionnements, fuel, litres, jour, aucun, a, hesite, venir, soutenir, collegues, tregorrois, amoindrir, consequences, population, a, bons, contacts, gens, habitants, manifestent, reconnaissance, apportant, cafe, equipes, terrain, jamais, vu, autant, moyens, jamais, ...]</td>\n",
       "    </tr>\n",
       "  </tbody>\n",
       "</table>"
      ],
      "text/plain": [
       "<IPython.core.display.HTML object>"
      ]
     },
     "metadata": {},
     "output_type": "display_data"
    }
   ],
   "source": [
    "df_articles[\"clean_words\"] = df_articles['texte'].apply(lambda x: nlp_pre_process(x, sw=personnal_stop_word))\n",
    "print(df_articles.columns)\n",
    "display(HTML(df_articles.head().to_html()))"
   ]
  },
  {
   "cell_type": "code",
   "execution_count": 21,
   "metadata": {},
   "outputs": [],
   "source": [
    "df_articles[\"nb_mots_clean\"] = df_articles['clean_words'].apply(lambda x: word_count_func(x))"
   ]
  },
  {
   "cell_type": "code",
   "execution_count": 22,
   "metadata": {},
   "outputs": [],
   "source": [
    "df_articles[\"freq_name\"] = df_articles[\"clean_words\"].apply(lambda x: nltk.FreqDist(x))\n",
    "df_articles[\"freq_unique_words\"] = df_articles[\"freq_name\"].apply(lambda x: len(x.keys()))"
   ]
  },
  {
   "cell_type": "code",
   "execution_count": 23,
   "metadata": {},
   "outputs": [],
   "source": [
    "df_articles = df_articles.sort_values(by=[\"freq_unique_words\"], ascending=False)"
   ]
  },
  {
   "cell_type": "code",
   "execution_count": 24,
   "metadata": {},
   "outputs": [
    {
     "data": {
      "text/html": [
       "<div>\n",
       "<style scoped>\n",
       "    .dataframe tbody tr th:only-of-type {\n",
       "        vertical-align: middle;\n",
       "    }\n",
       "\n",
       "    .dataframe tbody tr th {\n",
       "        vertical-align: top;\n",
       "    }\n",
       "\n",
       "    .dataframe thead th {\n",
       "        text-align: right;\n",
       "    }\n",
       "</style>\n",
       "<table border=\"1\" class=\"dataframe\">\n",
       "  <thead>\n",
       "    <tr style=\"text-align: right;\">\n",
       "      <th></th>\n",
       "      <th>titre</th>\n",
       "      <th>date_parution</th>\n",
       "      <th>journal</th>\n",
       "      <th>auteur</th>\n",
       "      <th>tags</th>\n",
       "      <th>texte</th>\n",
       "      <th>url</th>\n",
       "      <th>mots_origine</th>\n",
       "      <th>nb_mots_origine</th>\n",
       "      <th>tranche_nb_origin</th>\n",
       "      <th>clean_words</th>\n",
       "      <th>nb_mots_clean</th>\n",
       "      <th>freq_name</th>\n",
       "      <th>freq_unique_words</th>\n",
       "    </tr>\n",
       "  </thead>\n",
       "  <tbody>\n",
       "    <tr>\n",
       "      <th>913</th>\n",
       "      <td>Tous les MMO à venir en 2022 et au-delà</td>\n",
       "      <td>28 janvier 2022 à 16:40</td>\n",
       "      <td>ActuGaming</td>\n",
       "      <td>Jordan</td>\n",
       "      <td>gaming</td>\n",
       "      <td>Mine de rien, l’année 2021 a été assez chargée...</td>\n",
       "      <td>https://www.actugaming.net/sorties-mmo-2022-46...</td>\n",
       "      <td>[mine, de, rien, l, année, 2021, a, été, assez...</td>\n",
       "      <td>4229</td>\n",
       "      <td>(3300, 100000]</td>\n",
       "      <td>[mine, rien, annee, a, assez, chargee, sorties...</td>\n",
       "      <td>2534</td>\n",
       "      <td>{'mine': 1, 'rien': 4, 'annee': 22, 'a': 41, '...</td>\n",
       "      <td>1079</td>\n",
       "    </tr>\n",
       "    <tr>\n",
       "      <th>833</th>\n",
       "      <td>Assassin’s Creed Valhalla : L’Aube du Ragnarök...</td>\n",
       "      <td>9 mars 2022 à 12:01</td>\n",
       "      <td>ActuGaming</td>\n",
       "      <td>FloRizzo</td>\n",
       "      <td>gaming</td>\n",
       "      <td>Depuis le lancement de la nouvelle trilogie my...</td>\n",
       "      <td>https://www.actugaming.net/assassins-creed-val...</td>\n",
       "      <td>[depuis, le, lancement, de, la, nouvelle, tril...</td>\n",
       "      <td>2201</td>\n",
       "      <td>(2100, 2399]</td>\n",
       "      <td>[depuis, lancement, nouvelle, trilogie, mythol...</td>\n",
       "      <td>1295</td>\n",
       "      <td>{'depuis': 5, 'lancement': 1, 'nouvelle': 3, '...</td>\n",
       "      <td>805</td>\n",
       "    </tr>\n",
       "    <tr>\n",
       "      <th>1112</th>\n",
       "      <td>Pourquoi on aimerait voir un reboot de Darksta...</td>\n",
       "      <td>6 février 2022 à 11:00</td>\n",
       "      <td>ActuGaming</td>\n",
       "      <td>Neomantis Dee</td>\n",
       "      <td>gaming</td>\n",
       "      <td>Fort des succès critiques et commerciaux de Dr...</td>\n",
       "      <td>https://www.actugaming.net/pourquoi-on-aimerai...</td>\n",
       "      <td>[fort, des, succès, critiques, et, commerciaux...</td>\n",
       "      <td>2062</td>\n",
       "      <td>(1800, 2099]</td>\n",
       "      <td>[fort, succes, critiques, commerciaux, dragon,...</td>\n",
       "      <td>1198</td>\n",
       "      <td>{'fort': 1, 'succes': 2, 'critiques': 1, 'comm...</td>\n",
       "      <td>738</td>\n",
       "    </tr>\n",
       "    <tr>\n",
       "      <th>694</th>\n",
       "      <td>Pourquoi on aimerait un retour de la licence d...</td>\n",
       "      <td>20 mars 2022 à 11:00</td>\n",
       "      <td>ActuGaming</td>\n",
       "      <td>Nathan Champion</td>\n",
       "      <td>gaming</td>\n",
       "      <td>Certains jeux vous marquent à vie, et pas touj...</td>\n",
       "      <td>https://www.actugaming.net/retour-de-blob-chro...</td>\n",
       "      <td>[certains, jeux, vous, marquent, à, vie, et, p...</td>\n",
       "      <td>2212</td>\n",
       "      <td>(2100, 2399]</td>\n",
       "      <td>[certains, jeux, marquent, vie, toujours, rais...</td>\n",
       "      <td>1236</td>\n",
       "      <td>{'certains': 2, 'jeux': 9, 'marquent': 1, 'vie...</td>\n",
       "      <td>725</td>\n",
       "    </tr>\n",
       "    <tr>\n",
       "      <th>501</th>\n",
       "      <td>Corrida : ces pays où elle pourrait très proch...</td>\n",
       "      <td>15.03.2021</td>\n",
       "      <td>30 M. d\\'amis</td>\n",
       "      <td>None</td>\n",
       "      <td>Enquête</td>\n",
       "      <td>Annulations en série, crise financière majeure...</td>\n",
       "      <td>https://www.30millionsdamis.fr//actualites/art...</td>\n",
       "      <td>[annulations, en, série, crise, financière, ma...</td>\n",
       "      <td>5240</td>\n",
       "      <td>(3300, 100000]</td>\n",
       "      <td>[annulations, serie, crise, financiere, majeur...</td>\n",
       "      <td>3158</td>\n",
       "      <td>{'annulations': 1, 'serie': 1, 'crise': 12, 'f...</td>\n",
       "      <td>705</td>\n",
       "    </tr>\n",
       "  </tbody>\n",
       "</table>\n",
       "</div>"
      ],
      "text/plain": [
       "                                                  titre  \\\n",
       "913             Tous les MMO à venir en 2022 et au-delà   \n",
       "833   Assassin’s Creed Valhalla : L’Aube du Ragnarök...   \n",
       "1112  Pourquoi on aimerait voir un reboot de Darksta...   \n",
       "694   Pourquoi on aimerait un retour de la licence d...   \n",
       "501   Corrida : ces pays où elle pourrait très proch...   \n",
       "\n",
       "                date_parution        journal           auteur     tags  \\\n",
       "913   28 janvier 2022 à 16:40     ActuGaming           Jordan   gaming   \n",
       "833       9 mars 2022 à 12:01     ActuGaming         FloRizzo   gaming   \n",
       "1112   6 février 2022 à 11:00     ActuGaming    Neomantis Dee   gaming   \n",
       "694      20 mars 2022 à 11:00     ActuGaming  Nathan Champion   gaming   \n",
       "501                15.03.2021  30 M. d\\'amis             None  Enquête   \n",
       "\n",
       "                                                  texte  \\\n",
       "913   Mine de rien, l’année 2021 a été assez chargée...   \n",
       "833   Depuis le lancement de la nouvelle trilogie my...   \n",
       "1112  Fort des succès critiques et commerciaux de Dr...   \n",
       "694   Certains jeux vous marquent à vie, et pas touj...   \n",
       "501   Annulations en série, crise financière majeure...   \n",
       "\n",
       "                                                    url  \\\n",
       "913   https://www.actugaming.net/sorties-mmo-2022-46...   \n",
       "833   https://www.actugaming.net/assassins-creed-val...   \n",
       "1112  https://www.actugaming.net/pourquoi-on-aimerai...   \n",
       "694   https://www.actugaming.net/retour-de-blob-chro...   \n",
       "501   https://www.30millionsdamis.fr//actualites/art...   \n",
       "\n",
       "                                           mots_origine  nb_mots_origine  \\\n",
       "913   [mine, de, rien, l, année, 2021, a, été, assez...             4229   \n",
       "833   [depuis, le, lancement, de, la, nouvelle, tril...             2201   \n",
       "1112  [fort, des, succès, critiques, et, commerciaux...             2062   \n",
       "694   [certains, jeux, vous, marquent, à, vie, et, p...             2212   \n",
       "501   [annulations, en, série, crise, financière, ma...             5240   \n",
       "\n",
       "     tranche_nb_origin                                        clean_words  \\\n",
       "913     (3300, 100000]  [mine, rien, annee, a, assez, chargee, sorties...   \n",
       "833       (2100, 2399]  [depuis, lancement, nouvelle, trilogie, mythol...   \n",
       "1112      (1800, 2099]  [fort, succes, critiques, commerciaux, dragon,...   \n",
       "694       (2100, 2399]  [certains, jeux, marquent, vie, toujours, rais...   \n",
       "501     (3300, 100000]  [annulations, serie, crise, financiere, majeur...   \n",
       "\n",
       "      nb_mots_clean                                          freq_name  \\\n",
       "913            2534  {'mine': 1, 'rien': 4, 'annee': 22, 'a': 41, '...   \n",
       "833            1295  {'depuis': 5, 'lancement': 1, 'nouvelle': 3, '...   \n",
       "1112           1198  {'fort': 1, 'succes': 2, 'critiques': 1, 'comm...   \n",
       "694            1236  {'certains': 2, 'jeux': 9, 'marquent': 1, 'vie...   \n",
       "501            3158  {'annulations': 1, 'serie': 1, 'crise': 12, 'f...   \n",
       "\n",
       "      freq_unique_words  \n",
       "913                1079  \n",
       "833                 805  \n",
       "1112                738  \n",
       "694                 725  \n",
       "501                 705  "
      ]
     },
     "execution_count": 24,
     "metadata": {},
     "output_type": "execute_result"
    }
   ],
   "source": [
    "df_articles.head()"
   ]
  },
  {
   "cell_type": "code",
   "execution_count": 25,
   "metadata": {},
   "outputs": [
    {
     "data": {
      "image/png": "[encoded data removed]",
      "text/plain": [
       "<Figure size 1152x576 with 1 Axes>"
      ]
     },
     "metadata": {},
     "output_type": "display_data"
    }
   ],
   "source": [
    "figure, axe = color_graph_background(1,1)\n",
    "\n",
    "df_articles.plot(kind='bar', x='titre', y=\"nb_mots_clean\", ax=axe, title='Nombre de mots par article')\n",
    "df_articles.plot(y=\"freq_unique_words\", x='titre', kind=\"bar\", ax=axe, color=\"red\")\n",
    "figure.set_size_inches(16, 8, forward=True)\n",
    "\n",
    "plt.ylabel(\"Nombre de mots par article\")\n",
    "plt.xlabel(\"\")\n",
    "plt.xticks([])\n",
    "# plt.xticks(rotation=45, ha=\"right\")\n",
    "plt.show()"
   ]
  },
  {
   "cell_type": "code",
   "execution_count": 38,
   "metadata": {},
   "outputs": [
    {
     "name": "stdout",
     "output_type": "stream",
     "text": [
      "ActuGaming\n",
      "30 M. d\\'amis\n",
      "Le Trégor\n"
     ]
    },
    {
     "data": {
      "image/png": "[encoded data removed]",
      "text/plain": [
       "<Figure size 1152x576 with 3 Axes>"
      ]
     },
     "metadata": {},
     "output_type": "display_data"
    }
   ],
   "source": [
    "figure, axes = color_graph_background(len(journaux),1)\n",
    "\n",
    "y_ticks = [i for i in range(0, 1200, 200)]\n",
    "\n",
    "i = 0\n",
    "for journal in journaux:\n",
    "    df_articles[df_articles[\"journal\"]==journal].plot(y=\"freq_unique_words\", x='titre', label=journal, kind=\"bar\", ax=axes[i], color=color_by_journal.get(journal, \"gray\"))\n",
    "    axes[i].set_yticks(y_ticks)\n",
    "    axes[i].set_xticks([])\n",
    "    i += 1\n",
    "\n",
    "figure.set_size_inches(16, 8, forward=True)\n",
    "plt.suptitle('Nombre de mots uniques par article par journal', fontsize=16)\n",
    "plt.xlabel(\"Articles\")\n",
    "plt.xticks([])\n",
    "plt.show()"
   ]
  },
  {
   "cell_type": "code",
   "execution_count": null,
   "metadata": {},
   "outputs": [],
   "source": []
  },
  {
   "cell_type": "markdown",
   "metadata": {},
   "source": [
    "<div style=\"display: flex; background-color: Blue; padding: 15px;\" >\n",
    "\n",
    "## ANNEXE\n",
    "</div>"
   ]
  }
 ],
 "metadata": {
  "interpreter": {
   "hash": "ac59ebe37160ed0dfa835113d9b8498d9f09ceb179beaac4002f036b9467c963"
  },
  "kernelspec": {
   "display_name": "Python 3.9.10 64-bit",
   "language": "python",
   "name": "python3"
  },
  "language_info": {
   "codemirror_mode": {
    "name": "ipython",
    "version": 3
   },
   "file_extension": ".py",
   "mimetype": "text/x-python",
   "name": "python",
   "nbconvert_exporter": "python",
   "pygments_lexer": "ipython3",
   "version": "3.9.10"
  },
  "orig_nbformat": 4
 },
 "nbformat": 4,
 "nbformat_minor": 2
}
