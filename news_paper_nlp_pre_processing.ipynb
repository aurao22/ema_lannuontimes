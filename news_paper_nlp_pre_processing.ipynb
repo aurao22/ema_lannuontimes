{
 "cells": [
  {
   "cell_type": "code",
   "execution_count": 1,
   "metadata": {},
   "outputs": [],
   "source": [
    "import pandas as pd\n",
    "from news_paper_dao import NewsPaperDao\n",
    "from IPython.core.display import HTML\n",
    "from os import getcwd\n",
    "from news_paper_nlp_pre_processing import *\n",
    "from nltk.corpus import stopwords, wordnet"
   ]
  },
  {
   "cell_type": "code",
   "execution_count": 2,
   "metadata": {},
   "outputs": [],
   "source": [
    "from nltk.corpus import stopwords, wordnet"
   ]
  },
  {
   "cell_type": "code",
   "execution_count": 3,
   "metadata": {},
   "outputs": [
    {
     "name": "stdout",
     "output_type": "stream",
     "text": [
      "c:\\Users\\User\\WORK\\workspace-ia\\PROJETS\\ema_lannuontimes\\\n"
     ]
    }
   ],
   "source": [
    "# Récupère le répertoire du programme\n",
    "curent_path = getcwd()+ \"\\\\\"\n",
    "if \"ema_lannuontimes\" not in curent_path:\n",
    "    curent_path += \"PROJETS\\\\ema_lannuontimes\\\\\"\n",
    "print(curent_path)"
   ]
  },
  {
   "cell_type": "markdown",
   "metadata": {},
   "source": [
    "<div style=\"display: flex; background-color: Blue; padding: 15px;\" >\n",
    "\n",
    "## Exploration des données: \n",
    "</div>"
   ]
  },
  {
   "cell_type": "code",
   "execution_count": 4,
   "metadata": {},
   "outputs": [
    {
     "name": "stdout",
     "output_type": "stream",
     "text": [
      "La version de SQLite est:  [('3.35.5',)]\n",
      "(1175, 7)\n"
     ]
    }
   ],
   "source": [
    "verbose = 1\n",
    "\n",
    "dao = NewsPaperDao(nom_bdd=curent_path+\"em_bdd.db\")\n",
    "assert dao.test_connexion()\n",
    "\n",
    "df_articles = dao.get_articles(verbose=0)\n",
    "print(df_articles.shape)"
   ]
  },
  {
   "cell_type": "code",
   "execution_count": 5,
   "metadata": {},
   "outputs": [
    {
     "name": "stdout",
     "output_type": "stream",
     "text": [
      "(1175, 7)\n",
      "Index(['titre', 'date_parution', 'journal', 'auteur', 'tags', 'texte', 'url'], dtype='object')\n"
     ]
    },
    {
     "data": {
      "text/html": [
       "<table border=\"1\" class=\"dataframe\">\n",
       "  <thead>\n",
       "    <tr style=\"text-align: right;\">\n",
       "      <th></th>\n",
       "      <th>titre</th>\n",
       "      <th>date_parution</th>\n",
       "      <th>journal</th>\n",
       "      <th>auteur</th>\n",
       "      <th>tags</th>\n",
       "      <th>texte</th>\n",
       "      <th>url</th>\n",
       "    </tr>\n",
       "  </thead>\n",
       "  <tbody>\n",
       "    <tr>\n",
       "      <th>0</th>\n",
       "      <td>Lannion. Un cycliste renversé par une voiture en centre-ville</td>\n",
       "      <td>10 Mar 22 à 17:05</td>\n",
       "      <td>Le Trégor</td>\n",
       "      <td>Christophe Ganne</td>\n",
       "      <td>faits-divers</td>\n",
       "      <td>Jeudi 10 mars à 16 h 30, au rond point de la Poste à Lannion, en plein centre-ville, sur les quais, un cycliste a été renversé par une voiture. Légèrement blessé Le jeune cycliste, âgé de seize ans, a été légèrement blessé. Pompiers et policiers se sont rapidement rendus sur place. Le jeune homme a été pris en charge par les pompiers et transporté au centre hospitalier de Lannion.</td>\n",
       "      <td>https://actu.fr/bretagne/lannion_22113/lannion-un-cycliste-renverse-par-une-voiture-en-centre-ville_49325798.html</td>\n",
       "    </tr>\n",
       "    <tr>\n",
       "      <th>1</th>\n",
       "      <td>Perros-Guirec. Panne électrique : la mairie invite les citoyens à économiser l\\'énergie</td>\n",
       "      <td>8 Mar 22 à 10:33</td>\n",
       "      <td>Le Trégor</td>\n",
       "      <td>Christophe Ganne</td>\n",
       "      <td>societe</td>\n",
       "      <td>Suite à la panne d’électricité géante sur la côte de Granit rose,  ce week-end, de nombreuses coupures sont encore attendues jour et nuit. Les difficultés de réparation du poste de Saint-Quay-Perros vont encore durer un moment. Pas d’éclairage public Pour faire face, la mairie de Perros-Guirec va dès ce mardi soir 8 mars couper l’éclairage public. Nous avons 80 postes de répartition de l’éclairage public que nous allons couper, peut-être pas tout ce soir, mais dans les jours suivants. C’est une mesure d’économie pour ne pas trop tirer sur les installations précaires mises en place en attendant la réparation définitive. Economiser l’électricité Cette mesure publique s’accompagne aussi d’encouragements envers la population. Nous allons demander aux Perrosiens d’être vigilants sur leur consommation électrique le temps des réparations. Les élus confirment aussi les difficultés d’approvisionnement en gasoil des 124 groupes électrogènes installés dans les différentes communes de la côte de Granit rose. Les activités nautiques interdites Autre conséquence, les difficultés de fonctionnement des stations d’épuration. Les postes de relevage et de traitement ne fonctionnent pas normalement. La ville craint des débordements qui pourraient atteindre les plages. « Ce n’est pas encore le cas mais il y a des risques », explique Erven Léon. C’est pourquoi la mairie de Perros-Guirec a pris un arrêté interdisant les baignades et les activités nautiques sur les plages de Trestraou, Trestrignel et Saint-Guirec le temps d’un retour à la normale.</td>\n",
       "      <td>https://actu.fr/bretagne/perros-guirec_22168/perros-guirec-panne-electrique-la-mairie-invite-les-citoyens-a-economiser-lenergie_49242304.html</td>\n",
       "    </tr>\n",
       "    <tr>\n",
       "      <th>2</th>\n",
       "      <td>Louannec. Un gang de l\\'Est avait pillé le distributeur de billets : 5 interpellations</td>\n",
       "      <td>11 Mar 22 à 20:08</td>\n",
       "      <td>Le Trégor</td>\n",
       "      <td>Christophe Ganne</td>\n",
       "      <td>faits-divers</td>\n",
       "      <td>Les gendarmes de Perros-Guirec, Lannion, Rennes, Toulouse et le groupe de cybercriminalité de la gendarmerie ont pu interpeller les membres d’un groupe qui piratait les distributeurs il y a quelques jours. Liés à la criminalité Les membres de ce groupe sont liés à la criminalité organisée des pays de l’Est. Ils avaient dérobé 50 000 euros à Louannec. 50 000 euros à Louannec Les faits remontent à la nuit du 9 au 10 novembre 2021. A l’agence postale de Louannec, les individus percent le distributeur automatique afin de le pirater en se connectant dessus à l’aide d’un ordinateur. Une pratique connue appelée Jackpotting Le groupe repart avec 50 000 euros. Les gendarmes de Perros-Guirec et Lannion, appuyés par ceux de Rennes, mènent l’enquête. Des points communs Parallèlement, à Auch et Toulouse, des faits similaires sont relevés. Les enquêteurs mettent en commun leurs recherches et y trouvent des points communs. Le 3 février dernier, dans le sud ouest, les gendarmes de Toulouse ont interpellé 5 individus. 22 piratages pour 300 000 euros Ils ont reconnu avoir piraté 22 distributeurs de billets dans toute la France pour un montant total de 300 000 euros dont 50 000 euros à Louannec. C’est une opération énorme qui a été montée et une organisation qui a été démantelée. L’enquête se poursuit toutefois pour d’autres faits. Certains des membres du groupe sont actuellement incarcérés.</td>\n",
       "      <td>https://actu.fr/bretagne/louannec_22134/louannec-un-gang-de-lest-avait-pille-le-distributeur-de-billets-5-interpellations_49364830.html</td>\n",
       "    </tr>\n",
       "    <tr>\n",
       "      <th>3</th>\n",
       "      <td>Lannion. Une conférence et une expo sur l’hydrogène</td>\n",
       "      <td>9 Mar 22 à 12:25</td>\n",
       "      <td>Le Trégor</td>\n",
       "      <td>Rédaction Lannion</td>\n",
       "      <td>Actualité</td>\n",
       "      <td>L’association ArmorScience propose à l’IUT de Lannion une exposition et une conférence sur l’hydrogène : « Hydrogène, vers un avenir décarboné ? » Le mercredi 9 mars à 18 h 30 à l’amphi 2 aura lieu la conférence qui permettra d’inaugurer l’exposition sur ce même thème. La conférence sera présentée par Francis Nativel, d’ArmorScience, et Loïc Perrin, d’H2X Ecosystems. Transition énergétique L’hydrogène est le plus léger des gaz. Il s’inscrit dans la panoplie des solutions mises en œuvre par de nombreux pays dans le cadre des plans de transition énergétique destinés à limiter l’impact des activités humaines sur le climat. « Utilisé essentiellement dans le raffinage du pétrole et dans la chimie, l’hydrogène pourrait contribuer à décarboner les transports et certains secteurs industriels parce qu’il n’émet aucun gaz à effet de serre au moment de son utilisation. » Nous souhaitons amener au débat sur l’hydrogène, une information neutre, indépendante et accessible à un large public. Pendant deux semaines, du 9 au 25 mars, il sera possible de consulter en accès libre l’exposition qui se tiendra dans le couloir de la cafétéria de l’établissement. ArmorScience est une association ayant pour objectif la diffusion de la culture scientifique. Elle  souhaite vulgariser la culture scientifique auprès du grand public, mais « vise plus particulièrement les étudiants et les adhérents de l’association ». Lien d’inscription pour participer à la conférence : https://my.weezevent.com/conference-armorscience La conférence sera diffusée en direct sur https://us02web.zoom.us/j/89164878947/</td>\n",
       "      <td>https://actu.fr/bretagne/lannion_22113/lannion-une-conference-et-une-expo-sur-lhydrogene_49223963.html</td>\n",
       "    </tr>\n",
       "    <tr>\n",
       "      <th>4</th>\n",
       "      <td>Autour de Perros. Panne : des groupes électrogènes éteints dès ce vendredi</td>\n",
       "      <td>11 Mar 22 à 12:21</td>\n",
       "      <td>Le Trégor</td>\n",
       "      <td>Rédaction Lannion</td>\n",
       "      <td>societe</td>\n",
       "      <td>Le village vacances de la CCAS, à Trébeurden, n’a pas fermé ses portes dimanche 6 mars comme prévu. Une soixantaine de salariés d’Enedis, mobilisés sur le vaste chantier de la panne électrique du 5 mars, a été accueillie. Une bonne centaine a été logée dans les hôtels alentour. Jeudi 10 mars en soirée, ils n’étaient plus qu’une dizaine de Bretons à la CCAS, présents pour 4 jours avant que d’autres ne prennent le relais. Soutien aux collègues trégorrois Beaucoup des techniciens présents depuis dimanche sont des volontaires de la Force d’intervention rapide électricité (Fire). Quand j’ai vu le message dimanche matin sur WhatsApp, j’ai appelé mon chef et je suis parti. La Rennaise Virginie est assistante et sur cette panne, elle gère les approvisionnements en fuel (100 000 litres par jour). Aucun n’a hésité à venir soutenir ses collègues trégorrois pour amoindrir les conséquences sur la population. « On a de bons contacts avec les gens. » Des habitants manifestent leur reconnaissance en apportant du café aux équipes sur le terrain. « Jamais vu autant de moyens » « Je n’ai jamais vu autant de moyens déployés en 35 ans de carrière », assure Christian de Saint-Malo. « Mettre tout ça en place en 3 jours, c’est colossal ! On a vu des grues énormes qui peuvent déporter 5 tonnes à 20 m pour poser les générateurs dans des accès difficiles. Il y a 15 ans, on n’aurait pas eu ces moyens-là. » Des groupes débranchés dès ce vendredi « Ce vendredi on commence à éteindre progressivement les groupes électrogènes et à préparer la dépose pour la semaine prochaine », explique Jean-Pierre avant d’aller faire un footing avec Loïc. Chacun sait ce qu’il va faire le lendemain. La coordination se fait au centre Enedis de Lannion. La CCAS aussi s’est mobilisée Trois saisonniers ont été recrutés. « Les techniciens partent tôt et certains rentrent entre 20 h et 22 h. On doit attendre pour assurer le service », remarque Valérie Perrin, responsable opérationnelle des activités sociales, venue en renfort de Morgat depuis mardi. « Ce sont nos bénéficiaires. On est là pour eux et c’est grâce à eux qu’on a du travail », ajoute-t-elle. Ce n’était pas prévu mais elle devra rester un jour de plus. « Ça crée du lien, cette situation. » Ils sont contents d’être là pour rétablir l’électricité dans tous les foyers et bâtiments de la côte. « C’est la notion de service public », insiste Christian. Avec une certaine fierté d’appartenir à une grande maison comme Enedis.</td>\n",
       "      <td>https://actu.fr/bretagne/trebeurden_22343/autour-de-perros-panne-des-groupes-electrogenes-eteints-des-ce-vendredi_49345325.html</td>\n",
       "    </tr>\n",
       "  </tbody>\n",
       "</table>"
      ],
      "text/plain": [
       "<IPython.core.display.HTML object>"
      ]
     },
     "metadata": {},
     "output_type": "display_data"
    }
   ],
   "source": [
    "print(df_articles.shape)\n",
    "print(df_articles.columns)\n",
    "display(HTML(df_articles.head().to_html()))"
   ]
  },
  {
   "cell_type": "code",
   "execution_count": 6,
   "metadata": {},
   "outputs": [],
   "source": [
    "import matplotlib.pyplot as plt"
   ]
  },
  {
   "cell_type": "code",
   "execution_count": 7,
   "metadata": {},
   "outputs": [
    {
     "data": {
      "image/png": "[encoded data removed]",
      "text/plain": [
       "<Figure size 720x360 with 1 Axes>"
      ]
     },
     "metadata": {},
     "output_type": "display_data"
    }
   ],
   "source": [
    "figure, axes = color_graph_background(1, 1)\n",
    "\n",
    "df_articles.journal.hist()\n",
    "\n",
    "figure.set_size_inches(10, 5, forward=True)\n",
    "axes.set_ylabel(\"Nombre d'articles\")\n",
    "plt.title(\"Nombre d'articles par journal\")\n",
    "plt.xticks(rotation=45, ha=\"right\")\n",
    "plt.show()"
   ]
  },
  {
   "cell_type": "code",
   "execution_count": 8,
   "metadata": {},
   "outputs": [],
   "source": [
    "df_articles = df_word_tokenize(df_articles, text_col_name='texte', token_col_name=\"mots_origine\", verbose=verbose)"
   ]
  },
  {
   "cell_type": "code",
   "execution_count": 9,
   "metadata": {},
   "outputs": [],
   "source": [
    "df_articles[\"nb_mots_origine\"] = df_articles['texte'].apply(lambda x: word_count_func(x))"
   ]
  },
  {
   "cell_type": "code",
   "execution_count": 10,
   "metadata": {},
   "outputs": [
    {
     "data": {
      "text/html": [
       "<div>\n",
       "<style scoped>\n",
       "    .dataframe tbody tr th:only-of-type {\n",
       "        vertical-align: middle;\n",
       "    }\n",
       "\n",
       "    .dataframe tbody tr th {\n",
       "        vertical-align: top;\n",
       "    }\n",
       "\n",
       "    .dataframe thead tr th {\n",
       "        text-align: left;\n",
       "    }\n",
       "</style>\n",
       "<table border=\"1\" class=\"dataframe\">\n",
       "  <thead>\n",
       "    <tr>\n",
       "      <th></th>\n",
       "      <th>journal</th>\n",
       "      <th>nb_mots_origine</th>\n",
       "    </tr>\n",
       "    <tr>\n",
       "      <th></th>\n",
       "      <th></th>\n",
       "      <th>mean</th>\n",
       "    </tr>\n",
       "  </thead>\n",
       "  <tbody>\n",
       "    <tr>\n",
       "      <th>0</th>\n",
       "      <td>30 M. d\\'amis</td>\n",
       "      <td>1315.494340</td>\n",
       "    </tr>\n",
       "    <tr>\n",
       "      <th>1</th>\n",
       "      <td>ActuGaming</td>\n",
       "      <td>321.342000</td>\n",
       "    </tr>\n",
       "    <tr>\n",
       "      <th>2</th>\n",
       "      <td>Le Trégor</td>\n",
       "      <td>297.462069</td>\n",
       "    </tr>\n",
       "  </tbody>\n",
       "</table>\n",
       "</div>"
      ],
      "text/plain": [
       "         journal nb_mots_origine\n",
       "                            mean\n",
       "0  30 M. d\\'amis     1315.494340\n",
       "1     ActuGaming      321.342000\n",
       "2      Le Trégor      297.462069"
      ]
     },
     "execution_count": 10,
     "metadata": {},
     "output_type": "execute_result"
    }
   ],
   "source": [
    "group = df_articles.groupby([\"journal\"], as_index=True).agg({'nb_mots_origine':['mean']})\n",
    "group = group.reset_index()\n",
    "group\n"
   ]
  },
  {
   "cell_type": "code",
   "execution_count": 11,
   "metadata": {},
   "outputs": [
    {
     "data": {
      "text/plain": [
       "Index(['titre', 'date_parution', 'journal', 'auteur', 'tags', 'texte', 'url',\n",
       "       'mots_origine', 'nb_mots_origine'],\n",
       "      dtype='object')"
      ]
     },
     "execution_count": 11,
     "metadata": {},
     "output_type": "execute_result"
    }
   ],
   "source": [
    "df_articles.columns"
   ]
  },
  {
   "cell_type": "code",
   "execution_count": 12,
   "metadata": {},
   "outputs": [
    {
     "data": {
      "text/plain": [
       "MultiIndex([('titre', 'count')],\n",
       "           )"
      ]
     },
     "execution_count": 12,
     "metadata": {},
     "output_type": "execute_result"
    }
   ],
   "source": [
    "group_nb_mots_art = df_articles.groupby([\"journal\", \"nb_mots_origine\" ], as_index=True).agg({'titre':['count']})\n",
    "group_nb_mots_art.columns"
   ]
  },
  {
   "cell_type": "code",
   "execution_count": null,
   "metadata": {},
   "outputs": [],
   "source": []
  },
  {
   "cell_type": "code",
   "execution_count": 13,
   "metadata": {},
   "outputs": [
    {
     "data": {
      "text/plain": [
       "Index(['titre', 'date_parution', 'journal', 'auteur', 'tags', 'texte', 'url',\n",
       "       'mots_origine', 'nb_mots_origine'],\n",
       "      dtype='object')"
      ]
     },
     "execution_count": 13,
     "metadata": {},
     "output_type": "execute_result"
    }
   ],
   "source": [
    "df_articles.columns"
   ]
  },
  {
   "cell_type": "code",
   "execution_count": 14,
   "metadata": {},
   "outputs": [
    {
     "data": {
      "text/html": [
       "<div>\n",
       "<style scoped>\n",
       "    .dataframe tbody tr th:only-of-type {\n",
       "        vertical-align: middle;\n",
       "    }\n",
       "\n",
       "    .dataframe tbody tr th {\n",
       "        vertical-align: top;\n",
       "    }\n",
       "\n",
       "    .dataframe thead th {\n",
       "        text-align: right;\n",
       "    }\n",
       "</style>\n",
       "<table border=\"1\" class=\"dataframe\">\n",
       "  <thead>\n",
       "    <tr style=\"text-align: right;\">\n",
       "      <th></th>\n",
       "      <th>titre</th>\n",
       "      <th>date_parution</th>\n",
       "      <th>journal</th>\n",
       "      <th>auteur</th>\n",
       "      <th>tags</th>\n",
       "      <th>texte</th>\n",
       "      <th>url</th>\n",
       "      <th>mots_origine</th>\n",
       "      <th>nb_mots_origine</th>\n",
       "      <th>tranche_nb_origin</th>\n",
       "    </tr>\n",
       "  </thead>\n",
       "  <tbody>\n",
       "    <tr>\n",
       "      <th>0</th>\n",
       "      <td>Lannion. Un cycliste renversé par une voiture ...</td>\n",
       "      <td>10 Mar 22 à 17:05</td>\n",
       "      <td>Le Trégor</td>\n",
       "      <td>Christophe Ganne</td>\n",
       "      <td>faits-divers</td>\n",
       "      <td>Jeudi 10 mars à 16 h 30, au rond point de la P...</td>\n",
       "      <td>https://actu.fr/bretagne/lannion_22113/lannion...</td>\n",
       "      <td>[jeudi, 10, mars, à, 16, h, 30, au, rond, poin...</td>\n",
       "      <td>69</td>\n",
       "      <td>(0, 299]</td>\n",
       "    </tr>\n",
       "    <tr>\n",
       "      <th>1</th>\n",
       "      <td>Perros-Guirec. Panne électrique : la mairie in...</td>\n",
       "      <td>8 Mar 22 à 10:33</td>\n",
       "      <td>Le Trégor</td>\n",
       "      <td>Christophe Ganne</td>\n",
       "      <td>societe</td>\n",
       "      <td>Suite à la panne d’électricité géante sur la c...</td>\n",
       "      <td>https://actu.fr/bretagne/perros-guirec_22168/p...</td>\n",
       "      <td>[suite, à, la, panne, d, électricité, géante, ...</td>\n",
       "      <td>233</td>\n",
       "      <td>(0, 299]</td>\n",
       "    </tr>\n",
       "    <tr>\n",
       "      <th>2</th>\n",
       "      <td>Louannec. Un gang de l\\'Est avait pillé le dis...</td>\n",
       "      <td>11 Mar 22 à 20:08</td>\n",
       "      <td>Le Trégor</td>\n",
       "      <td>Christophe Ganne</td>\n",
       "      <td>faits-divers</td>\n",
       "      <td>Les gendarmes de Perros-Guirec, Lannion, Renne...</td>\n",
       "      <td>https://actu.fr/bretagne/louannec_22134/louann...</td>\n",
       "      <td>[les, gendarmes, de, perros, guirec, lannion, ...</td>\n",
       "      <td>228</td>\n",
       "      <td>(0, 299]</td>\n",
       "    </tr>\n",
       "    <tr>\n",
       "      <th>3</th>\n",
       "      <td>Lannion. Une conférence et une expo sur l’hydr...</td>\n",
       "      <td>9 Mar 22 à 12:25</td>\n",
       "      <td>Le Trégor</td>\n",
       "      <td>Rédaction Lannion</td>\n",
       "      <td>Actualité</td>\n",
       "      <td>L’association ArmorScience propose à l’IUT de ...</td>\n",
       "      <td>https://actu.fr/bretagne/lannion_22113/lannion...</td>\n",
       "      <td>[l, association, armorscience, propose, à, l, ...</td>\n",
       "      <td>236</td>\n",
       "      <td>(0, 299]</td>\n",
       "    </tr>\n",
       "    <tr>\n",
       "      <th>4</th>\n",
       "      <td>Autour de Perros. Panne : des groupes électrog...</td>\n",
       "      <td>11 Mar 22 à 12:21</td>\n",
       "      <td>Le Trégor</td>\n",
       "      <td>Rédaction Lannion</td>\n",
       "      <td>societe</td>\n",
       "      <td>Le village vacances de la CCAS, à Trébeurden, ...</td>\n",
       "      <td>https://actu.fr/bretagne/trebeurden_22343/auto...</td>\n",
       "      <td>[le, village, vacances, de, la, ccas, à, trébe...</td>\n",
       "      <td>422</td>\n",
       "      <td>(300, 599]</td>\n",
       "    </tr>\n",
       "  </tbody>\n",
       "</table>\n",
       "</div>"
      ],
      "text/plain": [
       "                                               titre      date_parution  \\\n",
       "0  Lannion. Un cycliste renversé par une voiture ...  10 Mar 22 à 17:05   \n",
       "1  Perros-Guirec. Panne électrique : la mairie in...   8 Mar 22 à 10:33   \n",
       "2  Louannec. Un gang de l\\'Est avait pillé le dis...  11 Mar 22 à 20:08   \n",
       "3  Lannion. Une conférence et une expo sur l’hydr...   9 Mar 22 à 12:25   \n",
       "4  Autour de Perros. Panne : des groupes électrog...  11 Mar 22 à 12:21   \n",
       "\n",
       "     journal             auteur          tags  \\\n",
       "0  Le Trégor   Christophe Ganne  faits-divers   \n",
       "1  Le Trégor   Christophe Ganne       societe   \n",
       "2  Le Trégor   Christophe Ganne  faits-divers   \n",
       "3  Le Trégor  Rédaction Lannion     Actualité   \n",
       "4  Le Trégor  Rédaction Lannion       societe   \n",
       "\n",
       "                                               texte  \\\n",
       "0  Jeudi 10 mars à 16 h 30, au rond point de la P...   \n",
       "1  Suite à la panne d’électricité géante sur la c...   \n",
       "2  Les gendarmes de Perros-Guirec, Lannion, Renne...   \n",
       "3  L’association ArmorScience propose à l’IUT de ...   \n",
       "4  Le village vacances de la CCAS, à Trébeurden, ...   \n",
       "\n",
       "                                                 url  \\\n",
       "0  https://actu.fr/bretagne/lannion_22113/lannion...   \n",
       "1  https://actu.fr/bretagne/perros-guirec_22168/p...   \n",
       "2  https://actu.fr/bretagne/louannec_22134/louann...   \n",
       "3  https://actu.fr/bretagne/lannion_22113/lannion...   \n",
       "4  https://actu.fr/bretagne/trebeurden_22343/auto...   \n",
       "\n",
       "                                        mots_origine  nb_mots_origine  \\\n",
       "0  [jeudi, 10, mars, à, 16, h, 30, au, rond, poin...               69   \n",
       "1  [suite, à, la, panne, d, électricité, géante, ...              233   \n",
       "2  [les, gendarmes, de, perros, guirec, lannion, ...              228   \n",
       "3  [l, association, armorscience, propose, à, l, ...              236   \n",
       "4  [le, village, vacances, de, la, ccas, à, trébe...              422   \n",
       "\n",
       "  tranche_nb_origin  \n",
       "0          (0, 299]  \n",
       "1          (0, 299]  \n",
       "2          (0, 299]  \n",
       "3          (0, 299]  \n",
       "4        (300, 599]  "
      ]
     },
     "execution_count": 14,
     "metadata": {},
     "output_type": "execute_result"
    }
   ],
   "source": [
    "list_tuple = [(i, i+299) for i in range (0, 7000, 300)]\n",
    "list_tuple\n",
    "bins = pd.IntervalIndex.from_tuples(list_tuple)\n",
    "df_articles[\"tranche_nb_origin\"] = pd.cut(df_articles['nb_mots_origine'], bins)\n",
    "df_articles.head()"
   ]
  },
  {
   "cell_type": "code",
   "execution_count": 15,
   "metadata": {},
   "outputs": [
    {
     "data": {
      "text/html": [
       "<div>\n",
       "<style scoped>\n",
       "    .dataframe tbody tr th:only-of-type {\n",
       "        vertical-align: middle;\n",
       "    }\n",
       "\n",
       "    .dataframe tbody tr th {\n",
       "        vertical-align: top;\n",
       "    }\n",
       "\n",
       "    .dataframe thead th {\n",
       "        text-align: right;\n",
       "    }\n",
       "</style>\n",
       "<table border=\"1\" class=\"dataframe\">\n",
       "  <thead>\n",
       "    <tr style=\"text-align: right;\">\n",
       "      <th>journal</th>\n",
       "      <th>30 M. d\\'amis</th>\n",
       "      <th>ActuGaming</th>\n",
       "      <th>Le Trégor</th>\n",
       "    </tr>\n",
       "    <tr>\n",
       "      <th>tranche_nb_origin</th>\n",
       "      <th></th>\n",
       "      <th></th>\n",
       "      <th></th>\n",
       "    </tr>\n",
       "  </thead>\n",
       "  <tbody>\n",
       "    <tr>\n",
       "      <th>(0, 299]</th>\n",
       "      <td>5</td>\n",
       "      <td>345</td>\n",
       "      <td>96</td>\n",
       "    </tr>\n",
       "    <tr>\n",
       "      <th>(300, 599]</th>\n",
       "      <td>111</td>\n",
       "      <td>122</td>\n",
       "      <td>36</td>\n",
       "    </tr>\n",
       "    <tr>\n",
       "      <th>(600, 899]</th>\n",
       "      <td>83</td>\n",
       "      <td>11</td>\n",
       "      <td>11</td>\n",
       "    </tr>\n",
       "    <tr>\n",
       "      <th>(900, 1199]</th>\n",
       "      <td>97</td>\n",
       "      <td>11</td>\n",
       "      <td>0</td>\n",
       "    </tr>\n",
       "    <tr>\n",
       "      <th>(1200, 1499]</th>\n",
       "      <td>69</td>\n",
       "      <td>4</td>\n",
       "      <td>1</td>\n",
       "    </tr>\n",
       "  </tbody>\n",
       "</table>\n",
       "</div>"
      ],
      "text/plain": [
       "journal            30 M. d\\'amis  ActuGaming  Le Trégor\n",
       "tranche_nb_origin                                      \n",
       "(0, 299]                       5         345         96\n",
       "(300, 599]                   111         122         36\n",
       "(600, 899]                    83          11         11\n",
       "(900, 1199]                   97          11          0\n",
       "(1200, 1499]                  69           4          1"
      ]
     },
     "execution_count": 15,
     "metadata": {},
     "output_type": "execute_result"
    }
   ],
   "source": [
    "group_nb_mots_art = df_articles.groupby([\"journal\", \"tranche_nb_origin\" ])[\"titre\"].count().unstack(\"journal\").fillna(0)\n",
    "group_nb_mots_art.head()"
   ]
  },
  {
   "cell_type": "code",
   "execution_count": 16,
   "metadata": {},
   "outputs": [
    {
     "data": {
      "image/png": "[encoded data removed]",
      "text/plain": [
       "<Figure size 1152x576 with 1 Axes>"
      ]
     },
     "metadata": {},
     "output_type": "display_data"
    }
   ],
   "source": [
    "figure, axe = color_graph_background(1,1)\n",
    "\n",
    "# Affichage d'articles par journal\n",
    "group_nb_mots_art.plot(kind='bar', stacked=True, ax=axe)\n",
    "axe.set_ylabel(\"Nombre d'articles\")\n",
    "axe.grid(axis='y')\n",
    "\n",
    "figure.set_size_inches(16, 8, forward=True)\n",
    "figure.suptitle(\"Nombre d'articles par tranche de mots\", fontsize=16)\n",
    "plt.xticks(rotation=45, ha=\"right\")\n",
    "plt.show()"
   ]
  },
  {
   "cell_type": "code",
   "execution_count": 17,
   "metadata": {},
   "outputs": [
    {
     "data": {
      "text/html": [
       "<div>\n",
       "<style scoped>\n",
       "    .dataframe tbody tr th:only-of-type {\n",
       "        vertical-align: middle;\n",
       "    }\n",
       "\n",
       "    .dataframe tbody tr th {\n",
       "        vertical-align: top;\n",
       "    }\n",
       "\n",
       "    .dataframe thead th {\n",
       "        text-align: right;\n",
       "    }\n",
       "</style>\n",
       "<table border=\"1\" class=\"dataframe\">\n",
       "  <thead>\n",
       "    <tr style=\"text-align: right;\">\n",
       "      <th></th>\n",
       "      <th>nb_mots_origine</th>\n",
       "    </tr>\n",
       "  </thead>\n",
       "  <tbody>\n",
       "    <tr>\n",
       "      <th>count</th>\n",
       "      <td>1175.000000</td>\n",
       "    </tr>\n",
       "    <tr>\n",
       "      <th>mean</th>\n",
       "      <td>766.821277</td>\n",
       "    </tr>\n",
       "    <tr>\n",
       "      <th>std</th>\n",
       "      <td>799.121700</td>\n",
       "    </tr>\n",
       "    <tr>\n",
       "      <th>min</th>\n",
       "      <td>60.000000</td>\n",
       "    </tr>\n",
       "    <tr>\n",
       "      <th>25%</th>\n",
       "      <td>240.000000</td>\n",
       "    </tr>\n",
       "    <tr>\n",
       "      <th>50%</th>\n",
       "      <td>416.000000</td>\n",
       "    </tr>\n",
       "    <tr>\n",
       "      <th>75%</th>\n",
       "      <td>1045.000000</td>\n",
       "    </tr>\n",
       "    <tr>\n",
       "      <th>max</th>\n",
       "      <td>6930.000000</td>\n",
       "    </tr>\n",
       "  </tbody>\n",
       "</table>\n",
       "</div>"
      ],
      "text/plain": [
       "       nb_mots_origine\n",
       "count      1175.000000\n",
       "mean        766.821277\n",
       "std         799.121700\n",
       "min          60.000000\n",
       "25%         240.000000\n",
       "50%         416.000000\n",
       "75%        1045.000000\n",
       "max        6930.000000"
      ]
     },
     "execution_count": 17,
     "metadata": {},
     "output_type": "execute_result"
    }
   ],
   "source": [
    "df_articles.describe()"
   ]
  },
  {
   "cell_type": "code",
   "execution_count": 25,
   "metadata": {},
   "outputs": [
    {
     "data": {
      "text/plain": [
       "<matplotlib.collections.PathCollection at 0x2024917d220>"
      ]
     },
     "execution_count": 25,
     "metadata": {},
     "output_type": "execute_result"
    },
    {
     "data": {
      "image/png": "[encoded data removed]",
      "text/plain": [
       "<Figure size 432x288 with 1 Axes>"
      ]
     },
     "metadata": {
      "needs_background": "light"
     },
     "output_type": "display_data"
    }
   ],
   "source": [
    "plt.scatter(df_treg[['nb_mots_origine']], df_treg[['nb_mots_origine']], c=\"red\")"
   ]
  },
  {
   "cell_type": "code",
   "execution_count": 24,
   "metadata": {},
   "outputs": [
    {
     "data": {
      "text/plain": [
       "<matplotlib.collections.PathCollection at 0x2024910b7f0>"
      ]
     },
     "execution_count": 24,
     "metadata": {},
     "output_type": "execute_result"
    },
    {
     "data": {
      "image/png": "[encoded data removed]",
      "text/plain": [
       "<Figure size 432x288 with 1 Axes>"
      ]
     },
     "metadata": {
      "needs_background": "light"
     },
     "output_type": "display_data"
    }
   ],
   "source": [
    "plt.scatter(df_30MA[['nb_mots_origine']], df_30MA[['nb_mots_origine']], c=\"blue\")"
   ]
  },
  {
   "cell_type": "code",
   "execution_count": 21,
   "metadata": {},
   "outputs": [
    {
     "data": {
      "image/png": "[encoded data removed]",
      "text/plain": [
       "<Figure size 432x288 with 1 Axes>"
      ]
     },
     "metadata": {
      "needs_background": "light"
     },
     "output_type": "display_data"
    }
   ],
   "source": [
    "group.nb_mots_origine()\n",
    "\n",
    "figure.set_size_inches(10, 5, forward=True)\n",
    "axes.set_ylabel(\"Nombre de mots moyens\")\n",
    "plt.title(\"Nombre de mots moyens par journal\")\n",
    "plt.xticks(rotation=45, ha=\"right\")\n",
    "plt.show()"
   ]
  },
  {
   "cell_type": "code",
   "execution_count": 8,
   "metadata": {},
   "outputs": [
    {
     "data": {
      "text/html": [
       "<div>\n",
       "<style scoped>\n",
       "    .dataframe tbody tr th:only-of-type {\n",
       "        vertical-align: middle;\n",
       "    }\n",
       "\n",
       "    .dataframe tbody tr th {\n",
       "        vertical-align: top;\n",
       "    }\n",
       "\n",
       "    .dataframe thead th {\n",
       "        text-align: right;\n",
       "    }\n",
       "</style>\n",
       "<table border=\"1\" class=\"dataframe\">\n",
       "  <thead>\n",
       "    <tr style=\"text-align: right;\">\n",
       "      <th></th>\n",
       "      <th>titre</th>\n",
       "      <th>date_parution</th>\n",
       "      <th>journal</th>\n",
       "      <th>auteur</th>\n",
       "      <th>tags</th>\n",
       "      <th>texte</th>\n",
       "      <th>url</th>\n",
       "      <th>mots_origine</th>\n",
       "      <th>nb_mots_origine</th>\n",
       "    </tr>\n",
       "  </thead>\n",
       "  <tbody>\n",
       "    <tr>\n",
       "      <th>0</th>\n",
       "      <td>Lannion. Un cycliste renversé par une voiture ...</td>\n",
       "      <td>10 Mar 22 à 17:05</td>\n",
       "      <td>Le Trégor</td>\n",
       "      <td>Christophe Ganne</td>\n",
       "      <td>faits-divers</td>\n",
       "      <td>Jeudi 10 mars à 16 h 30, au rond point de la P...</td>\n",
       "      <td>https://actu.fr/bretagne/lannion_22113/lannion...</td>\n",
       "      <td>[jeudi, 10, mars, à, 16, h, 30, au, rond, poin...</td>\n",
       "      <td>69</td>\n",
       "    </tr>\n",
       "    <tr>\n",
       "      <th>1</th>\n",
       "      <td>Perros-Guirec. Panne électrique : la mairie in...</td>\n",
       "      <td>8 Mar 22 à 10:33</td>\n",
       "      <td>Le Trégor</td>\n",
       "      <td>Christophe Ganne</td>\n",
       "      <td>societe</td>\n",
       "      <td>Suite à la panne d’électricité géante sur la c...</td>\n",
       "      <td>https://actu.fr/bretagne/perros-guirec_22168/p...</td>\n",
       "      <td>[suite, à, la, panne, d, électricité, géante, ...</td>\n",
       "      <td>233</td>\n",
       "    </tr>\n",
       "    <tr>\n",
       "      <th>2</th>\n",
       "      <td>Louannec. Un gang de l\\'Est avait pillé le dis...</td>\n",
       "      <td>11 Mar 22 à 20:08</td>\n",
       "      <td>Le Trégor</td>\n",
       "      <td>Christophe Ganne</td>\n",
       "      <td>faits-divers</td>\n",
       "      <td>Les gendarmes de Perros-Guirec, Lannion, Renne...</td>\n",
       "      <td>https://actu.fr/bretagne/louannec_22134/louann...</td>\n",
       "      <td>[les, gendarmes, de, perros, guirec, lannion, ...</td>\n",
       "      <td>228</td>\n",
       "    </tr>\n",
       "    <tr>\n",
       "      <th>3</th>\n",
       "      <td>Lannion. Une conférence et une expo sur l’hydr...</td>\n",
       "      <td>9 Mar 22 à 12:25</td>\n",
       "      <td>Le Trégor</td>\n",
       "      <td>Rédaction Lannion</td>\n",
       "      <td>Actualité</td>\n",
       "      <td>L’association ArmorScience propose à l’IUT de ...</td>\n",
       "      <td>https://actu.fr/bretagne/lannion_22113/lannion...</td>\n",
       "      <td>[l, association, armorscience, propose, à, l, ...</td>\n",
       "      <td>236</td>\n",
       "    </tr>\n",
       "    <tr>\n",
       "      <th>4</th>\n",
       "      <td>Autour de Perros. Panne : des groupes électrog...</td>\n",
       "      <td>11 Mar 22 à 12:21</td>\n",
       "      <td>Le Trégor</td>\n",
       "      <td>Rédaction Lannion</td>\n",
       "      <td>societe</td>\n",
       "      <td>Le village vacances de la CCAS, à Trébeurden, ...</td>\n",
       "      <td>https://actu.fr/bretagne/trebeurden_22343/auto...</td>\n",
       "      <td>[le, village, vacances, de, la, ccas, à, trébe...</td>\n",
       "      <td>422</td>\n",
       "    </tr>\n",
       "  </tbody>\n",
       "</table>\n",
       "</div>"
      ],
      "text/plain": [
       "                                               titre      date_parution  \\\n",
       "0  Lannion. Un cycliste renversé par une voiture ...  10 Mar 22 à 17:05   \n",
       "1  Perros-Guirec. Panne électrique : la mairie in...   8 Mar 22 à 10:33   \n",
       "2  Louannec. Un gang de l\\'Est avait pillé le dis...  11 Mar 22 à 20:08   \n",
       "3  Lannion. Une conférence et une expo sur l’hydr...   9 Mar 22 à 12:25   \n",
       "4  Autour de Perros. Panne : des groupes électrog...  11 Mar 22 à 12:21   \n",
       "\n",
       "     journal             auteur          tags  \\\n",
       "0  Le Trégor   Christophe Ganne  faits-divers   \n",
       "1  Le Trégor   Christophe Ganne       societe   \n",
       "2  Le Trégor   Christophe Ganne  faits-divers   \n",
       "3  Le Trégor  Rédaction Lannion     Actualité   \n",
       "4  Le Trégor  Rédaction Lannion       societe   \n",
       "\n",
       "                                               texte  \\\n",
       "0  Jeudi 10 mars à 16 h 30, au rond point de la P...   \n",
       "1  Suite à la panne d’électricité géante sur la c...   \n",
       "2  Les gendarmes de Perros-Guirec, Lannion, Renne...   \n",
       "3  L’association ArmorScience propose à l’IUT de ...   \n",
       "4  Le village vacances de la CCAS, à Trébeurden, ...   \n",
       "\n",
       "                                                 url  \\\n",
       "0  https://actu.fr/bretagne/lannion_22113/lannion...   \n",
       "1  https://actu.fr/bretagne/perros-guirec_22168/p...   \n",
       "2  https://actu.fr/bretagne/louannec_22134/louann...   \n",
       "3  https://actu.fr/bretagne/lannion_22113/lannion...   \n",
       "4  https://actu.fr/bretagne/trebeurden_22343/auto...   \n",
       "\n",
       "                                        mots_origine  nb_mots_origine  \n",
       "0  [jeudi, 10, mars, à, 16, h, 30, au, rond, poin...               69  \n",
       "1  [suite, à, la, panne, d, électricité, géante, ...              233  \n",
       "2  [les, gendarmes, de, perros, guirec, lannion, ...              228  \n",
       "3  [l, association, armorscience, propose, à, l, ...              236  \n",
       "4  [le, village, vacances, de, la, ccas, à, trébe...              422  "
      ]
     },
     "execution_count": 8,
     "metadata": {},
     "output_type": "execute_result"
    }
   ],
   "source": [
    "df_articles.head()"
   ]
  },
  {
   "cell_type": "code",
   "execution_count": 9,
   "metadata": {},
   "outputs": [
    {
     "data": {
      "text/html": [
       "<div>\n",
       "<style scoped>\n",
       "    .dataframe tbody tr th:only-of-type {\n",
       "        vertical-align: middle;\n",
       "    }\n",
       "\n",
       "    .dataframe tbody tr th {\n",
       "        vertical-align: top;\n",
       "    }\n",
       "\n",
       "    .dataframe thead th {\n",
       "        text-align: right;\n",
       "    }\n",
       "</style>\n",
       "<table border=\"1\" class=\"dataframe\">\n",
       "  <thead>\n",
       "    <tr style=\"text-align: right;\">\n",
       "      <th></th>\n",
       "      <th>nb_mots_origine</th>\n",
       "    </tr>\n",
       "  </thead>\n",
       "  <tbody>\n",
       "    <tr>\n",
       "      <th>count</th>\n",
       "      <td>675.000000</td>\n",
       "    </tr>\n",
       "    <tr>\n",
       "      <th>mean</th>\n",
       "      <td>1096.805926</td>\n",
       "    </tr>\n",
       "    <tr>\n",
       "      <th>std</th>\n",
       "      <td>885.405310</td>\n",
       "    </tr>\n",
       "    <tr>\n",
       "      <th>min</th>\n",
       "      <td>69.000000</td>\n",
       "    </tr>\n",
       "    <tr>\n",
       "      <th>25%</th>\n",
       "      <td>442.500000</td>\n",
       "    </tr>\n",
       "    <tr>\n",
       "      <th>50%</th>\n",
       "      <td>875.000000</td>\n",
       "    </tr>\n",
       "    <tr>\n",
       "      <th>75%</th>\n",
       "      <td>1459.500000</td>\n",
       "    </tr>\n",
       "    <tr>\n",
       "      <th>max</th>\n",
       "      <td>6930.000000</td>\n",
       "    </tr>\n",
       "  </tbody>\n",
       "</table>\n",
       "</div>"
      ],
      "text/plain": [
       "       nb_mots_origine\n",
       "count       675.000000\n",
       "mean       1096.805926\n",
       "std         885.405310\n",
       "min          69.000000\n",
       "25%         442.500000\n",
       "50%         875.000000\n",
       "75%        1459.500000\n",
       "max        6930.000000"
      ]
     },
     "execution_count": 9,
     "metadata": {},
     "output_type": "execute_result"
    }
   ],
   "source": [
    "df_articles.describe()"
   ]
  },
  {
   "cell_type": "code",
   "execution_count": 10,
   "metadata": {},
   "outputs": [
    {
     "data": {
      "text/plain": [
       "0"
      ]
     },
     "execution_count": 10,
     "metadata": {},
     "output_type": "execute_result"
    }
   ],
   "source": [
    "personnal_stop_word = []\n",
    "len(personnal_stop_word)"
   ]
  },
  {
   "cell_type": "code",
   "execution_count": 11,
   "metadata": {},
   "outputs": [],
   "source": [
    "def nlp_pre_process(input, string_expected=True, sw=None, sw_language=None, ngram=(1,1), verbose=0):\n",
    "    res = []\n",
    "    # ce traitement n'est fait qu'une fois, même si l'on appelle en récurcif la méthode\n",
    "    if sw_language :\n",
    "        if sw is None:\n",
    "            sw = stopwords.words(sw_language)\n",
    "        else :\n",
    "            sw.extend(stopwords.words(sw_language))\n",
    "\n",
    "    if isinstance(input, list):\n",
    "        res = [' '.join(nlp_pre_process(sentence, string_expected=string_expected, sw=sw, ngram=ngram)) for sentence in input]\n",
    "    elif isinstance(input, str):\n",
    "        res = tokenize(input)\n",
    "        res = remove_stopwords_func(res, sw=sw)\n",
    "        res = normalize_accented_chars(res)\n",
    "        res = remove_irr_char_func(res)        \n",
    "        res = remove_stopwords_func(res, sw=sw)\n",
    "        \n",
    "    res = list(filter(None, res))\n",
    "    if string_expected:\n",
    "        res = ' '.join(res)\n",
    "    return res"
   ]
  },
  {
   "cell_type": "code",
   "execution_count": 12,
   "metadata": {},
   "outputs": [
    {
     "ename": "KeyboardInterrupt",
     "evalue": "",
     "output_type": "error",
     "traceback": [
      "\u001b[1;31m---------------------------------------------------------------------------\u001b[0m",
      "\u001b[1;31mKeyboardInterrupt\u001b[0m                         Traceback (most recent call last)",
      "\u001b[1;32mc:\\Users\\User\\WORK\\workspace-ia\\PROJETS\\ema_lannuontimes\\news_paper_nlp_pre_processing.ipynb Cell 15'\u001b[0m in \u001b[0;36m<module>\u001b[1;34m\u001b[0m\n\u001b[1;32m----> <a href='vscode-notebook-cell:/c%3A/Users/User/WORK/workspace-ia/PROJETS/ema_lannuontimes/news_paper_nlp_pre_processing.ipynb#ch0000011?line=0'>1</a>\u001b[0m df_articles[\u001b[39m\"\u001b[39m\u001b[39mclean_words\u001b[39m\u001b[39m\"\u001b[39m] \u001b[39m=\u001b[39m df_articles[\u001b[39m'\u001b[39;49m\u001b[39mtexte\u001b[39;49m\u001b[39m'\u001b[39;49m]\u001b[39m.\u001b[39;49mapply(\u001b[39mlambda\u001b[39;49;00m x: nlp_pre_process(x, string_expected\u001b[39m=\u001b[39;49m\u001b[39mFalse\u001b[39;49;00m, sw\u001b[39m=\u001b[39;49mpersonnal_stop_word, sw_language\u001b[39m=\u001b[39;49m\u001b[39m\"\u001b[39;49m\u001b[39mfrench\u001b[39;49m\u001b[39m\"\u001b[39;49m, verbose\u001b[39m=\u001b[39;49mverbose))\n",
      "File \u001b[1;32m~\\AppData\\Roaming\\Python\\Python39\\site-packages\\pandas\\core\\series.py:4430\u001b[0m, in \u001b[0;36mSeries.apply\u001b[1;34m(self, func, convert_dtype, args, **kwargs)\u001b[0m\n\u001b[0;32m   <a href='file:///~/AppData/Roaming/Python/Python39/site-packages/pandas/core/series.py?line=4319'>4320</a>\u001b[0m \u001b[39mdef\u001b[39;00m \u001b[39mapply\u001b[39m(\n\u001b[0;32m   <a href='file:///~/AppData/Roaming/Python/Python39/site-packages/pandas/core/series.py?line=4320'>4321</a>\u001b[0m     \u001b[39mself\u001b[39m,\n\u001b[0;32m   <a href='file:///~/AppData/Roaming/Python/Python39/site-packages/pandas/core/series.py?line=4321'>4322</a>\u001b[0m     func: AggFuncType,\n\u001b[1;32m   (...)\u001b[0m\n\u001b[0;32m   <a href='file:///~/AppData/Roaming/Python/Python39/site-packages/pandas/core/series.py?line=4324'>4325</a>\u001b[0m     \u001b[39m*\u001b[39m\u001b[39m*\u001b[39mkwargs,\n\u001b[0;32m   <a href='file:///~/AppData/Roaming/Python/Python39/site-packages/pandas/core/series.py?line=4325'>4326</a>\u001b[0m ) \u001b[39m-\u001b[39m\u001b[39m>\u001b[39m DataFrame \u001b[39m|\u001b[39m Series:\n\u001b[0;32m   <a href='file:///~/AppData/Roaming/Python/Python39/site-packages/pandas/core/series.py?line=4326'>4327</a>\u001b[0m     \u001b[39m\"\"\"\u001b[39;00m\n\u001b[0;32m   <a href='file:///~/AppData/Roaming/Python/Python39/site-packages/pandas/core/series.py?line=4327'>4328</a>\u001b[0m \u001b[39m    Invoke function on values of Series.\u001b[39;00m\n\u001b[0;32m   <a href='file:///~/AppData/Roaming/Python/Python39/site-packages/pandas/core/series.py?line=4328'>4329</a>\u001b[0m \n\u001b[1;32m   (...)\u001b[0m\n\u001b[0;32m   <a href='file:///~/AppData/Roaming/Python/Python39/site-packages/pandas/core/series.py?line=4427'>4428</a>\u001b[0m \u001b[39m    dtype: float64\u001b[39;00m\n\u001b[0;32m   <a href='file:///~/AppData/Roaming/Python/Python39/site-packages/pandas/core/series.py?line=4428'>4429</a>\u001b[0m \u001b[39m    \"\"\"\u001b[39;00m\n\u001b[1;32m-> <a href='file:///~/AppData/Roaming/Python/Python39/site-packages/pandas/core/series.py?line=4429'>4430</a>\u001b[0m     \u001b[39mreturn\u001b[39;00m SeriesApply(\u001b[39mself\u001b[39;49m, func, convert_dtype, args, kwargs)\u001b[39m.\u001b[39;49mapply()\n",
      "File \u001b[1;32m~\\AppData\\Roaming\\Python\\Python39\\site-packages\\pandas\\core\\apply.py:1082\u001b[0m, in \u001b[0;36mSeriesApply.apply\u001b[1;34m(self)\u001b[0m\n\u001b[0;32m   <a href='file:///~/AppData/Roaming/Python/Python39/site-packages/pandas/core/apply.py?line=1077'>1078</a>\u001b[0m \u001b[39mif\u001b[39;00m \u001b[39misinstance\u001b[39m(\u001b[39mself\u001b[39m\u001b[39m.\u001b[39mf, \u001b[39mstr\u001b[39m):\n\u001b[0;32m   <a href='file:///~/AppData/Roaming/Python/Python39/site-packages/pandas/core/apply.py?line=1078'>1079</a>\u001b[0m     \u001b[39m# if we are a string, try to dispatch\u001b[39;00m\n\u001b[0;32m   <a href='file:///~/AppData/Roaming/Python/Python39/site-packages/pandas/core/apply.py?line=1079'>1080</a>\u001b[0m     \u001b[39mreturn\u001b[39;00m \u001b[39mself\u001b[39m\u001b[39m.\u001b[39mapply_str()\n\u001b[1;32m-> <a href='file:///~/AppData/Roaming/Python/Python39/site-packages/pandas/core/apply.py?line=1081'>1082</a>\u001b[0m \u001b[39mreturn\u001b[39;00m \u001b[39mself\u001b[39;49m\u001b[39m.\u001b[39;49mapply_standard()\n",
      "File \u001b[1;32m~\\AppData\\Roaming\\Python\\Python39\\site-packages\\pandas\\core\\apply.py:1137\u001b[0m, in \u001b[0;36mSeriesApply.apply_standard\u001b[1;34m(self)\u001b[0m\n\u001b[0;32m   <a href='file:///~/AppData/Roaming/Python/Python39/site-packages/pandas/core/apply.py?line=1130'>1131</a>\u001b[0m         values \u001b[39m=\u001b[39m obj\u001b[39m.\u001b[39mastype(\u001b[39mobject\u001b[39m)\u001b[39m.\u001b[39m_values\n\u001b[0;32m   <a href='file:///~/AppData/Roaming/Python/Python39/site-packages/pandas/core/apply.py?line=1131'>1132</a>\u001b[0m         \u001b[39m# error: Argument 2 to \"map_infer\" has incompatible type\u001b[39;00m\n\u001b[0;32m   <a href='file:///~/AppData/Roaming/Python/Python39/site-packages/pandas/core/apply.py?line=1132'>1133</a>\u001b[0m         \u001b[39m# \"Union[Callable[..., Any], str, List[Union[Callable[..., Any], str]],\u001b[39;00m\n\u001b[0;32m   <a href='file:///~/AppData/Roaming/Python/Python39/site-packages/pandas/core/apply.py?line=1133'>1134</a>\u001b[0m         \u001b[39m# Dict[Hashable, Union[Union[Callable[..., Any], str],\u001b[39;00m\n\u001b[0;32m   <a href='file:///~/AppData/Roaming/Python/Python39/site-packages/pandas/core/apply.py?line=1134'>1135</a>\u001b[0m         \u001b[39m# List[Union[Callable[..., Any], str]]]]]\"; expected\u001b[39;00m\n\u001b[0;32m   <a href='file:///~/AppData/Roaming/Python/Python39/site-packages/pandas/core/apply.py?line=1135'>1136</a>\u001b[0m         \u001b[39m# \"Callable[[Any], Any]\"\u001b[39;00m\n\u001b[1;32m-> <a href='file:///~/AppData/Roaming/Python/Python39/site-packages/pandas/core/apply.py?line=1136'>1137</a>\u001b[0m         mapped \u001b[39m=\u001b[39m lib\u001b[39m.\u001b[39;49mmap_infer(\n\u001b[0;32m   <a href='file:///~/AppData/Roaming/Python/Python39/site-packages/pandas/core/apply.py?line=1137'>1138</a>\u001b[0m             values,\n\u001b[0;32m   <a href='file:///~/AppData/Roaming/Python/Python39/site-packages/pandas/core/apply.py?line=1138'>1139</a>\u001b[0m             f,  \u001b[39m# type: ignore[arg-type]\u001b[39;49;00m\n\u001b[0;32m   <a href='file:///~/AppData/Roaming/Python/Python39/site-packages/pandas/core/apply.py?line=1139'>1140</a>\u001b[0m             convert\u001b[39m=\u001b[39;49m\u001b[39mself\u001b[39;49m\u001b[39m.\u001b[39;49mconvert_dtype,\n\u001b[0;32m   <a href='file:///~/AppData/Roaming/Python/Python39/site-packages/pandas/core/apply.py?line=1140'>1141</a>\u001b[0m         )\n\u001b[0;32m   <a href='file:///~/AppData/Roaming/Python/Python39/site-packages/pandas/core/apply.py?line=1142'>1143</a>\u001b[0m \u001b[39mif\u001b[39;00m \u001b[39mlen\u001b[39m(mapped) \u001b[39mand\u001b[39;00m \u001b[39misinstance\u001b[39m(mapped[\u001b[39m0\u001b[39m], ABCSeries):\n\u001b[0;32m   <a href='file:///~/AppData/Roaming/Python/Python39/site-packages/pandas/core/apply.py?line=1143'>1144</a>\u001b[0m     \u001b[39m# GH#43986 Need to do list(mapped) in order to get treated as nested\u001b[39;00m\n\u001b[0;32m   <a href='file:///~/AppData/Roaming/Python/Python39/site-packages/pandas/core/apply.py?line=1144'>1145</a>\u001b[0m     \u001b[39m#  See also GH#25959 regarding EA support\u001b[39;00m\n\u001b[0;32m   <a href='file:///~/AppData/Roaming/Python/Python39/site-packages/pandas/core/apply.py?line=1145'>1146</a>\u001b[0m     \u001b[39mreturn\u001b[39;00m obj\u001b[39m.\u001b[39m_constructor_expanddim(\u001b[39mlist\u001b[39m(mapped), index\u001b[39m=\u001b[39mobj\u001b[39m.\u001b[39mindex)\n",
      "File \u001b[1;32m~\\AppData\\Roaming\\Python\\Python39\\site-packages\\pandas\\_libs\\lib.pyx:2870\u001b[0m, in \u001b[0;36mpandas._libs.lib.map_infer\u001b[1;34m()\u001b[0m\n",
      "\u001b[1;32mc:\\Users\\User\\WORK\\workspace-ia\\PROJETS\\ema_lannuontimes\\news_paper_nlp_pre_processing.ipynb Cell 15'\u001b[0m in \u001b[0;36m<lambda>\u001b[1;34m(x)\u001b[0m\n\u001b[1;32m----> <a href='vscode-notebook-cell:/c%3A/Users/User/WORK/workspace-ia/PROJETS/ema_lannuontimes/news_paper_nlp_pre_processing.ipynb#ch0000011?line=0'>1</a>\u001b[0m df_articles[\u001b[39m\"\u001b[39m\u001b[39mclean_words\u001b[39m\u001b[39m\"\u001b[39m] \u001b[39m=\u001b[39m df_articles[\u001b[39m'\u001b[39m\u001b[39mtexte\u001b[39m\u001b[39m'\u001b[39m]\u001b[39m.\u001b[39mapply(\u001b[39mlambda\u001b[39;00m x: nlp_pre_process(x, string_expected\u001b[39m=\u001b[39;49m\u001b[39mFalse\u001b[39;49;00m, sw\u001b[39m=\u001b[39;49mpersonnal_stop_word, sw_language\u001b[39m=\u001b[39;49m\u001b[39m\"\u001b[39;49m\u001b[39mfrench\u001b[39;49m\u001b[39m\"\u001b[39;49m, verbose\u001b[39m=\u001b[39;49mverbose))\n",
      "\u001b[1;32mc:\\Users\\User\\WORK\\workspace-ia\\PROJETS\\ema_lannuontimes\\news_paper_nlp_pre_processing.ipynb Cell 14'\u001b[0m in \u001b[0;36mnlp_pre_process\u001b[1;34m(input, string_expected, sw, sw_language, ngram, verbose)\u001b[0m\n\u001b[0;32m     <a href='vscode-notebook-cell:/c%3A/Users/User/WORK/workspace-ia/PROJETS/ema_lannuontimes/news_paper_nlp_pre_processing.ipynb#ch0000010?line=14'>15</a>\u001b[0m     res \u001b[39m=\u001b[39m normalize_accented_chars(res)\n\u001b[0;32m     <a href='vscode-notebook-cell:/c%3A/Users/User/WORK/workspace-ia/PROJETS/ema_lannuontimes/news_paper_nlp_pre_processing.ipynb#ch0000010?line=15'>16</a>\u001b[0m     res \u001b[39m=\u001b[39m remove_irr_char_func(res)        \n\u001b[1;32m---> <a href='vscode-notebook-cell:/c%3A/Users/User/WORK/workspace-ia/PROJETS/ema_lannuontimes/news_paper_nlp_pre_processing.ipynb#ch0000010?line=16'>17</a>\u001b[0m     res \u001b[39m=\u001b[39m remove_stopwords_func(res, sw\u001b[39m=\u001b[39;49msw)\n\u001b[0;32m     <a href='vscode-notebook-cell:/c%3A/Users/User/WORK/workspace-ia/PROJETS/ema_lannuontimes/news_paper_nlp_pre_processing.ipynb#ch0000010?line=18'>19</a>\u001b[0m res \u001b[39m=\u001b[39m \u001b[39mlist\u001b[39m(\u001b[39mfilter\u001b[39m(\u001b[39mNone\u001b[39;00m, res))\n\u001b[0;32m     <a href='vscode-notebook-cell:/c%3A/Users/User/WORK/workspace-ia/PROJETS/ema_lannuontimes/news_paper_nlp_pre_processing.ipynb#ch0000010?line=19'>20</a>\u001b[0m \u001b[39mif\u001b[39;00m string_expected:\n",
      "File \u001b[1;32mc:\\Users\\User\\WORK\\workspace-ia\\PROJETS\\ema_lannuontimes\\news_paper_nlp_pre_processing.py:135\u001b[0m, in \u001b[0;36mremove_stopwords_func\u001b[1;34m(text, language, sw)\u001b[0m\n\u001b[0;32m    <a href='file:///c%3A/Users/User/WORK/workspace-ia/PROJETS/ema_lannuontimes/news_paper_nlp_pre_processing.py?line=132'>133</a>\u001b[0m \u001b[39mfor\u001b[39;00m sentence \u001b[39min\u001b[39;00m text:\n\u001b[0;32m    <a href='file:///c%3A/Users/User/WORK/workspace-ia/PROJETS/ema_lannuontimes/news_paper_nlp_pre_processing.py?line=133'>134</a>\u001b[0m     token_temp \u001b[39m=\u001b[39m sentence\u001b[39m.\u001b[39msplit()\n\u001b[1;32m--> <a href='file:///c%3A/Users/User/WORK/workspace-ia/PROJETS/ema_lannuontimes/news_paper_nlp_pre_processing.py?line=134'>135</a>\u001b[0m     t \u001b[39m=\u001b[39m [token\u001b[39m.\u001b[39mstrip() \u001b[39mfor\u001b[39;00m token \u001b[39min\u001b[39;00m token_temp \u001b[39mif\u001b[39;00m token\u001b[39m.\u001b[39mlower() \u001b[39mnot\u001b[39;00m \u001b[39min\u001b[39;00m sw]\n\u001b[0;32m    <a href='file:///c%3A/Users/User/WORK/workspace-ia/PROJETS/ema_lannuontimes/news_paper_nlp_pre_processing.py?line=135'>136</a>\u001b[0m     res\u001b[39m.\u001b[39mappend(\u001b[39m'\u001b[39m\u001b[39m \u001b[39m\u001b[39m'\u001b[39m\u001b[39m.\u001b[39mjoin(t))\n\u001b[0;32m    <a href='file:///c%3A/Users/User/WORK/workspace-ia/PROJETS/ema_lannuontimes/news_paper_nlp_pre_processing.py?line=136'>137</a>\u001b[0m res \u001b[39m=\u001b[39m \u001b[39mlist\u001b[39m(\u001b[39mfilter\u001b[39m(\u001b[39mNone\u001b[39;00m, res))\n",
      "File \u001b[1;32mc:\\Users\\User\\WORK\\workspace-ia\\PROJETS\\ema_lannuontimes\\news_paper_nlp_pre_processing.py:135\u001b[0m, in \u001b[0;36m<listcomp>\u001b[1;34m(.0)\u001b[0m\n\u001b[0;32m    <a href='file:///c%3A/Users/User/WORK/workspace-ia/PROJETS/ema_lannuontimes/news_paper_nlp_pre_processing.py?line=132'>133</a>\u001b[0m \u001b[39mfor\u001b[39;00m sentence \u001b[39min\u001b[39;00m text:\n\u001b[0;32m    <a href='file:///c%3A/Users/User/WORK/workspace-ia/PROJETS/ema_lannuontimes/news_paper_nlp_pre_processing.py?line=133'>134</a>\u001b[0m     token_temp \u001b[39m=\u001b[39m sentence\u001b[39m.\u001b[39msplit()\n\u001b[1;32m--> <a href='file:///c%3A/Users/User/WORK/workspace-ia/PROJETS/ema_lannuontimes/news_paper_nlp_pre_processing.py?line=134'>135</a>\u001b[0m     t \u001b[39m=\u001b[39m [token\u001b[39m.\u001b[39;49mstrip() \u001b[39mfor\u001b[39;00m token \u001b[39min\u001b[39;00m token_temp \u001b[39mif\u001b[39;00m token\u001b[39m.\u001b[39mlower() \u001b[39mnot\u001b[39;00m \u001b[39min\u001b[39;00m sw]\n\u001b[0;32m    <a href='file:///c%3A/Users/User/WORK/workspace-ia/PROJETS/ema_lannuontimes/news_paper_nlp_pre_processing.py?line=135'>136</a>\u001b[0m     res\u001b[39m.\u001b[39mappend(\u001b[39m'\u001b[39m\u001b[39m \u001b[39m\u001b[39m'\u001b[39m\u001b[39m.\u001b[39mjoin(t))\n\u001b[0;32m    <a href='file:///c%3A/Users/User/WORK/workspace-ia/PROJETS/ema_lannuontimes/news_paper_nlp_pre_processing.py?line=136'>137</a>\u001b[0m res \u001b[39m=\u001b[39m \u001b[39mlist\u001b[39m(\u001b[39mfilter\u001b[39m(\u001b[39mNone\u001b[39;00m, res))\n",
      "\u001b[1;31mKeyboardInterrupt\u001b[0m: "
     ]
    }
   ],
   "source": [
    "df_articles[\"clean_words\"] = df_articles['texte'].apply(lambda x: nlp_pre_process(x, string_expected=False, sw=personnal_stop_word, sw_language=\"french\", verbose=verbose))"
   ]
  },
  {
   "cell_type": "code",
   "execution_count": null,
   "metadata": {},
   "outputs": [],
   "source": [
    "df_articles[\"nb_mots_clean\"] = df_articles['clean_words'].apply(lambda x: word_count_func(x))"
   ]
  },
  {
   "cell_type": "code",
   "execution_count": null,
   "metadata": {},
   "outputs": [
    {
     "data": {
      "text/html": [
       "<div>\n",
       "<style scoped>\n",
       "    .dataframe tbody tr th:only-of-type {\n",
       "        vertical-align: middle;\n",
       "    }\n",
       "\n",
       "    .dataframe tbody tr th {\n",
       "        vertical-align: top;\n",
       "    }\n",
       "\n",
       "    .dataframe thead th {\n",
       "        text-align: right;\n",
       "    }\n",
       "</style>\n",
       "<table border=\"1\" class=\"dataframe\">\n",
       "  <thead>\n",
       "    <tr style=\"text-align: right;\">\n",
       "      <th></th>\n",
       "      <th>titre</th>\n",
       "      <th>date_parution</th>\n",
       "      <th>journal</th>\n",
       "      <th>auteur</th>\n",
       "      <th>tags</th>\n",
       "      <th>texte</th>\n",
       "      <th>url</th>\n",
       "      <th>mots_origine</th>\n",
       "      <th>nb_mots_origine</th>\n",
       "      <th>clean_words</th>\n",
       "      <th>nb_mots_clean</th>\n",
       "    </tr>\n",
       "  </thead>\n",
       "  <tbody>\n",
       "    <tr>\n",
       "      <th>0</th>\n",
       "      <td>Lannion. Un cycliste renversé par une voiture ...</td>\n",
       "      <td>10 Mar 22 à 17:05</td>\n",
       "      <td>Le Trégor</td>\n",
       "      <td>Christophe Ganne</td>\n",
       "      <td>faits-divers</td>\n",
       "      <td>Jeudi 10 mars à 16 h 30, au rond point de la P...</td>\n",
       "      <td>https://actu.fr/bretagne/lannion_22113/lannion...</td>\n",
       "      <td>[jeudi, 10, mars, à, 16, h, 30, au, rond, poin...</td>\n",
       "      <td>69</td>\n",
       "      <td>[jeudi, mars, h, rond, point, poste, lannion, ...</td>\n",
       "      <td>40</td>\n",
       "    </tr>\n",
       "    <tr>\n",
       "      <th>1</th>\n",
       "      <td>Perros-Guirec. Panne électrique : la mairie in...</td>\n",
       "      <td>8 Mar 22 à 10:33</td>\n",
       "      <td>Le Trégor</td>\n",
       "      <td>Christophe Ganne</td>\n",
       "      <td>societe</td>\n",
       "      <td>Suite à la panne d’électricité géante sur la c...</td>\n",
       "      <td>https://actu.fr/bretagne/perros-guirec_22168/p...</td>\n",
       "      <td>[suite, à, la, panne, d, électricité, géante, ...</td>\n",
       "      <td>233</td>\n",
       "      <td>[suite, panne, electricite, geante, cote, gran...</td>\n",
       "      <td>141</td>\n",
       "    </tr>\n",
       "    <tr>\n",
       "      <th>2</th>\n",
       "      <td>Louannec. Un gang de l\\'Est avait pillé le dis...</td>\n",
       "      <td>11 Mar 22 à 20:08</td>\n",
       "      <td>Le Trégor</td>\n",
       "      <td>Christophe Ganne</td>\n",
       "      <td>faits-divers</td>\n",
       "      <td>Les gendarmes de Perros-Guirec, Lannion, Renne...</td>\n",
       "      <td>https://actu.fr/bretagne/louannec_22134/louann...</td>\n",
       "      <td>[les, gendarmes, de, perros, guirec, lannion, ...</td>\n",
       "      <td>228</td>\n",
       "      <td>[gendarmes, perros, guirec, lannion, rennes, t...</td>\n",
       "      <td>121</td>\n",
       "    </tr>\n",
       "    <tr>\n",
       "      <th>3</th>\n",
       "      <td>Lannion. Une conférence et une expo sur l’hydr...</td>\n",
       "      <td>9 Mar 22 à 12:25</td>\n",
       "      <td>Le Trégor</td>\n",
       "      <td>Rédaction Lannion</td>\n",
       "      <td>Actualité</td>\n",
       "      <td>L’association ArmorScience propose à l’IUT de ...</td>\n",
       "      <td>https://actu.fr/bretagne/lannion_22113/lannion...</td>\n",
       "      <td>[l, association, armorscience, propose, à, l, ...</td>\n",
       "      <td>236</td>\n",
       "      <td>[association, armorscience, propose, iut, lann...</td>\n",
       "      <td>136</td>\n",
       "    </tr>\n",
       "    <tr>\n",
       "      <th>4</th>\n",
       "      <td>Autour de Perros. Panne : des groupes électrog...</td>\n",
       "      <td>11 Mar 22 à 12:21</td>\n",
       "      <td>Le Trégor</td>\n",
       "      <td>Rédaction Lannion</td>\n",
       "      <td>societe</td>\n",
       "      <td>Le village vacances de la CCAS, à Trébeurden, ...</td>\n",
       "      <td>https://actu.fr/bretagne/trebeurden_22343/auto...</td>\n",
       "      <td>[le, village, vacances, de, la, ccas, à, trébe...</td>\n",
       "      <td>422</td>\n",
       "      <td>[village, vacances, ccas, trebeurden, a, ferme...</td>\n",
       "      <td>226</td>\n",
       "    </tr>\n",
       "  </tbody>\n",
       "</table>\n",
       "</div>"
      ],
      "text/plain": [
       "                                               titre      date_parution  \\\n",
       "0  Lannion. Un cycliste renversé par une voiture ...  10 Mar 22 à 17:05   \n",
       "1  Perros-Guirec. Panne électrique : la mairie in...   8 Mar 22 à 10:33   \n",
       "2  Louannec. Un gang de l\\'Est avait pillé le dis...  11 Mar 22 à 20:08   \n",
       "3  Lannion. Une conférence et une expo sur l’hydr...   9 Mar 22 à 12:25   \n",
       "4  Autour de Perros. Panne : des groupes électrog...  11 Mar 22 à 12:21   \n",
       "\n",
       "     journal             auteur          tags  \\\n",
       "0  Le Trégor   Christophe Ganne  faits-divers   \n",
       "1  Le Trégor   Christophe Ganne       societe   \n",
       "2  Le Trégor   Christophe Ganne  faits-divers   \n",
       "3  Le Trégor  Rédaction Lannion     Actualité   \n",
       "4  Le Trégor  Rédaction Lannion       societe   \n",
       "\n",
       "                                               texte  \\\n",
       "0  Jeudi 10 mars à 16 h 30, au rond point de la P...   \n",
       "1  Suite à la panne d’électricité géante sur la c...   \n",
       "2  Les gendarmes de Perros-Guirec, Lannion, Renne...   \n",
       "3  L’association ArmorScience propose à l’IUT de ...   \n",
       "4  Le village vacances de la CCAS, à Trébeurden, ...   \n",
       "\n",
       "                                                 url  \\\n",
       "0  https://actu.fr/bretagne/lannion_22113/lannion...   \n",
       "1  https://actu.fr/bretagne/perros-guirec_22168/p...   \n",
       "2  https://actu.fr/bretagne/louannec_22134/louann...   \n",
       "3  https://actu.fr/bretagne/lannion_22113/lannion...   \n",
       "4  https://actu.fr/bretagne/trebeurden_22343/auto...   \n",
       "\n",
       "                                        mots_origine  nb_mots_origine  \\\n",
       "0  [jeudi, 10, mars, à, 16, h, 30, au, rond, poin...               69   \n",
       "1  [suite, à, la, panne, d, électricité, géante, ...              233   \n",
       "2  [les, gendarmes, de, perros, guirec, lannion, ...              228   \n",
       "3  [l, association, armorscience, propose, à, l, ...              236   \n",
       "4  [le, village, vacances, de, la, ccas, à, trébe...              422   \n",
       "\n",
       "                                         clean_words  nb_mots_clean  \n",
       "0  [jeudi, mars, h, rond, point, poste, lannion, ...             40  \n",
       "1  [suite, panne, electricite, geante, cote, gran...            141  \n",
       "2  [gendarmes, perros, guirec, lannion, rennes, t...            121  \n",
       "3  [association, armorscience, propose, iut, lann...            136  \n",
       "4  [village, vacances, ccas, trebeurden, a, ferme...            226  "
      ]
     },
     "execution_count": 18,
     "metadata": {},
     "output_type": "execute_result"
    }
   ],
   "source": [
    "df_articles.head()"
   ]
  },
  {
   "cell_type": "code",
   "execution_count": null,
   "metadata": {},
   "outputs": [],
   "source": []
  }
 ],
 "metadata": {
  "interpreter": {
   "hash": "ac59ebe37160ed0dfa835113d9b8498d9f09ceb179beaac4002f036b9467c963"
  },
  "kernelspec": {
   "display_name": "Python 3.9.10 64-bit",
   "language": "python",
   "name": "python3"
  },
  "language_info": {
   "codemirror_mode": {
    "name": "ipython",
    "version": 3
   },
   "file_extension": ".py",
   "mimetype": "text/x-python",
   "name": "python",
   "nbconvert_exporter": "python",
   "pygments_lexer": "ipython3",
   "version": "3.9.10"
  },
  "orig_nbformat": 4
 },
 "nbformat": 4,
 "nbformat_minor": 2
}
