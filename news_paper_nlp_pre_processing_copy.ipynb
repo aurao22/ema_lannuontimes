{
 "cells": [
  {
   "cell_type": "code",
   "execution_count": 1,
   "metadata": {
    "ExecuteTime": {
     "end_time": "2022-03-28T14:08:35.648541Z",
     "start_time": "2022-03-28T14:08:29.189627Z"
    }
   },
   "outputs": [],
   "source": [
    "import pandas as pd\n",
    "from news_paper_dao import NewsPaperDao\n",
    "from IPython.core.display import HTML\n",
    "from os import getcwd\n",
    "from news_paper_nlp_pre_processing import *\n",
    "from nltk.corpus import stopwords, wordnet\n",
    "import nltk"
   ]
  },
  {
   "cell_type": "code",
   "execution_count": 2,
   "metadata": {
    "ExecuteTime": {
     "end_time": "2022-03-28T14:08:35.664052Z",
     "start_time": "2022-03-28T14:08:35.654282Z"
    }
   },
   "outputs": [],
   "source": [
    "from nltk.corpus import stopwords, wordnet"
   ]
  },
  {
   "cell_type": "code",
   "execution_count": 3,
   "metadata": {
    "ExecuteTime": {
     "end_time": "2022-03-28T14:08:35.726196Z",
     "start_time": "2022-03-28T14:08:35.675334Z"
    }
   },
   "outputs": [
    {
     "data": {
      "text/plain": [
       "<Figure size 640x480 with 0 Axes>"
      ]
     },
     "execution_count": 3,
     "metadata": {},
     "output_type": "execute_result"
    },
    {
     "data": {
      "text/plain": [
       "<Figure size 640x480 with 0 Axes>"
      ]
     },
     "metadata": {},
     "output_type": "display_data"
    }
   ],
   "source": [
    "from matplotlib.pyplot import figure\n",
    "\n",
    "figure(figsize=(8, 6), dpi=80)"
   ]
  },
  {
   "cell_type": "code",
   "execution_count": 4,
   "metadata": {
    "ExecuteTime": {
     "end_time": "2022-03-28T14:08:35.756411Z",
     "start_time": "2022-03-28T14:08:35.734220Z"
    }
   },
   "outputs": [
    {
     "name": "stdout",
     "output_type": "stream",
     "text": [
      "C:\\Users\\utilisateur\\Documents\\Simplon\\Pierre\\Lannion-Times\\ema_lannuontimes\\\n"
     ]
    }
   ],
   "source": [
    "# Récupère le répertoire du programme\n",
    "curent_path = getcwd()+ \"\\\\\"\n",
    "if \"ema_lannuontimes\" not in curent_path:\n",
    "    curent_path += \"PROJETS\\\\ema_lannuontimes\\\\\"\n",
    "print(curent_path)"
   ]
  },
  {
   "cell_type": "markdown",
   "metadata": {},
   "source": [
    "<div style=\"display: flex; background-color: Blue; padding: 15px;\" >\n",
    "\n",
    "## Exploration des données: \n",
    "</div>"
   ]
  },
  {
   "cell_type": "code",
   "execution_count": 5,
   "metadata": {
    "ExecuteTime": {
     "end_time": "2022-03-28T14:08:35.933137Z",
     "start_time": "2022-03-28T14:08:35.767619Z"
    }
   },
   "outputs": [
    {
     "name": "stdout",
     "output_type": "stream",
     "text": [
      "La version de SQLite est:  [('3.35.4',)]\n",
      "(1175, 7)\n"
     ]
    }
   ],
   "source": [
    "verbose = 1\n",
    "\n",
    "dao = NewsPaperDao(nom_bdd=curent_path+\"em_bdd.db\")\n",
    "assert dao.test_connexion()\n",
    "\n",
    "df_articles = dao.get_articles(verbose=0)\n",
    "print(df_articles.shape)"
   ]
  },
  {
   "cell_type": "code",
   "execution_count": 6,
   "metadata": {
    "ExecuteTime": {
     "end_time": "2022-03-28T14:08:35.993176Z",
     "start_time": "2022-03-28T14:08:35.941779Z"
    }
   },
   "outputs": [
    {
     "name": "stdout",
     "output_type": "stream",
     "text": [
      "(1175, 7)\n",
      "Index(['titre', 'date_parution', 'journal', 'auteur', 'tags', 'texte', 'url'], dtype='object')\n"
     ]
    },
    {
     "data": {
      "text/html": [
       "<table border=\"1\" class=\"dataframe\">\n",
       "  <thead>\n",
       "    <tr style=\"text-align: right;\">\n",
       "      <th></th>\n",
       "      <th>titre</th>\n",
       "      <th>date_parution</th>\n",
       "      <th>journal</th>\n",
       "      <th>auteur</th>\n",
       "      <th>tags</th>\n",
       "      <th>texte</th>\n",
       "      <th>url</th>\n",
       "    </tr>\n",
       "  </thead>\n",
       "  <tbody>\n",
       "    <tr>\n",
       "      <th>0</th>\n",
       "      <td>Lannion. Un cycliste renversé par une voiture en centre-ville</td>\n",
       "      <td>10 Mar 22 à 17:05</td>\n",
       "      <td>Le Trégor</td>\n",
       "      <td>Christophe Ganne</td>\n",
       "      <td>faits-divers</td>\n",
       "      <td>Jeudi 10 mars à 16 h 30, au rond point de la Poste à Lannion, en plein centre-ville, sur les quais, un cycliste a été renversé par une voiture. Légèrement blessé Le jeune cycliste, âgé de seize ans, a été légèrement blessé. Pompiers et policiers se sont rapidement rendus sur place. Le jeune homme a été pris en charge par les pompiers et transporté au centre hospitalier de Lannion.</td>\n",
       "      <td>https://actu.fr/bretagne/lannion_22113/lannion-un-cycliste-renverse-par-une-voiture-en-centre-ville_49325798.html</td>\n",
       "    </tr>\n",
       "    <tr>\n",
       "      <th>1</th>\n",
       "      <td>Perros-Guirec. Panne électrique : la mairie invite les citoyens à économiser l\\'énergie</td>\n",
       "      <td>8 Mar 22 à 10:33</td>\n",
       "      <td>Le Trégor</td>\n",
       "      <td>Christophe Ganne</td>\n",
       "      <td>societe</td>\n",
       "      <td>Suite à la panne d’électricité géante sur la côte de Granit rose,  ce week-end, de nombreuses coupures sont encore attendues jour et nuit. Les difficultés de réparation du poste de Saint-Quay-Perros vont encore durer un moment. Pas d’éclairage public Pour faire face, la mairie de Perros-Guirec va dès ce mardi soir 8 mars couper l’éclairage public. Nous avons 80 postes de répartition de l’éclairage public que nous allons couper, peut-être pas tout ce soir, mais dans les jours suivants. C’est une mesure d’économie pour ne pas trop tirer sur les installations précaires mises en place en attendant la réparation définitive. Economiser l’électricité Cette mesure publique s’accompagne aussi d’encouragements envers la population. Nous allons demander aux Perrosiens d’être vigilants sur leur consommation électrique le temps des réparations. Les élus confirment aussi les difficultés d’approvisionnement en gasoil des 124 groupes électrogènes installés dans les différentes communes de la côte de Granit rose. Les activités nautiques interdites Autre conséquence, les difficultés de fonctionnement des stations d’épuration. Les postes de relevage et de traitement ne fonctionnent pas normalement. La ville craint des débordements qui pourraient atteindre les plages. « Ce n’est pas encore le cas mais il y a des risques », explique Erven Léon. C’est pourquoi la mairie de Perros-Guirec a pris un arrêté interdisant les baignades et les activités nautiques sur les plages de Trestraou, Trestrignel et Saint-Guirec le temps d’un retour à la normale.</td>\n",
       "      <td>https://actu.fr/bretagne/perros-guirec_22168/perros-guirec-panne-electrique-la-mairie-invite-les-citoyens-a-economiser-lenergie_49242304.html</td>\n",
       "    </tr>\n",
       "    <tr>\n",
       "      <th>2</th>\n",
       "      <td>Louannec. Un gang de l\\'Est avait pillé le distributeur de billets : 5 interpellations</td>\n",
       "      <td>11 Mar 22 à 20:08</td>\n",
       "      <td>Le Trégor</td>\n",
       "      <td>Christophe Ganne</td>\n",
       "      <td>faits-divers</td>\n",
       "      <td>Les gendarmes de Perros-Guirec, Lannion, Rennes, Toulouse et le groupe de cybercriminalité de la gendarmerie ont pu interpeller les membres d’un groupe qui piratait les distributeurs il y a quelques jours. Liés à la criminalité Les membres de ce groupe sont liés à la criminalité organisée des pays de l’Est. Ils avaient dérobé 50 000 euros à Louannec. 50 000 euros à Louannec Les faits remontent à la nuit du 9 au 10 novembre 2021. A l’agence postale de Louannec, les individus percent le distributeur automatique afin de le pirater en se connectant dessus à l’aide d’un ordinateur. Une pratique connue appelée Jackpotting Le groupe repart avec 50 000 euros. Les gendarmes de Perros-Guirec et Lannion, appuyés par ceux de Rennes, mènent l’enquête. Des points communs Parallèlement, à Auch et Toulouse, des faits similaires sont relevés. Les enquêteurs mettent en commun leurs recherches et y trouvent des points communs. Le 3 février dernier, dans le sud ouest, les gendarmes de Toulouse ont interpellé 5 individus. 22 piratages pour 300 000 euros Ils ont reconnu avoir piraté 22 distributeurs de billets dans toute la France pour un montant total de 300 000 euros dont 50 000 euros à Louannec. C’est une opération énorme qui a été montée et une organisation qui a été démantelée. L’enquête se poursuit toutefois pour d’autres faits. Certains des membres du groupe sont actuellement incarcérés.</td>\n",
       "      <td>https://actu.fr/bretagne/louannec_22134/louannec-un-gang-de-lest-avait-pille-le-distributeur-de-billets-5-interpellations_49364830.html</td>\n",
       "    </tr>\n",
       "    <tr>\n",
       "      <th>3</th>\n",
       "      <td>Lannion. Une conférence et une expo sur l’hydrogène</td>\n",
       "      <td>9 Mar 22 à 12:25</td>\n",
       "      <td>Le Trégor</td>\n",
       "      <td>Rédaction Lannion</td>\n",
       "      <td>Actualité</td>\n",
       "      <td>L’association ArmorScience propose à l’IUT de Lannion une exposition et une conférence sur l’hydrogène : « Hydrogène, vers un avenir décarboné ? » Le mercredi 9 mars à 18 h 30 à l’amphi 2 aura lieu la conférence qui permettra d’inaugurer l’exposition sur ce même thème. La conférence sera présentée par Francis Nativel, d’ArmorScience, et Loïc Perrin, d’H2X Ecosystems. Transition énergétique L’hydrogène est le plus léger des gaz. Il s’inscrit dans la panoplie des solutions mises en œuvre par de nombreux pays dans le cadre des plans de transition énergétique destinés à limiter l’impact des activités humaines sur le climat. « Utilisé essentiellement dans le raffinage du pétrole et dans la chimie, l’hydrogène pourrait contribuer à décarboner les transports et certains secteurs industriels parce qu’il n’émet aucun gaz à effet de serre au moment de son utilisation. » Nous souhaitons amener au débat sur l’hydrogène, une information neutre, indépendante et accessible à un large public. Pendant deux semaines, du 9 au 25 mars, il sera possible de consulter en accès libre l’exposition qui se tiendra dans le couloir de la cafétéria de l’établissement. ArmorScience est une association ayant pour objectif la diffusion de la culture scientifique. Elle  souhaite vulgariser la culture scientifique auprès du grand public, mais « vise plus particulièrement les étudiants et les adhérents de l’association ». Lien d’inscription pour participer à la conférence : https://my.weezevent.com/conference-armorscience La conférence sera diffusée en direct sur https://us02web.zoom.us/j/89164878947/</td>\n",
       "      <td>https://actu.fr/bretagne/lannion_22113/lannion-une-conference-et-une-expo-sur-lhydrogene_49223963.html</td>\n",
       "    </tr>\n",
       "    <tr>\n",
       "      <th>4</th>\n",
       "      <td>Autour de Perros. Panne : des groupes électrogènes éteints dès ce vendredi</td>\n",
       "      <td>11 Mar 22 à 12:21</td>\n",
       "      <td>Le Trégor</td>\n",
       "      <td>Rédaction Lannion</td>\n",
       "      <td>societe</td>\n",
       "      <td>Le village vacances de la CCAS, à Trébeurden, n’a pas fermé ses portes dimanche 6 mars comme prévu. Une soixantaine de salariés d’Enedis, mobilisés sur le vaste chantier de la panne électrique du 5 mars, a été accueillie. Une bonne centaine a été logée dans les hôtels alentour. Jeudi 10 mars en soirée, ils n’étaient plus qu’une dizaine de Bretons à la CCAS, présents pour 4 jours avant que d’autres ne prennent le relais. Soutien aux collègues trégorrois Beaucoup des techniciens présents depuis dimanche sont des volontaires de la Force d’intervention rapide électricité (Fire). Quand j’ai vu le message dimanche matin sur WhatsApp, j’ai appelé mon chef et je suis parti. La Rennaise Virginie est assistante et sur cette panne, elle gère les approvisionnements en fuel (100 000 litres par jour). Aucun n’a hésité à venir soutenir ses collègues trégorrois pour amoindrir les conséquences sur la population. « On a de bons contacts avec les gens. » Des habitants manifestent leur reconnaissance en apportant du café aux équipes sur le terrain. « Jamais vu autant de moyens » « Je n’ai jamais vu autant de moyens déployés en 35 ans de carrière », assure Christian de Saint-Malo. « Mettre tout ça en place en 3 jours, c’est colossal ! On a vu des grues énormes qui peuvent déporter 5 tonnes à 20 m pour poser les générateurs dans des accès difficiles. Il y a 15 ans, on n’aurait pas eu ces moyens-là. » Des groupes débranchés dès ce vendredi « Ce vendredi on commence à éteindre progressivement les groupes électrogènes et à préparer la dépose pour la semaine prochaine », explique Jean-Pierre avant d’aller faire un footing avec Loïc. Chacun sait ce qu’il va faire le lendemain. La coordination se fait au centre Enedis de Lannion. La CCAS aussi s’est mobilisée Trois saisonniers ont été recrutés. « Les techniciens partent tôt et certains rentrent entre 20 h et 22 h. On doit attendre pour assurer le service », remarque Valérie Perrin, responsable opérationnelle des activités sociales, venue en renfort de Morgat depuis mardi. « Ce sont nos bénéficiaires. On est là pour eux et c’est grâce à eux qu’on a du travail », ajoute-t-elle. Ce n’était pas prévu mais elle devra rester un jour de plus. « Ça crée du lien, cette situation. » Ils sont contents d’être là pour rétablir l’électricité dans tous les foyers et bâtiments de la côte. « C’est la notion de service public », insiste Christian. Avec une certaine fierté d’appartenir à une grande maison comme Enedis.</td>\n",
       "      <td>https://actu.fr/bretagne/trebeurden_22343/autour-de-perros-panne-des-groupes-electrogenes-eteints-des-ce-vendredi_49345325.html</td>\n",
       "    </tr>\n",
       "  </tbody>\n",
       "</table>"
      ],
      "text/plain": [
       "<IPython.core.display.HTML object>"
      ]
     },
     "metadata": {},
     "output_type": "display_data"
    }
   ],
   "source": [
    "print(df_articles.shape)\n",
    "print(df_articles.columns)\n",
    "display(HTML(df_articles.head().to_html()))"
   ]
  },
  {
   "cell_type": "code",
   "execution_count": 7,
   "metadata": {
    "ExecuteTime": {
     "end_time": "2022-03-28T14:08:36.008510Z",
     "start_time": "2022-03-28T14:08:35.999164Z"
    }
   },
   "outputs": [],
   "source": [
    "import matplotlib.pyplot as plt"
   ]
  },
  {
   "cell_type": "code",
   "execution_count": 8,
   "metadata": {
    "ExecuteTime": {
     "end_time": "2022-03-28T14:08:36.870175Z",
     "start_time": "2022-03-28T14:08:36.022154Z"
    }
   },
   "outputs": [
    {
     "data": {
      "image/png": "[encoded data removed]",
      "text/plain": [
       "<Figure size 720x360 with 1 Axes>"
      ]
     },
     "metadata": {},
     "output_type": "display_data"
    }
   ],
   "source": [
    "figure, axes = color_graph_background(1, 1)\n",
    "\n",
    "df_articles.journal.hist()\n",
    "\n",
    "figure.set_size_inches(10, 5, forward=True)\n",
    "axes.set_ylabel(\"Nombre d'articles\")\n",
    "plt.title(\"Nombre d'articles par journal\")\n",
    "plt.xticks(rotation=45, ha=\"right\")\n",
    "plt.show()"
   ]
  },
  {
   "cell_type": "code",
   "execution_count": 9,
   "metadata": {
    "ExecuteTime": {
     "end_time": "2022-03-28T14:08:38.127936Z",
     "start_time": "2022-03-28T14:08:36.880009Z"
    }
   },
   "outputs": [],
   "source": [
    "df_articles = df_word_tokenize(df_articles, text_col_name='texte', token_col_name=\"mots_origine\", verbose=verbose)"
   ]
  },
  {
   "cell_type": "code",
   "execution_count": 10,
   "metadata": {
    "ExecuteTime": {
     "end_time": "2022-03-28T14:08:38.468612Z",
     "start_time": "2022-03-28T14:08:38.132778Z"
    }
   },
   "outputs": [],
   "source": [
    "df_articles[\"nb_mots_origine\"] = df_articles['texte'].apply(lambda x: word_count_func(x))"
   ]
  },
  {
   "cell_type": "code",
   "execution_count": 11,
   "metadata": {
    "ExecuteTime": {
     "end_time": "2022-03-28T14:08:38.562255Z",
     "start_time": "2022-03-28T14:08:38.480405Z"
    }
   },
   "outputs": [
    {
     "data": {
      "text/html": [
       "<div>\n",
       "<style scoped>\n",
       "    .dataframe tbody tr th:only-of-type {\n",
       "        vertical-align: middle;\n",
       "    }\n",
       "\n",
       "    .dataframe tbody tr th {\n",
       "        vertical-align: top;\n",
       "    }\n",
       "\n",
       "    .dataframe thead tr th {\n",
       "        text-align: left;\n",
       "    }\n",
       "</style>\n",
       "<table border=\"1\" class=\"dataframe\">\n",
       "  <thead>\n",
       "    <tr>\n",
       "      <th></th>\n",
       "      <th>journal</th>\n",
       "      <th>nb_mots_origine</th>\n",
       "    </tr>\n",
       "    <tr>\n",
       "      <th></th>\n",
       "      <th></th>\n",
       "      <th>mean</th>\n",
       "    </tr>\n",
       "  </thead>\n",
       "  <tbody>\n",
       "    <tr>\n",
       "      <th>0</th>\n",
       "      <td>30 M. d\\'amis</td>\n",
       "      <td>1315.494340</td>\n",
       "    </tr>\n",
       "    <tr>\n",
       "      <th>1</th>\n",
       "      <td>ActuGaming</td>\n",
       "      <td>321.342000</td>\n",
       "    </tr>\n",
       "    <tr>\n",
       "      <th>2</th>\n",
       "      <td>Le Trégor</td>\n",
       "      <td>297.462069</td>\n",
       "    </tr>\n",
       "  </tbody>\n",
       "</table>\n",
       "</div>"
      ],
      "text/plain": [
       "         journal nb_mots_origine\n",
       "                            mean\n",
       "0  30 M. d\\'amis     1315.494340\n",
       "1     ActuGaming      321.342000\n",
       "2      Le Trégor      297.462069"
      ]
     },
     "execution_count": 11,
     "metadata": {},
     "output_type": "execute_result"
    }
   ],
   "source": [
    "group = df_articles.groupby([\"journal\"], as_index=True).agg({'nb_mots_origine':['mean']})\n",
    "group = group.reset_index()\n",
    "group\n"
   ]
  },
  {
   "cell_type": "code",
   "execution_count": 12,
   "metadata": {
    "ExecuteTime": {
     "end_time": "2022-03-28T14:08:38.593719Z",
     "start_time": "2022-03-28T14:08:38.567791Z"
    }
   },
   "outputs": [
    {
     "data": {
      "text/plain": [
       "Index(['titre', 'date_parution', 'journal', 'auteur', 'tags', 'texte', 'url',\n",
       "       'mots_origine', 'nb_mots_origine'],\n",
       "      dtype='object')"
      ]
     },
     "execution_count": 12,
     "metadata": {},
     "output_type": "execute_result"
    }
   ],
   "source": [
    "df_articles.columns"
   ]
  },
  {
   "cell_type": "code",
   "execution_count": 13,
   "metadata": {
    "ExecuteTime": {
     "end_time": "2022-03-28T14:08:38.701499Z",
     "start_time": "2022-03-28T14:08:38.601278Z"
    }
   },
   "outputs": [
    {
     "data": {
      "text/html": [
       "<div>\n",
       "<style scoped>\n",
       "    .dataframe tbody tr th:only-of-type {\n",
       "        vertical-align: middle;\n",
       "    }\n",
       "\n",
       "    .dataframe tbody tr th {\n",
       "        vertical-align: top;\n",
       "    }\n",
       "\n",
       "    .dataframe thead th {\n",
       "        text-align: right;\n",
       "    }\n",
       "</style>\n",
       "<table border=\"1\" class=\"dataframe\">\n",
       "  <thead>\n",
       "    <tr style=\"text-align: right;\">\n",
       "      <th></th>\n",
       "      <th>titre</th>\n",
       "      <th>date_parution</th>\n",
       "      <th>journal</th>\n",
       "      <th>auteur</th>\n",
       "      <th>tags</th>\n",
       "      <th>texte</th>\n",
       "      <th>url</th>\n",
       "      <th>mots_origine</th>\n",
       "      <th>nb_mots_origine</th>\n",
       "      <th>tranche_nb_origin</th>\n",
       "    </tr>\n",
       "  </thead>\n",
       "  <tbody>\n",
       "    <tr>\n",
       "      <th>0</th>\n",
       "      <td>Lannion. Un cycliste renversé par une voiture ...</td>\n",
       "      <td>10 Mar 22 à 17:05</td>\n",
       "      <td>Le Trégor</td>\n",
       "      <td>Christophe Ganne</td>\n",
       "      <td>faits-divers</td>\n",
       "      <td>Jeudi 10 mars à 16 h 30, au rond point de la P...</td>\n",
       "      <td>https://actu.fr/bretagne/lannion_22113/lannion...</td>\n",
       "      <td>[jeudi, 10, mars, à, 16, h, 30, au, rond, poin...</td>\n",
       "      <td>69</td>\n",
       "      <td>(0.0, 99.0]</td>\n",
       "    </tr>\n",
       "    <tr>\n",
       "      <th>1</th>\n",
       "      <td>Perros-Guirec. Panne électrique : la mairie in...</td>\n",
       "      <td>8 Mar 22 à 10:33</td>\n",
       "      <td>Le Trégor</td>\n",
       "      <td>Christophe Ganne</td>\n",
       "      <td>societe</td>\n",
       "      <td>Suite à la panne d’électricité géante sur la c...</td>\n",
       "      <td>https://actu.fr/bretagne/perros-guirec_22168/p...</td>\n",
       "      <td>[suite, à, la, panne, d, électricité, géante, ...</td>\n",
       "      <td>233</td>\n",
       "      <td>(200.0, 299.0]</td>\n",
       "    </tr>\n",
       "    <tr>\n",
       "      <th>2</th>\n",
       "      <td>Louannec. Un gang de l\\'Est avait pillé le dis...</td>\n",
       "      <td>11 Mar 22 à 20:08</td>\n",
       "      <td>Le Trégor</td>\n",
       "      <td>Christophe Ganne</td>\n",
       "      <td>faits-divers</td>\n",
       "      <td>Les gendarmes de Perros-Guirec, Lannion, Renne...</td>\n",
       "      <td>https://actu.fr/bretagne/louannec_22134/louann...</td>\n",
       "      <td>[les, gendarmes, de, perros, guirec, lannion, ...</td>\n",
       "      <td>228</td>\n",
       "      <td>(200.0, 299.0]</td>\n",
       "    </tr>\n",
       "    <tr>\n",
       "      <th>3</th>\n",
       "      <td>Lannion. Une conférence et une expo sur l’hydr...</td>\n",
       "      <td>9 Mar 22 à 12:25</td>\n",
       "      <td>Le Trégor</td>\n",
       "      <td>Rédaction Lannion</td>\n",
       "      <td>Actualité</td>\n",
       "      <td>L’association ArmorScience propose à l’IUT de ...</td>\n",
       "      <td>https://actu.fr/bretagne/lannion_22113/lannion...</td>\n",
       "      <td>[l, association, armorscience, propose, à, l, ...</td>\n",
       "      <td>236</td>\n",
       "      <td>(200.0, 299.0]</td>\n",
       "    </tr>\n",
       "    <tr>\n",
       "      <th>4</th>\n",
       "      <td>Autour de Perros. Panne : des groupes électrog...</td>\n",
       "      <td>11 Mar 22 à 12:21</td>\n",
       "      <td>Le Trégor</td>\n",
       "      <td>Rédaction Lannion</td>\n",
       "      <td>societe</td>\n",
       "      <td>Le village vacances de la CCAS, à Trébeurden, ...</td>\n",
       "      <td>https://actu.fr/bretagne/trebeurden_22343/auto...</td>\n",
       "      <td>[le, village, vacances, de, la, ccas, à, trébe...</td>\n",
       "      <td>422</td>\n",
       "      <td>NaN</td>\n",
       "    </tr>\n",
       "  </tbody>\n",
       "</table>\n",
       "</div>"
      ],
      "text/plain": [
       "                                               titre      date_parution  \\\n",
       "0  Lannion. Un cycliste renversé par une voiture ...  10 Mar 22 à 17:05   \n",
       "1  Perros-Guirec. Panne électrique : la mairie in...   8 Mar 22 à 10:33   \n",
       "2  Louannec. Un gang de l\\'Est avait pillé le dis...  11 Mar 22 à 20:08   \n",
       "3  Lannion. Une conférence et une expo sur l’hydr...   9 Mar 22 à 12:25   \n",
       "4  Autour de Perros. Panne : des groupes électrog...  11 Mar 22 à 12:21   \n",
       "\n",
       "     journal             auteur          tags  \\\n",
       "0  Le Trégor   Christophe Ganne  faits-divers   \n",
       "1  Le Trégor   Christophe Ganne       societe   \n",
       "2  Le Trégor   Christophe Ganne  faits-divers   \n",
       "3  Le Trégor  Rédaction Lannion     Actualité   \n",
       "4  Le Trégor  Rédaction Lannion       societe   \n",
       "\n",
       "                                               texte  \\\n",
       "0  Jeudi 10 mars à 16 h 30, au rond point de la P...   \n",
       "1  Suite à la panne d’électricité géante sur la c...   \n",
       "2  Les gendarmes de Perros-Guirec, Lannion, Renne...   \n",
       "3  L’association ArmorScience propose à l’IUT de ...   \n",
       "4  Le village vacances de la CCAS, à Trébeurden, ...   \n",
       "\n",
       "                                                 url  \\\n",
       "0  https://actu.fr/bretagne/lannion_22113/lannion...   \n",
       "1  https://actu.fr/bretagne/perros-guirec_22168/p...   \n",
       "2  https://actu.fr/bretagne/louannec_22134/louann...   \n",
       "3  https://actu.fr/bretagne/lannion_22113/lannion...   \n",
       "4  https://actu.fr/bretagne/trebeurden_22343/auto...   \n",
       "\n",
       "                                        mots_origine  nb_mots_origine  \\\n",
       "0  [jeudi, 10, mars, à, 16, h, 30, au, rond, poin...               69   \n",
       "1  [suite, à, la, panne, d, électricité, géante, ...              233   \n",
       "2  [les, gendarmes, de, perros, guirec, lannion, ...              228   \n",
       "3  [l, association, armorscience, propose, à, l, ...              236   \n",
       "4  [le, village, vacances, de, la, ccas, à, trébe...              422   \n",
       "\n",
       "  tranche_nb_origin  \n",
       "0       (0.0, 99.0]  \n",
       "1    (200.0, 299.0]  \n",
       "2    (200.0, 299.0]  \n",
       "3    (200.0, 299.0]  \n",
       "4               NaN  "
      ]
     },
     "execution_count": 13,
     "metadata": {},
     "output_type": "execute_result"
    }
   ],
   "source": [
    "list_tuple = [(i, i+299) for i in range (600, 3300, 300)]\n",
    "list_tuple.insert(0, (200, 299))\n",
    "list_tuple.insert(0, (100, 199))\n",
    "list_tuple.insert(0, (0, 99))\n",
    "list_tuple.append((3300, 100000))\n",
    "bins = pd.IntervalIndex.from_tuples(list_tuple)\n",
    "df_articles[\"tranche_nb_origin\"] = pd.cut(df_articles['nb_mots_origine'], bins)\n",
    "df_articles.head()"
   ]
  },
  {
   "cell_type": "code",
   "execution_count": 14,
   "metadata": {
    "ExecuteTime": {
     "end_time": "2022-03-28T14:08:38.826716Z",
     "start_time": "2022-03-28T14:08:38.710316Z"
    }
   },
   "outputs": [
    {
     "data": {
      "text/html": [
       "<div>\n",
       "<style scoped>\n",
       "    .dataframe tbody tr th:only-of-type {\n",
       "        vertical-align: middle;\n",
       "    }\n",
       "\n",
       "    .dataframe tbody tr th {\n",
       "        vertical-align: top;\n",
       "    }\n",
       "\n",
       "    .dataframe thead th {\n",
       "        text-align: right;\n",
       "    }\n",
       "</style>\n",
       "<table border=\"1\" class=\"dataframe\">\n",
       "  <thead>\n",
       "    <tr style=\"text-align: right;\">\n",
       "      <th>journal</th>\n",
       "      <th>30 M. d\\'amis</th>\n",
       "      <th>ActuGaming</th>\n",
       "      <th>Le Trégor</th>\n",
       "    </tr>\n",
       "    <tr>\n",
       "      <th>tranche_nb_origin</th>\n",
       "      <th></th>\n",
       "      <th></th>\n",
       "      <th></th>\n",
       "    </tr>\n",
       "  </thead>\n",
       "  <tbody>\n",
       "    <tr>\n",
       "      <th>(0, 99]</th>\n",
       "      <td>0</td>\n",
       "      <td>14</td>\n",
       "      <td>7</td>\n",
       "    </tr>\n",
       "    <tr>\n",
       "      <th>(100, 199]</th>\n",
       "      <td>0</td>\n",
       "      <td>96</td>\n",
       "      <td>42</td>\n",
       "    </tr>\n",
       "    <tr>\n",
       "      <th>(200, 299]</th>\n",
       "      <td>5</td>\n",
       "      <td>231</td>\n",
       "      <td>46</td>\n",
       "    </tr>\n",
       "    <tr>\n",
       "      <th>(600, 899]</th>\n",
       "      <td>83</td>\n",
       "      <td>11</td>\n",
       "      <td>11</td>\n",
       "    </tr>\n",
       "    <tr>\n",
       "      <th>(900, 1199]</th>\n",
       "      <td>97</td>\n",
       "      <td>11</td>\n",
       "      <td>0</td>\n",
       "    </tr>\n",
       "  </tbody>\n",
       "</table>\n",
       "</div>"
      ],
      "text/plain": [
       "journal            30 M. d\\'amis  ActuGaming  Le Trégor\n",
       "tranche_nb_origin                                      \n",
       "(0, 99]                        0          14          7\n",
       "(100, 199]                     0          96         42\n",
       "(200, 299]                     5         231         46\n",
       "(600, 899]                    83          11         11\n",
       "(900, 1199]                   97          11          0"
      ]
     },
     "execution_count": 14,
     "metadata": {},
     "output_type": "execute_result"
    }
   ],
   "source": [
    "group_nb_mots_art = df_articles.groupby([\"journal\", \"tranche_nb_origin\" ])[\"titre\"].count().unstack(\"journal\").fillna(0)\n",
    "group_nb_mots_art.head()"
   ]
  },
  {
   "cell_type": "code",
   "execution_count": 15,
   "metadata": {
    "ExecuteTime": {
     "end_time": "2022-03-28T14:08:39.859030Z",
     "start_time": "2022-03-28T14:08:38.833527Z"
    }
   },
   "outputs": [
    {
     "data": {
      "image/png": "[encoded data removed]",
      "text/plain": [
       "<Figure size 1152x576 with 1 Axes>"
      ]
     },
     "metadata": {},
     "output_type": "display_data"
    }
   ],
   "source": [
    "figure, axe = color_graph_background(1,1)\n",
    "\n",
    "# Affichage d'articles par journal\n",
    "group_nb_mots_art.plot(kind='bar', ax=axe)\n",
    "axe.set_ylabel(\"Nombre d'articles\")\n",
    "axe.grid(axis='y')\n",
    "\n",
    "figure.set_size_inches(16, 8, forward=True)\n",
    "figure.suptitle(\"Nombre d'articles par tranche de mots\", fontsize=16)\n",
    "plt.xticks(rotation=45, ha=\"right\")\n",
    "plt.show()"
   ]
  },
  {
   "cell_type": "code",
   "execution_count": 16,
   "metadata": {
    "ExecuteTime": {
     "end_time": "2022-03-28T14:08:39.920431Z",
     "start_time": "2022-03-28T14:08:39.865075Z"
    }
   },
   "outputs": [
    {
     "data": {
      "text/html": [
       "<div>\n",
       "<style scoped>\n",
       "    .dataframe tbody tr th:only-of-type {\n",
       "        vertical-align: middle;\n",
       "    }\n",
       "\n",
       "    .dataframe tbody tr th {\n",
       "        vertical-align: top;\n",
       "    }\n",
       "\n",
       "    .dataframe thead th {\n",
       "        text-align: right;\n",
       "    }\n",
       "</style>\n",
       "<table border=\"1\" class=\"dataframe\">\n",
       "  <thead>\n",
       "    <tr style=\"text-align: right;\">\n",
       "      <th></th>\n",
       "      <th>nb_mots_origine</th>\n",
       "    </tr>\n",
       "  </thead>\n",
       "  <tbody>\n",
       "    <tr>\n",
       "      <th>count</th>\n",
       "      <td>1175.000000</td>\n",
       "    </tr>\n",
       "    <tr>\n",
       "      <th>mean</th>\n",
       "      <td>766.821277</td>\n",
       "    </tr>\n",
       "    <tr>\n",
       "      <th>std</th>\n",
       "      <td>799.121700</td>\n",
       "    </tr>\n",
       "    <tr>\n",
       "      <th>min</th>\n",
       "      <td>60.000000</td>\n",
       "    </tr>\n",
       "    <tr>\n",
       "      <th>25%</th>\n",
       "      <td>240.000000</td>\n",
       "    </tr>\n",
       "    <tr>\n",
       "      <th>50%</th>\n",
       "      <td>416.000000</td>\n",
       "    </tr>\n",
       "    <tr>\n",
       "      <th>75%</th>\n",
       "      <td>1045.000000</td>\n",
       "    </tr>\n",
       "    <tr>\n",
       "      <th>max</th>\n",
       "      <td>6930.000000</td>\n",
       "    </tr>\n",
       "  </tbody>\n",
       "</table>\n",
       "</div>"
      ],
      "text/plain": [
       "       nb_mots_origine\n",
       "count      1175.000000\n",
       "mean        766.821277\n",
       "std         799.121700\n",
       "min          60.000000\n",
       "25%         240.000000\n",
       "50%         416.000000\n",
       "75%        1045.000000\n",
       "max        6930.000000"
      ]
     },
     "execution_count": 16,
     "metadata": {},
     "output_type": "execute_result"
    }
   ],
   "source": [
    "df_articles.describe()"
   ]
  },
  {
   "cell_type": "code",
   "execution_count": 17,
   "metadata": {
    "ExecuteTime": {
     "end_time": "2022-03-28T14:08:39.996914Z",
     "start_time": "2022-03-28T14:08:39.927408Z"
    }
   },
   "outputs": [
    {
     "data": {
      "text/html": [
       "<div>\n",
       "<style scoped>\n",
       "    .dataframe tbody tr th:only-of-type {\n",
       "        vertical-align: middle;\n",
       "    }\n",
       "\n",
       "    .dataframe tbody tr th {\n",
       "        vertical-align: top;\n",
       "    }\n",
       "\n",
       "    .dataframe thead th {\n",
       "        text-align: right;\n",
       "    }\n",
       "</style>\n",
       "<table border=\"1\" class=\"dataframe\">\n",
       "  <thead>\n",
       "    <tr style=\"text-align: right;\">\n",
       "      <th></th>\n",
       "      <th>titre</th>\n",
       "      <th>date_parution</th>\n",
       "      <th>journal</th>\n",
       "      <th>auteur</th>\n",
       "      <th>tags</th>\n",
       "      <th>texte</th>\n",
       "      <th>url</th>\n",
       "      <th>mots_origine</th>\n",
       "      <th>nb_mots_origine</th>\n",
       "      <th>tranche_nb_origin</th>\n",
       "    </tr>\n",
       "  </thead>\n",
       "  <tbody>\n",
       "    <tr>\n",
       "      <th>0</th>\n",
       "      <td>Lannion. Un cycliste renversé par une voiture ...</td>\n",
       "      <td>10 Mar 22 à 17:05</td>\n",
       "      <td>Le Trégor</td>\n",
       "      <td>Christophe Ganne</td>\n",
       "      <td>faits-divers</td>\n",
       "      <td>Jeudi 10 mars à 16 h 30, au rond point de la P...</td>\n",
       "      <td>https://actu.fr/bretagne/lannion_22113/lannion...</td>\n",
       "      <td>[jeudi, 10, mars, à, 16, h, 30, au, rond, poin...</td>\n",
       "      <td>69</td>\n",
       "      <td>(0.0, 99.0]</td>\n",
       "    </tr>\n",
       "    <tr>\n",
       "      <th>1</th>\n",
       "      <td>Perros-Guirec. Panne électrique : la mairie in...</td>\n",
       "      <td>8 Mar 22 à 10:33</td>\n",
       "      <td>Le Trégor</td>\n",
       "      <td>Christophe Ganne</td>\n",
       "      <td>societe</td>\n",
       "      <td>Suite à la panne d’électricité géante sur la c...</td>\n",
       "      <td>https://actu.fr/bretagne/perros-guirec_22168/p...</td>\n",
       "      <td>[suite, à, la, panne, d, électricité, géante, ...</td>\n",
       "      <td>233</td>\n",
       "      <td>(200.0, 299.0]</td>\n",
       "    </tr>\n",
       "    <tr>\n",
       "      <th>2</th>\n",
       "      <td>Louannec. Un gang de l\\'Est avait pillé le dis...</td>\n",
       "      <td>11 Mar 22 à 20:08</td>\n",
       "      <td>Le Trégor</td>\n",
       "      <td>Christophe Ganne</td>\n",
       "      <td>faits-divers</td>\n",
       "      <td>Les gendarmes de Perros-Guirec, Lannion, Renne...</td>\n",
       "      <td>https://actu.fr/bretagne/louannec_22134/louann...</td>\n",
       "      <td>[les, gendarmes, de, perros, guirec, lannion, ...</td>\n",
       "      <td>228</td>\n",
       "      <td>(200.0, 299.0]</td>\n",
       "    </tr>\n",
       "    <tr>\n",
       "      <th>3</th>\n",
       "      <td>Lannion. Une conférence et une expo sur l’hydr...</td>\n",
       "      <td>9 Mar 22 à 12:25</td>\n",
       "      <td>Le Trégor</td>\n",
       "      <td>Rédaction Lannion</td>\n",
       "      <td>Actualité</td>\n",
       "      <td>L’association ArmorScience propose à l’IUT de ...</td>\n",
       "      <td>https://actu.fr/bretagne/lannion_22113/lannion...</td>\n",
       "      <td>[l, association, armorscience, propose, à, l, ...</td>\n",
       "      <td>236</td>\n",
       "      <td>(200.0, 299.0]</td>\n",
       "    </tr>\n",
       "    <tr>\n",
       "      <th>4</th>\n",
       "      <td>Autour de Perros. Panne : des groupes électrog...</td>\n",
       "      <td>11 Mar 22 à 12:21</td>\n",
       "      <td>Le Trégor</td>\n",
       "      <td>Rédaction Lannion</td>\n",
       "      <td>societe</td>\n",
       "      <td>Le village vacances de la CCAS, à Trébeurden, ...</td>\n",
       "      <td>https://actu.fr/bretagne/trebeurden_22343/auto...</td>\n",
       "      <td>[le, village, vacances, de, la, ccas, à, trébe...</td>\n",
       "      <td>422</td>\n",
       "      <td>NaN</td>\n",
       "    </tr>\n",
       "  </tbody>\n",
       "</table>\n",
       "</div>"
      ],
      "text/plain": [
       "                                               titre      date_parution  \\\n",
       "0  Lannion. Un cycliste renversé par une voiture ...  10 Mar 22 à 17:05   \n",
       "1  Perros-Guirec. Panne électrique : la mairie in...   8 Mar 22 à 10:33   \n",
       "2  Louannec. Un gang de l\\'Est avait pillé le dis...  11 Mar 22 à 20:08   \n",
       "3  Lannion. Une conférence et une expo sur l’hydr...   9 Mar 22 à 12:25   \n",
       "4  Autour de Perros. Panne : des groupes électrog...  11 Mar 22 à 12:21   \n",
       "\n",
       "     journal             auteur          tags  \\\n",
       "0  Le Trégor   Christophe Ganne  faits-divers   \n",
       "1  Le Trégor   Christophe Ganne       societe   \n",
       "2  Le Trégor   Christophe Ganne  faits-divers   \n",
       "3  Le Trégor  Rédaction Lannion     Actualité   \n",
       "4  Le Trégor  Rédaction Lannion       societe   \n",
       "\n",
       "                                               texte  \\\n",
       "0  Jeudi 10 mars à 16 h 30, au rond point de la P...   \n",
       "1  Suite à la panne d’électricité géante sur la c...   \n",
       "2  Les gendarmes de Perros-Guirec, Lannion, Renne...   \n",
       "3  L’association ArmorScience propose à l’IUT de ...   \n",
       "4  Le village vacances de la CCAS, à Trébeurden, ...   \n",
       "\n",
       "                                                 url  \\\n",
       "0  https://actu.fr/bretagne/lannion_22113/lannion...   \n",
       "1  https://actu.fr/bretagne/perros-guirec_22168/p...   \n",
       "2  https://actu.fr/bretagne/louannec_22134/louann...   \n",
       "3  https://actu.fr/bretagne/lannion_22113/lannion...   \n",
       "4  https://actu.fr/bretagne/trebeurden_22343/auto...   \n",
       "\n",
       "                                        mots_origine  nb_mots_origine  \\\n",
       "0  [jeudi, 10, mars, à, 16, h, 30, au, rond, poin...               69   \n",
       "1  [suite, à, la, panne, d, électricité, géante, ...              233   \n",
       "2  [les, gendarmes, de, perros, guirec, lannion, ...              228   \n",
       "3  [l, association, armorscience, propose, à, l, ...              236   \n",
       "4  [le, village, vacances, de, la, ccas, à, trébe...              422   \n",
       "\n",
       "  tranche_nb_origin  \n",
       "0       (0.0, 99.0]  \n",
       "1    (200.0, 299.0]  \n",
       "2    (200.0, 299.0]  \n",
       "3    (200.0, 299.0]  \n",
       "4               NaN  "
      ]
     },
     "execution_count": 17,
     "metadata": {},
     "output_type": "execute_result"
    }
   ],
   "source": [
    "df_articles.head()"
   ]
  },
  {
   "cell_type": "code",
   "execution_count": 18,
   "metadata": {
    "ExecuteTime": {
     "end_time": "2022-03-28T14:08:40.028861Z",
     "start_time": "2022-03-28T14:08:40.004851Z"
    }
   },
   "outputs": [
    {
     "data": {
      "text/plain": [
       "Index(['titre', 'date_parution', 'journal', 'auteur', 'tags', 'texte', 'url',\n",
       "       'mots_origine', 'nb_mots_origine', 'tranche_nb_origin'],\n",
       "      dtype='object')"
      ]
     },
     "execution_count": 18,
     "metadata": {},
     "output_type": "execute_result"
    }
   ],
   "source": [
    "df_articles.columns"
   ]
  },
  {
   "cell_type": "code",
   "execution_count": null,
   "metadata": {},
   "outputs": [],
   "source": []
  },
  {
   "cell_type": "markdown",
   "metadata": {},
   "source": [
    "<div style=\"display: flex; background-color: Blue; padding: 15px;\" >\n",
    "\n",
    "## NLP Preprocessing\n",
    "</div>"
   ]
  },
  {
   "cell_type": "code",
   "execution_count": 19,
   "metadata": {
    "ExecuteTime": {
     "end_time": "2022-03-28T14:08:40.075864Z",
     "start_time": "2022-03-28T14:08:40.034926Z"
    }
   },
   "outputs": [
    {
     "data": {
      "text/plain": [
       "175"
      ]
     },
     "execution_count": 19,
     "metadata": {},
     "output_type": "execute_result"
    }
   ],
   "source": [
    "personnal_stop_word = [\"tout\", \"tous\", \"cette\", \"bien\", \"comme\", \"encore\", \"autre\", \"bien\", \"tres\", \"alors\", \"plus\", \"aussi\", \"si\", \"donc\", \"p\", \"h\", \"etre\", \"ans\"]\n",
    "if personnal_stop_word is None:\n",
    "    personnal_stop_word = stopwords.words(\"french\")\n",
    "else :\n",
    "    personnal_stop_word.extend(stopwords.words(\"french\"))\n",
    "len(personnal_stop_word)"
   ]
  },
  {
   "cell_type": "code",
   "execution_count": 20,
   "metadata": {
    "ExecuteTime": {
     "end_time": "2022-03-28T14:08:40.340963Z",
     "start_time": "2022-03-28T14:08:40.082076Z"
    }
   },
   "outputs": [
    {
     "name": "stderr",
     "output_type": "stream",
     "text": [
      "[nltk_data] Downloading package wordnet to\n",
      "[nltk_data]     C:\\Users\\utilisateur\\AppData\\Roaming\\nltk_data...\n",
      "[nltk_data]   Package wordnet is already up-to-date!\n"
     ]
    }
   ],
   "source": [
    "nltk.download(\"wordnet\")\n",
    "from nltk.stem import WordNetLemmatizer"
   ]
  },
  {
   "cell_type": "code",
   "execution_count": 21,
   "metadata": {
    "ExecuteTime": {
     "end_time": "2022-03-28T14:08:40.371722Z",
     "start_time": "2022-03-28T14:08:40.347985Z"
    }
   },
   "outputs": [],
   "source": [
    "lemmatizer = WordNetLemmatizer()"
   ]
  },
  {
   "cell_type": "code",
   "execution_count": 22,
   "metadata": {
    "ExecuteTime": {
     "end_time": "2022-03-28T14:08:40.387679Z",
     "start_time": "2022-03-28T14:08:40.377709Z"
    }
   },
   "outputs": [],
   "source": [
    "#pip install --user spacy-lefff"
   ]
  },
  {
   "cell_type": "code",
   "execution_count": null,
   "metadata": {
    "ExecuteTime": {
     "end_time": "2022-03-28T13:45:47.788588Z",
     "start_time": "2022-03-28T13:45:47.760627Z"
    }
   },
   "outputs": [],
   "source": []
  },
  {
   "cell_type": "code",
   "execution_count": 23,
   "metadata": {
    "ExecuteTime": {
     "end_time": "2022-03-28T14:08:44.991997Z",
     "start_time": "2022-03-28T14:08:40.406630Z"
    }
   },
   "outputs": [
    {
     "ename": "OSError",
     "evalue": "[E050] Can't find model 'fr_core_news_sm'. It doesn't seem to be a Python package or a valid path to a data directory.",
     "output_type": "error",
     "traceback": [
      "\u001b[1;31m---------------------------------------------------------------------------\u001b[0m",
      "\u001b[1;31mOSError\u001b[0m                                   Traceback (most recent call last)",
      "\u001b[1;32m<ipython-input-23-b27b8401fabf>\u001b[0m in \u001b[0;36m<module>\u001b[1;34m\u001b[0m\n\u001b[0;32m      2\u001b[0m \u001b[1;32mfrom\u001b[0m \u001b[0mspacy_lefff\u001b[0m \u001b[1;32mimport\u001b[0m \u001b[0mLefffLemmatizer\u001b[0m\u001b[1;33m,\u001b[0m \u001b[0mPOSTagger\u001b[0m\u001b[1;33m\u001b[0m\u001b[1;33m\u001b[0m\u001b[0m\n\u001b[0;32m      3\u001b[0m \u001b[1;33m\u001b[0m\u001b[0m\n\u001b[1;32m----> 4\u001b[1;33m \u001b[0mnlp\u001b[0m \u001b[1;33m=\u001b[0m \u001b[0mspacy\u001b[0m\u001b[1;33m.\u001b[0m\u001b[0mload\u001b[0m\u001b[1;33m(\u001b[0m\u001b[1;34m\"fr_core_news_sm\"\u001b[0m\u001b[1;33m)\u001b[0m\u001b[1;33m\u001b[0m\u001b[1;33m\u001b[0m\u001b[0m\n\u001b[0m\u001b[0;32m      5\u001b[0m \u001b[0mpos\u001b[0m \u001b[1;33m=\u001b[0m \u001b[0mPOSTagger\u001b[0m\u001b[1;33m(\u001b[0m\u001b[1;33m)\u001b[0m\u001b[1;33m\u001b[0m\u001b[1;33m\u001b[0m\u001b[0m\n\u001b[0;32m      6\u001b[0m \u001b[0mfrench_lemmatizer\u001b[0m \u001b[1;33m=\u001b[0m \u001b[0mLefffLemmatizer\u001b[0m\u001b[1;33m(\u001b[0m\u001b[0mafter_melt\u001b[0m\u001b[1;33m=\u001b[0m\u001b[1;32mTrue\u001b[0m\u001b[1;33m)\u001b[0m\u001b[1;33m\u001b[0m\u001b[1;33m\u001b[0m\u001b[0m\n",
      "\u001b[1;32m~\\AppData\\Roaming\\Python\\Python38\\site-packages\\spacy\\__init__.py\u001b[0m in \u001b[0;36mload\u001b[1;34m(name, disable, exclude, config)\u001b[0m\n\u001b[0;32m     45\u001b[0m     \u001b[0mRETURNS\u001b[0m \u001b[1;33m(\u001b[0m\u001b[0mLanguage\u001b[0m\u001b[1;33m)\u001b[0m\u001b[1;33m:\u001b[0m \u001b[0mThe\u001b[0m \u001b[0mloaded\u001b[0m \u001b[0mnlp\u001b[0m \u001b[0mobject\u001b[0m\u001b[1;33m.\u001b[0m\u001b[1;33m\u001b[0m\u001b[1;33m\u001b[0m\u001b[0m\n\u001b[0;32m     46\u001b[0m     \"\"\"\n\u001b[1;32m---> 47\u001b[1;33m     \u001b[1;32mreturn\u001b[0m \u001b[0mutil\u001b[0m\u001b[1;33m.\u001b[0m\u001b[0mload_model\u001b[0m\u001b[1;33m(\u001b[0m\u001b[0mname\u001b[0m\u001b[1;33m,\u001b[0m \u001b[0mdisable\u001b[0m\u001b[1;33m=\u001b[0m\u001b[0mdisable\u001b[0m\u001b[1;33m,\u001b[0m \u001b[0mexclude\u001b[0m\u001b[1;33m=\u001b[0m\u001b[0mexclude\u001b[0m\u001b[1;33m,\u001b[0m \u001b[0mconfig\u001b[0m\u001b[1;33m=\u001b[0m\u001b[0mconfig\u001b[0m\u001b[1;33m)\u001b[0m\u001b[1;33m\u001b[0m\u001b[1;33m\u001b[0m\u001b[0m\n\u001b[0m\u001b[0;32m     48\u001b[0m \u001b[1;33m\u001b[0m\u001b[0m\n\u001b[0;32m     49\u001b[0m \u001b[1;33m\u001b[0m\u001b[0m\n",
      "\u001b[1;32m~\\AppData\\Roaming\\Python\\Python38\\site-packages\\spacy\\util.py\u001b[0m in \u001b[0;36mload_model\u001b[1;34m(name, vocab, disable, exclude, config)\u001b[0m\n\u001b[0;32m    327\u001b[0m     \u001b[1;32mif\u001b[0m \u001b[0mname\u001b[0m \u001b[1;32min\u001b[0m \u001b[0mOLD_MODEL_SHORTCUTS\u001b[0m\u001b[1;33m:\u001b[0m\u001b[1;33m\u001b[0m\u001b[1;33m\u001b[0m\u001b[0m\n\u001b[0;32m    328\u001b[0m         \u001b[1;32mraise\u001b[0m \u001b[0mIOError\u001b[0m\u001b[1;33m(\u001b[0m\u001b[0mErrors\u001b[0m\u001b[1;33m.\u001b[0m\u001b[0mE941\u001b[0m\u001b[1;33m.\u001b[0m\u001b[0mformat\u001b[0m\u001b[1;33m(\u001b[0m\u001b[0mname\u001b[0m\u001b[1;33m=\u001b[0m\u001b[0mname\u001b[0m\u001b[1;33m,\u001b[0m \u001b[0mfull\u001b[0m\u001b[1;33m=\u001b[0m\u001b[0mOLD_MODEL_SHORTCUTS\u001b[0m\u001b[1;33m[\u001b[0m\u001b[0mname\u001b[0m\u001b[1;33m]\u001b[0m\u001b[1;33m)\u001b[0m\u001b[1;33m)\u001b[0m\u001b[1;33m\u001b[0m\u001b[1;33m\u001b[0m\u001b[0m\n\u001b[1;32m--> 329\u001b[1;33m     \u001b[1;32mraise\u001b[0m \u001b[0mIOError\u001b[0m\u001b[1;33m(\u001b[0m\u001b[0mErrors\u001b[0m\u001b[1;33m.\u001b[0m\u001b[0mE050\u001b[0m\u001b[1;33m.\u001b[0m\u001b[0mformat\u001b[0m\u001b[1;33m(\u001b[0m\u001b[0mname\u001b[0m\u001b[1;33m=\u001b[0m\u001b[0mname\u001b[0m\u001b[1;33m)\u001b[0m\u001b[1;33m)\u001b[0m\u001b[1;33m\u001b[0m\u001b[1;33m\u001b[0m\u001b[0m\n\u001b[0m\u001b[0;32m    330\u001b[0m \u001b[1;33m\u001b[0m\u001b[0m\n\u001b[0;32m    331\u001b[0m \u001b[1;33m\u001b[0m\u001b[0m\n",
      "\u001b[1;31mOSError\u001b[0m: [E050] Can't find model 'fr_core_news_sm'. It doesn't seem to be a Python package or a valid path to a data directory."
     ]
    }
   ],
   "source": [
    "import spacy\n",
    "from spacy_lefff import LefffLemmatizer, POSTagger\n",
    "\n",
    "nlp = spacy.load(\"fr_core_news_sm\")\n",
    "pos = POSTagger()\n",
    "french_lemmatizer = LefffLemmatizer(after_melt=True)\n",
    "nlp.add_pipe(pos, name='pos', after='parser')\n",
    "nlp.add_pipe(french_lemmatizer, name='lefff', after='pos')\n",
    "doc = nlp(u\"Paris est une ville très chère.\")\n",
    "for d in doc:\n",
    "    print(d.text, d.pos_, d._.melt_tagger, d._.lefff_lemma, d.tag_, d.lemma_)"
   ]
  },
  {
   "cell_type": "code",
   "execution_count": null,
   "metadata": {
    "ExecuteTime": {
     "end_time": "2022-03-28T14:08:45.003996Z",
     "start_time": "2022-03-28T14:08:29.382Z"
    }
   },
   "outputs": [],
   "source": [
    "def nlp_pre_process(input, sw=None, verbose=0):\n",
    "    res = []\n",
    "    res = tokenize(input)\n",
    "    res = remove_stopwords_func(res, sw=sw)\n",
    "    res = normalize_accented_chars(res)\n",
    "    res = remove_irr_char_func(res)        \n",
    "    res = remove_stopwords_func(res, sw=sw)\n",
    "    \n",
    "    ans = res\n",
    "    res[:] = [lemmatizer.lemmatize(x)  for x in res]\n",
    "    ans = list(filter(None, ans))\n",
    "    return ans"
   ]
  },
  {
   "cell_type": "code",
   "execution_count": 24,
   "metadata": {
    "ExecuteTime": {
     "end_time": "2022-03-28T14:08:57.024754Z",
     "start_time": "2022-03-28T14:08:56.972768Z"
    }
   },
   "outputs": [
    {
     "ename": "OSError",
     "evalue": "[E050] Can't find model 'fr_core_news_sm'. It doesn't seem to be a Python package or a valid path to a data directory.",
     "output_type": "error",
     "traceback": [
      "\u001b[1;31m---------------------------------------------------------------------------\u001b[0m",
      "\u001b[1;31mOSError\u001b[0m                                   Traceback (most recent call last)",
      "\u001b[1;32m<ipython-input-24-8314b844a351>\u001b[0m in \u001b[0;36m<module>\u001b[1;34m\u001b[0m\n\u001b[0;32m      1\u001b[0m \u001b[1;32mimport\u001b[0m \u001b[0mspacy\u001b[0m\u001b[1;33m\u001b[0m\u001b[1;33m\u001b[0m\u001b[0m\n\u001b[1;32m----> 2\u001b[1;33m \u001b[0mnlp_fr\u001b[0m \u001b[1;33m=\u001b[0m \u001b[0mspacy\u001b[0m\u001b[1;33m.\u001b[0m\u001b[0mload\u001b[0m\u001b[1;33m(\u001b[0m\u001b[1;34m'fr_core_news_sm'\u001b[0m\u001b[1;33m)\u001b[0m\u001b[1;33m\u001b[0m\u001b[1;33m\u001b[0m\u001b[0m\n\u001b[0m\u001b[0;32m      3\u001b[0m \u001b[0mtext\u001b[0m \u001b[1;33m=\u001b[0m \u001b[1;34m\"J'ai mangé des pommes hier\"\u001b[0m\u001b[1;33m\u001b[0m\u001b[1;33m\u001b[0m\u001b[0m\n\u001b[0;32m      4\u001b[0m \u001b[0mtokens\u001b[0m \u001b[1;33m=\u001b[0m \u001b[0mnlp_fr\u001b[0m\u001b[1;33m(\u001b[0m\u001b[0mtext\u001b[0m\u001b[1;33m)\u001b[0m\u001b[1;33m\u001b[0m\u001b[1;33m\u001b[0m\u001b[0m\n\u001b[0;32m      5\u001b[0m \u001b[1;32mfor\u001b[0m \u001b[0mtoken\u001b[0m \u001b[1;32min\u001b[0m \u001b[0mtokens\u001b[0m\u001b[1;33m:\u001b[0m\u001b[1;33m\u001b[0m\u001b[1;33m\u001b[0m\u001b[0m\n",
      "\u001b[1;32m~\\AppData\\Roaming\\Python\\Python38\\site-packages\\spacy\\__init__.py\u001b[0m in \u001b[0;36mload\u001b[1;34m(name, disable, exclude, config)\u001b[0m\n\u001b[0;32m     45\u001b[0m     \u001b[0mRETURNS\u001b[0m \u001b[1;33m(\u001b[0m\u001b[0mLanguage\u001b[0m\u001b[1;33m)\u001b[0m\u001b[1;33m:\u001b[0m \u001b[0mThe\u001b[0m \u001b[0mloaded\u001b[0m \u001b[0mnlp\u001b[0m \u001b[0mobject\u001b[0m\u001b[1;33m.\u001b[0m\u001b[1;33m\u001b[0m\u001b[1;33m\u001b[0m\u001b[0m\n\u001b[0;32m     46\u001b[0m     \"\"\"\n\u001b[1;32m---> 47\u001b[1;33m     \u001b[1;32mreturn\u001b[0m \u001b[0mutil\u001b[0m\u001b[1;33m.\u001b[0m\u001b[0mload_model\u001b[0m\u001b[1;33m(\u001b[0m\u001b[0mname\u001b[0m\u001b[1;33m,\u001b[0m \u001b[0mdisable\u001b[0m\u001b[1;33m=\u001b[0m\u001b[0mdisable\u001b[0m\u001b[1;33m,\u001b[0m \u001b[0mexclude\u001b[0m\u001b[1;33m=\u001b[0m\u001b[0mexclude\u001b[0m\u001b[1;33m,\u001b[0m \u001b[0mconfig\u001b[0m\u001b[1;33m=\u001b[0m\u001b[0mconfig\u001b[0m\u001b[1;33m)\u001b[0m\u001b[1;33m\u001b[0m\u001b[1;33m\u001b[0m\u001b[0m\n\u001b[0m\u001b[0;32m     48\u001b[0m \u001b[1;33m\u001b[0m\u001b[0m\n\u001b[0;32m     49\u001b[0m \u001b[1;33m\u001b[0m\u001b[0m\n",
      "\u001b[1;32m~\\AppData\\Roaming\\Python\\Python38\\site-packages\\spacy\\util.py\u001b[0m in \u001b[0;36mload_model\u001b[1;34m(name, vocab, disable, exclude, config)\u001b[0m\n\u001b[0;32m    327\u001b[0m     \u001b[1;32mif\u001b[0m \u001b[0mname\u001b[0m \u001b[1;32min\u001b[0m \u001b[0mOLD_MODEL_SHORTCUTS\u001b[0m\u001b[1;33m:\u001b[0m\u001b[1;33m\u001b[0m\u001b[1;33m\u001b[0m\u001b[0m\n\u001b[0;32m    328\u001b[0m         \u001b[1;32mraise\u001b[0m \u001b[0mIOError\u001b[0m\u001b[1;33m(\u001b[0m\u001b[0mErrors\u001b[0m\u001b[1;33m.\u001b[0m\u001b[0mE941\u001b[0m\u001b[1;33m.\u001b[0m\u001b[0mformat\u001b[0m\u001b[1;33m(\u001b[0m\u001b[0mname\u001b[0m\u001b[1;33m=\u001b[0m\u001b[0mname\u001b[0m\u001b[1;33m,\u001b[0m \u001b[0mfull\u001b[0m\u001b[1;33m=\u001b[0m\u001b[0mOLD_MODEL_SHORTCUTS\u001b[0m\u001b[1;33m[\u001b[0m\u001b[0mname\u001b[0m\u001b[1;33m]\u001b[0m\u001b[1;33m)\u001b[0m\u001b[1;33m)\u001b[0m\u001b[1;33m\u001b[0m\u001b[1;33m\u001b[0m\u001b[0m\n\u001b[1;32m--> 329\u001b[1;33m     \u001b[1;32mraise\u001b[0m \u001b[0mIOError\u001b[0m\u001b[1;33m(\u001b[0m\u001b[0mErrors\u001b[0m\u001b[1;33m.\u001b[0m\u001b[0mE050\u001b[0m\u001b[1;33m.\u001b[0m\u001b[0mformat\u001b[0m\u001b[1;33m(\u001b[0m\u001b[0mname\u001b[0m\u001b[1;33m=\u001b[0m\u001b[0mname\u001b[0m\u001b[1;33m)\u001b[0m\u001b[1;33m)\u001b[0m\u001b[1;33m\u001b[0m\u001b[1;33m\u001b[0m\u001b[0m\n\u001b[0m\u001b[0;32m    330\u001b[0m \u001b[1;33m\u001b[0m\u001b[0m\n\u001b[0;32m    331\u001b[0m \u001b[1;33m\u001b[0m\u001b[0m\n",
      "\u001b[1;31mOSError\u001b[0m: [E050] Can't find model 'fr_core_news_sm'. It doesn't seem to be a Python package or a valid path to a data directory."
     ]
    }
   ],
   "source": [
    "import spacy\n",
    "nlp_fr = spacy.load('fr_core_news_sm')\n",
    "text = \"J'ai mangé des pommes hier\"\n",
    "tokens = nlp_fr(text)\n",
    "for token in tokens:\n",
    "    print(token.lemma_)"
   ]
  },
  {
   "cell_type": "code",
   "execution_count": null,
   "metadata": {
    "ExecuteTime": {
     "end_time": "2022-03-28T14:08:45.014131Z",
     "start_time": "2022-03-28T14:08:29.393Z"
    }
   },
   "outputs": [],
   "source": [
    "print(nlp_pre_process(res2, sw=personnal_stop_word))"
   ]
  },
  {
   "cell_type": "code",
   "execution_count": null,
   "metadata": {
    "ExecuteTime": {
     "end_time": "2022-03-28T14:08:45.019482Z",
     "start_time": "2022-03-28T14:08:29.397Z"
    }
   },
   "outputs": [],
   "source": [
    "df_articles[\"clean_words\"] = df_articles['texte'].apply(lambda x: nlp_pre_process(x, sw=personnal_stop_word))\n",
    "print(df_articles.columns)\n",
    "display(HTML(df_articles.head().to_html()))"
   ]
  },
  {
   "cell_type": "code",
   "execution_count": null,
   "metadata": {
    "ExecuteTime": {
     "end_time": "2022-03-28T14:08:45.023696Z",
     "start_time": "2022-03-28T14:08:29.403Z"
    }
   },
   "outputs": [],
   "source": [
    "df_articles[\"nb_mots_clean\"] = df_articles['clean_words'].apply(lambda x: word_count_func(x))"
   ]
  },
  {
   "cell_type": "code",
   "execution_count": null,
   "metadata": {
    "ExecuteTime": {
     "end_time": "2022-03-28T14:08:45.026497Z",
     "start_time": "2022-03-28T14:08:29.412Z"
    }
   },
   "outputs": [],
   "source": [
    "df_articles[\"freq_name\"] = df_articles[\"clean_words\"].apply(lambda x: nltk.FreqDist(x))\n",
    "df_articles[\"freq_unique_words\"] = df_articles[\"freq_name\"].apply(lambda x: len(x.keys()))"
   ]
  },
  {
   "cell_type": "code",
   "execution_count": null,
   "metadata": {
    "ExecuteTime": {
     "end_time": "2022-03-28T14:08:45.033960Z",
     "start_time": "2022-03-28T14:08:29.418Z"
    }
   },
   "outputs": [],
   "source": [
    "df_articles = df_articles.sort_values(by=[\"freq_unique_words\"], ascending=False)"
   ]
  },
  {
   "cell_type": "code",
   "execution_count": null,
   "metadata": {
    "ExecuteTime": {
     "end_time": "2022-03-28T14:08:45.037110Z",
     "start_time": "2022-03-28T14:08:29.423Z"
    }
   },
   "outputs": [],
   "source": [
    "df_articles.head()"
   ]
  },
  {
   "cell_type": "code",
   "execution_count": null,
   "metadata": {
    "ExecuteTime": {
     "end_time": "2022-03-28T14:08:45.044388Z",
     "start_time": "2022-03-28T14:08:29.428Z"
    }
   },
   "outputs": [],
   "source": [
    "figure, axe = color_graph_background(1,1)\n",
    "\n",
    "df_articles.plot(kind='bar', x='titre', y=\"nb_mots_clean\", ax=axe, title='Nombre de mots par article')\n",
    "df_articles.plot(y=\"freq_unique_words\", x='titre', kind=\"bar\", ax=axe, color=\"red\")\n",
    "figure.set_size_inches(16, 8, forward=True)\n",
    "\n",
    "plt.ylabel(\"Nombre de mots par article\")\n",
    "plt.xlabel(\"\")\n",
    "plt.xticks([])\n",
    "# plt.xticks(rotation=45, ha=\"right\")\n",
    "plt.show()"
   ]
  },
  {
   "cell_type": "code",
   "execution_count": null,
   "metadata": {
    "ExecuteTime": {
     "end_time": "2022-03-28T14:08:45.048483Z",
     "start_time": "2022-03-28T14:08:29.433Z"
    }
   },
   "outputs": [],
   "source": [
    "df_articles[df_articles[\"journal\"]==\"ActuGaming\"][\"mots_origine\"]"
   ]
  },
  {
   "cell_type": "code",
   "execution_count": null,
   "metadata": {
    "ExecuteTime": {
     "end_time": "2022-03-28T14:08:45.054207Z",
     "start_time": "2022-03-28T14:08:29.439Z"
    }
   },
   "outputs": [],
   "source": [
    "df_articles[\"texte_clean\"] = [','.join(map(str, l)) for l in df_articles[\"clean_words\"]]\n",
    "df_articles[\"texte_clean\"]"
   ]
  },
  {
   "cell_type": "code",
   "execution_count": null,
   "metadata": {
    "ExecuteTime": {
     "end_time": "2022-03-28T14:08:45.059019Z",
     "start_time": "2022-03-28T14:08:29.445Z"
    }
   },
   "outputs": [],
   "source": [
    "#!pip install wordcloud"
   ]
  },
  {
   "cell_type": "code",
   "execution_count": null,
   "metadata": {
    "ExecuteTime": {
     "end_time": "2022-03-28T14:08:45.068988Z",
     "start_time": "2022-03-28T14:08:29.449Z"
    }
   },
   "outputs": [],
   "source": [
    "from wordcloud import WordCloud"
   ]
  },
  {
   "cell_type": "code",
   "execution_count": null,
   "metadata": {
    "ExecuteTime": {
     "end_time": "2022-03-28T14:08:45.073369Z",
     "start_time": "2022-03-28T14:08:29.454Z"
    }
   },
   "outputs": [],
   "source": [
    "def word_cloud(journal):\n",
    "    text_ag = ''.join(df_articles[df_articles[\"journal\"]==journal][\"texte_clean\"].tolist())\n",
    "    word_cloud = WordCloud(collocations = False, background_color = 'white').generate(text_ag)\n",
    "    \n",
    "    plt.rcParams[\"figure.figsize\"]=(15, 8)\n",
    "    plt.imshow(word_cloud, interpolation='bilinear')\n",
    "    plt.axis(\"off\")\n",
    "    plt.show()"
   ]
  },
  {
   "cell_type": "code",
   "execution_count": null,
   "metadata": {
    "ExecuteTime": {
     "end_time": "2022-03-28T14:08:45.078036Z",
     "start_time": "2022-03-28T14:08:29.460Z"
    }
   },
   "outputs": [],
   "source": [
    "word_cloud(\"ActuGaming\")"
   ]
  },
  {
   "cell_type": "code",
   "execution_count": null,
   "metadata": {
    "ExecuteTime": {
     "end_time": "2022-03-28T14:08:45.082452Z",
     "start_time": "2022-03-28T14:08:29.466Z"
    }
   },
   "outputs": [],
   "source": [
    "word_cloud(\"30 M. d\\\\'amis\")"
   ]
  },
  {
   "cell_type": "code",
   "execution_count": null,
   "metadata": {
    "ExecuteTime": {
     "end_time": "2022-03-28T14:08:45.087239Z",
     "start_time": "2022-03-28T14:08:29.471Z"
    }
   },
   "outputs": [],
   "source": [
    "word_cloud(\"Le Trégor\")"
   ]
  },
  {
   "cell_type": "code",
   "execution_count": null,
   "metadata": {
    "ExecuteTime": {
     "end_time": "2022-03-28T14:08:45.091443Z",
     "start_time": "2022-03-28T14:08:29.475Z"
    }
   },
   "outputs": [],
   "source": [
    "french_stopwords = set(stopwords.words('french'))\n",
    "french_stopwords"
   ]
  },
  {
   "cell_type": "code",
   "execution_count": null,
   "metadata": {
    "ExecuteTime": {
     "end_time": "2022-03-28T14:08:45.094850Z",
     "start_time": "2022-03-28T14:08:29.481Z"
    }
   },
   "outputs": [],
   "source": [
    "text_ag = ''.join(df_articles[df_articles[\"journal\"]==\"ActuGaming\"][\"texte_clean\"].tolist())\n",
    "text_ag"
   ]
  },
  {
   "cell_type": "markdown",
   "metadata": {},
   "source": [
    "<div style=\"display: flex; background-color: Blue; padding: 15px;\" >\n",
    "\n",
    "## ANNEXE\n",
    "</div>"
   ]
  }
 ],
 "metadata": {
  "interpreter": {
   "hash": "ac59ebe37160ed0dfa835113d9b8498d9f09ceb179beaac4002f036b9467c963"
  },
  "kernelspec": {
   "display_name": "Python 3",
   "language": "python",
   "name": "python3"
  },
  "language_info": {
   "codemirror_mode": {
    "name": "ipython",
    "version": 3
   },
   "file_extension": ".py",
   "mimetype": "text/x-python",
   "name": "python",
   "nbconvert_exporter": "python",
   "pygments_lexer": "ipython3",
   "version": "3.8.8"
  }
 },
 "nbformat": 4,
 "nbformat_minor": 2
}
