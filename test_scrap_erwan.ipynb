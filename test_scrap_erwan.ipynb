{
 "cells": [
  {
   "cell_type": "code",
   "execution_count": 1,
   "id": "029e5036-6d6e-4d14-8ae5-956004abe262",
   "metadata": {
    "ExecuteTime": {
     "end_time": "2022-03-06T16:11:03.798673Z",
     "start_time": "2022-03-06T16:11:01.019182Z"
    }
   },
   "outputs": [],
   "source": [
    "import pandas\n",
    "import urllib\n",
    "import bs4\n",
    "from urllib.request import Request, urlopen"
   ]
  },
  {
   "cell_type": "code",
   "execution_count": null,
   "id": "f7183729-62c7-4669-bf76-da3810485485",
   "metadata": {
    "ExecuteTime": {
     "end_time": "2022-03-06T16:11:03.819348Z",
     "start_time": "2022-03-06T16:11:03.799684Z"
    }
   },
   "outputs": [],
   "source": [
    "url_elle = \"https://www.elle.fr/People/La-vie-des-people/News/Kanye-West-attaque-Pete-Davidson-dans-son-dernier-clip-4003128\""
   ]
  },
  {
   "cell_type": "code",
   "execution_count": null,
   "id": "53c961a6-9840-4b48-afd4-783dd119996f",
   "metadata": {
    "ExecuteTime": {
     "end_time": "2022-03-06T16:11:04.098630Z",
     "start_time": "2022-03-06T16:11:03.828807Z"
    }
   },
   "outputs": [],
   "source": [
    "req = Request(url_elle, headers={'User-Agent': 'Mozilla/5.0'})\n",
    "html = urlopen(req).read().decode('utf-8')\n",
    "print(html[:1000])"
   ]
  },
  {
   "cell_type": "code",
   "execution_count": null,
   "id": "77519db1-cfd7-471b-982c-2c0015577d79",
   "metadata": {
    "ExecuteTime": {
     "end_time": "2022-03-06T16:11:04.138621Z",
     "start_time": "2022-03-06T16:11:04.099641Z"
    }
   },
   "outputs": [],
   "source": [
    "page = bs4.BeautifulSoup(html, 'html.parser')"
   ]
  },
  {
   "cell_type": "code",
   "execution_count": null,
   "id": "fd57b9ff-76d4-4c34-a2ee-bb7b9af89ce6",
   "metadata": {
    "ExecuteTime": {
     "end_time": "2022-03-06T16:11:04.158638Z",
     "start_time": "2022-03-06T16:11:04.139637Z"
    }
   },
   "outputs": [],
   "source": [
    "article = page.find('div', {'id' : 'text'})\n",
    "print(article.prettify())"
   ]
  },
  {
   "cell_type": "code",
   "execution_count": null,
   "id": "f3b17456",
   "metadata": {},
   "outputs": [],
   "source": [
    "#article.find('h2', {'class' : 'gallery-title'}).decompose()"
   ]
  },
  {
   "cell_type": "code",
   "execution_count": null,
   "id": "2c6c58a1",
   "metadata": {},
   "outputs": [],
   "source": [
    "article.find('h2', {'class' : 'gallery-title'}).find_parent('div').decompose()"
   ]
  },
  {
   "cell_type": "code",
   "execution_count": null,
   "id": "15d5c13c-b3d8-4425-a28c-5bd288ca40b8",
   "metadata": {
    "ExecuteTime": {
     "end_time": "2022-03-06T16:11:04.178548Z",
     "start_time": "2022-03-06T16:11:04.161497Z"
    }
   },
   "outputs": [],
   "source": [
    "article = article.getText()"
   ]
  },
  {
   "cell_type": "code",
   "execution_count": null,
   "id": "67812f36",
   "metadata": {},
   "outputs": [],
   "source": [
    "article.replace('\\xa0' , ' ')\n",
    "print(article)"
   ]
  },
  {
   "cell_type": "code",
   "execution_count": null,
   "id": "dee224f4",
   "metadata": {},
   "outputs": [],
   "source": []
  },
  {
   "cell_type": "code",
   "execution_count": null,
   "id": "34d3a5c3",
   "metadata": {},
   "outputs": [],
   "source": [
    "titre = page.find('h1')\n",
    "print(titre.prettify())"
   ]
  },
  {
   "cell_type": "code",
   "execution_count": null,
   "id": "9378847e",
   "metadata": {},
   "outputs": [],
   "source": [
    "titre.getText()"
   ]
  },
  {
   "cell_type": "code",
   "execution_count": null,
   "id": "81de2252",
   "metadata": {},
   "outputs": [],
   "source": [
    "date = page.find('span', {'class' : 'publication'})\n",
    "print(date)"
   ]
  },
  {
   "cell_type": "code",
   "execution_count": null,
   "id": "923d362b",
   "metadata": {},
   "outputs": [],
   "source": [
    "date.getText().strip()"
   ]
  },
  {
   "cell_type": "code",
   "execution_count": null,
   "id": "e4e5f602",
   "metadata": {},
   "outputs": [],
   "source": [
    "auteur = page.find('span', {'class' : 'media-heading'})\n",
    "print(auteur)"
   ]
  },
  {
   "cell_type": "code",
   "execution_count": null,
   "id": "fa8e1462",
   "metadata": {},
   "outputs": [],
   "source": [
    "auteur.getText().strip()"
   ]
  },
  {
   "cell_type": "code",
   "execution_count": null,
   "id": "beb2f24e-e22d-41a0-9e9b-b6af8999b18a",
   "metadata": {
    "ExecuteTime": {
     "end_time": "2022-03-06T16:11:04.428670Z",
     "start_time": "2022-03-06T16:11:04.180560Z"
    }
   },
   "outputs": [],
   "source": []
  },
  {
   "cell_type": "code",
   "execution_count": null,
   "id": "c8f31ca1-bb16-4f75-9919-fa81f344bd07",
   "metadata": {
    "ExecuteTime": {
     "end_time": "2022-03-06T16:11:04.429186Z",
     "start_time": "2022-03-06T16:11:01.038Z"
    }
   },
   "outputs": [],
   "source": []
  },
  {
   "cell_type": "code",
   "execution_count": null,
   "id": "555cf632-b3fe-4a5d-8603-75c592da8a01",
   "metadata": {
    "ExecuteTime": {
     "end_time": "2022-03-06T16:11:04.429186Z",
     "start_time": "2022-03-06T16:11:01.039Z"
    }
   },
   "outputs": [],
   "source": [
    "url_elle2 = \"https://www.elle.fr/People/La-vie-des-people/News/Scarlett-Johansson-sur-ses-grossesses-Les-gens-mettent-une-pression-sur-vous-4002701\""
   ]
  },
  {
   "cell_type": "code",
   "execution_count": null,
   "id": "9a0c0a6e-05b5-4a12-acf7-6ebd0935b242",
   "metadata": {
    "ExecuteTime": {
     "end_time": "2022-03-06T16:11:04.429186Z",
     "start_time": "2022-03-06T16:11:01.040Z"
    }
   },
   "outputs": [],
   "source": [
    "req = Request(url_elle2, headers={'User-Agent': 'Mozilla/5.0'})\n",
    "html = urlopen(req).read().decode('utf-8')\n",
    "print(html[:1000])"
   ]
  },
  {
   "cell_type": "code",
   "execution_count": null,
   "id": "c0260b96-213d-4154-90a0-b0d8efe1bf37",
   "metadata": {
    "ExecuteTime": {
     "end_time": "2022-03-06T16:11:04.429186Z",
     "start_time": "2022-03-06T16:11:01.042Z"
    }
   },
   "outputs": [],
   "source": [
    "page = bs4.BeautifulSoup(html, 'html.parser')"
   ]
  },
  {
   "cell_type": "code",
   "execution_count": null,
   "id": "5b6d1cbf-ad71-4c61-9daf-9bbefa150471",
   "metadata": {
    "ExecuteTime": {
     "end_time": "2022-03-06T16:11:04.429186Z",
     "start_time": "2022-03-06T16:11:01.044Z"
    }
   },
   "outputs": [],
   "source": [
    "article3 = page.find('div', {'id' : 'text'})\n",
    "print(article3.prettify())"
   ]
  },
  {
   "cell_type": "code",
   "execution_count": null,
   "id": "c27568a7-27dd-4230-84e6-5f5ef7a9240a",
   "metadata": {
    "ExecuteTime": {
     "end_time": "2022-03-06T16:11:04.429186Z",
     "start_time": "2022-03-06T16:11:01.046Z"
    }
   },
   "outputs": [],
   "source": [
    "article3.getText().strip()"
   ]
  },
  {
   "cell_type": "code",
   "execution_count": null,
   "id": "02fd8e6d-be11-4a78-b005-6e1dd1441aea",
   "metadata": {
    "ExecuteTime": {
     "end_time": "2022-03-06T16:11:04.429186Z",
     "start_time": "2022-03-06T16:11:01.047Z"
    }
   },
   "outputs": [],
   "source": []
  },
  {
   "cell_type": "code",
   "execution_count": null,
   "id": "3c0a56f5-03eb-47d4-9f8b-30b86577c74e",
   "metadata": {
    "ExecuteTime": {
     "end_time": "2022-03-06T16:11:04.429186Z",
     "start_time": "2022-03-06T16:11:01.048Z"
    }
   },
   "outputs": [],
   "source": [
    "url_elle3 = 'https://www.elle.fr/People/La-vie-des-people/News/Britney-Spears-se-serait-elle-mariee-en-secret-4005245'"
   ]
  },
  {
   "cell_type": "code",
   "execution_count": null,
   "id": "2020cd7c-b9cf-434a-87f3-8cde5cc30515",
   "metadata": {
    "ExecuteTime": {
     "end_time": "2022-03-06T16:11:04.438618Z",
     "start_time": "2022-03-06T16:11:01.049Z"
    }
   },
   "outputs": [],
   "source": [
    "req = Request(url_elle3, headers={'User-Agent': 'Mozilla/5.0'})\n",
    "html = urlopen(req).read().decode('utf-8')\n",
    "print(html[:1000])"
   ]
  },
  {
   "cell_type": "code",
   "execution_count": null,
   "id": "93b5c1cc-0b58-40b2-878d-69bbe9b4b1d7",
   "metadata": {
    "ExecuteTime": {
     "end_time": "2022-03-06T16:11:04.438618Z",
     "start_time": "2022-03-06T16:11:01.051Z"
    }
   },
   "outputs": [],
   "source": [
    "page = bs4.BeautifulSoup(html, 'html.parser')"
   ]
  },
  {
   "cell_type": "code",
   "execution_count": null,
   "id": "45affa18-805e-47e0-873d-fbb3c9fe934f",
   "metadata": {
    "ExecuteTime": {
     "end_time": "2022-03-06T16:11:04.439635Z",
     "start_time": "2022-03-06T16:11:01.053Z"
    }
   },
   "outputs": [],
   "source": [
    "article6 = page.find('div', {'id' : 'text'})\n",
    "print(article6.prettify())"
   ]
  },
  {
   "cell_type": "code",
   "execution_count": null,
   "id": "8a35d8d1-5515-4c84-bba3-c93230220019",
   "metadata": {
    "ExecuteTime": {
     "end_time": "2022-03-06T16:11:04.440547Z",
     "start_time": "2022-03-06T16:11:01.055Z"
    }
   },
   "outputs": [],
   "source": [
    "article6.find('h2', {'class' : 'gallery-title'}).find_parent('div').decompose()"
   ]
  },
  {
   "cell_type": "code",
   "execution_count": null,
   "id": "c3a26b48",
   "metadata": {},
   "outputs": [],
   "source": [
    "article6 = article6.getText()"
   ]
  },
  {
   "cell_type": "code",
   "execution_count": null,
   "id": "9fb52856",
   "metadata": {},
   "outputs": [],
   "source": [
    "article6.replace('\\xa0' , ' ')\n",
    "print(article6)"
   ]
  },
  {
   "cell_type": "code",
   "execution_count": null,
   "id": "78a36493",
   "metadata": {},
   "outputs": [],
   "source": [
    "url_elle4 = 'https://www.elle.fr/People/La-vie-des-people/News/Camilla-Parker-Bowles-ses-larmes-face-au-drame-ukrainien'"
   ]
  },
  {
   "cell_type": "code",
   "execution_count": null,
   "id": "91e12641",
   "metadata": {},
   "outputs": [],
   "source": [
    "req = Request(url_elle4, headers={'User-Agent': 'Mozilla/5.0'})\n",
    "html = urlopen(req).read().decode('utf-8')\n",
    "print(html[:1000])"
   ]
  },
  {
   "cell_type": "code",
   "execution_count": null,
   "id": "229942f4",
   "metadata": {},
   "outputs": [],
   "source": [
    "page = bs4.BeautifulSoup(html, 'html.parser')"
   ]
  },
  {
   "cell_type": "code",
   "execution_count": null,
   "id": "82b77f4e",
   "metadata": {},
   "outputs": [],
   "source": [
    "article7 = page.find('div', {'id' : 'text'})\n",
    "print(article6)"
   ]
  },
  {
   "cell_type": "code",
   "execution_count": null,
   "id": "3d94db51",
   "metadata": {},
   "outputs": [],
   "source": [
    "url_source = 'https://www.elle.fr/actu/fil-info/People?page=1&limit=40&lastGroupedDay=2022-03-02'"
   ]
  },
  {
   "cell_type": "code",
   "execution_count": null,
   "id": "1f6154a5",
   "metadata": {},
   "outputs": [],
   "source": [
    "req = Request(url_source, headers={'User-Agent': 'Mozilla/5.0'})\n",
    "html = urlopen(req).read().decode('utf-8')\n",
    "print(html[:1000])\n",
    "\n"
   ]
  },
  {
   "cell_type": "code",
   "execution_count": null,
   "id": "ae06ba7d-2a96-48b2-979f-95eeb2ac2ea2",
   "metadata": {
    "ExecuteTime": {
     "end_time": "2022-03-06T16:11:04.440547Z",
     "start_time": "2022-03-06T16:11:01.056Z"
    }
   },
   "outputs": [],
   "source": [
    "page = bs4.BeautifulSoup(html, 'html.parser')"
   ]
  },
  {
   "cell_type": "code",
   "execution_count": null,
   "id": "81af67bf-b3be-44d0-903b-a272fde8424b",
   "metadata": {
    "ExecuteTime": {
     "end_time": "2022-03-06T16:11:04.440547Z",
     "start_time": "2022-03-06T16:11:01.057Z"
    }
   },
   "outputs": [],
   "source": [
    "urls = []\n",
    "soupes = page.findAll('span', {'class' : 'titre'})\n",
    "for soup in soupes :\n",
    "    urls.append(soup.find('a').get('href'))"
   ]
  },
  {
   "cell_type": "code",
   "execution_count": null,
   "id": "b3e70dcc-ade4-4938-921a-9102058fc879",
   "metadata": {},
   "outputs": [],
   "source": [
    "print(urls)"
   ]
  },
  {
   "cell_type": "code",
   "execution_count": null,
   "id": "74447337-ea83-4417-9005-90010a9c7a40",
   "metadata": {},
   "outputs": [],
   "source": [
    "len(urls)"
   ]
  },
  {
   "cell_type": "code",
   "execution_count": null,
   "id": "d4172d94",
   "metadata": {},
   "outputs": [],
   "source": [
    "https://www.elle.fr/ajax/get-newsfeed/People?page=9&limit=20&lastGroupedDay=2022-02-15"
   ]
  },
  {
   "cell_type": "code",
   "execution_count": null,
   "id": "4eb0bfd6",
   "metadata": {},
   "outputs": [],
   "source": [
    "https://www.elle.fr/actu/fil-info/People"
   ]
  },
  {
   "cell_type": "code",
   "execution_count": null,
   "id": "13046a5b",
   "metadata": {},
   "outputs": [],
   "source": []
  },
  {
   "cell_type": "code",
   "execution_count": 2,
   "id": "308439ca",
   "metadata": {},
   "outputs": [
    {
     "name": "stderr",
     "output_type": "stream",
     "text": [
      "<ipython-input-2-a522a4d9a483>:6: DeprecationWarning: executable_path has been deprecated, please pass in a Service object\n",
      "  driver = webdriver.Firefox(executable_path= r\"C:\\Users\\erwan\\Downloads\\geckodriver.exe\")\n"
     ]
    }
   ],
   "source": [
    "import os\n",
    "from selenium import webdriver \n",
    "from selenium.webdriver.common.by import By\n",
    "from selenium.webdriver.common.keys import Keys\n",
    "import time\n",
    "driver = webdriver.Firefox(executable_path= r\"C:\\Users\\erwan\\Downloads\\geckodriver.exe\")"
   ]
  },
  {
   "cell_type": "code",
   "execution_count": null,
   "id": "a01e881f",
   "metadata": {},
   "outputs": [],
   "source": [
    "driver.get('https://www.elle.fr/actu/fil-info/People')"
   ]
  },
  {
   "cell_type": "code",
   "execution_count": null,
   "id": "f4e73092",
   "metadata": {},
   "outputs": [],
   "source": [
    "url = driver.find_element(by=By.CLASS_NAME, value='titre')"
   ]
  },
  {
   "cell_type": "code",
   "execution_count": null,
   "id": "670ec2d4",
   "metadata": {},
   "outputs": [],
   "source": [
    "print(url)"
   ]
  },
  {
   "cell_type": "code",
   "execution_count": null,
   "id": "3cb74aca",
   "metadata": {},
   "outputs": [],
   "source": [
    "scroll_number = 5\n",
    "for i in range(1 , scroll_number) :\n",
    "    driver.execute_script(\"window.scrollTo(0 , document.body.scrollHeight)\")\n",
    "    time.sleep(3)"
   ]
  },
  {
   "cell_type": "code",
   "execution_count": 3,
   "id": "5771b916",
   "metadata": {},
   "outputs": [],
   "source": [
    "def get_url (source) :\n",
    "    url_source = source\n",
    "    req = Request(url_source, headers={'User-Agent': 'Mozilla/5.0'})\n",
    "    html = urlopen(req).read().decode('utf-8')\n",
    "    page = bs4.BeautifulSoup(html, 'html.parser')\n",
    "    urls = []\n",
    "    soupes = page.findAll('span', {'class' : 'titre'})\n",
    "    for soup in soupes :\n",
    "        urls.append(soup.find('a').get('href'))"
   ]
  },
  {
   "cell_type": "code",
   "execution_count": 24,
   "id": "a7f9a4c2",
   "metadata": {},
   "outputs": [
    {
     "name": "stderr",
     "output_type": "stream",
     "text": [
      "<ipython-input-24-dddb44d57377>:6: DeprecationWarning: executable_path has been deprecated, please pass in a Service object\n",
      "  driver = webdriver.Firefox(executable_path= r\"C:\\Users\\erwan\\Downloads\\geckodriver.exe\")\n",
      "<ipython-input-24-dddb44d57377>:12: DeprecationWarning: find_element_by_tag_name is deprecated. Please use find_element(by=By.TAG_NAME, value=name) instead\n",
      "  element = driver.find_element_by_tag_name('body')\n"
     ]
    },
    {
     "ename": "NameError",
     "evalue": "name 'randint' is not defined",
     "output_type": "error",
     "traceback": [
      "\u001b[1;31m---------------------------------------------------------------------------\u001b[0m",
      "\u001b[1;31mNameError\u001b[0m                                 Traceback (most recent call last)",
      "\u001b[1;32m<ipython-input-24-dddb44d57377>\u001b[0m in \u001b[0;36m<module>\u001b[1;34m\u001b[0m\n\u001b[0;32m     14\u001b[0m \u001b[1;32mwhile\u001b[0m \u001b[1;32mTrue\u001b[0m\u001b[1;33m:\u001b[0m\u001b[1;33m\u001b[0m\u001b[1;33m\u001b[0m\u001b[0m\n\u001b[0;32m     15\u001b[0m     \u001b[0melement\u001b[0m\u001b[1;33m.\u001b[0m\u001b[0msend_keys\u001b[0m\u001b[1;33m(\u001b[0m\u001b[0mKeys\u001b[0m\u001b[1;33m.\u001b[0m\u001b[0mPAGE_DOWN\u001b[0m\u001b[1;33m)\u001b[0m\u001b[1;33m\u001b[0m\u001b[1;33m\u001b[0m\u001b[0m\n\u001b[1;32m---> 16\u001b[1;33m     \u001b[0mtime\u001b[0m\u001b[1;33m.\u001b[0m\u001b[0msleep\u001b[0m\u001b[1;33m(\u001b[0m\u001b[0mrandint\u001b[0m\u001b[1;33m(\u001b[0m\u001b[1;36m1\u001b[0m\u001b[1;33m,\u001b[0m\u001b[1;36m3\u001b[0m\u001b[1;33m)\u001b[0m\u001b[1;33m)\u001b[0m\u001b[1;33m\u001b[0m\u001b[1;33m\u001b[0m\u001b[0m\n\u001b[0m\u001b[0;32m     17\u001b[0m \u001b[1;33m\u001b[0m\u001b[0m\n",
      "\u001b[1;31mNameError\u001b[0m: name 'randint' is not defined"
     ]
    }
   ],
   "source": [
    "from selenium import webdriver\n",
    "from selenium.webdriver.common.keys import Keys\n",
    "import time\n",
    "from random import randint\n",
    "\n",
    "driver = webdriver.Firefox(executable_path= r\"C:\\Users\\erwan\\Downloads\\geckodriver.exe\")\n",
    "\n",
    "driver.get('https://www.elle.fr/actu/fil-info/People')\n",
    "\n",
    "time.sleep(3)\n",
    "\n",
    "element = driver.find_element_by_tag_name('body')\n",
    "\n",
    "while True:\n",
    "    element.send_keys(Keys.PAGE_DOWN)\n",
    "    time.sleep(randint(1,3))\n",
    "\n"
   ]
  },
  {
   "cell_type": "code",
   "execution_count": 20,
   "id": "41751297",
   "metadata": {},
   "outputs": [
    {
     "name": "stderr",
     "output_type": "stream",
     "text": [
      "<ipython-input-20-a08bbd1c9d15>:1: DeprecationWarning: find_elements_by_xpath is deprecated. Please use find_elements(by=By.XPATH, value=xpath) instead\n",
      "  elems = driver.find_elements_by_xpath(\"//span[contains(@class, 'titre')]/a[@href]\")\n"
     ]
    }
   ],
   "source": [
    "elems = driver.find_elements_by_xpath(\"//span[contains(@class, 'titre')]/a[@href]\")\n",
    "urls = []\n",
    "for elem in elems:\n",
    "    urls.append(elem.get_attribute(\"href\"))"
   ]
  },
  {
   "cell_type": "code",
   "execution_count": 21,
   "id": "bfd7c1df",
   "metadata": {},
   "outputs": [
    {
     "data": {
      "text/plain": [
       "140"
      ]
     },
     "execution_count": 21,
     "metadata": {},
     "output_type": "execute_result"
    }
   ],
   "source": [
    "len(urls)"
   ]
  },
  {
   "cell_type": "code",
   "execution_count": 4,
   "id": "1d85dc2f",
   "metadata": {},
   "outputs": [],
   "source": [
    "get_url('https://www.elle.fr/actu/fil-info/People')"
   ]
  },
  {
   "cell_type": "code",
   "execution_count": 5,
   "id": "7e4d5ca3",
   "metadata": {},
   "outputs": [
    {
     "ename": "NameError",
     "evalue": "name 'urls' is not defined",
     "output_type": "error",
     "traceback": [
      "\u001b[1;31m---------------------------------------------------------------------------\u001b[0m",
      "\u001b[1;31mNameError\u001b[0m                                 Traceback (most recent call last)",
      "\u001b[1;32m<ipython-input-5-aecc6c3164d9>\u001b[0m in \u001b[0;36m<module>\u001b[1;34m\u001b[0m\n\u001b[1;32m----> 1\u001b[1;33m \u001b[0mlen\u001b[0m\u001b[1;33m(\u001b[0m\u001b[0murls\u001b[0m\u001b[1;33m)\u001b[0m\u001b[1;33m\u001b[0m\u001b[1;33m\u001b[0m\u001b[0m\n\u001b[0m",
      "\u001b[1;31mNameError\u001b[0m: name 'urls' is not defined"
     ]
    }
   ],
   "source": [
    "len(urls)"
   ]
  },
  {
   "cell_type": "code",
   "execution_count": null,
   "id": "915621d6",
   "metadata": {},
   "outputs": [],
   "source": []
  }
 ],
 "metadata": {
  "kernelspec": {
   "display_name": "Python 3",
   "language": "python",
   "name": "python3"
  },
  "language_info": {
   "codemirror_mode": {
    "name": "ipython",
    "version": 3
   },
   "file_extension": ".py",
   "mimetype": "text/x-python",
   "name": "python",
   "nbconvert_exporter": "python",
   "pygments_lexer": "ipython3",
   "version": "3.8.8"
  }
 },
 "nbformat": 4,
 "nbformat_minor": 5
}
