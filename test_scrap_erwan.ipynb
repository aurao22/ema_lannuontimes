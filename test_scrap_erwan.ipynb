{
 "cells": [
  {
   "cell_type": "code",
   "execution_count": 1,
   "id": "029e5036-6d6e-4d14-8ae5-956004abe262",
   "metadata": {
    "ExecuteTime": {
     "end_time": "2022-03-06T16:11:03.798673Z",
     "start_time": "2022-03-06T16:11:01.019182Z"
    }
   },
   "outputs": [],
   "source": [
    "import pandas\n",
    "import urllib\n",
    "import bs4\n",
    "from urllib.request import Request, urlopen"
   ]
  },
  {
   "cell_type": "code",
   "execution_count": 30,
   "id": "f7183729-62c7-4669-bf76-da3810485485",
   "metadata": {
    "ExecuteTime": {
     "end_time": "2022-03-06T16:11:03.819348Z",
     "start_time": "2022-03-06T16:11:03.799684Z"
    }
   },
   "outputs": [],
   "source": [
    "url_elle = \"https://www.elle.fr/People/La-vie-des-people/News/Kanye-West-attaque-Pete-Davidson-dans-son-dernier-clip-4003128\""
   ]
  },
  {
   "cell_type": "code",
   "execution_count": 31,
   "id": "53c961a6-9840-4b48-afd4-783dd119996f",
   "metadata": {
    "ExecuteTime": {
     "end_time": "2022-03-06T16:11:04.098630Z",
     "start_time": "2022-03-06T16:11:03.828807Z"
    }
   },
   "outputs": [
    {
     "name": "stdout",
     "output_type": "stream",
     "text": [
      "<!DOCTYPE html><!--[if IE 8]><html class=\"ie8\" lang=\"fr\"><![endif]--><!--[if IE 9]><html class=\"ie9\" lang=\"fr\"><![endif]--><!--[if gt IE 9]><!--><html lang=\"fr\"><!--<![endif]--><head><meta charset=\"utf-8\"><meta name=\"msApplication-ID\" content=\"LAGARDEREACTIVEDIGITALSAS.ELLE\"/><meta name=\"msApplication-PackageFamilyName\" content=\"LAGARDEREACTIVEDIGITALSAS.ELLE_ya1j1agkxsss6\"/><title>Kanye West attaque Pete Davidson dans son dernier clip - Elle</title><meta name=\"viewport\" content=\"width=device-width, initial-scale=1\" /><meta name=\"msapplication-starturl\" content=\"https://www.elle.fr\" /><meta name=\"msapplication-window\" content=\"width=1024;height=780\" /><meta name=\"msapplication-navbutton-color\" content=\"#99cc33\" /><meta name=\"msapplication-tooltip\" content=\"Lancer le site web Elle.fr\" /><meta name=\"description\" content=\"Ce mercredi, Kanye West a dévoilé un nouveau clip dans lequel il s’en prend violemment à Pete Davidson.\" /><meta name=\"og:site_name\" content=\"elle.fr\" /><meta property=\"\n"
     ]
    }
   ],
   "source": [
    "req = Request(url_elle, headers={'User-Agent': 'Mozilla/5.0'})\n",
    "html = urlopen(req).read().decode('utf-8')\n",
    "print(html[:1000])"
   ]
  },
  {
   "cell_type": "code",
   "execution_count": 32,
   "id": "77519db1-cfd7-471b-982c-2c0015577d79",
   "metadata": {
    "ExecuteTime": {
     "end_time": "2022-03-06T16:11:04.138621Z",
     "start_time": "2022-03-06T16:11:04.099641Z"
    }
   },
   "outputs": [],
   "source": [
    "page = bs4.BeautifulSoup(html, 'html.parser')"
   ]
  },
  {
   "cell_type": "code",
   "execution_count": 33,
   "id": "fd57b9ff-76d4-4c34-a2ee-bb7b9af89ce6",
   "metadata": {
    "ExecuteTime": {
     "end_time": "2022-03-06T16:11:04.158638Z",
     "start_time": "2022-03-06T16:11:04.139637Z"
    }
   },
   "outputs": [
    {
     "name": "stdout",
     "output_type": "stream",
     "text": [
      "<div class=\"\" id=\"text\">\n",
      " <p>\n",
      "  <a href=\"https://www.elle.fr/Personnalites/Kanye-West\" target=\"_self\">\n",
      "   Kanye West\n",
      "  </a>\n",
      "  n’en finit plus de s’en prendre à Pete Davidson, le nouveau compagnon de\n",
      "  <a href=\"https://www.elle.fr/Personnalites/Kim-Kardashian\" target=\"_self\">\n",
      "   Kim Kardashian.\n",
      "  </a>\n",
      "  Depuis que le rappeur est au courant de la romance entre son ex-femme et l’humoriste, il n’hésite pas à accuser ce dernier\n",
      "  <a href=\"https://www.elle.fr/People/La-vie-des-people/News/Kanye-West-accuse-Pete-Davidson-de-detruire-sa-famille-3989111\" target=\"_self\">\n",
      "   de détruire sa famille\n",
      "  </a>\n",
      "  , à propager des rumeurs sur lui ou à\n",
      "  <a href=\"https://www.elle.fr/People/La-vie-des-people/News/Pete-Davidson-le-compagnon-de-Kim-Kardashian-supprime-son-compte-Instagram-face-au-harcelement-de-Kanye-West-3999290\" target=\"_self\">\n",
      "   le harceler sur les réseaux sociaux\n",
      "  </a>\n",
      "  . Au mois de janvier, Kanye West avait même déclaré dans une de ses nouvelles chansons vouloir « botter les fesses de Pete Davidson ». L’artiste a également dévoilé, ce mercredi 2 mars, le clip de « Eazy » issu de son album « Donda 2 ». Une vidéo d’environ quatre minutes très sombre.\n",
      " </p>\n",
      " <div class=\"Camp AdMobile-pave\" id=\"Elle_People_ellefre_m::1\">\n",
      " </div>\n",
      " <div class=\"embed-responsive embed-responsive-16by9\">\n",
      "  <iframe allow=\"accelerometer; autoplay; clipboard-write; encrypted-media; gyroscope; picture-in-picture\" allowfullscreen=\"\" class=\"lazyload\" data-src=\"https://www.youtube.com/embed/7fIhJu0OyTI\" frameborder=\"0\" height=\"315\" title=\"YouTube video player\" width=\"560\">\n",
      "  </iframe>\n",
      " </div>\n",
      " <p>\n",
      "  Lire aussi &gt;&gt;\n",
      "  <a href=\"https://www.elle.fr/People/La-vie-des-people/News/Couple-de-legende-Kim-Kardashian-et-Kanye-West-gloire-et-chute-d-un-couple-inaccessible\" target=\"_self\">\n",
      "   Couple de légende : Kim Kardashian et Kanye West, gloire et chute d’un couple inaccessible\n",
      "  </a>\n",
      " </p>\n",
      " <div id=\"elle2_inread\">\n",
      " </div>\n",
      " <h2>\n",
      "  Kanye West kidnappe et enterre Pete Davidson\n",
      " </h2>\n",
      " <p>\n",
      "  Kanye West a exprimé toute sa haine et sa colère dans ce clip. En effet, la vidéo sous forme de dessin animé débute avec le rappeur assis sur un cercueil. Puis, on le voit mettre un sac sur la tête d’un personnage ressemblant très étrangement à Pete Davidson. Kanye West le kidnappe pour ensuite se rendre dans une zone abandonnée afin de l’enterrer.  Il décide de planter des graines autour de sa tête. Les fleurs poussent et l’artiste finit par en cueillir plusieurs, avant de les charger dans un pick-up devant Pete Davidson qui est toujours vivant. Cette dernière scène fait clairement référence au camion rempli de roses que Kanye West a offert à son ex-compagne pour la Saint-Valentin. Le clip a été publié quelques heures après que\n",
      "  <a href=\"https://www.elle.fr/People/La-vie-des-people/News/Kim-Kardashian-soulagee-d-etre-officiellement-divorcee-4003065\" target=\"_self\">\n",
      "   Kim Kardashian a officiellement retrouvé son statut de célibataire.\n",
      "  </a>\n",
      " </p>\n",
      " <div>\n",
      "  <h2 class=\"gallery-title\">\n",
      "   Kanye West, le rappeur mégalo\n",
      "  </h2>\n",
      "  <div aria-controls=\"modal-gallery\" aria-expanded=\"false\" aria-haspopup=\"true\" class=\"gallery-toggle\" data-target=\"#modal-gallery-0\" data-toggle=\"modal\" id=\"gallery-button\">\n",
      "   <figure>\n",
      "    <picture>\n",
      "     <source data-srcset=\"https://resize.elle.fr/article_320_webp/var/plain_site/storage/images/people/la-vie-des-people/news/kanye-west-le-rappeur-megalo/19202156-1-fre-FR/Kanye-West-le-rappeur-megalo.jpg 320w,https://resize.elle.fr/article_webp/var/plain_site/storage/images/people/la-vie-des-people/news/kanye-west-le-rappeur-megalo/19202156-1-fre-FR/Kanye-West-le-rappeur-megalo.jpg 640w,https://resize.elle.fr/article_1280_webp/var/plain_site/storage/images/people/la-vie-des-people/news/kanye-west-le-rappeur-megalo/19202156-1-fre-FR/Kanye-West-le-rappeur-megalo.jpg 1280w\" sizes=\"(min-width: 62em) 40em, 100vw\" type=\"image/webp\"/>\n",
      "     <source data-srcset=\"https://resize.elle.fr/article_320/var/plain_site/storage/images/people/la-vie-des-people/news/kanye-west-le-rappeur-megalo/19202156-1-fre-FR/Kanye-West-le-rappeur-megalo.jpg 320w,https://resize.elle.fr/article/var/plain_site/storage/images/people/la-vie-des-people/news/kanye-west-le-rappeur-megalo/19202156-1-fre-FR/Kanye-West-le-rappeur-megalo.jpg 640w,https://resize.elle.fr/article_1280/var/plain_site/storage/images/people/la-vie-des-people/news/kanye-west-le-rappeur-megalo/19202156-1-fre-FR/Kanye-West-le-rappeur-megalo.jpg 1280w\" sizes=\"(min-width: 62em) 40em, 100vw\" type=\"image/jpeg\"/>\n",
      "     <img alt=\"\" class=\"img-responsive lazyload gallery-toggle__image\" data-src=\"https://resize.elle.fr/article/var/plain_site/storage/images/people/la-vie-des-people/news/kanye-west-le-rappeur-megalo/19202156-1-fre-FR/Kanye-West-le-rappeur-megalo.jpg\" height=\"416\" width=\"640\"/>\n",
      "    </picture>\n",
      "   </figure>\n",
      "   <div class=\"btn gallery-toggle__list\">\n",
      "    <svg class=\"gallery-toggle__item gallery-toggle__icon-gallery\" fill=\"none\" height=\"20\" viewbox=\"0 0 28 23\" width=\"25\" xmlns=\"http://www.w3.org/2000/svg\">\n",
      "     <path d=\"M7.5 7.5h20v15h-20z\" fill=\"#fff\" stroke=\"#000\">\n",
      "     </path>\n",
      "     <path d=\"M4.5 4.5h20v15h-20z\" fill=\"#fff\" stroke=\"#000\">\n",
      "     </path>\n",
      "     <path d=\"M.5.5h21v16H.5z\" fill=\"#fff\" stroke=\"#000\">\n",
      "     </path>\n",
      "    </svg>\n",
      "    <span class=\"gallery-toggle__item gallery-toggle__text\">\n",
      "     Voir la galerie\n",
      "    </span>\n",
      "    <span class=\"gallery-toggle__item gallery-toggle__icon-next icon-elle_fleche-suiv\">\n",
      "    </span>\n",
      "   </div>\n",
      "  </div>\n",
      "  <div aria-hidden=\"false\" aria-labelledby=\"myModalLabel\" class=\"modal fade in modal--center modal--gallery\" id=\"modal-gallery-0\" role=\"dialog\" tabindex=\"-1\">\n",
      "   <div class=\"modal-dialog\">\n",
      "    <div class=\"modal-content\">\n",
      "     <div class=\"gallery-header\">\n",
      "      <button aria-label=\"Close\" class=\"gallery-header__close icon-elle_fermer\" data-dismiss=\"modal\" type=\"button\">\n",
      "      </button>\n",
      "      <div class=\"gallery-header__title\">\n",
      "       Kanye West, le rappeur mégalo\n",
      "      </div>\n",
      "     </div>\n",
      "     <iframe aria-label=\"galerie d'images - Kanye West, le rappeur mégalo\" class=\"gallery-iframe js-gallery-iframe\" data-src=\"https://www.elle.fr/slideshow/embed/2202648/Kanye-West-le-rappeur-megalo\">\n",
      "     </iframe>\n",
      "     <div class=\"gallery-loader js-gallery-loader\">\n",
      "      <svg viewbox=\"25 25 50 50\">\n",
      "       <circle cx=\"50\" cy=\"50\" r=\"20\">\n",
      "       </circle>\n",
      "      </svg>\n",
      "     </div>\n",
      "    </div>\n",
      "   </div>\n",
      "  </div>\n",
      "  <script class=\"LazyScriptLoader-group-4\" type=\"lazyscript\">\n",
      "   let openGalleryEvent = new Event(\"galerieembed_cmip_open\");\n",
      "                        let closeGalleryEvent = new Event(\"galerieembed_cmip_close\");\n",
      "\n",
      "                        $(\"#modal-gallery-0\").on(\"shown.bs.modal\", function (e) {\n",
      "                            document.dispatchEvent(openGalleryEvent);\n",
      "                            let galleryIframe = $(this)[0].querySelector(\".js-gallery-iframe\");\n",
      "                            if (galleryIframe.hasAttribute(\"data-src\")) {\n",
      "                                galleryIframe.setAttribute(\"src\", galleryIframe.dataset.src);\n",
      "                                galleryIframe.removeAttribute(\"data-src\");\n",
      "                            }  \n",
      "                            galleryIframe.onload = function() {\n",
      "                                galleryIframe.contentWindow.focus();\n",
      "                            };                       \n",
      "                        });\n",
      "\n",
      "                        $(\"#modal-gallery-0\").on(\"hide.bs.modal\", function (e) {\n",
      "                            document.dispatchEvent(closeGalleryEvent);\n",
      "                        });\n",
      "  </script>\n",
      " </div>\n",
      "</div>\n"
     ]
    }
   ],
   "source": [
    "article = page.find('div', {'id' : 'text'})\n",
    "print(article.prettify())"
   ]
  },
  {
   "cell_type": "code",
   "execution_count": null,
   "id": "f3b17456",
   "metadata": {},
   "outputs": [],
   "source": [
    "#article.find('h2', {'class' : 'gallery-title'}).decompose()"
   ]
  },
  {
   "cell_type": "code",
   "execution_count": null,
   "id": "2c6c58a1",
   "metadata": {},
   "outputs": [],
   "source": [
    "article.find('h2', {'class' : 'gallery-title'}).find_parent('div').decompose()"
   ]
  },
  {
   "cell_type": "code",
   "execution_count": 34,
   "id": "15d5c13c-b3d8-4425-a28c-5bd288ca40b8",
   "metadata": {
    "ExecuteTime": {
     "end_time": "2022-03-06T16:11:04.178548Z",
     "start_time": "2022-03-06T16:11:04.161497Z"
    }
   },
   "outputs": [],
   "source": [
    "article = article.getText()"
   ]
  },
  {
   "cell_type": "code",
   "execution_count": 35,
   "id": "67812f36",
   "metadata": {},
   "outputs": [
    {
     "name": "stdout",
     "output_type": "stream",
     "text": [
      "Kanye West n’en finit plus de s’en prendre à Pete Davidson, le nouveau compagnon de Kim Kardashian. Depuis que le rappeur est au courant de la romance entre son ex-femme et l’humoriste, il n’hésite pas à accuser ce dernier de détruire sa famille, à propager des rumeurs sur lui ou à le harceler sur les réseaux sociaux. Au mois de janvier, Kanye West avait même déclaré dans une de ses nouvelles chansons vouloir « botter les fesses de Pete Davidson ». L’artiste a également dévoilé, ce mercredi 2 mars, le clip de « Eazy » issu de son album « Donda 2 ». Une vidéo d’environ quatre minutes très sombre.Lire aussi >> Couple de légende : Kim Kardashian et Kanye West, gloire et chute d’un couple inaccessibleKanye West kidnappe et enterre Pete DavidsonKanye West a exprimé toute sa haine et sa colère dans ce clip. En effet, la vidéo sous forme de dessin animé débute avec le rappeur assis sur un cercueil. Puis, on le voit mettre un sac sur la tête d’un personnage ressemblant très étrangement à Pete Davidson. Kanye West le kidnappe pour ensuite se rendre dans une zone abandonnée afin de l’enterrer.  Il décide de planter des graines autour de sa tête. Les fleurs poussent et l’artiste finit par en cueillir plusieurs, avant de les charger dans un pick-up devant Pete Davidson qui est toujours vivant. Cette dernière scène fait clairement référence au camion rempli de roses que Kanye West a offert à son ex-compagne pour la Saint-Valentin. Le clip a été publié quelques heures après que Kim Kardashian a officiellement retrouvé son statut de célibataire.Kanye West, le rappeur mégaloVoir la galerieKanye West, le rappeur mégalo\n"
     ]
    }
   ],
   "source": [
    "article.replace('\\xa0' , ' ')\n",
    "print(article)"
   ]
  },
  {
   "cell_type": "code",
   "execution_count": null,
   "id": "dee224f4",
   "metadata": {},
   "outputs": [],
   "source": []
  },
  {
   "cell_type": "code",
   "execution_count": 36,
   "id": "34d3a5c3",
   "metadata": {},
   "outputs": [
    {
     "name": "stdout",
     "output_type": "stream",
     "text": [
      "<h1>\n",
      " Kanye West attaque Pete Davidson dans son dernier clip\n",
      "</h1>\n",
      "\n"
     ]
    }
   ],
   "source": [
    "titre = page.find('h1')\n",
    "print(titre.prettify())"
   ]
  },
  {
   "cell_type": "code",
   "execution_count": 37,
   "id": "9378847e",
   "metadata": {},
   "outputs": [
    {
     "data": {
      "text/plain": [
       "'Kanye West attaque Pete Davidson dans son dernier clip'"
      ]
     },
     "execution_count": 37,
     "metadata": {},
     "output_type": "execute_result"
    }
   ],
   "source": [
    "titre.getText()"
   ]
  },
  {
   "cell_type": "code",
   "execution_count": 38,
   "id": "81de2252",
   "metadata": {},
   "outputs": [
    {
     "name": "stdout",
     "output_type": "stream",
     "text": [
      "<span class=\"publication\"><time datetime=\"2022-03-03T14:20:00+01:00\">\n",
      "                            Publié le 3 mars 2022 à 14h20\n",
      "                        </time></span>\n"
     ]
    }
   ],
   "source": [
    "date = page.find('span', {'class' : 'publication'})\n",
    "print(date)"
   ]
  },
  {
   "cell_type": "code",
   "execution_count": 39,
   "id": "923d362b",
   "metadata": {},
   "outputs": [
    {
     "data": {
      "text/plain": [
       "'Publié le 3 mars 2022 à 14h20'"
      ]
     },
     "execution_count": 39,
     "metadata": {},
     "output_type": "execute_result"
    }
   ],
   "source": [
    "date.getText().strip()"
   ]
  },
  {
   "cell_type": "code",
   "execution_count": 40,
   "id": "e4e5f602",
   "metadata": {},
   "outputs": [
    {
     "name": "stdout",
     "output_type": "stream",
     "text": [
      "<span class=\"media-heading\">\n",
      "                                Lucie Ahmed\n",
      "                            </span>\n"
     ]
    }
   ],
   "source": [
    "auteur = page.find('span', {'class' : 'media-heading'})\n",
    "print(auteur)"
   ]
  },
  {
   "cell_type": "code",
   "execution_count": 41,
   "id": "fa8e1462",
   "metadata": {},
   "outputs": [
    {
     "data": {
      "text/plain": [
       "'Lucie Ahmed'"
      ]
     },
     "execution_count": 41,
     "metadata": {},
     "output_type": "execute_result"
    }
   ],
   "source": [
    "auteur.getText().strip()"
   ]
  },
  {
   "cell_type": "code",
   "execution_count": null,
   "id": "beb2f24e-e22d-41a0-9e9b-b6af8999b18a",
   "metadata": {
    "ExecuteTime": {
     "end_time": "2022-03-06T16:11:04.428670Z",
     "start_time": "2022-03-06T16:11:04.180560Z"
    }
   },
   "outputs": [],
   "source": []
  },
  {
   "cell_type": "code",
   "execution_count": null,
   "id": "c8f31ca1-bb16-4f75-9919-fa81f344bd07",
   "metadata": {
    "ExecuteTime": {
     "end_time": "2022-03-06T16:11:04.429186Z",
     "start_time": "2022-03-06T16:11:01.038Z"
    }
   },
   "outputs": [],
   "source": []
  },
  {
   "cell_type": "code",
   "execution_count": null,
   "id": "555cf632-b3fe-4a5d-8603-75c592da8a01",
   "metadata": {
    "ExecuteTime": {
     "end_time": "2022-03-06T16:11:04.429186Z",
     "start_time": "2022-03-06T16:11:01.039Z"
    }
   },
   "outputs": [],
   "source": [
    "url_elle2 = \"https://www.elle.fr/People/La-vie-des-people/News/Scarlett-Johansson-sur-ses-grossesses-Les-gens-mettent-une-pression-sur-vous-4002701\""
   ]
  },
  {
   "cell_type": "code",
   "execution_count": null,
   "id": "9a0c0a6e-05b5-4a12-acf7-6ebd0935b242",
   "metadata": {
    "ExecuteTime": {
     "end_time": "2022-03-06T16:11:04.429186Z",
     "start_time": "2022-03-06T16:11:01.040Z"
    }
   },
   "outputs": [],
   "source": [
    "req = Request(url_elle2, headers={'User-Agent': 'Mozilla/5.0'})\n",
    "html = urlopen(req).read().decode('utf-8')\n",
    "print(html[:1000])"
   ]
  },
  {
   "cell_type": "code",
   "execution_count": null,
   "id": "c0260b96-213d-4154-90a0-b0d8efe1bf37",
   "metadata": {
    "ExecuteTime": {
     "end_time": "2022-03-06T16:11:04.429186Z",
     "start_time": "2022-03-06T16:11:01.042Z"
    }
   },
   "outputs": [],
   "source": [
    "page = bs4.BeautifulSoup(html, 'html.parser')"
   ]
  },
  {
   "cell_type": "code",
   "execution_count": null,
   "id": "5b6d1cbf-ad71-4c61-9daf-9bbefa150471",
   "metadata": {
    "ExecuteTime": {
     "end_time": "2022-03-06T16:11:04.429186Z",
     "start_time": "2022-03-06T16:11:01.044Z"
    }
   },
   "outputs": [],
   "source": [
    "article3 = page.find('div', {'id' : 'text'})\n",
    "print(article3.prettify())"
   ]
  },
  {
   "cell_type": "code",
   "execution_count": null,
   "id": "c27568a7-27dd-4230-84e6-5f5ef7a9240a",
   "metadata": {
    "ExecuteTime": {
     "end_time": "2022-03-06T16:11:04.429186Z",
     "start_time": "2022-03-06T16:11:01.046Z"
    }
   },
   "outputs": [],
   "source": [
    "article3.getText().strip()"
   ]
  },
  {
   "cell_type": "code",
   "execution_count": null,
   "id": "02fd8e6d-be11-4a78-b005-6e1dd1441aea",
   "metadata": {
    "ExecuteTime": {
     "end_time": "2022-03-06T16:11:04.429186Z",
     "start_time": "2022-03-06T16:11:01.047Z"
    }
   },
   "outputs": [],
   "source": []
  },
  {
   "cell_type": "code",
   "execution_count": null,
   "id": "3c0a56f5-03eb-47d4-9f8b-30b86577c74e",
   "metadata": {
    "ExecuteTime": {
     "end_time": "2022-03-06T16:11:04.429186Z",
     "start_time": "2022-03-06T16:11:01.048Z"
    }
   },
   "outputs": [],
   "source": [
    "url_elle3 = 'https://www.elle.fr/People/La-vie-des-people/News/Britney-Spears-se-serait-elle-mariee-en-secret-4005245'"
   ]
  },
  {
   "cell_type": "code",
   "execution_count": null,
   "id": "2020cd7c-b9cf-434a-87f3-8cde5cc30515",
   "metadata": {
    "ExecuteTime": {
     "end_time": "2022-03-06T16:11:04.438618Z",
     "start_time": "2022-03-06T16:11:01.049Z"
    }
   },
   "outputs": [],
   "source": [
    "req = Request(url_elle3, headers={'User-Agent': 'Mozilla/5.0'})\n",
    "html = urlopen(req).read().decode('utf-8')\n",
    "print(html[:1000])"
   ]
  },
  {
   "cell_type": "code",
   "execution_count": null,
   "id": "93b5c1cc-0b58-40b2-878d-69bbe9b4b1d7",
   "metadata": {
    "ExecuteTime": {
     "end_time": "2022-03-06T16:11:04.438618Z",
     "start_time": "2022-03-06T16:11:01.051Z"
    }
   },
   "outputs": [],
   "source": [
    "page = bs4.BeautifulSoup(html, 'html.parser')"
   ]
  },
  {
   "cell_type": "code",
   "execution_count": null,
   "id": "45affa18-805e-47e0-873d-fbb3c9fe934f",
   "metadata": {
    "ExecuteTime": {
     "end_time": "2022-03-06T16:11:04.439635Z",
     "start_time": "2022-03-06T16:11:01.053Z"
    }
   },
   "outputs": [],
   "source": [
    "article6 = page.find('div', {'id' : 'text'})\n",
    "print(article6.prettify())"
   ]
  },
  {
   "cell_type": "code",
   "execution_count": null,
   "id": "8a35d8d1-5515-4c84-bba3-c93230220019",
   "metadata": {
    "ExecuteTime": {
     "end_time": "2022-03-06T16:11:04.440547Z",
     "start_time": "2022-03-06T16:11:01.055Z"
    }
   },
   "outputs": [],
   "source": [
    "article6.find('h2', {'class' : 'gallery-title'}).find_parent('div').decompose()"
   ]
  },
  {
   "cell_type": "code",
   "execution_count": null,
   "id": "c3a26b48",
   "metadata": {},
   "outputs": [],
   "source": [
    "article6 = article6.getText()"
   ]
  },
  {
   "cell_type": "code",
   "execution_count": null,
   "id": "9fb52856",
   "metadata": {},
   "outputs": [],
   "source": [
    "article6.replace('\\xa0' , ' ')\n",
    "print(article6)"
   ]
  },
  {
   "cell_type": "code",
   "execution_count": null,
   "id": "78a36493",
   "metadata": {},
   "outputs": [],
   "source": [
    "url_elle4 = 'https://www.elle.fr/People/La-vie-des-people/News/Camilla-Parker-Bowles-ses-larmes-face-au-drame-ukrainien'"
   ]
  },
  {
   "cell_type": "code",
   "execution_count": null,
   "id": "91e12641",
   "metadata": {},
   "outputs": [],
   "source": [
    "req = Request(url_elle4, headers={'User-Agent': 'Mozilla/5.0'})\n",
    "html = urlopen(req).read().decode('utf-8')\n",
    "print(html[:1000])"
   ]
  },
  {
   "cell_type": "code",
   "execution_count": null,
   "id": "229942f4",
   "metadata": {},
   "outputs": [],
   "source": [
    "page = bs4.BeautifulSoup(html, 'html.parser')"
   ]
  },
  {
   "cell_type": "code",
   "execution_count": null,
   "id": "82b77f4e",
   "metadata": {},
   "outputs": [],
   "source": [
    "article7 = page.find('div', {'id' : 'text'})\n",
    "print(article6)"
   ]
  },
  {
   "cell_type": "code",
   "execution_count": null,
   "id": "3d94db51",
   "metadata": {},
   "outputs": [],
   "source": [
    "url_source = 'https://www.elle.fr/actu/fil-info/People?page=1&limit=40&lastGroupedDay=2022-03-02'"
   ]
  },
  {
   "cell_type": "code",
   "execution_count": null,
   "id": "1f6154a5",
   "metadata": {},
   "outputs": [],
   "source": [
    "req = Request(url_source, headers={'User-Agent': 'Mozilla/5.0'})\n",
    "html = urlopen(req).read().decode('utf-8')\n",
    "print(html[:1000])\n",
    "\n"
   ]
  },
  {
   "cell_type": "code",
   "execution_count": null,
   "id": "ae06ba7d-2a96-48b2-979f-95eeb2ac2ea2",
   "metadata": {
    "ExecuteTime": {
     "end_time": "2022-03-06T16:11:04.440547Z",
     "start_time": "2022-03-06T16:11:01.056Z"
    }
   },
   "outputs": [],
   "source": [
    "page = bs4.BeautifulSoup(html, 'html.parser')"
   ]
  },
  {
   "cell_type": "code",
   "execution_count": null,
   "id": "81af67bf-b3be-44d0-903b-a272fde8424b",
   "metadata": {
    "ExecuteTime": {
     "end_time": "2022-03-06T16:11:04.440547Z",
     "start_time": "2022-03-06T16:11:01.057Z"
    }
   },
   "outputs": [],
   "source": [
    "urls = []\n",
    "soupes = page.findAll('span', {'class' : 'titre'})\n",
    "for soup in soupes :\n",
    "    urls.append(soup.find('a').get('href'))"
   ]
  },
  {
   "cell_type": "code",
   "execution_count": null,
   "id": "b3e70dcc-ade4-4938-921a-9102058fc879",
   "metadata": {},
   "outputs": [],
   "source": [
    "print(urls)"
   ]
  },
  {
   "cell_type": "code",
   "execution_count": null,
   "id": "74447337-ea83-4417-9005-90010a9c7a40",
   "metadata": {},
   "outputs": [],
   "source": [
    "len(urls)"
   ]
  },
  {
   "cell_type": "code",
   "execution_count": null,
   "id": "d4172d94",
   "metadata": {},
   "outputs": [],
   "source": [
    "https://www.elle.fr/ajax/get-newsfeed/People?page=9&limit=20&lastGroupedDay=2022-02-15"
   ]
  },
  {
   "cell_type": "code",
   "execution_count": null,
   "id": "4eb0bfd6",
   "metadata": {},
   "outputs": [],
   "source": [
    "https://www.elle.fr/actu/fil-info/People"
   ]
  },
  {
   "cell_type": "code",
   "execution_count": null,
   "id": "13046a5b",
   "metadata": {},
   "outputs": [],
   "source": []
  },
  {
   "cell_type": "code",
   "execution_count": 2,
   "id": "308439ca",
   "metadata": {},
   "outputs": [],
   "source": [
    "import os\n",
    "from selenium import webdriver \n",
    "from selenium.webdriver.common.by import By\n",
    "from selenium.webdriver.common.keys import Keys\n",
    "import time\n",
    "#driver = webdriver.Firefox(executable_path= r\"C:\\Users\\erwan\\Downloads\\geckodriver.exe\")"
   ]
  },
  {
   "cell_type": "code",
   "execution_count": null,
   "id": "a01e881f",
   "metadata": {},
   "outputs": [],
   "source": [
    "driver.get('https://www.elle.fr/actu/fil-info/People')"
   ]
  },
  {
   "cell_type": "code",
   "execution_count": null,
   "id": "f4e73092",
   "metadata": {},
   "outputs": [],
   "source": [
    "url = driver.find_element(by=By.CLASS_NAME, value='titre')"
   ]
  },
  {
   "cell_type": "code",
   "execution_count": null,
   "id": "670ec2d4",
   "metadata": {},
   "outputs": [],
   "source": [
    "print(url)"
   ]
  },
  {
   "cell_type": "code",
   "execution_count": null,
   "id": "3cb74aca",
   "metadata": {},
   "outputs": [],
   "source": [
    "scroll_number = 5\n",
    "for i in range(1 , scroll_number) :\n",
    "    driver.execute_script(\"window.scrollTo(0 , document.body.scrollHeight)\")\n",
    "    time.sleep(3)"
   ]
  },
  {
   "cell_type": "code",
   "execution_count": 3,
   "id": "5771b916",
   "metadata": {},
   "outputs": [],
   "source": [
    "def get_url (source) :\n",
    "    url_source = source\n",
    "    req = Request(url_source, headers={'User-Agent': 'Mozilla/5.0'})\n",
    "    html = urlopen(req).read().decode('utf-8')\n",
    "    page = bs4.BeautifulSoup(html, 'html.parser')\n",
    "    urls = []\n",
    "    soupes = page.findAll('span', {'class' : 'titre'})\n",
    "    for soup in soupes :\n",
    "        urls.append(soup.find('a').get('href'))"
   ]
  },
  {
   "cell_type": "code",
   "execution_count": 26,
   "id": "a7f9a4c2",
   "metadata": {},
   "outputs": [
    {
     "name": "stderr",
     "output_type": "stream",
     "text": [
      "<ipython-input-26-7b1a1b7a8613>:6: DeprecationWarning: executable_path has been deprecated, please pass in a Service object\n",
      "  driver = webdriver.Firefox(executable_path= r\"C:\\Users\\erwan\\Downloads\\geckodriver.exe\")\n",
      "<ipython-input-26-7b1a1b7a8613>:12: DeprecationWarning: find_element_by_* commands are deprecated. Please use find_element() instead\n",
      "  stop_cookies = driver.find_element_by_id(\"didomi-notice-agree-button\")\n",
      "<ipython-input-26-7b1a1b7a8613>:17: DeprecationWarning: find_element_by_tag_name is deprecated. Please use find_element(by=By.TAG_NAME, value=name) instead\n",
      "  element = driver.find_element_by_tag_name('body')\n"
     ]
    }
   ],
   "source": [
    "from selenium import webdriver\n",
    "from selenium.webdriver.common.keys import Keys\n",
    "import time\n",
<<<<<<< HEAD
    "from random import *\n",
=======
    "from random import randint\n",
>>>>>>> 62833bb24c5d7929846a9f80c241e97297a97bb5
    "\n",
    "driver = webdriver.Firefox(executable_path= r\"C:\\Users\\erwan\\Downloads\\geckodriver.exe\")\n",
    "\n",
    "driver.get('https://www.elle.fr/actu/fil-info/People')\n",
    "\n",
    "time.sleep(5)\n",
    "\n",
    "stop_cookies = driver.find_element_by_id(\"didomi-notice-agree-button\")\n",
    "stop_cookies.click()\n",
    "\n",
    "time.sleep(3)\n",
    "\n",
    "element = driver.find_element_by_tag_name('body')\n",
    "\n",
    "timeout = 60 * 30\n",
    "\n",
    "timeout_start = time.time()\n",
    "\n",
    "while time.time() < timeout_start + timeout:\n",
    "    element.send_keys(Keys.PAGE_DOWN)\n",
    "    time.sleep(randint(1,6))\n",
    "\n",
    "\n",
    "    \n",
    "\n"
   ]
  },
  {
   "cell_type": "code",
   "execution_count": 27,
   "id": "41751297",
   "metadata": {},
   "outputs": [
    {
     "name": "stderr",
     "output_type": "stream",
     "text": [
      "<ipython-input-27-a08bbd1c9d15>:1: DeprecationWarning: find_elements_by_xpath is deprecated. Please use find_elements(by=By.XPATH, value=xpath) instead\n",
      "  elems = driver.find_elements_by_xpath(\"//span[contains(@class, 'titre')]/a[@href]\")\n"
     ]
    }
   ],
   "source": [
    "elems = driver.find_elements_by_xpath(\"//span[contains(@class, 'titre')]/a[@href]\")\n",
    "urls = []\n",
    "for elem in elems:\n",
    "    urls.append(elem.get_attribute(\"href\"))"
   ]
  },
  {
   "cell_type": "code",
   "execution_count": 28,
   "id": "bfd7c1df",
   "metadata": {},
   "outputs": [
    {
     "data": {
      "text/plain": [
       "880"
      ]
     },
     "execution_count": 28,
     "metadata": {},
     "output_type": "execute_result"
    }
   ],
   "source": [
    "len(urls)"
   ]
  },
  {
   "cell_type": "code",
   "execution_count": 29,
   "id": "ae7503e5",
   "metadata": {},
   "outputs": [],
   "source": [
    "fichier = open(\"elle.txt\", \"w\")\n",
    "for url in urls :\n",
    "\n",
    "    fichier.write(url + \"\\n\")\n",
    "fichier.close()"
   ]
  },
  {
   "cell_type": "code",
   "execution_count": 4,
   "id": "1d85dc2f",
   "metadata": {},
   "outputs": [],
   "source": [
    "get_url('https://www.elle.fr/actu/fil-info/People')"
   ]
  },
  {
   "cell_type": "code",
   "execution_count": 25,
   "id": "7e4d5ca3",
   "metadata": {},
   "outputs": [
    {
     "data": {
      "text/plain": [
       "280"
      ]
     },
     "execution_count": 25,
     "metadata": {},
     "output_type": "execute_result"
    }
   ],
   "source": [
    "len(urls)"
   ]
  },
  {
   "cell_type": "code",
   "execution_count": 4,
   "id": "915621d6",
   "metadata": {},
   "outputs": [],
   "source": [
    "from scrapping_util import get_selenium_firefox_driver"
   ]
  },
  {
   "cell_type": "code",
   "execution_count": 8,
   "id": "4cba4ea9",
   "metadata": {},
   "outputs": [],
   "source": [
    "driver = get_selenium_firefox_driver('https://www.elle.fr/actu/fil-info/People',  gecko_driver_path = r\"C:\\Users\\erwan\\Downloads\\geckodriver.exe\")"
   ]
  },
  {
   "cell_type": "markdown",
   "id": "4b4d8cda",
   "metadata": {},
   "source": [
    "url en clé de dico +\n",
    "\n",
    "\n",
    "article = page.find('div', {'id' : 'text'})\n",
    "print(article.prettify())\n",
    "\n",
    "article.find('h2', {'class' : 'gallery-title'}).find_parent('div').decompose()\n",
    "\n",
    "article = article.getText()\n",
    "\n",
    "article.replace('\\xa0' , ' ')\n",
    "print(article)\n",
    "\n",
    "titre = page.find('h1')\n",
    "print(titre.prettify())\n",
    "\n",
    "titre.getText()\n",
    "\n",
    "date = page.find('span', {'class' : 'publication'})\n",
    "print(date)\n",
    "\n",
    "date.getText().strip()\n",
    "\n",
    "auteur = page.find('span', {'class' : 'media-heading'})\n",
    "print(auteur)\n",
    "\n",
    "auteur.getText().strip()"
   ]
  },
  {
   "cell_type": "code",
   "execution_count": 46,
   "id": "3c9346ed",
   "metadata": {},
   "outputs": [],
   "source": [
    "from scrapping_util import *"
   ]
  },
  {
   "cell_type": "code",
   "execution_count": 66,
   "id": "cf0e5135",
   "metadata": {},
   "outputs": [],
   "source": [
    "def scrapping_elle(url, tags=None, journal=None, verbose=0):\n",
    "    \"\"\"Retrieve article data\n",
    "\n",
    "    Args:\n",
    "        url (str): the article page url\n",
    "        tags (str, optional): the tags. Defaults to None.\n",
    "        journal (Journal, optional): The paper. Defaults to None.\n",
    "        verbose (int, optional): log level. Defaults to 0.\n",
    "\n",
    "    Raises:\n",
    "        AttributeError: if url is missing\n",
    "\n",
    "    Returns:\n",
    "        Article: the article\n",
    "    \"\"\"\n",
    "    if url is None or len(url)==0:\n",
    "        raise AttributeError(\"URL expected\")\n",
    "\n",
    "    page = get_page(url)\n",
    "\n",
    "    titre = \"\"\n",
    "    date_parution = \"\"\n",
    "    auteur = \"\"\n",
    "    texte = \"\"\n",
    "    # TODO scrapping\n",
    "\n",
    "    \n",
    "    art = page.find('div', {'id' : 'text'})\n",
    "    if art is not None:\n",
    "        # balise titre : <h1></h1>\n",
    "        titre = art.find('h1').getText().strip()\n",
    "        \n",
    "        # DATE : <div class=\"ac-article-date\">\n",
    "        parution = art.find('span', {'class' : 'publication'}).getText().strip()\n",
    "\n",
    "        # Libération des variables\n",
    "        parution=None\n",
    "        parutions = None\n",
    "        \n",
    "        content_balise = art.find('div', {'id' : 'text'})\n",
    "\n",
    "\n",
    "    texte = content_balise.strip()\n",
    "    article = {'titre':titre, 'date_parution':date_parution, 'url':url ,'auteur':auteur, 'texte':texte, 'tags':tags, 'journal':journal}\n",
    "    if verbose:\n",
    "        print(article)\n",
    "    return article\n"
   ]
  },
  {
   "cell_type": "code",
   "execution_count": 68,
   "id": "84fd339e",
   "metadata": {},
   "outputs": [
    {
     "ename": "UnboundLocalError",
     "evalue": "local variable 'content_balise' referenced before assignment",
     "output_type": "error",
     "traceback": [
      "\u001b[1;31m---------------------------------------------------------------------------\u001b[0m",
      "\u001b[1;31mUnboundLocalError\u001b[0m                         Traceback (most recent call last)",
      "\u001b[1;32m<ipython-input-68-69acffd200cd>\u001b[0m in \u001b[0;36m<module>\u001b[1;34m\u001b[0m\n\u001b[1;32m----> 1\u001b[1;33m \u001b[0mscrapping_elle\u001b[0m\u001b[1;33m(\u001b[0m\u001b[1;34m\"https://www.elle.fr/People/La-vie-des-people/News/Millie-Bobby-Brown-amoureuse-officialise-avec-Jake-Bongiovi-sur-le-tapis-rouge-des-BAFTA-2022\"\u001b[0m\u001b[1;33m)\u001b[0m\u001b[1;33m\u001b[0m\u001b[1;33m\u001b[0m\u001b[0m\n\u001b[0m",
      "\u001b[1;32m<ipython-input-66-06597afbdb25>\u001b[0m in \u001b[0;36mscrapping_elle\u001b[1;34m(url, tags, journal, verbose)\u001b[0m\n\u001b[0;32m     41\u001b[0m \u001b[1;33m\u001b[0m\u001b[0m\n\u001b[0;32m     42\u001b[0m \u001b[1;33m\u001b[0m\u001b[0m\n\u001b[1;32m---> 43\u001b[1;33m     \u001b[0mtexte\u001b[0m \u001b[1;33m=\u001b[0m \u001b[0mcontent_balise\u001b[0m\u001b[1;33m.\u001b[0m\u001b[0mstrip\u001b[0m\u001b[1;33m(\u001b[0m\u001b[1;33m)\u001b[0m\u001b[1;33m\u001b[0m\u001b[1;33m\u001b[0m\u001b[0m\n\u001b[0m\u001b[0;32m     44\u001b[0m     \u001b[0marticle\u001b[0m \u001b[1;33m=\u001b[0m \u001b[1;33m{\u001b[0m\u001b[1;34m'titre'\u001b[0m\u001b[1;33m:\u001b[0m\u001b[0mtitre\u001b[0m\u001b[1;33m,\u001b[0m \u001b[1;34m'date_parution'\u001b[0m\u001b[1;33m:\u001b[0m\u001b[0mdate_parution\u001b[0m\u001b[1;33m,\u001b[0m \u001b[1;34m'url'\u001b[0m\u001b[1;33m:\u001b[0m\u001b[0murl\u001b[0m \u001b[1;33m,\u001b[0m\u001b[1;34m'auteur'\u001b[0m\u001b[1;33m:\u001b[0m\u001b[0mauteur\u001b[0m\u001b[1;33m,\u001b[0m \u001b[1;34m'texte'\u001b[0m\u001b[1;33m:\u001b[0m\u001b[0mtexte\u001b[0m\u001b[1;33m,\u001b[0m \u001b[1;34m'tags'\u001b[0m\u001b[1;33m:\u001b[0m\u001b[0mtags\u001b[0m\u001b[1;33m,\u001b[0m \u001b[1;34m'journal'\u001b[0m\u001b[1;33m:\u001b[0m\u001b[0mjournal\u001b[0m\u001b[1;33m}\u001b[0m\u001b[1;33m\u001b[0m\u001b[1;33m\u001b[0m\u001b[0m\n\u001b[0;32m     45\u001b[0m     \u001b[1;32mif\u001b[0m \u001b[0mverbose\u001b[0m\u001b[1;33m:\u001b[0m\u001b[1;33m\u001b[0m\u001b[1;33m\u001b[0m\u001b[0m\n",
      "\u001b[1;31mUnboundLocalError\u001b[0m: local variable 'content_balise' referenced before assignment"
     ]
    }
   ],
   "source": [
    "scrapping_elle(\"https://www.elle.fr/People/La-vie-des-people/News/Millie-Bobby-Brown-amoureuse-officialise-avec-Jake-Bongiovi-sur-le-tapis-rouge-des-BAFTA-2022\")"
   ]
  },
  {
   "cell_type": "code",
   "execution_count": null,
   "id": "bf3effee",
   "metadata": {},
   "outputs": [],
   "source": []
  }
 ],
 "metadata": {
  "kernelspec": {
   "display_name": "Python 3",
   "language": "python",
   "name": "python3"
  },
  "language_info": {
   "codemirror_mode": {
    "name": "ipython",
    "version": 3
   },
   "file_extension": ".py",
   "mimetype": "text/x-python",
   "name": "python",
   "nbconvert_exporter": "python",
   "pygments_lexer": "ipython3",
   "version": "3.8.8"
  }
 },
 "nbformat": 4,
 "nbformat_minor": 5
}
