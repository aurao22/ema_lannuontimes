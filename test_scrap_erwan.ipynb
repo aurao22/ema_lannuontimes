{
 "cells": [
  {
   "cell_type": "code",
   "execution_count": 1,
   "id": "029e5036-6d6e-4d14-8ae5-956004abe262",
   "metadata": {
    "ExecuteTime": {
     "end_time": "2022-03-06T16:11:03.798673Z",
     "start_time": "2022-03-06T16:11:01.019182Z"
    }
   },
   "outputs": [],
   "source": [
    "import pandas\n",
    "import urllib\n",
    "import bs4\n",
    "from urllib.request import Request, urlopen"
   ]
  },
  {
   "cell_type": "code",
   "execution_count": 2,
   "id": "f7183729-62c7-4669-bf76-da3810485485",
   "metadata": {
    "ExecuteTime": {
     "end_time": "2022-03-06T16:11:03.819348Z",
     "start_time": "2022-03-06T16:11:03.799684Z"
    }
   },
   "outputs": [],
   "source": [
    "url_elle = \"https://www.elle.fr/People/La-vie-des-people/News/Kanye-West-attaque-Pete-Davidson-dans-son-dernier-clip-4003128\""
   ]
  },
  {
   "cell_type": "code",
   "execution_count": 3,
   "id": "53c961a6-9840-4b48-afd4-783dd119996f",
   "metadata": {
    "ExecuteTime": {
     "end_time": "2022-03-06T16:11:04.098630Z",
     "start_time": "2022-03-06T16:11:03.828807Z"
    }
   },
   "outputs": [
    {
     "name": "stdout",
     "output_type": "stream",
     "text": [
      "<!DOCTYPE html><!--[if IE 8]><html class=\"ie8\" lang=\"fr\"><![endif]--><!--[if IE 9]><html class=\"ie9\" lang=\"fr\"><![endif]--><!--[if gt IE 9]><!--><html lang=\"fr\"><!--<![endif]--><head><meta charset=\"utf-8\"><meta name=\"msApplication-ID\" content=\"LAGARDEREACTIVEDIGITALSAS.ELLE\"/><meta name=\"msApplication-PackageFamilyName\" content=\"LAGARDEREACTIVEDIGITALSAS.ELLE_ya1j1agkxsss6\"/><title>Kanye West attaque Pete Davidson dans son dernier clip - Elle</title><meta name=\"viewport\" content=\"width=device-width, initial-scale=1\" /><meta name=\"msapplication-starturl\" content=\"https://www.elle.fr\" /><meta name=\"msapplication-window\" content=\"width=1024;height=780\" /><meta name=\"msapplication-navbutton-color\" content=\"#99cc33\" /><meta name=\"msapplication-tooltip\" content=\"Lancer le site web Elle.fr\" /><meta name=\"description\" content=\"Ce mercredi, Kanye West a dévoilé un nouveau clip dans lequel il s’en prend violemment à Pete Davidson.\" /><meta name=\"og:site_name\" content=\"elle.fr\" /><meta property=\"\n"
     ]
    }
   ],
   "source": [
    "req = Request(url_elle, headers={'User-Agent': 'Mozilla/5.0'})\n",
    "html = urlopen(req).read().decode('utf-8')\n",
    "print(html[:1000])"
   ]
  },
  {
   "cell_type": "code",
   "execution_count": 4,
   "id": "77519db1-cfd7-471b-982c-2c0015577d79",
   "metadata": {
    "ExecuteTime": {
     "end_time": "2022-03-06T16:11:04.138621Z",
     "start_time": "2022-03-06T16:11:04.099641Z"
    }
   },
   "outputs": [],
   "source": [
    "page = bs4.BeautifulSoup(html, 'html.parser')"
   ]
  },
  {
   "cell_type": "code",
   "execution_count": 5,
   "id": "fd57b9ff-76d4-4c34-a2ee-bb7b9af89ce6",
   "metadata": {
    "ExecuteTime": {
     "end_time": "2022-03-06T16:11:04.158638Z",
     "start_time": "2022-03-06T16:11:04.139637Z"
    }
   },
   "outputs": [
    {
     "name": "stdout",
     "output_type": "stream",
     "text": [
      "<div class=\"\" id=\"text\">\n",
      " <p>\n",
      "  <a href=\"https://www.elle.fr/Personnalites/Kanye-West\" target=\"_self\">\n",
      "   Kanye West\n",
      "  </a>\n",
      "  n’en finit plus de s’en prendre à Pete Davidson, le nouveau compagnon de\n",
      "  <a href=\"https://www.elle.fr/Personnalites/Kim-Kardashian\" target=\"_self\">\n",
      "   Kim Kardashian.\n",
      "  </a>\n",
      "  Depuis que le rappeur est au courant de la romance entre son ex-femme et l’humoriste, il n’hésite pas à accuser ce dernier\n",
      "  <a href=\"https://www.elle.fr/People/La-vie-des-people/News/Kanye-West-accuse-Pete-Davidson-de-detruire-sa-famille-3989111\" target=\"_self\">\n",
      "   de détruire sa famille\n",
      "  </a>\n",
      "  , à propager des rumeurs sur lui ou à\n",
      "  <a href=\"https://www.elle.fr/People/La-vie-des-people/News/Pete-Davidson-le-compagnon-de-Kim-Kardashian-supprime-son-compte-Instagram-face-au-harcelement-de-Kanye-West-3999290\" target=\"_self\">\n",
      "   le harceler sur les réseaux sociaux\n",
      "  </a>\n",
      "  . Au mois de janvier, Kanye West avait même déclaré dans une de ses nouvelles chansons vouloir « botter les fesses de Pete Davidson ». L’artiste a également dévoilé, ce mercredi 2 mars, le clip de « Eazy » issu de son album « Donda 2 ». Une vidéo d’environ quatre minutes très sombre.\n",
      " </p>\n",
      " <div class=\"Camp AdMobile-pave\" id=\"Elle_People_ellefre_m::1\">\n",
      " </div>\n",
      " <div class=\"embed-responsive embed-responsive-16by9\">\n",
      "  <iframe allow=\"accelerometer; autoplay; clipboard-write; encrypted-media; gyroscope; picture-in-picture\" allowfullscreen=\"\" class=\"lazyload\" data-src=\"https://www.youtube.com/embed/7fIhJu0OyTI\" frameborder=\"0\" height=\"315\" title=\"YouTube video player\" width=\"560\">\n",
      "  </iframe>\n",
      " </div>\n",
      " <p>\n",
      "  Lire aussi &gt;&gt;\n",
      "  <a href=\"https://www.elle.fr/People/La-vie-des-people/News/Couple-de-legende-Kim-Kardashian-et-Kanye-West-gloire-et-chute-d-un-couple-inaccessible\" target=\"_self\">\n",
      "   Couple de légende : Kim Kardashian et Kanye West, gloire et chute d’un couple inaccessible\n",
      "  </a>\n",
      " </p>\n",
      " <div id=\"elle2_inread\">\n",
      " </div>\n",
      " <h2>\n",
      "  Kanye West kidnappe et enterre Pete Davidson\n",
      " </h2>\n",
      " <p>\n",
      "  Kanye West a exprimé toute sa haine et sa colère dans ce clip. En effet, la vidéo sous forme de dessin animé débute avec le rappeur assis sur un cercueil. Puis, on le voit mettre un sac sur la tête d’un personnage ressemblant très étrangement à Pete Davidson. Kanye West le kidnappe pour ensuite se rendre dans une zone abandonnée afin de l’enterrer.  Il décide de planter des graines autour de sa tête. Les fleurs poussent et l’artiste finit par en cueillir plusieurs, avant de les charger dans un pick-up devant Pete Davidson qui est toujours vivant. Cette dernière scène fait clairement référence au camion rempli de roses que Kanye West a offert à son ex-compagne pour la Saint-Valentin. Le clip a été publié quelques heures après que\n",
      "  <a href=\"https://www.elle.fr/People/La-vie-des-people/News/Kim-Kardashian-soulagee-d-etre-officiellement-divorcee-4003065\" target=\"_self\">\n",
      "   Kim Kardashian a officiellement retrouvé son statut de célibataire.\n",
      "  </a>\n",
      " </p>\n",
      " <div>\n",
      "  <h2 class=\"gallery-title\">\n",
      "   Kanye West, le rappeur mégalo\n",
      "  </h2>\n",
      "  <div aria-controls=\"modal-gallery\" aria-expanded=\"false\" aria-haspopup=\"true\" class=\"gallery-toggle\" data-target=\"#modal-gallery-0\" data-toggle=\"modal\" id=\"gallery-button\">\n",
      "   <figure>\n",
      "    <picture>\n",
      "     <source data-srcset=\"https://resize.elle.fr/article_320_webp/var/plain_site/storage/images/people/la-vie-des-people/news/kanye-west-le-rappeur-megalo/19202156-1-fre-FR/Kanye-West-le-rappeur-megalo.jpg 320w,https://resize.elle.fr/article_webp/var/plain_site/storage/images/people/la-vie-des-people/news/kanye-west-le-rappeur-megalo/19202156-1-fre-FR/Kanye-West-le-rappeur-megalo.jpg 640w,https://resize.elle.fr/article_1280_webp/var/plain_site/storage/images/people/la-vie-des-people/news/kanye-west-le-rappeur-megalo/19202156-1-fre-FR/Kanye-West-le-rappeur-megalo.jpg 1280w\" sizes=\"(min-width: 62em) 40em, 100vw\" type=\"image/webp\"/>\n",
      "     <source data-srcset=\"https://resize.elle.fr/article_320/var/plain_site/storage/images/people/la-vie-des-people/news/kanye-west-le-rappeur-megalo/19202156-1-fre-FR/Kanye-West-le-rappeur-megalo.jpg 320w,https://resize.elle.fr/article/var/plain_site/storage/images/people/la-vie-des-people/news/kanye-west-le-rappeur-megalo/19202156-1-fre-FR/Kanye-West-le-rappeur-megalo.jpg 640w,https://resize.elle.fr/article_1280/var/plain_site/storage/images/people/la-vie-des-people/news/kanye-west-le-rappeur-megalo/19202156-1-fre-FR/Kanye-West-le-rappeur-megalo.jpg 1280w\" sizes=\"(min-width: 62em) 40em, 100vw\" type=\"image/jpeg\"/>\n",
      "     <img alt=\"\" class=\"img-responsive lazyload gallery-toggle__image\" data-src=\"https://resize.elle.fr/article/var/plain_site/storage/images/people/la-vie-des-people/news/kanye-west-le-rappeur-megalo/19202156-1-fre-FR/Kanye-West-le-rappeur-megalo.jpg\" height=\"416\" width=\"640\"/>\n",
      "    </picture>\n",
      "   </figure>\n",
      "   <div class=\"btn gallery-toggle__list\">\n",
      "    <svg class=\"gallery-toggle__item gallery-toggle__icon-gallery\" fill=\"none\" height=\"20\" viewbox=\"0 0 28 23\" width=\"25\" xmlns=\"http://www.w3.org/2000/svg\">\n",
      "     <path d=\"M7.5 7.5h20v15h-20z\" fill=\"#fff\" stroke=\"#000\">\n",
      "     </path>\n",
      "     <path d=\"M4.5 4.5h20v15h-20z\" fill=\"#fff\" stroke=\"#000\">\n",
      "     </path>\n",
      "     <path d=\"M.5.5h21v16H.5z\" fill=\"#fff\" stroke=\"#000\">\n",
      "     </path>\n",
      "    </svg>\n",
      "    <span class=\"gallery-toggle__item gallery-toggle__text\">\n",
      "     Voir la galerie\n",
      "    </span>\n",
      "    <span class=\"gallery-toggle__item gallery-toggle__icon-next icon-elle_fleche-suiv\">\n",
      "    </span>\n",
      "   </div>\n",
      "  </div>\n",
      "  <div aria-hidden=\"false\" aria-labelledby=\"myModalLabel\" class=\"modal fade in modal--center modal--gallery\" id=\"modal-gallery-0\" role=\"dialog\" tabindex=\"-1\">\n",
      "   <div class=\"modal-dialog\">\n",
      "    <div class=\"modal-content\">\n",
      "     <div class=\"gallery-header\">\n",
      "      <button aria-label=\"Close\" class=\"gallery-header__close icon-elle_fermer\" data-dismiss=\"modal\" type=\"button\">\n",
      "      </button>\n",
      "      <div class=\"gallery-header__title\">\n",
      "       Kanye West, le rappeur mégalo\n",
      "      </div>\n",
      "     </div>\n",
      "     <iframe aria-label=\"galerie d'images - Kanye West, le rappeur mégalo\" class=\"gallery-iframe js-gallery-iframe\" data-src=\"https://www.elle.fr/slideshow/embed/2202648/Kanye-West-le-rappeur-megalo\">\n",
      "     </iframe>\n",
      "     <div class=\"gallery-loader js-gallery-loader\">\n",
      "      <svg viewbox=\"25 25 50 50\">\n",
      "       <circle cx=\"50\" cy=\"50\" r=\"20\">\n",
      "       </circle>\n",
      "      </svg>\n",
      "     </div>\n",
      "    </div>\n",
      "   </div>\n",
      "  </div>\n",
      "  <script class=\"LazyScriptLoader-group-4\" type=\"lazyscript\">\n",
      "   let openGalleryEvent = new Event(\"galerieembed_cmip_open\");\n",
      "                        let closeGalleryEvent = new Event(\"galerieembed_cmip_close\");\n",
      "\n",
      "                        $(\"#modal-gallery-0\").on(\"shown.bs.modal\", function (e) {\n",
      "                            document.dispatchEvent(openGalleryEvent);\n",
      "                            let galleryIframe = $(this)[0].querySelector(\".js-gallery-iframe\");\n",
      "                            if (galleryIframe.hasAttribute(\"data-src\")) {\n",
      "                                galleryIframe.setAttribute(\"src\", galleryIframe.dataset.src);\n",
      "                                galleryIframe.removeAttribute(\"data-src\");\n",
      "                            }  \n",
      "                            galleryIframe.onload = function() {\n",
      "                                galleryIframe.contentWindow.focus();\n",
      "                            };                       \n",
      "                        });\n",
      "\n",
      "                        $(\"#modal-gallery-0\").on(\"hide.bs.modal\", function (e) {\n",
      "                            document.dispatchEvent(closeGalleryEvent);\n",
      "                        });\n",
      "  </script>\n",
      " </div>\n",
      "</div>\n"
     ]
    }
   ],
   "source": [
    "article = page.find('div', {'id' : 'text'})\n",
    "print(article.prettify())"
   ]
  },
  {
   "cell_type": "code",
   "execution_count": 6,
   "id": "f3b17456",
   "metadata": {},
   "outputs": [],
   "source": [
    "#article.find('h2', {'class' : 'gallery-title'}).decompose()"
   ]
  },
  {
   "cell_type": "code",
   "execution_count": 7,
   "id": "2c6c58a1",
   "metadata": {},
   "outputs": [],
   "source": [
    "article.find('h2', {'class' : 'gallery-title'}).find_parent('div').decompose()"
   ]
  },
  {
   "cell_type": "code",
   "execution_count": 8,
   "id": "15d5c13c-b3d8-4425-a28c-5bd288ca40b8",
   "metadata": {
    "ExecuteTime": {
     "end_time": "2022-03-06T16:11:04.178548Z",
     "start_time": "2022-03-06T16:11:04.161497Z"
    }
   },
   "outputs": [],
   "source": [
    "article = article.getText()"
   ]
  },
  {
   "cell_type": "code",
   "execution_count": 9,
   "id": "67812f36",
   "metadata": {},
   "outputs": [
    {
     "name": "stdout",
     "output_type": "stream",
     "text": [
      "Kanye West n’en finit plus de s’en prendre à Pete Davidson, le nouveau compagnon de Kim Kardashian. Depuis que le rappeur est au courant de la romance entre son ex-femme et l’humoriste, il n’hésite pas à accuser ce dernier de détruire sa famille, à propager des rumeurs sur lui ou à le harceler sur les réseaux sociaux. Au mois de janvier, Kanye West avait même déclaré dans une de ses nouvelles chansons vouloir « botter les fesses de Pete Davidson ». L’artiste a également dévoilé, ce mercredi 2 mars, le clip de « Eazy » issu de son album « Donda 2 ». Une vidéo d’environ quatre minutes très sombre.Lire aussi >> Couple de légende : Kim Kardashian et Kanye West, gloire et chute d’un couple inaccessibleKanye West kidnappe et enterre Pete DavidsonKanye West a exprimé toute sa haine et sa colère dans ce clip. En effet, la vidéo sous forme de dessin animé débute avec le rappeur assis sur un cercueil. Puis, on le voit mettre un sac sur la tête d’un personnage ressemblant très étrangement à Pete Davidson. Kanye West le kidnappe pour ensuite se rendre dans une zone abandonnée afin de l’enterrer.  Il décide de planter des graines autour de sa tête. Les fleurs poussent et l’artiste finit par en cueillir plusieurs, avant de les charger dans un pick-up devant Pete Davidson qui est toujours vivant. Cette dernière scène fait clairement référence au camion rempli de roses que Kanye West a offert à son ex-compagne pour la Saint-Valentin. Le clip a été publié quelques heures après que Kim Kardashian a officiellement retrouvé son statut de célibataire.\n"
     ]
    }
   ],
   "source": [
    "article.replace('\\xa0' , ' ')\n",
    "print(article)"
   ]
  },
  {
   "cell_type": "code",
   "execution_count": null,
   "id": "dee224f4",
   "metadata": {},
   "outputs": [],
   "source": []
  },
  {
   "cell_type": "code",
   "execution_count": 10,
   "id": "34d3a5c3",
   "metadata": {},
   "outputs": [
    {
     "name": "stdout",
     "output_type": "stream",
     "text": [
      "<h1>\n",
      " Kanye West attaque Pete Davidson dans son dernier clip\n",
      "</h1>\n",
      "\n"
     ]
    }
   ],
   "source": [
    "titre = page.find('h1')\n",
    "print(titre.prettify())"
   ]
  },
  {
   "cell_type": "code",
   "execution_count": 11,
   "id": "9378847e",
   "metadata": {},
   "outputs": [
    {
     "data": {
      "text/plain": [
       "'Kanye West attaque Pete Davidson dans son dernier clip'"
      ]
     },
     "execution_count": 11,
     "metadata": {},
     "output_type": "execute_result"
    }
   ],
   "source": [
    "titre.getText()"
   ]
  },
  {
   "cell_type": "code",
   "execution_count": 12,
   "id": "81de2252",
   "metadata": {},
   "outputs": [
    {
     "name": "stdout",
     "output_type": "stream",
     "text": [
      "<span class=\"publication\"><time datetime=\"2022-03-03T14:20:00+01:00\">\n",
      "                            Publié le 3 mars 2022 à 14h20\n",
      "                        </time></span>\n"
     ]
    }
   ],
   "source": [
    "date = page.find('span', {'class' : 'publication'})\n",
    "print(date)"
   ]
  },
  {
   "cell_type": "code",
   "execution_count": 13,
   "id": "923d362b",
   "metadata": {},
   "outputs": [
    {
     "data": {
      "text/plain": [
       "'Publié le 3 mars 2022 à 14h20'"
      ]
     },
     "execution_count": 13,
     "metadata": {},
     "output_type": "execute_result"
    }
   ],
   "source": [
    "date.getText().strip()"
   ]
  },
  {
   "cell_type": "code",
   "execution_count": 14,
   "id": "e4e5f602",
   "metadata": {},
   "outputs": [
    {
     "name": "stdout",
     "output_type": "stream",
     "text": [
      "<span class=\"media-heading\">\n",
      "                                Lucie Ahmed\n",
      "                            </span>\n"
     ]
    }
   ],
   "source": [
    "auteur = page.find('span', {'class' : 'media-heading'})\n",
    "print(auteur)"
   ]
  },
  {
   "cell_type": "code",
   "execution_count": 15,
   "id": "fa8e1462",
   "metadata": {},
   "outputs": [
    {
     "data": {
      "text/plain": [
       "'Lucie Ahmed'"
      ]
     },
     "execution_count": 15,
     "metadata": {},
     "output_type": "execute_result"
    }
   ],
   "source": [
    "auteur.getText().strip()"
   ]
  },
  {
   "cell_type": "code",
   "execution_count": null,
   "id": "beb2f24e-e22d-41a0-9e9b-b6af8999b18a",
   "metadata": {
    "ExecuteTime": {
     "end_time": "2022-03-06T16:11:04.428670Z",
     "start_time": "2022-03-06T16:11:04.180560Z"
    }
   },
   "outputs": [],
   "source": []
  },
  {
   "cell_type": "code",
   "execution_count": null,
   "id": "c8f31ca1-bb16-4f75-9919-fa81f344bd07",
   "metadata": {
    "ExecuteTime": {
     "end_time": "2022-03-06T16:11:04.429186Z",
     "start_time": "2022-03-06T16:11:01.038Z"
    }
   },
   "outputs": [],
   "source": []
  },
  {
   "cell_type": "code",
   "execution_count": 16,
   "id": "555cf632-b3fe-4a5d-8603-75c592da8a01",
   "metadata": {
    "ExecuteTime": {
     "end_time": "2022-03-06T16:11:04.429186Z",
     "start_time": "2022-03-06T16:11:01.039Z"
    }
   },
   "outputs": [],
   "source": [
    "url_elle2 = \"https://www.elle.fr/People/La-vie-des-people/News/Scarlett-Johansson-sur-ses-grossesses-Les-gens-mettent-une-pression-sur-vous-4002701\""
   ]
  },
  {
   "cell_type": "code",
   "execution_count": 17,
   "id": "9a0c0a6e-05b5-4a12-acf7-6ebd0935b242",
   "metadata": {
    "ExecuteTime": {
     "end_time": "2022-03-06T16:11:04.429186Z",
     "start_time": "2022-03-06T16:11:01.040Z"
    }
   },
   "outputs": [
    {
     "name": "stdout",
     "output_type": "stream",
     "text": [
      "<!DOCTYPE html><!--[if IE 8]><html class=\"ie8\" lang=\"fr\"><![endif]--><!--[if IE 9]><html class=\"ie9\" lang=\"fr\"><![endif]--><!--[if gt IE 9]><!--><html lang=\"fr\"><!--<![endif]--><head><meta charset=\"utf-8\"><meta name=\"msApplication-ID\" content=\"LAGARDEREACTIVEDIGITALSAS.ELLE\"/><meta name=\"msApplication-PackageFamilyName\" content=\"LAGARDEREACTIVEDIGITALSAS.ELLE_ya1j1agkxsss6\"/><title>Scarlett Johansson sur ses grossesses : « Les gens mettent une pression sur vous » - Elle</title><meta name=\"viewport\" content=\"width=device-width, initial-scale=1\" /><meta name=\"msapplication-starturl\" content=\"https://www.elle.fr\" /><meta name=\"msapplication-window\" content=\"width=1024;height=780\" /><meta name=\"msapplication-navbutton-color\" content=\"#99cc33\" /><meta name=\"msapplication-tooltip\" content=\"Lancer le site web Elle.fr\" /><meta name=\"description\" content=\"Lors d’une interview, Scarlett Johansson a confié comment la maternité l’a changée, mais a aussi dénoncé la pression que peuvent subir certai\n"
     ]
    }
   ],
   "source": [
    "req = Request(url_elle2, headers={'User-Agent': 'Mozilla/5.0'})\n",
    "html = urlopen(req).read().decode('utf-8')\n",
    "print(html[:1000])"
   ]
  },
  {
   "cell_type": "code",
   "execution_count": 18,
   "id": "c0260b96-213d-4154-90a0-b0d8efe1bf37",
   "metadata": {
    "ExecuteTime": {
     "end_time": "2022-03-06T16:11:04.429186Z",
     "start_time": "2022-03-06T16:11:01.042Z"
    }
   },
   "outputs": [],
   "source": [
    "page = bs4.BeautifulSoup(html, 'html.parser')"
   ]
  },
  {
   "cell_type": "code",
   "execution_count": 19,
   "id": "5b6d1cbf-ad71-4c61-9daf-9bbefa150471",
   "metadata": {
    "ExecuteTime": {
     "end_time": "2022-03-06T16:11:04.429186Z",
     "start_time": "2022-03-06T16:11:01.044Z"
    }
   },
   "outputs": [
    {
     "name": "stdout",
     "output_type": "stream",
     "text": [
      "<div class=\"\" id=\"text\">\n",
      " <p>\n",
      "  <a href=\"https://www.elle.fr/Personnalites/Scarlett-Johansson\" target=\"_self\">\n",
      "   Scarlett Johansson\n",
      "  </a>\n",
      "  a donné naissance à son deuxième enfant en août 2021. Très discrète sur sa vie privée, l’actrice, qui\n",
      "  <a href=\"https://www.elle.fr/Beaute/News-beaute/Beaute-des-stars/Scarlett-Johansson-elle-lance-sa-toute-premiere-marque-de-soins-3997258\" target=\"_self\">\n",
      "   lance une nouvelle marque de soin de la peau nommée « The Outset »\n",
      "  </a>\n",
      "  , a expliqué comment le fait de devenir mère lui avait permis de prendre un nouveau départ, lors d’une interview pour l’édition américaine de « Vanity Fair » : « Évidemment, avoir des enfants est la chose qui a le plus changé ma vie. J'ai deux enfants, et après avoir eu ma fille Rose, il m'a fallu beaucoup de temps pour ressentir ce sentiment de nouveau départ. J’étais dans cette phase où vous êtes toujours connectées avec votre bébé. » Elle raconte : « Ce n'est que lorsque ma fille est devenue plus indépendante de moi, vers deux ans, que je me suis redécouverte. Je me suis demandé ce qui était le plus important pour moi dans ma vie. Je sentais que le travail que je faisais et les choix que je faisais personnellement devaient être intentionnels d'une certaine manière. Je savais mieux ce que je ne voulais pas dans ma vie et dans ma carrière. »\n",
      " </p>\n",
      " <div class=\"Camp AdMobile-pave\" id=\"Elle_People_ellefre_m::1\">\n",
      " </div>\n",
      " <p>\n",
      "  Lire aussi &gt;&gt;\n",
      "  <a href=\"https://www.elle.fr/People/La-vie-des-people/News/Mariage-royal-Sarah-Armstrong-Jones-et-Daniel-Chatto-l-amour-loin-du-protocole-royal\" target=\"_self\">\n",
      "   Mariage royal : Sarah Armstrong-Jones et Daniel Chatto, l’amour loin du protocole royal\n",
      "  </a>\n",
      " </p>\n",
      " <div id=\"elle2_inread\">\n",
      " </div>\n",
      " <h2>\n",
      "  « Beaucoup de choses sont imposées aux femmes enceintes »\n",
      " </h2>\n",
      " <p>\n",
      "  Scarlett Johansson est mère de deux enfants. De son deuxième mariage avec Romain Dauriac est née une petite fille, Rose Dorothy, âgée de sept ans.\n",
      "  <a href=\"https://www.elle.fr/People/La-vie-des-people/News/Scarlett-Johansson-a-accouche-de-son-deuxieme-enfant-decouvrez-son-prenom-3943051\" target=\"_self\">\n",
      "   Cette année, l’actrice a accueilli, avec son mari Colin Jost, un petit garçon.\n",
      "  </a>\n",
      "  L’interprète de Black Widow a révélé avoir été très protectrice durant ses deux grossesses car elle ne voulait pas se sentir scrutée aux yeux du monde entier : « Je voulais pouvoir avoir mes propres sentiments sur mon corps qui changeait sans que d'autres personnes ne me disent aussi comment elles me voyaient, que ce soit positif ou négatif. » Pendant sa seconde grossesse, Scarlett Johansson a pris conscience de la pression que subissent certaines femmes enceintes : « C’était marrant de voir à quel point les gens mettent une pression sur vous. Leurs espoirs, leurs jugements ou leurs désirs, beaucoup de choses sont imposées aux femmes enceintes. » Elle poursuit : « Plein de femmes m’ont tout de suite dit : \"c'est génial, oh mon Dieu, c'est merveilleux.\" Et même si j’étais vraiment ravie d’être enceinte, d’une certaine manière, je le vivais aussi un peu mal, et ce sentiment était scruté par certaines femmes, des femmes proches de moi. Vous attendez cela de la part des hommes, mais vis-à-vis des femmes, vous vous dites : \"Sérieux ? Toi qui es passée par là.\" »\n",
      " </p>\n",
      " <div>\n",
      "  <h2 class=\"gallery-title\">\n",
      "   Scarlett Johansson : ses dix films cultes\n",
      "  </h2>\n",
      "  <div aria-controls=\"modal-gallery\" aria-expanded=\"false\" aria-haspopup=\"true\" class=\"gallery-toggle\" data-target=\"#modal-gallery-0\" data-toggle=\"modal\" id=\"gallery-button\">\n",
      "   <figure>\n",
      "    <picture>\n",
      "     <source data-srcset=\"https://resize.elle.fr/article_320_webp/var/plain_site/storage/images/loisirs/cinema/dossiers/scarlett-johansson-ses-dix-films-cultes/18676464-3-fre-FR/Scarlett-Johansson-ses-dix-films-cultes.jpg 320w,https://resize.elle.fr/article_webp/var/plain_site/storage/images/loisirs/cinema/dossiers/scarlett-johansson-ses-dix-films-cultes/18676464-3-fre-FR/Scarlett-Johansson-ses-dix-films-cultes.jpg 640w,https://resize.elle.fr/article_1280_webp/var/plain_site/storage/images/loisirs/cinema/dossiers/scarlett-johansson-ses-dix-films-cultes/18676464-3-fre-FR/Scarlett-Johansson-ses-dix-films-cultes.jpg 1280w\" sizes=\"(min-width: 62em) 40em, 100vw\" type=\"image/webp\"/>\n",
      "     <source data-srcset=\"https://resize.elle.fr/article_320/var/plain_site/storage/images/loisirs/cinema/dossiers/scarlett-johansson-ses-dix-films-cultes/18676464-3-fre-FR/Scarlett-Johansson-ses-dix-films-cultes.jpg 320w,https://resize.elle.fr/article/var/plain_site/storage/images/loisirs/cinema/dossiers/scarlett-johansson-ses-dix-films-cultes/18676464-3-fre-FR/Scarlett-Johansson-ses-dix-films-cultes.jpg 640w,https://resize.elle.fr/article_1280/var/plain_site/storage/images/loisirs/cinema/dossiers/scarlett-johansson-ses-dix-films-cultes/18676464-3-fre-FR/Scarlett-Johansson-ses-dix-films-cultes.jpg 1280w\" sizes=\"(min-width: 62em) 40em, 100vw\" type=\"image/jpeg\"/>\n",
      "     <img alt=\"\" class=\"img-responsive lazyload gallery-toggle__image\" data-src=\"https://resize.elle.fr/article/var/plain_site/storage/images/loisirs/cinema/dossiers/scarlett-johansson-ses-dix-films-cultes/18676464-3-fre-FR/Scarlett-Johansson-ses-dix-films-cultes.jpg\" height=\"416\" width=\"640\"/>\n",
      "    </picture>\n",
      "   </figure>\n",
      "   <div class=\"btn gallery-toggle__list\">\n",
      "    <svg class=\"gallery-toggle__item gallery-toggle__icon-gallery\" fill=\"none\" height=\"20\" viewbox=\"0 0 28 23\" width=\"25\" xmlns=\"http://www.w3.org/2000/svg\">\n",
      "     <path d=\"M7.5 7.5h20v15h-20z\" fill=\"#fff\" stroke=\"#000\">\n",
      "     </path>\n",
      "     <path d=\"M4.5 4.5h20v15h-20z\" fill=\"#fff\" stroke=\"#000\">\n",
      "     </path>\n",
      "     <path d=\"M.5.5h21v16H.5z\" fill=\"#fff\" stroke=\"#000\">\n",
      "     </path>\n",
      "    </svg>\n",
      "    <span class=\"gallery-toggle__item gallery-toggle__text\">\n",
      "     Voir la galerie\n",
      "    </span>\n",
      "    <span class=\"gallery-toggle__item gallery-toggle__icon-next icon-elle_fleche-suiv\">\n",
      "    </span>\n",
      "   </div>\n",
      "  </div>\n",
      "  <div aria-hidden=\"false\" aria-labelledby=\"myModalLabel\" class=\"modal fade in modal--center modal--gallery\" id=\"modal-gallery-0\" role=\"dialog\" tabindex=\"-1\">\n",
      "   <div class=\"modal-dialog\">\n",
      "    <div class=\"modal-content\">\n",
      "     <div class=\"gallery-header\">\n",
      "      <button aria-label=\"Close\" class=\"gallery-header__close icon-elle_fermer\" data-dismiss=\"modal\" type=\"button\">\n",
      "      </button>\n",
      "      <div class=\"gallery-header__title\">\n",
      "       Scarlett Johansson : ses dix films cultes\n",
      "      </div>\n",
      "     </div>\n",
      "     <iframe aria-label=\"galerie d'images - Scarlett Johansson : ses dix films cultes\" class=\"gallery-iframe js-gallery-iframe\" data-src=\"https://www.elle.fr/slideshow/embed/2132648/Scarlett-Johansson-ses-dix-films-cultes\">\n",
      "     </iframe>\n",
      "     <div class=\"gallery-loader js-gallery-loader\">\n",
      "      <svg viewbox=\"25 25 50 50\">\n",
      "       <circle cx=\"50\" cy=\"50\" r=\"20\">\n",
      "       </circle>\n",
      "      </svg>\n",
      "     </div>\n",
      "    </div>\n",
      "   </div>\n",
      "  </div>\n",
      "  <script class=\"LazyScriptLoader-group-4\" type=\"lazyscript\">\n",
      "   let openGalleryEvent = new Event(\"galerieembed_cmip_open\");\n",
      "                        let closeGalleryEvent = new Event(\"galerieembed_cmip_close\");\n",
      "\n",
      "                        $(\"#modal-gallery-0\").on(\"shown.bs.modal\", function (e) {\n",
      "                            document.dispatchEvent(openGalleryEvent);\n",
      "                            let galleryIframe = $(this)[0].querySelector(\".js-gallery-iframe\");\n",
      "                            if (galleryIframe.hasAttribute(\"data-src\")) {\n",
      "                                galleryIframe.setAttribute(\"src\", galleryIframe.dataset.src);\n",
      "                                galleryIframe.removeAttribute(\"data-src\");\n",
      "                            }  \n",
      "                            galleryIframe.onload = function() {\n",
      "                                galleryIframe.contentWindow.focus();\n",
      "                            };                       \n",
      "                        });\n",
      "\n",
      "                        $(\"#modal-gallery-0\").on(\"hide.bs.modal\", function (e) {\n",
      "                            document.dispatchEvent(closeGalleryEvent);\n",
      "                        });\n",
      "  </script>\n",
      " </div>\n",
      "</div>\n"
     ]
    }
   ],
   "source": [
    "article3 = page.find('div', {'id' : 'text'})\n",
    "print(article3.prettify())"
   ]
  },
  {
   "cell_type": "code",
   "execution_count": 20,
   "id": "c27568a7-27dd-4230-84e6-5f5ef7a9240a",
   "metadata": {
    "ExecuteTime": {
     "end_time": "2022-03-06T16:11:04.429186Z",
     "start_time": "2022-03-06T16:11:01.046Z"
    }
   },
   "outputs": [
    {
     "data": {
      "text/plain": [
       "'Scarlett Johansson a donné naissance à son deuxième enfant en août 2021. Très discrète sur sa vie privée, l’actrice,\\xa0qui lance une nouvelle marque de soin de la peau nommée « The Outset », a expliqué comment le fait de devenir mère lui avait permis de prendre un nouveau départ, lors d’une interview pour l’édition américaine de « Vanity Fair »\\xa0: « Évidemment, avoir des enfants est la chose qui a le plus changé ma vie. J\\'ai deux enfants, et après avoir eu ma fille Rose, il m\\'a fallu beaucoup de temps pour ressentir ce sentiment de nouveau départ. J’étais dans cette phase où vous êtes toujours connectées\\xa0avec votre bébé. » Elle raconte : « Ce n\\'est que lorsque ma fille est devenue plus indépendante de moi, vers deux ans, que je me suis redécouverte. Je me suis demandé ce qui était le plus important pour moi dans ma vie. Je sentais que le travail que je faisais et les choix que je faisais personnellement devaient être intentionnels d\\'une certaine manière. Je savais mieux ce que je ne voulais pas dans ma vie et dans ma carrière. »Lire aussi >> Mariage royal : Sarah Armstrong-Jones et Daniel Chatto, l’amour loin du protocole royal« Beaucoup de choses sont imposées aux femmes enceintes »Scarlett Johansson est mère de deux enfants. De son deuxième mariage avec Romain Dauriac est née une petite fille, Rose Dorothy, âgée de sept ans. Cette année, l’actrice a accueilli,\\xa0avec son mari Colin Jost, un petit garçon. L’interprète de Black Widow a révélé avoir été très protectrice durant ses deux grossesses car elle ne voulait pas se sentir scrutée aux yeux du monde entier : « Je voulais pouvoir avoir mes propres sentiments sur mon corps qui changeait sans que d\\'autres personnes ne me disent aussi comment elles me voyaient, que ce soit positif ou négatif. » Pendant sa seconde grossesse, Scarlett Johansson a pris conscience\\xa0de la pression\\xa0que subissent certaines femmes enceintes : « C’était marrant de voir à quel point les gens mettent une pression sur vous. Leurs espoirs, leurs jugements ou leurs désirs, beaucoup de choses sont imposées aux femmes enceintes. » Elle poursuit : « Plein de femmes m’ont tout de suite dit\\xa0:\\xa0\"c\\'est génial, oh mon Dieu, c\\'est merveilleux.\" Et même si j’étais vraiment ravie d’être enceinte, d’une certaine manière, je le vivais aussi un peu mal, et ce sentiment était scruté par certaines femmes, des femmes proches de moi. Vous attendez cela de la part des hommes, mais vis-à-vis des femmes,\\xa0vous vous dites\\xa0:\\xa0\"Sérieux ? Toi qui es passée par là.\"\\xa0»Scarlett Johansson\\xa0: ses dix films cultesVoir la galerieScarlett Johansson\\xa0: ses dix films cultes'"
      ]
     },
     "execution_count": 20,
     "metadata": {},
     "output_type": "execute_result"
    }
   ],
   "source": [
    "article3.getText().strip()"
   ]
  },
  {
   "cell_type": "code",
   "execution_count": null,
   "id": "02fd8e6d-be11-4a78-b005-6e1dd1441aea",
   "metadata": {
    "ExecuteTime": {
     "end_time": "2022-03-06T16:11:04.429186Z",
     "start_time": "2022-03-06T16:11:01.047Z"
    }
   },
   "outputs": [],
   "source": []
  },
  {
   "cell_type": "code",
   "execution_count": 21,
   "id": "3c0a56f5-03eb-47d4-9f8b-30b86577c74e",
   "metadata": {
    "ExecuteTime": {
     "end_time": "2022-03-06T16:11:04.429186Z",
     "start_time": "2022-03-06T16:11:01.048Z"
    }
   },
   "outputs": [],
   "source": [
    "url_elle3 = 'https://www.elle.fr/People/La-vie-des-people/News/Britney-Spears-se-serait-elle-mariee-en-secret-4005245'"
   ]
  },
  {
   "cell_type": "code",
   "execution_count": 22,
   "id": "2020cd7c-b9cf-434a-87f3-8cde5cc30515",
   "metadata": {
    "ExecuteTime": {
     "end_time": "2022-03-06T16:11:04.438618Z",
     "start_time": "2022-03-06T16:11:01.049Z"
    }
   },
   "outputs": [
    {
     "name": "stdout",
     "output_type": "stream",
     "text": [
      "<!DOCTYPE html><!--[if IE 8]><html class=\"ie8\" lang=\"fr\"><![endif]--><!--[if IE 9]><html class=\"ie9\" lang=\"fr\"><![endif]--><!--[if gt IE 9]><!--><html lang=\"fr\"><!--<![endif]--><head><meta charset=\"utf-8\"><meta name=\"msApplication-ID\" content=\"LAGARDEREACTIVEDIGITALSAS.ELLE\"/><meta name=\"msApplication-PackageFamilyName\" content=\"LAGARDEREACTIVEDIGITALSAS.ELLE_ya1j1agkxsss6\"/><title>Britney Spears se serait-elle mariée en secret ? - Elle</title><meta name=\"viewport\" content=\"width=device-width, initial-scale=1\" /><meta name=\"msapplication-starturl\" content=\"https://www.elle.fr\" /><meta name=\"msapplication-window\" content=\"width=1024;height=780\" /><meta name=\"msapplication-navbutton-color\" content=\"#99cc33\" /><meta name=\"msapplication-tooltip\" content=\"Lancer le site web Elle.fr\" /><meta name=\"description\" content=\"Alors qu’elle s’est envolée pour la Polynésie à l’occasion de l’anniversaire de son compagnon, Britney Spears a semé le doute concernant le statut de son couple.\" /><meta name\n"
     ]
    }
   ],
   "source": [
    "req = Request(url_elle3, headers={'User-Agent': 'Mozilla/5.0'})\n",
    "html = urlopen(req).read().decode('utf-8')\n",
    "print(html[:1000])"
   ]
  },
  {
   "cell_type": "code",
   "execution_count": 23,
   "id": "93b5c1cc-0b58-40b2-878d-69bbe9b4b1d7",
   "metadata": {
    "ExecuteTime": {
     "end_time": "2022-03-06T16:11:04.438618Z",
     "start_time": "2022-03-06T16:11:01.051Z"
    }
   },
   "outputs": [],
   "source": [
    "page = bs4.BeautifulSoup(html, 'html.parser')"
   ]
  },
  {
   "cell_type": "code",
   "execution_count": 24,
   "id": "45affa18-805e-47e0-873d-fbb3c9fe934f",
   "metadata": {
    "ExecuteTime": {
     "end_time": "2022-03-06T16:11:04.439635Z",
     "start_time": "2022-03-06T16:11:01.053Z"
    }
   },
   "outputs": [
    {
     "name": "stdout",
     "output_type": "stream",
     "text": [
      "<div class=\"\" id=\"text\">\n",
      " <p>\n",
      "  <a href=\"https://www.elle.fr/People/La-vie-des-people/News/Britney-Spears-liberee-de-la-tutelle-de-son-pere-elle-prend-une-grande-decision-3963760\" target=\"_self\">\n",
      "   Libérée de la tutelle dirigée par son père\n",
      "  </a>\n",
      "  Jamie Spears pendant treize ans,\n",
      "  <a href=\"https://www.elle.fr/Personnalites/Britney-Spears\" target=\"_self\">\n",
      "   Britney Spears\n",
      "  </a>\n",
      "  profite désormais de sa vie aux côtés de son compagnon Sam Asghari. Le coach sportif de 28 ans partage la vie de l’interprète de « Baby One More Time » depuis presque six ans. En effet, la chanteuse avait rencontré Sam Asghari en octobre 2016, lors du tournage du clip de sa chanson « Slumber Party ». À l’époque, ce dernier joue le rôle de l’amant de Britney Spears dans la vidéo. Le duo a un coup de foudre l’un pour l’autre et très vite la fiction laisse place à la réalité. Depuis, les deux tourtereaux ne se sont pas quittés et\n",
      "  <a href=\"https://www.elle.fr/People/La-vie-des-people/News/Britney-Spears-s-est-fiancee-3948883\" target=\"_self\">\n",
      "   se sont même fiancés il y a quelques mois\n",
      "  </a>\n",
      "  .\n",
      " </p>\n",
      " <div class=\"Camp AdMobile-pave\" id=\"Elle_People_ellefre_m::1\">\n",
      " </div>\n",
      " <p>\n",
      "  À lire aussi &gt;&gt;\n",
      "  <a href=\"https://www.elle.fr/People/La-vie-des-people/News/La-vie-amoureuse-trepidante-de-Britney-Spears\" target=\"_self\">\n",
      "   La vie amoureuse trépidante de Britney Spears\n",
      "  </a>\n",
      " </p>\n",
      " <div id=\"elle2_inread\">\n",
      " </div>\n",
      " <h2>\n",
      "  Son fiancé ou son mari ?\n",
      " </h2>\n",
      " <blockquote class=\"instagram-media lazyload\" data-instagram=\"instagram-post\" data-instgrm-captioned=\"\" data-instgrm-permalink=\"https://www.instagram.com/p/CasWF10vQW5/?utm_source=ig_embed&amp;utm_campaign=loading\" data-instgrm-version=\"14\" data-script=\"//www.instagram.com/embed.js\" style=\" background:#FFF; border:0; border-radius:3px; box-shadow:0 0 1px 0 rgba(0,0,0,0.5),0 1px 10px 0 rgba(0,0,0,0.15); margin: 1px; max-width:540px; min-width:326px; padding:0; width:99.375%; width:-webkit-calc(100% - 2px); width:calc(100% - 2px);\">\n",
      "  <div style=\"padding:16px;\">\n",
      "   <a href=\"https://www.instagram.com/p/CasWF10vQW5/?utm_source=ig_embed&amp;utm_campaign=loading\" rel=\"noopener\" style=\" background:#FFFFFF; line-height:0; padding:0 0; text-align:center; text-decoration:none; width:100%;\" target=\"_blank\">\n",
      "    <div style=\" display: flex; flex-direction: row; align-items: center;\">\n",
      "     <div style=\"background-color: #F4F4F4; border-radius: 50%; flex-grow: 0; height: 40px; margin-right: 14px; width: 40px;\">\n",
      "     </div>\n",
      "     <div style=\"display: flex; flex-direction: column; flex-grow: 1; justify-content: center;\">\n",
      "      <div style=\" background-color: #F4F4F4; border-radius: 4px; flex-grow: 0; height: 14px; margin-bottom: 6px; width: 100px;\">\n",
      "      </div>\n",
      "      <div style=\" background-color: #F4F4F4; border-radius: 4px; flex-grow: 0; height: 14px; width: 60px;\">\n",
      "      </div>\n",
      "     </div>\n",
      "    </div>\n",
      "    <div style=\"padding: 19% 0;\">\n",
      "    </div>\n",
      "    <div style=\"display:block; height:50px; margin:0 auto 12px; width:50px;\">\n",
      "     <svg height=\"50px\" version=\"1.1\" viewbox=\"0 0 60 60\" width=\"50px\" xmlns=\"https://www.w3.org/2000/svg\" xmlns:xlink=\"https://www.w3.org/1999/xlink\">\n",
      "      <g fill=\"none\" fill-rule=\"evenodd\" stroke=\"none\" stroke-width=\"1\">\n",
      "       <g fill=\"#000000\" transform=\"translate(-511.000000, -20.000000)\">\n",
      "        <g>\n",
      "         <path d=\"M556.869,30.41 C554.814,30.41 553.148,32.076 553.148,34.131 C553.148,36.186 554.814,37.852 556.869,37.852 C558.924,37.852 560.59,36.186 560.59,34.131 C560.59,32.076 558.924,30.41 556.869,30.41 M541,60.657 C535.114,60.657 530.342,55.887 530.342,50 C530.342,44.114 535.114,39.342 541,39.342 C546.887,39.342 551.658,44.114 551.658,50 C551.658,55.887 546.887,60.657 541,60.657 M541,33.886 C532.1,33.886 524.886,41.1 524.886,50 C524.886,58.899 532.1,66.113 541,66.113 C549.9,66.113 557.115,58.899 557.115,50 C557.115,41.1 549.9,33.886 541,33.886 M565.378,62.101 C565.244,65.022 564.756,66.606 564.346,67.663 C563.803,69.06 563.154,70.057 562.106,71.106 C561.058,72.155 560.06,72.803 558.662,73.347 C557.607,73.757 556.021,74.244 553.102,74.378 C549.944,74.521 548.997,74.552 541,74.552 C533.003,74.552 532.056,74.521 528.898,74.378 C525.979,74.244 524.393,73.757 523.338,73.347 C521.94,72.803 520.942,72.155 519.894,71.106 C518.846,70.057 518.197,69.06 517.654,67.663 C517.244,66.606 516.755,65.022 516.623,62.101 C516.479,58.943 516.448,57.996 516.448,50 C516.448,42.003 516.479,41.056 516.623,37.899 C516.755,34.978 517.244,33.391 517.654,32.338 C518.197,30.938 518.846,29.942 519.894,28.894 C520.942,27.846 521.94,27.196 523.338,26.654 C524.393,26.244 525.979,25.756 528.898,25.623 C532.057,25.479 533.004,25.448 541,25.448 C548.997,25.448 549.943,25.479 553.102,25.623 C556.021,25.756 557.607,26.244 558.662,26.654 C560.06,27.196 561.058,27.846 562.106,28.894 C563.154,29.942 563.803,30.938 564.346,32.338 C564.756,33.391 565.244,34.978 565.378,37.899 C565.522,41.056 565.552,42.003 565.552,50 C565.552,57.996 565.522,58.943 565.378,62.101 M570.82,37.631 C570.674,34.438 570.167,32.258 569.425,30.349 C568.659,28.377 567.633,26.702 565.965,25.035 C564.297,23.368 562.623,22.342 560.652,21.575 C558.743,20.834 556.562,20.326 553.369,20.18 C550.169,20.033 549.148,20 541,20 C532.853,20 531.831,20.033 528.631,20.18 C525.438,20.326 523.257,20.834 521.349,21.575 C519.376,22.342 517.703,23.368 516.035,25.035 C514.368,26.702 513.342,28.377 512.574,30.349 C511.834,32.258 511.326,34.438 511.181,37.631 C511.035,40.831 511,41.851 511,50 C511,58.147 511.035,59.17 511.181,62.369 C511.326,65.562 511.834,67.743 512.574,69.651 C513.342,71.625 514.368,73.296 516.035,74.965 C517.703,76.634 519.376,77.658 521.349,78.425 C523.257,79.167 525.438,79.673 528.631,79.82 C531.831,79.965 532.853,80.001 541,80.001 C549.148,80.001 550.169,79.965 553.369,79.82 C556.562,79.673 558.743,79.167 560.652,78.425 C562.623,77.658 564.297,76.634 565.965,74.965 C567.633,73.296 568.659,71.625 569.425,69.651 C570.167,67.743 570.674,65.562 570.82,62.369 C570.966,59.17 571,58.147 571,50 C571,41.851 570.966,40.831 570.82,37.631\">\n",
      "         </path>\n",
      "        </g>\n",
      "       </g>\n",
      "      </g>\n",
      "     </svg>\n",
      "    </div>\n",
      "    <div style=\"padding-top: 8px;\">\n",
      "     <div style=\" color:#3897f0; font-family:Arial,sans-serif; font-size:14px; font-style:normal; font-weight:550; line-height:18px;\">\n",
      "      Voir cette publication sur Instagram\n",
      "     </div>\n",
      "    </div>\n",
      "    <div style=\"padding: 12.5% 0;\">\n",
      "    </div>\n",
      "    <div style=\"display: flex; flex-direction: row; margin-bottom: 14px; align-items: center;\">\n",
      "     <div>\n",
      "      <div style=\"background-color: #F4F4F4; border-radius: 50%; height: 12.5px; width: 12.5px; transform: translateX(0px) translateY(7px);\">\n",
      "      </div>\n",
      "      <div style=\"background-color: #F4F4F4; height: 12.5px; transform: rotate(-45deg) translateX(3px) translateY(1px); width: 12.5px; flex-grow: 0; margin-right: 14px; margin-left: 2px;\">\n",
      "      </div>\n",
      "      <div style=\"background-color: #F4F4F4; border-radius: 50%; height: 12.5px; width: 12.5px; transform: translateX(9px) translateY(-18px);\">\n",
      "      </div>\n",
      "     </div>\n",
      "     <div style=\"margin-left: 8px;\">\n",
      "      <div style=\" background-color: #F4F4F4; border-radius: 50%; flex-grow: 0; height: 20px; width: 20px;\">\n",
      "      </div>\n",
      "      <div style=\" width: 0; height: 0; border-top: 2px solid transparent; border-left: 6px solid #f4f4f4; border-bottom: 2px solid transparent; transform: translateX(16px) translateY(-4px) rotate(30deg)\">\n",
      "      </div>\n",
      "     </div>\n",
      "     <div style=\"margin-left: auto;\">\n",
      "      <div style=\" width: 0px; border-top: 8px solid #F4F4F4; border-right: 8px solid transparent; transform: translateY(16px);\">\n",
      "      </div>\n",
      "      <div style=\" background-color: #F4F4F4; flex-grow: 0; height: 12px; width: 16px; transform: translateY(-4px);\">\n",
      "      </div>\n",
      "      <div style=\" width: 0; height: 0; border-top: 8px solid #F4F4F4; border-left: 8px solid transparent; transform: translateY(-4px) translateX(8px);\">\n",
      "      </div>\n",
      "     </div>\n",
      "    </div>\n",
      "    <div style=\"display: flex; flex-direction: column; flex-grow: 1; justify-content: center; margin-bottom: 24px;\">\n",
      "     <div style=\" background-color: #F4F4F4; border-radius: 4px; flex-grow: 0; height: 14px; margin-bottom: 6px; width: 224px;\">\n",
      "     </div>\n",
      "     <div style=\" background-color: #F4F4F4; border-radius: 4px; flex-grow: 0; height: 14px; width: 144px;\">\n",
      "     </div>\n",
      "    </div>\n",
      "   </a>\n",
      "   <p style=\" color:#c9c8cd; font-family:Arial,sans-serif; font-size:14px; line-height:17px; margin-bottom:0; margin-top:8px; overflow:hidden; padding:8px 0 7px; text-align:center; text-overflow:ellipsis; white-space:nowrap;\">\n",
      "    <a href=\"https://www.instagram.com/p/CasWF10vQW5/?utm_source=ig_embed&amp;utm_campaign=loading\" rel=\"noopener\" style=\" color:#c9c8cd; font-family:Arial,sans-serif; font-size:14px; font-style:normal; font-weight:normal; line-height:17px; text-decoration:none;\" target=\"_blank\">\n",
      "     Une publication partagée par Britney Spears (@britneyspears)\n",
      "    </a>\n",
      "   </p>\n",
      "  </div>\n",
      " </blockquote>\n",
      " <p>\n",
      "  Plus amoureux que jamais, le couple a décidé le 1er mars dernier de s’offrir un séjour en Polynésie pour célébrer l’anniversaire de Sam Asghari. Des vacances en amoureux que Britney Spears ne manque pas de partager avec ses fans sur son compte Instagram. Dès leur départ, elle avait provoqué une vague d’interrogations en postant une vidéo dans laquelle on la voyait\n",
      "  <a href=\"https://www.elle.fr/People/La-vie-des-people/News/Pourquoi-Britney-Spears-porte-t-elle-sa-bague-de-fiancailles-a-la-main-droite-4001242\" target=\"_self\">\n",
      "   porter sa bague de fiançailles à la main droite\n",
      "  </a>\n",
      "  , un choix inhabituel. Mais ce 3 mars 2022, une autre publication de Britney Spears a provoqué l’étonnement. La veille de l’anniversaire de son compagnon, la star a publié un élégant cliché de ce dernier en écrivant en légende : « Une si belle photo de mon mari ! Il travaille tellement dur et il m'impressionne chaque jour avec cette passion qu'il a pour la vie. Je suis tellement chanceuse de pouvoir partager ma vie avec lui. » Un tendre message qui a pourtant choqué ses abonnés. La star appelle Sam Asghari « son mari » et non son fiancé comme dans ses précédents posts. Britney Spears et son amoureux auraient-ils officialisé leur union dans le plus grand des secrets ?\n",
      " </p>\n",
      "</div>\n"
     ]
    }
   ],
   "source": [
    "article6 = page.find('div', {'id' : 'text'})\n",
    "print(article6.prettify())"
   ]
  },
  {
   "cell_type": "code",
   "execution_count": 25,
   "id": "8a35d8d1-5515-4c84-bba3-c93230220019",
   "metadata": {
    "ExecuteTime": {
     "end_time": "2022-03-06T16:11:04.440547Z",
     "start_time": "2022-03-06T16:11:01.055Z"
    }
   },
   "outputs": [
    {
     "ename": "AttributeError",
     "evalue": "'NoneType' object has no attribute 'find_parent'",
     "output_type": "error",
     "traceback": [
      "\u001b[1;31m---------------------------------------------------------------------------\u001b[0m",
      "\u001b[1;31mAttributeError\u001b[0m                            Traceback (most recent call last)",
      "\u001b[1;32m<ipython-input-25-e1b5ac0040f9>\u001b[0m in \u001b[0;36m<module>\u001b[1;34m\u001b[0m\n\u001b[1;32m----> 1\u001b[1;33m \u001b[0marticle6\u001b[0m\u001b[1;33m.\u001b[0m\u001b[0mfind\u001b[0m\u001b[1;33m(\u001b[0m\u001b[1;34m'h2'\u001b[0m\u001b[1;33m,\u001b[0m \u001b[1;33m{\u001b[0m\u001b[1;34m'class'\u001b[0m \u001b[1;33m:\u001b[0m \u001b[1;34m'gallery-title'\u001b[0m\u001b[1;33m}\u001b[0m\u001b[1;33m)\u001b[0m\u001b[1;33m.\u001b[0m\u001b[0mfind_parent\u001b[0m\u001b[1;33m(\u001b[0m\u001b[1;34m'div'\u001b[0m\u001b[1;33m)\u001b[0m\u001b[1;33m.\u001b[0m\u001b[0mdecompose\u001b[0m\u001b[1;33m(\u001b[0m\u001b[1;33m)\u001b[0m\u001b[1;33m\u001b[0m\u001b[1;33m\u001b[0m\u001b[0m\n\u001b[0m",
      "\u001b[1;31mAttributeError\u001b[0m: 'NoneType' object has no attribute 'find_parent'"
     ]
    }
   ],
   "source": [
    "article6.find('h2', {'class' : 'gallery-title'}).find_parent('div').decompose()"
   ]
  },
  {
   "cell_type": "code",
   "execution_count": 26,
   "id": "c3a26b48",
   "metadata": {},
   "outputs": [],
   "source": [
    "article6 = article6.getText()"
   ]
  },
  {
   "cell_type": "code",
   "execution_count": 27,
   "id": "9fb52856",
   "metadata": {},
   "outputs": [
    {
     "name": "stdout",
     "output_type": "stream",
     "text": [
      "Libérée de la tutelle dirigée par son père Jamie Spears pendant treize ans, Britney Spears profite désormais de sa vie aux côtés de son compagnon Sam Asghari. Le coach sportif de 28 ans partage la vie de l’interprète de « Baby One More Time » depuis presque six ans. En effet, la chanteuse avait rencontré Sam Asghari en octobre 2016, lors du tournage du clip de sa chanson « Slumber Party ». À l’époque, ce dernier joue le rôle de l’amant de Britney Spears dans la vidéo. Le duo a un coup de foudre l’un pour l’autre et très vite la fiction laisse place à la réalité. Depuis, les deux tourtereaux ne se sont pas quittés et se sont même fiancés il y a quelques mois.À lire aussi >> La vie amoureuse trépidante de Britney SpearsSon fiancé ou son mari ?Voir cette publication sur InstagramUne publication partagée par Britney Spears (@britneyspears)Plus amoureux que jamais, le couple a décidé le 1er mars dernier de s’offrir un séjour en Polynésie pour célébrer l’anniversaire de Sam Asghari. Des vacances en amoureux que Britney Spears ne manque pas de partager avec ses fans sur son compte Instagram. Dès leur départ, elle avait provoqué une vague d’interrogations en postant une vidéo dans laquelle on la voyait porter sa bague de fiançailles à la main droite, un choix inhabituel. Mais ce 3 mars 2022, une autre publication de Britney Spears a provoqué l’étonnement. La veille de l’anniversaire de son compagnon, la star a publié un élégant cliché de ce dernier en écrivant en légende : « Une si belle photo de mon mari ! Il travaille tellement dur et il m'impressionne chaque jour avec cette passion qu'il a pour la vie. Je suis tellement chanceuse de pouvoir partager ma vie avec lui. » Un tendre message qui a pourtant choqué ses abonnés. La star appelle Sam Asghari « son mari » et non son fiancé comme dans ses précédents posts. Britney Spears et son amoureux auraient-ils officialisé leur union dans le plus grand des secrets ? \n"
     ]
    }
   ],
   "source": [
    "article6.replace('\\xa0' , ' ')\n",
    "print(article6)"
   ]
  },
  {
   "cell_type": "code",
   "execution_count": 28,
   "id": "78a36493",
   "metadata": {},
   "outputs": [],
   "source": [
    "url_elle4 = 'https://www.elle.fr/People/La-vie-des-people/News/Camilla-Parker-Bowles-ses-larmes-face-au-drame-ukrainien'"
   ]
  },
  {
   "cell_type": "code",
   "execution_count": 29,
   "id": "91e12641",
   "metadata": {},
   "outputs": [
    {
     "name": "stdout",
     "output_type": "stream",
     "text": [
      "<!DOCTYPE html><!--[if IE 8]><html class=\"ie8\" lang=\"fr\"><![endif]--><!--[if IE 9]><html class=\"ie9\" lang=\"fr\"><![endif]--><!--[if gt IE 9]><!--><html lang=\"fr\"><!--<![endif]--><head><meta charset=\"utf-8\"><meta name=\"msApplication-ID\" content=\"LAGARDEREACTIVEDIGITALSAS.ELLE\"/><meta name=\"msApplication-PackageFamilyName\" content=\"LAGARDEREACTIVEDIGITALSAS.ELLE_ya1j1agkxsss6\"/><title>Camilla Parker Bowles : ses larmes face au drame ukrainien - Elle</title><meta name=\"viewport\" content=\"width=device-width, initial-scale=1\" /><meta name=\"msapplication-starturl\" content=\"https://www.elle.fr\" /><meta name=\"msapplication-window\" content=\"width=1024;height=780\" /><meta name=\"msapplication-navbutton-color\" content=\"#99cc33\" /><meta name=\"msapplication-tooltip\" content=\"Lancer le site web Elle.fr\" /><meta name=\"description\" content=\"Camilla Parker Bowles et le prince Charles ont rencontré la communauté ukrainienne de Londres.\" /><meta name=\"og:site_name\" content=\"elle.fr\" /><meta property=\"og:ti\n"
     ]
    }
   ],
   "source": [
    "req = Request(url_elle4, headers={'User-Agent': 'Mozilla/5.0'})\n",
    "html = urlopen(req).read().decode('utf-8')\n",
    "print(html[:1000])"
   ]
  },
  {
   "cell_type": "code",
   "execution_count": 30,
   "id": "229942f4",
   "metadata": {},
   "outputs": [],
   "source": [
    "page = bs4.BeautifulSoup(html, 'html.parser')"
   ]
  },
  {
   "cell_type": "code",
   "execution_count": 31,
   "id": "82b77f4e",
   "metadata": {},
   "outputs": [
    {
     "name": "stdout",
     "output_type": "stream",
     "text": [
      "Libérée de la tutelle dirigée par son père Jamie Spears pendant treize ans, Britney Spears profite désormais de sa vie aux côtés de son compagnon Sam Asghari. Le coach sportif de 28 ans partage la vie de l’interprète de « Baby One More Time » depuis presque six ans. En effet, la chanteuse avait rencontré Sam Asghari en octobre 2016, lors du tournage du clip de sa chanson « Slumber Party ». À l’époque, ce dernier joue le rôle de l’amant de Britney Spears dans la vidéo. Le duo a un coup de foudre l’un pour l’autre et très vite la fiction laisse place à la réalité. Depuis, les deux tourtereaux ne se sont pas quittés et se sont même fiancés il y a quelques mois.À lire aussi >> La vie amoureuse trépidante de Britney SpearsSon fiancé ou son mari ?Voir cette publication sur InstagramUne publication partagée par Britney Spears (@britneyspears)Plus amoureux que jamais, le couple a décidé le 1er mars dernier de s’offrir un séjour en Polynésie pour célébrer l’anniversaire de Sam Asghari. Des vacances en amoureux que Britney Spears ne manque pas de partager avec ses fans sur son compte Instagram. Dès leur départ, elle avait provoqué une vague d’interrogations en postant une vidéo dans laquelle on la voyait porter sa bague de fiançailles à la main droite, un choix inhabituel. Mais ce 3 mars 2022, une autre publication de Britney Spears a provoqué l’étonnement. La veille de l’anniversaire de son compagnon, la star a publié un élégant cliché de ce dernier en écrivant en légende : « Une si belle photo de mon mari ! Il travaille tellement dur et il m'impressionne chaque jour avec cette passion qu'il a pour la vie. Je suis tellement chanceuse de pouvoir partager ma vie avec lui. » Un tendre message qui a pourtant choqué ses abonnés. La star appelle Sam Asghari « son mari » et non son fiancé comme dans ses précédents posts. Britney Spears et son amoureux auraient-ils officialisé leur union dans le plus grand des secrets ? \n"
     ]
    }
   ],
   "source": [
    "article7 = page.find('div', {'id' : 'text'})\n",
    "print(article6)"
   ]
  },
  {
   "cell_type": "code",
   "execution_count": 32,
   "id": "3d94db51",
   "metadata": {},
   "outputs": [],
   "source": [
    "url_source = 'https://www.elle.fr/actu/fil-info/People?page=1&limit=40&lastGroupedDay=2022-03-02'"
   ]
  },
  {
   "cell_type": "code",
   "execution_count": 33,
   "id": "1f6154a5",
   "metadata": {},
   "outputs": [
    {
     "name": "stdout",
     "output_type": "stream",
     "text": [
      "<!DOCTYPE html><!--[if IE 8]><html class=\"ie8\" lang=\"fr\"><![endif]--><!--[if IE 9]><html class=\"ie9\" lang=\"fr\"><![endif]--><!--[if gt IE 9]><!--><html lang=\"fr\"><!--<![endif]--><head><meta charset=\"utf-8\"><meta name=\"msApplication-ID\" content=\"LAGARDEREACTIVEDIGITALSAS.ELLE\"/><meta name=\"msApplication-PackageFamilyName\" content=\"LAGARDEREACTIVEDIGITALSAS.ELLE_ya1j1agkxsss6\"/><title>Fil info People - l'actualité en direct - Elle</title><meta name=\"viewport\" content=\"width=device-width, initial-scale=1\" /><meta name=\"msapplication-starturl\" content=\"https://www.elle.fr\" /><meta name=\"msapplication-window\" content=\"width=1024;height=780\" /><meta name=\"msapplication-navbutton-color\" content=\"#99cc33\" /><meta name=\"msapplication-tooltip\" content=\"Lancer le site web Elle.fr\" /><meta name=\"og:site_name\" content=\"elle.fr\" /><meta property=\"og:url\" content=\"actu/fil-info/People\" /><meta property=\"og:image\" content=\"http:\" /><meta property=\"og:locale\" content=\"fr_FR\" /><meta name=\"robots\" conten\n"
     ]
    }
   ],
   "source": [
    "req = Request(url_source, headers={'User-Agent': 'Mozilla/5.0'})\n",
    "html = urlopen(req).read().decode('utf-8')\n",
    "print(html[:1000])\n",
    "\n"
   ]
  },
  {
   "cell_type": "code",
   "execution_count": 34,
   "id": "ae06ba7d-2a96-48b2-979f-95eeb2ac2ea2",
   "metadata": {
    "ExecuteTime": {
     "end_time": "2022-03-06T16:11:04.440547Z",
     "start_time": "2022-03-06T16:11:01.056Z"
    }
   },
   "outputs": [],
   "source": [
    "page = bs4.BeautifulSoup(html, 'html.parser')"
   ]
  },
  {
   "cell_type": "code",
   "execution_count": 35,
   "id": "81af67bf-b3be-44d0-903b-a272fde8424b",
   "metadata": {
    "ExecuteTime": {
     "end_time": "2022-03-06T16:11:04.440547Z",
     "start_time": "2022-03-06T16:11:01.057Z"
    }
   },
   "outputs": [],
   "source": [
    "urls = []\n",
    "soupes = page.findAll('span', {'class' : 'titre'})\n",
    "for soup in soupes :\n",
    "    urls.append(soup.find('a').get('href'))"
   ]
  },
  {
   "cell_type": "code",
   "execution_count": 36,
   "id": "b3e70dcc-ade4-4938-921a-9102058fc879",
   "metadata": {},
   "outputs": [
    {
     "name": "stdout",
     "output_type": "stream",
     "text": [
      "['https://www.elle.fr/People/La-vie-des-people/News/Kate-et-William-leur-danse-endiablee-au-Belize', 'https://www.elle.fr/People/La-vie-des-people/News/Ma-soiree-paillettes-avec-Juliette-Armanet-par-Louison-4009950', 'https://www.elle.fr/People/Tapis-rouge/Evenements/Kristen-Stewart-Jessica-Chastain-Serena-Williams-le-tapis-rouge-des-Producers-Guild-Awards', 'https://www.elle.fr/People/La-vie-des-people/News/Amal-Clooney-se-confie-sur-son-couple-avec-George-Clooney-4009938', 'https://www.elle.fr/People/La-vie-des-people/News/Kim-Kardashian-et-sa-soeur-Khloe-leur-sortie-remarquee-a-Miami', 'https://www.elle.fr/People/La-vie-des-people/News/Scarlett-Johansson-se-confie-sur-sa-fille-de-7-ans-4009920', 'https://www.elle.fr/People/La-vie-des-people/News/Kate-Middleton-et-le-prince-William-assortis-pour-leur-arrivee-au-Belize', 'https://www.elle.fr/People/La-vie-des-people/News/Brooklyn-Beckham-ce-nouveau-tatouage-dedie-a-sa-fiancee-Nicola-Peltz-4009907', 'https://www.elle.fr/People/La-vie-des-people/News/Camilla-Parker-Bowles-son-difficile-retablissement-apres-le-Covid-19-4009903', 'https://www.elle.fr/People/La-vie-des-people/News/Albert-de-Monaco-son-discours-poignant-en-faveur-de-l-Ukraine-4009902', 'https://www.elle.fr/People/La-vie-des-people/News/Angelina-Jolie-et-sa-fille-Zahara-a-la-Maison-Blanche-pour-une-decision-symbolique', 'https://www.elle.fr/People/La-vie-des-people/Interviews/Anthony-Delon-J-ai-resiste-aux-demons-de-notre-famille-4008862', 'https://www.elle.fr/People/La-vie-des-people/News/Prince-William-et-Kate-Middleton-loin-d-etre-les-bienvenus-aux-Caraibes-4009893', 'https://www.elle.fr/People/La-vie-des-people/News/Britney-Spears-a-deserte-Instagram-4009892', 'https://www.elle.fr/People/La-vie-des-people/News/Lou-Doillon-attend-un-deuxieme-enfant-4009891', 'https://www.elle.fr/People/La-vie-des-people/News/Kanye-West-sanctionne-par-Instagram-Kim-Kardashian-reagit-4009890', 'https://www.elle.fr/People/La-vie-des-people/News/Enfant-star-Willow-Smith-la-celebrite-en-heritage', 'https://www.elle.fr/People/La-vie-des-people/News/Qu-arrive-t-il-vraiment-a-Celine-Dion-4009447', 'https://www.elle.fr/People/La-vie-des-people/News/Camille-Cottin-ses-confidences-sur-Lady-Gaga-4009820', 'https://www.elle.fr/People/La-vie-des-people/News/Anniversaire-de-Laeticia-Hallyday-les-messages-touchants-de-ses-filles-Jade-et-Joy-4009742']\n"
     ]
    }
   ],
   "source": [
    "print(urls)"
   ]
  },
  {
   "cell_type": "code",
   "execution_count": 37,
   "id": "74447337-ea83-4417-9005-90010a9c7a40",
   "metadata": {},
   "outputs": [
    {
     "data": {
      "text/plain": [
       "20"
      ]
     },
     "execution_count": 37,
     "metadata": {},
     "output_type": "execute_result"
    }
   ],
   "source": [
    "len(urls)"
   ]
  },
  {
   "cell_type": "code",
   "execution_count": 38,
   "id": "d4172d94",
   "metadata": {},
   "outputs": [
    {
     "ename": "SyntaxError",
     "evalue": "invalid syntax (<ipython-input-38-b0f0d14a9fde>, line 1)",
     "output_type": "error",
     "traceback": [
      "\u001b[1;36m  File \u001b[1;32m\"<ipython-input-38-b0f0d14a9fde>\"\u001b[1;36m, line \u001b[1;32m1\u001b[0m\n\u001b[1;33m    https://www.elle.fr/ajax/get-newsfeed/People?page=9&limit=20&lastGroupedDay=2022-02-15\u001b[0m\n\u001b[1;37m          ^\u001b[0m\n\u001b[1;31mSyntaxError\u001b[0m\u001b[1;31m:\u001b[0m invalid syntax\n"
     ]
    }
   ],
   "source": [
    "https://www.elle.fr/ajax/get-newsfeed/People?page=9&limit=20&lastGroupedDay=2022-02-15"
   ]
  },
  {
   "cell_type": "code",
   "execution_count": null,
   "id": "4eb0bfd6",
   "metadata": {},
   "outputs": [],
   "source": [
    "https://www.elle.fr/actu/fil-info/People"
   ]
  },
  {
   "cell_type": "code",
   "execution_count": null,
   "id": "13046a5b",
   "metadata": {},
   "outputs": [],
   "source": []
  },
  {
   "cell_type": "code",
   "execution_count": 39,
   "id": "308439ca",
   "metadata": {},
   "outputs": [],
   "source": [
    "import os\n",
    "from selenium import webdriver \n",
    "from selenium.webdriver.common.by import By\n",
    "from selenium.webdriver.common.keys import Keys\n",
    "import time\n",
    "#driver = webdriver.Firefox(executable_path= r\"C:\\Users\\erwan\\Downloads\\geckodriver.exe\")"
   ]
  },
  {
   "cell_type": "code",
   "execution_count": 40,
   "id": "a01e881f",
   "metadata": {},
   "outputs": [
    {
     "ename": "NameError",
     "evalue": "name 'driver' is not defined",
     "output_type": "error",
     "traceback": [
      "\u001b[1;31m---------------------------------------------------------------------------\u001b[0m",
      "\u001b[1;31mNameError\u001b[0m                                 Traceback (most recent call last)",
      "\u001b[1;32m<ipython-input-40-682abb4942a5>\u001b[0m in \u001b[0;36m<module>\u001b[1;34m\u001b[0m\n\u001b[1;32m----> 1\u001b[1;33m \u001b[0mdriver\u001b[0m\u001b[1;33m.\u001b[0m\u001b[0mget\u001b[0m\u001b[1;33m(\u001b[0m\u001b[1;34m'https://www.elle.fr/actu/fil-info/People'\u001b[0m\u001b[1;33m)\u001b[0m\u001b[1;33m\u001b[0m\u001b[1;33m\u001b[0m\u001b[0m\n\u001b[0m",
      "\u001b[1;31mNameError\u001b[0m: name 'driver' is not defined"
     ]
    }
   ],
   "source": [
    "driver.get('https://www.elle.fr/actu/fil-info/People')"
   ]
  },
  {
   "cell_type": "code",
   "execution_count": 41,
   "id": "f4e73092",
   "metadata": {},
   "outputs": [
    {
     "ename": "NameError",
     "evalue": "name 'driver' is not defined",
     "output_type": "error",
     "traceback": [
      "\u001b[1;31m---------------------------------------------------------------------------\u001b[0m",
      "\u001b[1;31mNameError\u001b[0m                                 Traceback (most recent call last)",
      "\u001b[1;32m<ipython-input-41-3da93cb8d6aa>\u001b[0m in \u001b[0;36m<module>\u001b[1;34m\u001b[0m\n\u001b[1;32m----> 1\u001b[1;33m \u001b[0murl\u001b[0m \u001b[1;33m=\u001b[0m \u001b[0mdriver\u001b[0m\u001b[1;33m.\u001b[0m\u001b[0mfind_element\u001b[0m\u001b[1;33m(\u001b[0m\u001b[0mby\u001b[0m\u001b[1;33m=\u001b[0m\u001b[0mBy\u001b[0m\u001b[1;33m.\u001b[0m\u001b[0mCLASS_NAME\u001b[0m\u001b[1;33m,\u001b[0m \u001b[0mvalue\u001b[0m\u001b[1;33m=\u001b[0m\u001b[1;34m'titre'\u001b[0m\u001b[1;33m)\u001b[0m\u001b[1;33m\u001b[0m\u001b[1;33m\u001b[0m\u001b[0m\n\u001b[0m",
      "\u001b[1;31mNameError\u001b[0m: name 'driver' is not defined"
     ]
    }
   ],
   "source": [
    "url = driver.find_element(by=By.CLASS_NAME, value='titre')"
   ]
  },
  {
   "cell_type": "code",
   "execution_count": 42,
   "id": "670ec2d4",
   "metadata": {},
   "outputs": [
    {
     "ename": "NameError",
     "evalue": "name 'url' is not defined",
     "output_type": "error",
     "traceback": [
      "\u001b[1;31m---------------------------------------------------------------------------\u001b[0m",
      "\u001b[1;31mNameError\u001b[0m                                 Traceback (most recent call last)",
      "\u001b[1;32m<ipython-input-42-bbeb96f0486d>\u001b[0m in \u001b[0;36m<module>\u001b[1;34m\u001b[0m\n\u001b[1;32m----> 1\u001b[1;33m \u001b[0mprint\u001b[0m\u001b[1;33m(\u001b[0m\u001b[0murl\u001b[0m\u001b[1;33m)\u001b[0m\u001b[1;33m\u001b[0m\u001b[1;33m\u001b[0m\u001b[0m\n\u001b[0m",
      "\u001b[1;31mNameError\u001b[0m: name 'url' is not defined"
     ]
    }
   ],
   "source": [
    "print(url)"
   ]
  },
  {
   "cell_type": "code",
   "execution_count": 43,
   "id": "3cb74aca",
   "metadata": {},
   "outputs": [
    {
     "ename": "NameError",
     "evalue": "name 'driver' is not defined",
     "output_type": "error",
     "traceback": [
      "\u001b[1;31m---------------------------------------------------------------------------\u001b[0m",
      "\u001b[1;31mNameError\u001b[0m                                 Traceback (most recent call last)",
      "\u001b[1;32m<ipython-input-43-500e0518493f>\u001b[0m in \u001b[0;36m<module>\u001b[1;34m\u001b[0m\n\u001b[0;32m      1\u001b[0m \u001b[0mscroll_number\u001b[0m \u001b[1;33m=\u001b[0m \u001b[1;36m5\u001b[0m\u001b[1;33m\u001b[0m\u001b[1;33m\u001b[0m\u001b[0m\n\u001b[0;32m      2\u001b[0m \u001b[1;32mfor\u001b[0m \u001b[0mi\u001b[0m \u001b[1;32min\u001b[0m \u001b[0mrange\u001b[0m\u001b[1;33m(\u001b[0m\u001b[1;36m1\u001b[0m \u001b[1;33m,\u001b[0m \u001b[0mscroll_number\u001b[0m\u001b[1;33m)\u001b[0m \u001b[1;33m:\u001b[0m\u001b[1;33m\u001b[0m\u001b[1;33m\u001b[0m\u001b[0m\n\u001b[1;32m----> 3\u001b[1;33m     \u001b[0mdriver\u001b[0m\u001b[1;33m.\u001b[0m\u001b[0mexecute_script\u001b[0m\u001b[1;33m(\u001b[0m\u001b[1;34m\"window.scrollTo(0 , document.body.scrollHeight)\"\u001b[0m\u001b[1;33m)\u001b[0m\u001b[1;33m\u001b[0m\u001b[1;33m\u001b[0m\u001b[0m\n\u001b[0m\u001b[0;32m      4\u001b[0m     \u001b[0mtime\u001b[0m\u001b[1;33m.\u001b[0m\u001b[0msleep\u001b[0m\u001b[1;33m(\u001b[0m\u001b[1;36m3\u001b[0m\u001b[1;33m)\u001b[0m\u001b[1;33m\u001b[0m\u001b[1;33m\u001b[0m\u001b[0m\n",
      "\u001b[1;31mNameError\u001b[0m: name 'driver' is not defined"
     ]
    }
   ],
   "source": [
    "scroll_number = 5\n",
    "for i in range(1 , scroll_number) :\n",
    "    driver.execute_script(\"window.scrollTo(0 , document.body.scrollHeight)\")\n",
    "    time.sleep(3)"
   ]
  },
  {
   "cell_type": "code",
   "execution_count": 44,
   "id": "5771b916",
   "metadata": {},
   "outputs": [],
   "source": [
    "def get_url (source) :\n",
    "    url_source = source\n",
    "    req = Request(url_source, headers={'User-Agent': 'Mozilla/5.0'})\n",
    "    html = urlopen(req).read().decode('utf-8')\n",
    "    page = bs4.BeautifulSoup(html, 'html.parser')\n",
    "    urls = []\n",
    "    soupes = page.findAll('span', {'class' : 'titre'})\n",
    "    for soup in soupes :\n",
    "        urls.append(soup.find('a').get('href'))"
   ]
  },
  {
   "cell_type": "code",
   "execution_count": 45,
   "id": "a7f9a4c2",
   "metadata": {},
   "outputs": [
    {
     "name": "stderr",
     "output_type": "stream",
     "text": [
      "<ipython-input-45-7b1a1b7a8613>:6: DeprecationWarning: executable_path has been deprecated, please pass in a Service object\n",
      "  driver = webdriver.Firefox(executable_path= r\"C:\\Users\\erwan\\Downloads\\geckodriver.exe\")\n"
     ]
    },
    {
     "ename": "KeyboardInterrupt",
     "evalue": "",
     "output_type": "error",
     "traceback": [
      "\u001b[1;31m---------------------------------------------------------------------------\u001b[0m",
      "\u001b[1;31mConnectionRefusedError\u001b[0m                    Traceback (most recent call last)",
      "\u001b[1;32mC:\\ProgramData\\Anaconda3\\lib\\site-packages\\urllib3\\util\\connection.py\u001b[0m in \u001b[0;36mcreate_connection\u001b[1;34m(address, timeout, source_address, socket_options)\u001b[0m\n\u001b[0;32m     85\u001b[0m                 \u001b[0msock\u001b[0m\u001b[1;33m.\u001b[0m\u001b[0mbind\u001b[0m\u001b[1;33m(\u001b[0m\u001b[0msource_address\u001b[0m\u001b[1;33m)\u001b[0m\u001b[1;33m\u001b[0m\u001b[1;33m\u001b[0m\u001b[0m\n\u001b[1;32m---> 86\u001b[1;33m             \u001b[0msock\u001b[0m\u001b[1;33m.\u001b[0m\u001b[0mconnect\u001b[0m\u001b[1;33m(\u001b[0m\u001b[0msa\u001b[0m\u001b[1;33m)\u001b[0m\u001b[1;33m\u001b[0m\u001b[1;33m\u001b[0m\u001b[0m\n\u001b[0m\u001b[0;32m     87\u001b[0m             \u001b[1;32mreturn\u001b[0m \u001b[0msock\u001b[0m\u001b[1;33m\u001b[0m\u001b[1;33m\u001b[0m\u001b[0m\n",
      "\u001b[1;31mConnectionRefusedError\u001b[0m: [WinError 10061] Aucune connexion n’a pu être établie car l’ordinateur cible l’a expressément refusée",
      "\nDuring handling of the above exception, another exception occurred:\n",
      "\u001b[1;31mKeyboardInterrupt\u001b[0m                         Traceback (most recent call last)",
      "\u001b[1;32m<ipython-input-45-7b1a1b7a8613>\u001b[0m in \u001b[0;36m<module>\u001b[1;34m\u001b[0m\n\u001b[0;32m      4\u001b[0m \u001b[1;32mfrom\u001b[0m \u001b[0mrandom\u001b[0m \u001b[1;32mimport\u001b[0m \u001b[1;33m*\u001b[0m\u001b[1;33m\u001b[0m\u001b[1;33m\u001b[0m\u001b[0m\n\u001b[0;32m      5\u001b[0m \u001b[1;33m\u001b[0m\u001b[0m\n\u001b[1;32m----> 6\u001b[1;33m \u001b[0mdriver\u001b[0m \u001b[1;33m=\u001b[0m \u001b[0mwebdriver\u001b[0m\u001b[1;33m.\u001b[0m\u001b[0mFirefox\u001b[0m\u001b[1;33m(\u001b[0m\u001b[0mexecutable_path\u001b[0m\u001b[1;33m=\u001b[0m \u001b[1;34mr\"C:\\Users\\erwan\\Downloads\\geckodriver.exe\"\u001b[0m\u001b[1;33m)\u001b[0m\u001b[1;33m\u001b[0m\u001b[1;33m\u001b[0m\u001b[0m\n\u001b[0m\u001b[0;32m      7\u001b[0m \u001b[1;33m\u001b[0m\u001b[0m\n\u001b[0;32m      8\u001b[0m \u001b[0mdriver\u001b[0m\u001b[1;33m.\u001b[0m\u001b[0mget\u001b[0m\u001b[1;33m(\u001b[0m\u001b[1;34m'https://www.elle.fr/actu/fil-info/People'\u001b[0m\u001b[1;33m)\u001b[0m\u001b[1;33m\u001b[0m\u001b[1;33m\u001b[0m\u001b[0m\n",
      "\u001b[1;32mC:\\ProgramData\\Anaconda3\\lib\\site-packages\\selenium\\webdriver\\firefox\\webdriver.py\u001b[0m in \u001b[0;36m__init__\u001b[1;34m(self, firefox_profile, firefox_binary, capabilities, proxy, executable_path, options, service_log_path, service_args, service, desired_capabilities, log_path, keep_alive)\u001b[0m\n\u001b[0;32m    176\u001b[0m             \u001b[0mremote_server_addr\u001b[0m\u001b[1;33m=\u001b[0m\u001b[0mself\u001b[0m\u001b[1;33m.\u001b[0m\u001b[0mservice\u001b[0m\u001b[1;33m.\u001b[0m\u001b[0mservice_url\u001b[0m\u001b[1;33m,\u001b[0m\u001b[1;33m\u001b[0m\u001b[1;33m\u001b[0m\u001b[0m\n\u001b[0;32m    177\u001b[0m             ignore_proxy=options._ignore_local_proxy)\n\u001b[1;32m--> 178\u001b[1;33m         RemoteWebDriver.__init__(\n\u001b[0m\u001b[0;32m    179\u001b[0m             \u001b[0mself\u001b[0m\u001b[1;33m,\u001b[0m\u001b[1;33m\u001b[0m\u001b[1;33m\u001b[0m\u001b[0m\n\u001b[0;32m    180\u001b[0m             \u001b[0mcommand_executor\u001b[0m\u001b[1;33m=\u001b[0m\u001b[0mexecutor\u001b[0m\u001b[1;33m,\u001b[0m\u001b[1;33m\u001b[0m\u001b[1;33m\u001b[0m\u001b[0m\n",
      "\u001b[1;32mC:\\ProgramData\\Anaconda3\\lib\\site-packages\\selenium\\webdriver\\remote\\webdriver.py\u001b[0m in \u001b[0;36m__init__\u001b[1;34m(self, command_executor, desired_capabilities, browser_profile, proxy, keep_alive, file_detector, options)\u001b[0m\n\u001b[0;32m    267\u001b[0m         \u001b[0mself\u001b[0m\u001b[1;33m.\u001b[0m\u001b[0mfile_detector\u001b[0m \u001b[1;33m=\u001b[0m \u001b[0mfile_detector\u001b[0m \u001b[1;32mor\u001b[0m \u001b[0mLocalFileDetector\u001b[0m\u001b[1;33m(\u001b[0m\u001b[1;33m)\u001b[0m\u001b[1;33m\u001b[0m\u001b[1;33m\u001b[0m\u001b[0m\n\u001b[0;32m    268\u001b[0m         \u001b[0mself\u001b[0m\u001b[1;33m.\u001b[0m\u001b[0mstart_client\u001b[0m\u001b[1;33m(\u001b[0m\u001b[1;33m)\u001b[0m\u001b[1;33m\u001b[0m\u001b[1;33m\u001b[0m\u001b[0m\n\u001b[1;32m--> 269\u001b[1;33m         \u001b[0mself\u001b[0m\u001b[1;33m.\u001b[0m\u001b[0mstart_session\u001b[0m\u001b[1;33m(\u001b[0m\u001b[0mcapabilities\u001b[0m\u001b[1;33m,\u001b[0m \u001b[0mbrowser_profile\u001b[0m\u001b[1;33m)\u001b[0m\u001b[1;33m\u001b[0m\u001b[1;33m\u001b[0m\u001b[0m\n\u001b[0m\u001b[0;32m    270\u001b[0m \u001b[1;33m\u001b[0m\u001b[0m\n\u001b[0;32m    271\u001b[0m     \u001b[1;32mdef\u001b[0m \u001b[0m__repr__\u001b[0m\u001b[1;33m(\u001b[0m\u001b[0mself\u001b[0m\u001b[1;33m)\u001b[0m\u001b[1;33m:\u001b[0m\u001b[1;33m\u001b[0m\u001b[1;33m\u001b[0m\u001b[0m\n",
      "\u001b[1;32mC:\\ProgramData\\Anaconda3\\lib\\site-packages\\selenium\\webdriver\\remote\\webdriver.py\u001b[0m in \u001b[0;36mstart_session\u001b[1;34m(self, capabilities, browser_profile)\u001b[0m\n\u001b[0;32m    358\u001b[0m         parameters = {\"capabilities\": w3c_caps,\n\u001b[0;32m    359\u001b[0m                       \"desiredCapabilities\": capabilities}\n\u001b[1;32m--> 360\u001b[1;33m         \u001b[0mresponse\u001b[0m \u001b[1;33m=\u001b[0m \u001b[0mself\u001b[0m\u001b[1;33m.\u001b[0m\u001b[0mexecute\u001b[0m\u001b[1;33m(\u001b[0m\u001b[0mCommand\u001b[0m\u001b[1;33m.\u001b[0m\u001b[0mNEW_SESSION\u001b[0m\u001b[1;33m,\u001b[0m \u001b[0mparameters\u001b[0m\u001b[1;33m)\u001b[0m\u001b[1;33m\u001b[0m\u001b[1;33m\u001b[0m\u001b[0m\n\u001b[0m\u001b[0;32m    361\u001b[0m         \u001b[1;32mif\u001b[0m \u001b[1;34m'sessionId'\u001b[0m \u001b[1;32mnot\u001b[0m \u001b[1;32min\u001b[0m \u001b[0mresponse\u001b[0m\u001b[1;33m:\u001b[0m\u001b[1;33m\u001b[0m\u001b[1;33m\u001b[0m\u001b[0m\n\u001b[0;32m    362\u001b[0m             \u001b[0mresponse\u001b[0m \u001b[1;33m=\u001b[0m \u001b[0mresponse\u001b[0m\u001b[1;33m[\u001b[0m\u001b[1;34m'value'\u001b[0m\u001b[1;33m]\u001b[0m\u001b[1;33m\u001b[0m\u001b[1;33m\u001b[0m\u001b[0m\n",
      "\u001b[1;32mC:\\ProgramData\\Anaconda3\\lib\\site-packages\\selenium\\webdriver\\remote\\webdriver.py\u001b[0m in \u001b[0;36mexecute\u001b[1;34m(self, driver_command, params)\u001b[0m\n\u001b[0;32m    421\u001b[0m \u001b[1;33m\u001b[0m\u001b[0m\n\u001b[0;32m    422\u001b[0m         \u001b[0mparams\u001b[0m \u001b[1;33m=\u001b[0m \u001b[0mself\u001b[0m\u001b[1;33m.\u001b[0m\u001b[0m_wrap_value\u001b[0m\u001b[1;33m(\u001b[0m\u001b[0mparams\u001b[0m\u001b[1;33m)\u001b[0m\u001b[1;33m\u001b[0m\u001b[1;33m\u001b[0m\u001b[0m\n\u001b[1;32m--> 423\u001b[1;33m         \u001b[0mresponse\u001b[0m \u001b[1;33m=\u001b[0m \u001b[0mself\u001b[0m\u001b[1;33m.\u001b[0m\u001b[0mcommand_executor\u001b[0m\u001b[1;33m.\u001b[0m\u001b[0mexecute\u001b[0m\u001b[1;33m(\u001b[0m\u001b[0mdriver_command\u001b[0m\u001b[1;33m,\u001b[0m \u001b[0mparams\u001b[0m\u001b[1;33m)\u001b[0m\u001b[1;33m\u001b[0m\u001b[1;33m\u001b[0m\u001b[0m\n\u001b[0m\u001b[0;32m    424\u001b[0m         \u001b[1;32mif\u001b[0m \u001b[0mresponse\u001b[0m\u001b[1;33m:\u001b[0m\u001b[1;33m\u001b[0m\u001b[1;33m\u001b[0m\u001b[0m\n\u001b[0;32m    425\u001b[0m             \u001b[0mself\u001b[0m\u001b[1;33m.\u001b[0m\u001b[0merror_handler\u001b[0m\u001b[1;33m.\u001b[0m\u001b[0mcheck_response\u001b[0m\u001b[1;33m(\u001b[0m\u001b[0mresponse\u001b[0m\u001b[1;33m)\u001b[0m\u001b[1;33m\u001b[0m\u001b[1;33m\u001b[0m\u001b[0m\n",
      "\u001b[1;32mC:\\ProgramData\\Anaconda3\\lib\\site-packages\\selenium\\webdriver\\remote\\remote_connection.py\u001b[0m in \u001b[0;36mexecute\u001b[1;34m(self, command, params)\u001b[0m\n\u001b[0;32m    314\u001b[0m         \u001b[0mdata\u001b[0m \u001b[1;33m=\u001b[0m \u001b[0mutils\u001b[0m\u001b[1;33m.\u001b[0m\u001b[0mdump_json\u001b[0m\u001b[1;33m(\u001b[0m\u001b[0mparams\u001b[0m\u001b[1;33m)\u001b[0m\u001b[1;33m\u001b[0m\u001b[1;33m\u001b[0m\u001b[0m\n\u001b[0;32m    315\u001b[0m         \u001b[0murl\u001b[0m \u001b[1;33m=\u001b[0m \u001b[1;34mf\"{self._url}{path}\"\u001b[0m\u001b[1;33m\u001b[0m\u001b[1;33m\u001b[0m\u001b[0m\n\u001b[1;32m--> 316\u001b[1;33m         \u001b[1;32mreturn\u001b[0m \u001b[0mself\u001b[0m\u001b[1;33m.\u001b[0m\u001b[0m_request\u001b[0m\u001b[1;33m(\u001b[0m\u001b[0mcommand_info\u001b[0m\u001b[1;33m[\u001b[0m\u001b[1;36m0\u001b[0m\u001b[1;33m]\u001b[0m\u001b[1;33m,\u001b[0m \u001b[0murl\u001b[0m\u001b[1;33m,\u001b[0m \u001b[0mbody\u001b[0m\u001b[1;33m=\u001b[0m\u001b[0mdata\u001b[0m\u001b[1;33m)\u001b[0m\u001b[1;33m\u001b[0m\u001b[1;33m\u001b[0m\u001b[0m\n\u001b[0m\u001b[0;32m    317\u001b[0m \u001b[1;33m\u001b[0m\u001b[0m\n\u001b[0;32m    318\u001b[0m     \u001b[1;32mdef\u001b[0m \u001b[0m_request\u001b[0m\u001b[1;33m(\u001b[0m\u001b[0mself\u001b[0m\u001b[1;33m,\u001b[0m \u001b[0mmethod\u001b[0m\u001b[1;33m,\u001b[0m \u001b[0murl\u001b[0m\u001b[1;33m,\u001b[0m \u001b[0mbody\u001b[0m\u001b[1;33m=\u001b[0m\u001b[1;32mNone\u001b[0m\u001b[1;33m)\u001b[0m\u001b[1;33m:\u001b[0m\u001b[1;33m\u001b[0m\u001b[1;33m\u001b[0m\u001b[0m\n",
      "\u001b[1;32mC:\\ProgramData\\Anaconda3\\lib\\site-packages\\selenium\\webdriver\\remote\\remote_connection.py\u001b[0m in \u001b[0;36m_request\u001b[1;34m(self, method, url, body)\u001b[0m\n\u001b[0;32m    336\u001b[0m \u001b[1;33m\u001b[0m\u001b[0m\n\u001b[0;32m    337\u001b[0m         \u001b[1;32mif\u001b[0m \u001b[0mself\u001b[0m\u001b[1;33m.\u001b[0m\u001b[0mkeep_alive\u001b[0m\u001b[1;33m:\u001b[0m\u001b[1;33m\u001b[0m\u001b[1;33m\u001b[0m\u001b[0m\n\u001b[1;32m--> 338\u001b[1;33m             \u001b[0mresp\u001b[0m \u001b[1;33m=\u001b[0m \u001b[0mself\u001b[0m\u001b[1;33m.\u001b[0m\u001b[0m_conn\u001b[0m\u001b[1;33m.\u001b[0m\u001b[0mrequest\u001b[0m\u001b[1;33m(\u001b[0m\u001b[0mmethod\u001b[0m\u001b[1;33m,\u001b[0m \u001b[0murl\u001b[0m\u001b[1;33m,\u001b[0m \u001b[0mbody\u001b[0m\u001b[1;33m=\u001b[0m\u001b[0mbody\u001b[0m\u001b[1;33m,\u001b[0m \u001b[0mheaders\u001b[0m\u001b[1;33m=\u001b[0m\u001b[0mheaders\u001b[0m\u001b[1;33m)\u001b[0m\u001b[1;33m\u001b[0m\u001b[1;33m\u001b[0m\u001b[0m\n\u001b[0m\u001b[0;32m    339\u001b[0m             \u001b[0mstatuscode\u001b[0m \u001b[1;33m=\u001b[0m \u001b[0mresp\u001b[0m\u001b[1;33m.\u001b[0m\u001b[0mstatus\u001b[0m\u001b[1;33m\u001b[0m\u001b[1;33m\u001b[0m\u001b[0m\n\u001b[0;32m    340\u001b[0m         \u001b[1;32melse\u001b[0m\u001b[1;33m:\u001b[0m\u001b[1;33m\u001b[0m\u001b[1;33m\u001b[0m\u001b[0m\n",
      "\u001b[1;32mC:\\ProgramData\\Anaconda3\\lib\\site-packages\\urllib3\\request.py\u001b[0m in \u001b[0;36mrequest\u001b[1;34m(self, method, url, fields, headers, **urlopen_kw)\u001b[0m\n\u001b[0;32m     76\u001b[0m             )\n\u001b[0;32m     77\u001b[0m         \u001b[1;32melse\u001b[0m\u001b[1;33m:\u001b[0m\u001b[1;33m\u001b[0m\u001b[1;33m\u001b[0m\u001b[0m\n\u001b[1;32m---> 78\u001b[1;33m             return self.request_encode_body(\n\u001b[0m\u001b[0;32m     79\u001b[0m                 \u001b[0mmethod\u001b[0m\u001b[1;33m,\u001b[0m \u001b[0murl\u001b[0m\u001b[1;33m,\u001b[0m \u001b[0mfields\u001b[0m\u001b[1;33m=\u001b[0m\u001b[0mfields\u001b[0m\u001b[1;33m,\u001b[0m \u001b[0mheaders\u001b[0m\u001b[1;33m=\u001b[0m\u001b[0mheaders\u001b[0m\u001b[1;33m,\u001b[0m \u001b[1;33m**\u001b[0m\u001b[0murlopen_kw\u001b[0m\u001b[1;33m\u001b[0m\u001b[1;33m\u001b[0m\u001b[0m\n\u001b[0;32m     80\u001b[0m             )\n",
      "\u001b[1;32mC:\\ProgramData\\Anaconda3\\lib\\site-packages\\urllib3\\request.py\u001b[0m in \u001b[0;36mrequest_encode_body\u001b[1;34m(self, method, url, fields, headers, encode_multipart, multipart_boundary, **urlopen_kw)\u001b[0m\n\u001b[0;32m    168\u001b[0m         \u001b[0mextra_kw\u001b[0m\u001b[1;33m.\u001b[0m\u001b[0mupdate\u001b[0m\u001b[1;33m(\u001b[0m\u001b[0murlopen_kw\u001b[0m\u001b[1;33m)\u001b[0m\u001b[1;33m\u001b[0m\u001b[1;33m\u001b[0m\u001b[0m\n\u001b[0;32m    169\u001b[0m \u001b[1;33m\u001b[0m\u001b[0m\n\u001b[1;32m--> 170\u001b[1;33m         \u001b[1;32mreturn\u001b[0m \u001b[0mself\u001b[0m\u001b[1;33m.\u001b[0m\u001b[0murlopen\u001b[0m\u001b[1;33m(\u001b[0m\u001b[0mmethod\u001b[0m\u001b[1;33m,\u001b[0m \u001b[0murl\u001b[0m\u001b[1;33m,\u001b[0m \u001b[1;33m**\u001b[0m\u001b[0mextra_kw\u001b[0m\u001b[1;33m)\u001b[0m\u001b[1;33m\u001b[0m\u001b[1;33m\u001b[0m\u001b[0m\n\u001b[0m",
      "\u001b[1;32mC:\\ProgramData\\Anaconda3\\lib\\site-packages\\urllib3\\poolmanager.py\u001b[0m in \u001b[0;36murlopen\u001b[1;34m(self, method, url, redirect, **kw)\u001b[0m\n\u001b[0;32m    373\u001b[0m             \u001b[0mresponse\u001b[0m \u001b[1;33m=\u001b[0m \u001b[0mconn\u001b[0m\u001b[1;33m.\u001b[0m\u001b[0murlopen\u001b[0m\u001b[1;33m(\u001b[0m\u001b[0mmethod\u001b[0m\u001b[1;33m,\u001b[0m \u001b[0murl\u001b[0m\u001b[1;33m,\u001b[0m \u001b[1;33m**\u001b[0m\u001b[0mkw\u001b[0m\u001b[1;33m)\u001b[0m\u001b[1;33m\u001b[0m\u001b[1;33m\u001b[0m\u001b[0m\n\u001b[0;32m    374\u001b[0m         \u001b[1;32melse\u001b[0m\u001b[1;33m:\u001b[0m\u001b[1;33m\u001b[0m\u001b[1;33m\u001b[0m\u001b[0m\n\u001b[1;32m--> 375\u001b[1;33m             \u001b[0mresponse\u001b[0m \u001b[1;33m=\u001b[0m \u001b[0mconn\u001b[0m\u001b[1;33m.\u001b[0m\u001b[0murlopen\u001b[0m\u001b[1;33m(\u001b[0m\u001b[0mmethod\u001b[0m\u001b[1;33m,\u001b[0m \u001b[0mu\u001b[0m\u001b[1;33m.\u001b[0m\u001b[0mrequest_uri\u001b[0m\u001b[1;33m,\u001b[0m \u001b[1;33m**\u001b[0m\u001b[0mkw\u001b[0m\u001b[1;33m)\u001b[0m\u001b[1;33m\u001b[0m\u001b[1;33m\u001b[0m\u001b[0m\n\u001b[0m\u001b[0;32m    376\u001b[0m \u001b[1;33m\u001b[0m\u001b[0m\n\u001b[0;32m    377\u001b[0m         \u001b[0mredirect_location\u001b[0m \u001b[1;33m=\u001b[0m \u001b[0mredirect\u001b[0m \u001b[1;32mand\u001b[0m \u001b[0mresponse\u001b[0m\u001b[1;33m.\u001b[0m\u001b[0mget_redirect_location\u001b[0m\u001b[1;33m(\u001b[0m\u001b[1;33m)\u001b[0m\u001b[1;33m\u001b[0m\u001b[1;33m\u001b[0m\u001b[0m\n",
      "\u001b[1;32mC:\\ProgramData\\Anaconda3\\lib\\site-packages\\urllib3\\connectionpool.py\u001b[0m in \u001b[0;36murlopen\u001b[1;34m(self, method, url, body, headers, retries, redirect, assert_same_host, timeout, pool_timeout, release_conn, chunked, body_pos, **response_kw)\u001b[0m\n\u001b[0;32m    697\u001b[0m \u001b[1;33m\u001b[0m\u001b[0m\n\u001b[0;32m    698\u001b[0m             \u001b[1;31m# Make the request on the httplib connection object.\u001b[0m\u001b[1;33m\u001b[0m\u001b[1;33m\u001b[0m\u001b[1;33m\u001b[0m\u001b[0m\n\u001b[1;32m--> 699\u001b[1;33m             httplib_response = self._make_request(\n\u001b[0m\u001b[0;32m    700\u001b[0m                 \u001b[0mconn\u001b[0m\u001b[1;33m,\u001b[0m\u001b[1;33m\u001b[0m\u001b[1;33m\u001b[0m\u001b[0m\n\u001b[0;32m    701\u001b[0m                 \u001b[0mmethod\u001b[0m\u001b[1;33m,\u001b[0m\u001b[1;33m\u001b[0m\u001b[1;33m\u001b[0m\u001b[0m\n",
      "\u001b[1;32mC:\\ProgramData\\Anaconda3\\lib\\site-packages\\urllib3\\connectionpool.py\u001b[0m in \u001b[0;36m_make_request\u001b[1;34m(self, conn, method, url, timeout, chunked, **httplib_request_kw)\u001b[0m\n\u001b[0;32m    392\u001b[0m                 \u001b[0mconn\u001b[0m\u001b[1;33m.\u001b[0m\u001b[0mrequest_chunked\u001b[0m\u001b[1;33m(\u001b[0m\u001b[0mmethod\u001b[0m\u001b[1;33m,\u001b[0m \u001b[0murl\u001b[0m\u001b[1;33m,\u001b[0m \u001b[1;33m**\u001b[0m\u001b[0mhttplib_request_kw\u001b[0m\u001b[1;33m)\u001b[0m\u001b[1;33m\u001b[0m\u001b[1;33m\u001b[0m\u001b[0m\n\u001b[0;32m    393\u001b[0m             \u001b[1;32melse\u001b[0m\u001b[1;33m:\u001b[0m\u001b[1;33m\u001b[0m\u001b[1;33m\u001b[0m\u001b[0m\n\u001b[1;32m--> 394\u001b[1;33m                 \u001b[0mconn\u001b[0m\u001b[1;33m.\u001b[0m\u001b[0mrequest\u001b[0m\u001b[1;33m(\u001b[0m\u001b[0mmethod\u001b[0m\u001b[1;33m,\u001b[0m \u001b[0murl\u001b[0m\u001b[1;33m,\u001b[0m \u001b[1;33m**\u001b[0m\u001b[0mhttplib_request_kw\u001b[0m\u001b[1;33m)\u001b[0m\u001b[1;33m\u001b[0m\u001b[1;33m\u001b[0m\u001b[0m\n\u001b[0m\u001b[0;32m    395\u001b[0m \u001b[1;33m\u001b[0m\u001b[0m\n\u001b[0;32m    396\u001b[0m         \u001b[1;31m# We are swallowing BrokenPipeError (errno.EPIPE) since the server is\u001b[0m\u001b[1;33m\u001b[0m\u001b[1;33m\u001b[0m\u001b[1;33m\u001b[0m\u001b[0m\n",
      "\u001b[1;32mC:\\ProgramData\\Anaconda3\\lib\\site-packages\\urllib3\\connection.py\u001b[0m in \u001b[0;36mrequest\u001b[1;34m(self, method, url, body, headers)\u001b[0m\n\u001b[0;32m    232\u001b[0m         \u001b[1;32mif\u001b[0m \u001b[1;34m\"user-agent\"\u001b[0m \u001b[1;32mnot\u001b[0m \u001b[1;32min\u001b[0m \u001b[1;33m(\u001b[0m\u001b[0msix\u001b[0m\u001b[1;33m.\u001b[0m\u001b[0mensure_str\u001b[0m\u001b[1;33m(\u001b[0m\u001b[0mk\u001b[0m\u001b[1;33m.\u001b[0m\u001b[0mlower\u001b[0m\u001b[1;33m(\u001b[0m\u001b[1;33m)\u001b[0m\u001b[1;33m)\u001b[0m \u001b[1;32mfor\u001b[0m \u001b[0mk\u001b[0m \u001b[1;32min\u001b[0m \u001b[0mheaders\u001b[0m\u001b[1;33m)\u001b[0m\u001b[1;33m:\u001b[0m\u001b[1;33m\u001b[0m\u001b[1;33m\u001b[0m\u001b[0m\n\u001b[0;32m    233\u001b[0m             \u001b[0mheaders\u001b[0m\u001b[1;33m[\u001b[0m\u001b[1;34m\"User-Agent\"\u001b[0m\u001b[1;33m]\u001b[0m \u001b[1;33m=\u001b[0m \u001b[0m_get_default_user_agent\u001b[0m\u001b[1;33m(\u001b[0m\u001b[1;33m)\u001b[0m\u001b[1;33m\u001b[0m\u001b[1;33m\u001b[0m\u001b[0m\n\u001b[1;32m--> 234\u001b[1;33m         \u001b[0msuper\u001b[0m\u001b[1;33m(\u001b[0m\u001b[0mHTTPConnection\u001b[0m\u001b[1;33m,\u001b[0m \u001b[0mself\u001b[0m\u001b[1;33m)\u001b[0m\u001b[1;33m.\u001b[0m\u001b[0mrequest\u001b[0m\u001b[1;33m(\u001b[0m\u001b[0mmethod\u001b[0m\u001b[1;33m,\u001b[0m \u001b[0murl\u001b[0m\u001b[1;33m,\u001b[0m \u001b[0mbody\u001b[0m\u001b[1;33m=\u001b[0m\u001b[0mbody\u001b[0m\u001b[1;33m,\u001b[0m \u001b[0mheaders\u001b[0m\u001b[1;33m=\u001b[0m\u001b[0mheaders\u001b[0m\u001b[1;33m)\u001b[0m\u001b[1;33m\u001b[0m\u001b[1;33m\u001b[0m\u001b[0m\n\u001b[0m\u001b[0;32m    235\u001b[0m \u001b[1;33m\u001b[0m\u001b[0m\n\u001b[0;32m    236\u001b[0m     \u001b[1;32mdef\u001b[0m \u001b[0mrequest_chunked\u001b[0m\u001b[1;33m(\u001b[0m\u001b[0mself\u001b[0m\u001b[1;33m,\u001b[0m \u001b[0mmethod\u001b[0m\u001b[1;33m,\u001b[0m \u001b[0murl\u001b[0m\u001b[1;33m,\u001b[0m \u001b[0mbody\u001b[0m\u001b[1;33m=\u001b[0m\u001b[1;32mNone\u001b[0m\u001b[1;33m,\u001b[0m \u001b[0mheaders\u001b[0m\u001b[1;33m=\u001b[0m\u001b[1;32mNone\u001b[0m\u001b[1;33m)\u001b[0m\u001b[1;33m:\u001b[0m\u001b[1;33m\u001b[0m\u001b[1;33m\u001b[0m\u001b[0m\n",
      "\u001b[1;32mC:\\ProgramData\\Anaconda3\\lib\\http\\client.py\u001b[0m in \u001b[0;36mrequest\u001b[1;34m(self, method, url, body, headers, encode_chunked)\u001b[0m\n\u001b[0;32m   1253\u001b[0m                 encode_chunked=False):\n\u001b[0;32m   1254\u001b[0m         \u001b[1;34m\"\"\"Send a complete request to the server.\"\"\"\u001b[0m\u001b[1;33m\u001b[0m\u001b[1;33m\u001b[0m\u001b[0m\n\u001b[1;32m-> 1255\u001b[1;33m         \u001b[0mself\u001b[0m\u001b[1;33m.\u001b[0m\u001b[0m_send_request\u001b[0m\u001b[1;33m(\u001b[0m\u001b[0mmethod\u001b[0m\u001b[1;33m,\u001b[0m \u001b[0murl\u001b[0m\u001b[1;33m,\u001b[0m \u001b[0mbody\u001b[0m\u001b[1;33m,\u001b[0m \u001b[0mheaders\u001b[0m\u001b[1;33m,\u001b[0m \u001b[0mencode_chunked\u001b[0m\u001b[1;33m)\u001b[0m\u001b[1;33m\u001b[0m\u001b[1;33m\u001b[0m\u001b[0m\n\u001b[0m\u001b[0;32m   1256\u001b[0m \u001b[1;33m\u001b[0m\u001b[0m\n\u001b[0;32m   1257\u001b[0m     \u001b[1;32mdef\u001b[0m \u001b[0m_send_request\u001b[0m\u001b[1;33m(\u001b[0m\u001b[0mself\u001b[0m\u001b[1;33m,\u001b[0m \u001b[0mmethod\u001b[0m\u001b[1;33m,\u001b[0m \u001b[0murl\u001b[0m\u001b[1;33m,\u001b[0m \u001b[0mbody\u001b[0m\u001b[1;33m,\u001b[0m \u001b[0mheaders\u001b[0m\u001b[1;33m,\u001b[0m \u001b[0mencode_chunked\u001b[0m\u001b[1;33m)\u001b[0m\u001b[1;33m:\u001b[0m\u001b[1;33m\u001b[0m\u001b[1;33m\u001b[0m\u001b[0m\n",
      "\u001b[1;32mC:\\ProgramData\\Anaconda3\\lib\\http\\client.py\u001b[0m in \u001b[0;36m_send_request\u001b[1;34m(self, method, url, body, headers, encode_chunked)\u001b[0m\n\u001b[0;32m   1299\u001b[0m             \u001b[1;31m# default charset of iso-8859-1.\u001b[0m\u001b[1;33m\u001b[0m\u001b[1;33m\u001b[0m\u001b[1;33m\u001b[0m\u001b[0m\n\u001b[0;32m   1300\u001b[0m             \u001b[0mbody\u001b[0m \u001b[1;33m=\u001b[0m \u001b[0m_encode\u001b[0m\u001b[1;33m(\u001b[0m\u001b[0mbody\u001b[0m\u001b[1;33m,\u001b[0m \u001b[1;34m'body'\u001b[0m\u001b[1;33m)\u001b[0m\u001b[1;33m\u001b[0m\u001b[1;33m\u001b[0m\u001b[0m\n\u001b[1;32m-> 1301\u001b[1;33m         \u001b[0mself\u001b[0m\u001b[1;33m.\u001b[0m\u001b[0mendheaders\u001b[0m\u001b[1;33m(\u001b[0m\u001b[0mbody\u001b[0m\u001b[1;33m,\u001b[0m \u001b[0mencode_chunked\u001b[0m\u001b[1;33m=\u001b[0m\u001b[0mencode_chunked\u001b[0m\u001b[1;33m)\u001b[0m\u001b[1;33m\u001b[0m\u001b[1;33m\u001b[0m\u001b[0m\n\u001b[0m\u001b[0;32m   1302\u001b[0m \u001b[1;33m\u001b[0m\u001b[0m\n\u001b[0;32m   1303\u001b[0m     \u001b[1;32mdef\u001b[0m \u001b[0mgetresponse\u001b[0m\u001b[1;33m(\u001b[0m\u001b[0mself\u001b[0m\u001b[1;33m)\u001b[0m\u001b[1;33m:\u001b[0m\u001b[1;33m\u001b[0m\u001b[1;33m\u001b[0m\u001b[0m\n",
      "\u001b[1;32mC:\\ProgramData\\Anaconda3\\lib\\http\\client.py\u001b[0m in \u001b[0;36mendheaders\u001b[1;34m(self, message_body, encode_chunked)\u001b[0m\n\u001b[0;32m   1248\u001b[0m         \u001b[1;32melse\u001b[0m\u001b[1;33m:\u001b[0m\u001b[1;33m\u001b[0m\u001b[1;33m\u001b[0m\u001b[0m\n\u001b[0;32m   1249\u001b[0m             \u001b[1;32mraise\u001b[0m \u001b[0mCannotSendHeader\u001b[0m\u001b[1;33m(\u001b[0m\u001b[1;33m)\u001b[0m\u001b[1;33m\u001b[0m\u001b[1;33m\u001b[0m\u001b[0m\n\u001b[1;32m-> 1250\u001b[1;33m         \u001b[0mself\u001b[0m\u001b[1;33m.\u001b[0m\u001b[0m_send_output\u001b[0m\u001b[1;33m(\u001b[0m\u001b[0mmessage_body\u001b[0m\u001b[1;33m,\u001b[0m \u001b[0mencode_chunked\u001b[0m\u001b[1;33m=\u001b[0m\u001b[0mencode_chunked\u001b[0m\u001b[1;33m)\u001b[0m\u001b[1;33m\u001b[0m\u001b[1;33m\u001b[0m\u001b[0m\n\u001b[0m\u001b[0;32m   1251\u001b[0m \u001b[1;33m\u001b[0m\u001b[0m\n\u001b[0;32m   1252\u001b[0m     def request(self, method, url, body=None, headers={}, *,\n",
      "\u001b[1;32mC:\\ProgramData\\Anaconda3\\lib\\http\\client.py\u001b[0m in \u001b[0;36m_send_output\u001b[1;34m(self, message_body, encode_chunked)\u001b[0m\n\u001b[0;32m   1008\u001b[0m         \u001b[0mmsg\u001b[0m \u001b[1;33m=\u001b[0m \u001b[1;34mb\"\\r\\n\"\u001b[0m\u001b[1;33m.\u001b[0m\u001b[0mjoin\u001b[0m\u001b[1;33m(\u001b[0m\u001b[0mself\u001b[0m\u001b[1;33m.\u001b[0m\u001b[0m_buffer\u001b[0m\u001b[1;33m)\u001b[0m\u001b[1;33m\u001b[0m\u001b[1;33m\u001b[0m\u001b[0m\n\u001b[0;32m   1009\u001b[0m         \u001b[1;32mdel\u001b[0m \u001b[0mself\u001b[0m\u001b[1;33m.\u001b[0m\u001b[0m_buffer\u001b[0m\u001b[1;33m[\u001b[0m\u001b[1;33m:\u001b[0m\u001b[1;33m]\u001b[0m\u001b[1;33m\u001b[0m\u001b[1;33m\u001b[0m\u001b[0m\n\u001b[1;32m-> 1010\u001b[1;33m         \u001b[0mself\u001b[0m\u001b[1;33m.\u001b[0m\u001b[0msend\u001b[0m\u001b[1;33m(\u001b[0m\u001b[0mmsg\u001b[0m\u001b[1;33m)\u001b[0m\u001b[1;33m\u001b[0m\u001b[1;33m\u001b[0m\u001b[0m\n\u001b[0m\u001b[0;32m   1011\u001b[0m \u001b[1;33m\u001b[0m\u001b[0m\n\u001b[0;32m   1012\u001b[0m         \u001b[1;32mif\u001b[0m \u001b[0mmessage_body\u001b[0m \u001b[1;32mis\u001b[0m \u001b[1;32mnot\u001b[0m \u001b[1;32mNone\u001b[0m\u001b[1;33m:\u001b[0m\u001b[1;33m\u001b[0m\u001b[1;33m\u001b[0m\u001b[0m\n",
      "\u001b[1;32mC:\\ProgramData\\Anaconda3\\lib\\http\\client.py\u001b[0m in \u001b[0;36msend\u001b[1;34m(self, data)\u001b[0m\n\u001b[0;32m    948\u001b[0m         \u001b[1;32mif\u001b[0m \u001b[0mself\u001b[0m\u001b[1;33m.\u001b[0m\u001b[0msock\u001b[0m \u001b[1;32mis\u001b[0m \u001b[1;32mNone\u001b[0m\u001b[1;33m:\u001b[0m\u001b[1;33m\u001b[0m\u001b[1;33m\u001b[0m\u001b[0m\n\u001b[0;32m    949\u001b[0m             \u001b[1;32mif\u001b[0m \u001b[0mself\u001b[0m\u001b[1;33m.\u001b[0m\u001b[0mauto_open\u001b[0m\u001b[1;33m:\u001b[0m\u001b[1;33m\u001b[0m\u001b[1;33m\u001b[0m\u001b[0m\n\u001b[1;32m--> 950\u001b[1;33m                 \u001b[0mself\u001b[0m\u001b[1;33m.\u001b[0m\u001b[0mconnect\u001b[0m\u001b[1;33m(\u001b[0m\u001b[1;33m)\u001b[0m\u001b[1;33m\u001b[0m\u001b[1;33m\u001b[0m\u001b[0m\n\u001b[0m\u001b[0;32m    951\u001b[0m             \u001b[1;32melse\u001b[0m\u001b[1;33m:\u001b[0m\u001b[1;33m\u001b[0m\u001b[1;33m\u001b[0m\u001b[0m\n\u001b[0;32m    952\u001b[0m                 \u001b[1;32mraise\u001b[0m \u001b[0mNotConnected\u001b[0m\u001b[1;33m(\u001b[0m\u001b[1;33m)\u001b[0m\u001b[1;33m\u001b[0m\u001b[1;33m\u001b[0m\u001b[0m\n",
      "\u001b[1;32mC:\\ProgramData\\Anaconda3\\lib\\site-packages\\urllib3\\connection.py\u001b[0m in \u001b[0;36mconnect\u001b[1;34m(self)\u001b[0m\n\u001b[0;32m    198\u001b[0m \u001b[1;33m\u001b[0m\u001b[0m\n\u001b[0;32m    199\u001b[0m     \u001b[1;32mdef\u001b[0m \u001b[0mconnect\u001b[0m\u001b[1;33m(\u001b[0m\u001b[0mself\u001b[0m\u001b[1;33m)\u001b[0m\u001b[1;33m:\u001b[0m\u001b[1;33m\u001b[0m\u001b[1;33m\u001b[0m\u001b[0m\n\u001b[1;32m--> 200\u001b[1;33m         \u001b[0mconn\u001b[0m \u001b[1;33m=\u001b[0m \u001b[0mself\u001b[0m\u001b[1;33m.\u001b[0m\u001b[0m_new_conn\u001b[0m\u001b[1;33m(\u001b[0m\u001b[1;33m)\u001b[0m\u001b[1;33m\u001b[0m\u001b[1;33m\u001b[0m\u001b[0m\n\u001b[0m\u001b[0;32m    201\u001b[0m         \u001b[0mself\u001b[0m\u001b[1;33m.\u001b[0m\u001b[0m_prepare_conn\u001b[0m\u001b[1;33m(\u001b[0m\u001b[0mconn\u001b[0m\u001b[1;33m)\u001b[0m\u001b[1;33m\u001b[0m\u001b[1;33m\u001b[0m\u001b[0m\n\u001b[0;32m    202\u001b[0m \u001b[1;33m\u001b[0m\u001b[0m\n",
      "\u001b[1;32mC:\\ProgramData\\Anaconda3\\lib\\site-packages\\urllib3\\connection.py\u001b[0m in \u001b[0;36m_new_conn\u001b[1;34m(self)\u001b[0m\n\u001b[0;32m    167\u001b[0m \u001b[1;33m\u001b[0m\u001b[0m\n\u001b[0;32m    168\u001b[0m         \u001b[1;32mtry\u001b[0m\u001b[1;33m:\u001b[0m\u001b[1;33m\u001b[0m\u001b[1;33m\u001b[0m\u001b[0m\n\u001b[1;32m--> 169\u001b[1;33m             conn = connection.create_connection(\n\u001b[0m\u001b[0;32m    170\u001b[0m                 \u001b[1;33m(\u001b[0m\u001b[0mself\u001b[0m\u001b[1;33m.\u001b[0m\u001b[0m_dns_host\u001b[0m\u001b[1;33m,\u001b[0m \u001b[0mself\u001b[0m\u001b[1;33m.\u001b[0m\u001b[0mport\u001b[0m\u001b[1;33m)\u001b[0m\u001b[1;33m,\u001b[0m \u001b[0mself\u001b[0m\u001b[1;33m.\u001b[0m\u001b[0mtimeout\u001b[0m\u001b[1;33m,\u001b[0m \u001b[1;33m**\u001b[0m\u001b[0mextra_kw\u001b[0m\u001b[1;33m\u001b[0m\u001b[1;33m\u001b[0m\u001b[0m\n\u001b[0;32m    171\u001b[0m             )\n",
      "\u001b[1;32mC:\\ProgramData\\Anaconda3\\lib\\site-packages\\urllib3\\util\\connection.py\u001b[0m in \u001b[0;36mcreate_connection\u001b[1;34m(address, timeout, source_address, socket_options)\u001b[0m\n\u001b[0;32m     84\u001b[0m             \u001b[1;32mif\u001b[0m \u001b[0msource_address\u001b[0m\u001b[1;33m:\u001b[0m\u001b[1;33m\u001b[0m\u001b[1;33m\u001b[0m\u001b[0m\n\u001b[0;32m     85\u001b[0m                 \u001b[0msock\u001b[0m\u001b[1;33m.\u001b[0m\u001b[0mbind\u001b[0m\u001b[1;33m(\u001b[0m\u001b[0msource_address\u001b[0m\u001b[1;33m)\u001b[0m\u001b[1;33m\u001b[0m\u001b[1;33m\u001b[0m\u001b[0m\n\u001b[1;32m---> 86\u001b[1;33m             \u001b[0msock\u001b[0m\u001b[1;33m.\u001b[0m\u001b[0mconnect\u001b[0m\u001b[1;33m(\u001b[0m\u001b[0msa\u001b[0m\u001b[1;33m)\u001b[0m\u001b[1;33m\u001b[0m\u001b[1;33m\u001b[0m\u001b[0m\n\u001b[0m\u001b[0;32m     87\u001b[0m             \u001b[1;32mreturn\u001b[0m \u001b[0msock\u001b[0m\u001b[1;33m\u001b[0m\u001b[1;33m\u001b[0m\u001b[0m\n\u001b[0;32m     88\u001b[0m \u001b[1;33m\u001b[0m\u001b[0m\n",
      "\u001b[1;31mKeyboardInterrupt\u001b[0m: "
     ]
    }
   ],
   "source": [
    "from selenium import webdriver\n",
    "from selenium.webdriver.common.keys import Keys\n",
    "import time\n",
    "from random import *\n",
    "\n",
    "driver = webdriver.Firefox(executable_path= r\"C:\\Users\\erwan\\Downloads\\geckodriver.exe\")\n",
    "\n",
    "driver.get('https://www.elle.fr/actu/fil-info/People')\n",
    "\n",
    "time.sleep(5)\n",
    "\n",
    "stop_cookies = driver.find_element_by_id(\"didomi-notice-agree-button\")\n",
    "stop_cookies.click()\n",
    "\n",
    "time.sleep(3)\n",
    "\n",
    "element = driver.find_element_by_tag_name('body')\n",
    "\n",
    "timeout = 60 * 30\n",
    "\n",
    "timeout_start = time.time()\n",
    "\n",
    "while time.time() < timeout_start + timeout:\n",
    "    element.send_keys(Keys.PAGE_DOWN)\n",
    "    time.sleep(randint(1,6))\n",
    "\n",
    "\n",
    "    \n",
    "\n"
   ]
  },
  {
   "cell_type": "code",
   "execution_count": null,
   "id": "41751297",
   "metadata": {},
   "outputs": [
    {
     "name": "stderr",
     "output_type": "stream",
     "text": [
      "<ipython-input-27-a08bbd1c9d15>:1: DeprecationWarning: find_elements_by_xpath is deprecated. Please use find_elements(by=By.XPATH, value=xpath) instead\n",
      "  elems = driver.find_elements_by_xpath(\"//span[contains(@class, 'titre')]/a[@href]\")\n"
     ]
    }
   ],
   "source": [
    "elems = driver.find_elements_by_xpath(\"//span[contains(@class, 'titre')]/a[@href]\")\n",
    "urls = []\n",
    "for elem in elems:\n",
    "    urls.append(elem.get_attribute(\"href\"))"
   ]
  },
  {
   "cell_type": "code",
   "execution_count": null,
   "id": "bfd7c1df",
   "metadata": {},
   "outputs": [
    {
     "data": {
      "text/plain": [
       "880"
      ]
     },
     "execution_count": 28,
     "metadata": {},
     "output_type": "execute_result"
    }
   ],
   "source": [
    "len(urls)"
   ]
  },
  {
   "cell_type": "code",
   "execution_count": null,
   "id": "ae7503e5",
   "metadata": {},
   "outputs": [],
   "source": [
    "fichier = open(\"elle.txt\", \"w\")\n",
    "for url in urls :\n",
    "\n",
    "    fichier.write(url + \"\\n\")\n",
    "fichier.close()"
   ]
  },
  {
   "cell_type": "code",
   "execution_count": null,
   "id": "1d85dc2f",
   "metadata": {},
   "outputs": [],
   "source": [
    "get_url('https://www.elle.fr/actu/fil-info/People')"
   ]
  },
  {
   "cell_type": "code",
   "execution_count": null,
   "id": "7e4d5ca3",
   "metadata": {},
   "outputs": [
    {
     "data": {
      "text/plain": [
       "280"
      ]
     },
     "execution_count": 25,
     "metadata": {},
     "output_type": "execute_result"
    }
   ],
   "source": [
    "len(urls)"
   ]
  },
  {
   "cell_type": "code",
   "execution_count": null,
   "id": "915621d6",
   "metadata": {},
   "outputs": [],
   "source": [
    "from scrapping_util import get_selenium_firefox_driver"
   ]
  },
  {
   "cell_type": "code",
   "execution_count": null,
   "id": "4cba4ea9",
   "metadata": {},
   "outputs": [],
   "source": [
    "driver = get_selenium_firefox_driver('https://www.elle.fr/actu/fil-info/People',  gecko_driver_path = r\"C:\\Users\\erwan\\Downloads\\geckodriver.exe\")"
   ]
  },
  {
   "cell_type": "markdown",
   "id": "4b4d8cda",
   "metadata": {},
   "source": [
    "url en clé de dico +\n",
    "\n",
    "\n",
    "article = page.find('div', {'id' : 'text'})\n",
    "print(article.prettify())\n",
    "\n",
    "article.find('h2', {'class' : 'gallery-title'}).find_parent('div').decompose()\n",
    "\n",
    "article = article.getText()\n",
    "\n",
    "article.replace('\\xa0' , ' ')\n",
    "print(article)\n",
    "\n",
    "titre = page.find('h1')\n",
    "print(titre.prettify())\n",
    "\n",
    "titre.getText()\n",
    "\n",
    "date = page.find('span', {'class' : 'publication'})\n",
    "print(date)\n",
    "\n",
    "date.getText().strip()\n",
    "\n",
    "auteur = page.find('span', {'class' : 'media-heading'})\n",
    "print(auteur)\n",
    "\n",
    "auteur.getText().strip()"
   ]
  },
  {
   "cell_type": "code",
   "execution_count": null,
   "id": "3c9346ed",
   "metadata": {},
   "outputs": [],
   "source": [
    "from scrapping_util import *"
   ]
  },
  {
   "cell_type": "code",
   "execution_count": null,
   "id": "cf0e5135",
   "metadata": {},
   "outputs": [],
   "source": [
    "def scrapping_elle(url, tags=None, journal=None, verbose=0):\n",
    "    \"\"\"Retrieve article data\n",
    "\n",
    "    Args:\n",
    "        url (str): the article page url\n",
    "        tags (str, optional): the tags. Defaults to None.\n",
    "        journal (Journal, optional): The paper. Defaults to None.\n",
    "        verbose (int, optional): log level. Defaults to 0.\n",
    "\n",
    "    Raises:\n",
    "        AttributeError: if url is missing\n",
    "\n",
    "    Returns:\n",
    "        Article: the article\n",
    "    \"\"\"\n",
    "    if url is None or len(url)==0:\n",
    "        raise AttributeError(\"URL expected\")\n",
    "\n",
    "    page = get_page(url)\n",
    "\n",
    "    titre = \"\"\n",
    "    date_parution = \"\"\n",
    "    auteur = \"\"\n",
    "    texte = \"\"\n",
    "    # TODO scrapping\n",
    "\n",
    "    \n",
    "    art = page.find('div', {'id' : 'text'})\n",
    "    if art is not None:\n",
    "        # balise titre : <h1></h1>\n",
    "        titre = art.find('h1').getText().strip()\n",
    "        \n",
    "        # DATE : <div class=\"ac-article-date\">\n",
    "        parution = art.find('span', {'class' : 'publication'}).getText().strip()\n",
    "\n",
    "        # Libération des variables\n",
    "        parution=None\n",
    "        parutions = None\n",
    "        \n",
    "        content_balise = art.find('div', {'id' : 'text'})\n",
    "\n",
    "\n",
    "    texte = content_balise.strip()\n",
    "    article = {'titre':titre, 'date_parution':date_parution, 'url':url ,'auteur':auteur, 'texte':texte, 'tags':tags, 'journal':journal}\n",
    "    if verbose:\n",
    "        print(article)\n",
    "    return article\n"
   ]
  },
  {
   "cell_type": "code",
   "execution_count": null,
   "id": "84fd339e",
   "metadata": {},
   "outputs": [
    {
     "ename": "UnboundLocalError",
     "evalue": "local variable 'content_balise' referenced before assignment",
     "output_type": "error",
     "traceback": [
      "\u001b[1;31m---------------------------------------------------------------------------\u001b[0m",
      "\u001b[1;31mUnboundLocalError\u001b[0m                         Traceback (most recent call last)",
      "\u001b[1;32m<ipython-input-68-69acffd200cd>\u001b[0m in \u001b[0;36m<module>\u001b[1;34m\u001b[0m\n\u001b[1;32m----> 1\u001b[1;33m \u001b[0mscrapping_elle\u001b[0m\u001b[1;33m(\u001b[0m\u001b[1;34m\"https://www.elle.fr/People/La-vie-des-people/News/Millie-Bobby-Brown-amoureuse-officialise-avec-Jake-Bongiovi-sur-le-tapis-rouge-des-BAFTA-2022\"\u001b[0m\u001b[1;33m)\u001b[0m\u001b[1;33m\u001b[0m\u001b[1;33m\u001b[0m\u001b[0m\n\u001b[0m",
      "\u001b[1;32m<ipython-input-66-06597afbdb25>\u001b[0m in \u001b[0;36mscrapping_elle\u001b[1;34m(url, tags, journal, verbose)\u001b[0m\n\u001b[0;32m     41\u001b[0m \u001b[1;33m\u001b[0m\u001b[0m\n\u001b[0;32m     42\u001b[0m \u001b[1;33m\u001b[0m\u001b[0m\n\u001b[1;32m---> 43\u001b[1;33m     \u001b[0mtexte\u001b[0m \u001b[1;33m=\u001b[0m \u001b[0mcontent_balise\u001b[0m\u001b[1;33m.\u001b[0m\u001b[0mstrip\u001b[0m\u001b[1;33m(\u001b[0m\u001b[1;33m)\u001b[0m\u001b[1;33m\u001b[0m\u001b[1;33m\u001b[0m\u001b[0m\n\u001b[0m\u001b[0;32m     44\u001b[0m     \u001b[0marticle\u001b[0m \u001b[1;33m=\u001b[0m \u001b[1;33m{\u001b[0m\u001b[1;34m'titre'\u001b[0m\u001b[1;33m:\u001b[0m\u001b[0mtitre\u001b[0m\u001b[1;33m,\u001b[0m \u001b[1;34m'date_parution'\u001b[0m\u001b[1;33m:\u001b[0m\u001b[0mdate_parution\u001b[0m\u001b[1;33m,\u001b[0m \u001b[1;34m'url'\u001b[0m\u001b[1;33m:\u001b[0m\u001b[0murl\u001b[0m \u001b[1;33m,\u001b[0m\u001b[1;34m'auteur'\u001b[0m\u001b[1;33m:\u001b[0m\u001b[0mauteur\u001b[0m\u001b[1;33m,\u001b[0m \u001b[1;34m'texte'\u001b[0m\u001b[1;33m:\u001b[0m\u001b[0mtexte\u001b[0m\u001b[1;33m,\u001b[0m \u001b[1;34m'tags'\u001b[0m\u001b[1;33m:\u001b[0m\u001b[0mtags\u001b[0m\u001b[1;33m,\u001b[0m \u001b[1;34m'journal'\u001b[0m\u001b[1;33m:\u001b[0m\u001b[0mjournal\u001b[0m\u001b[1;33m}\u001b[0m\u001b[1;33m\u001b[0m\u001b[1;33m\u001b[0m\u001b[0m\n\u001b[0;32m     45\u001b[0m     \u001b[1;32mif\u001b[0m \u001b[0mverbose\u001b[0m\u001b[1;33m:\u001b[0m\u001b[1;33m\u001b[0m\u001b[1;33m\u001b[0m\u001b[0m\n",
      "\u001b[1;31mUnboundLocalError\u001b[0m: local variable 'content_balise' referenced before assignment"
     ]
    }
   ],
   "source": [
    "scrapping_elle(\"https://www.elle.fr/People/La-vie-des-people/News/Millie-Bobby-Brown-amoureuse-officialise-avec-Jake-Bongiovi-sur-le-tapis-rouge-des-BAFTA-2022\")"
   ]
  },
  {
   "cell_type": "code",
   "execution_count": null,
   "id": "bf3effee",
   "metadata": {},
   "outputs": [],
   "source": []
  }
 ],
 "metadata": {
  "kernelspec": {
   "display_name": "Python 3",
   "language": "python",
   "name": "python3"
  },
  "language_info": {
   "codemirror_mode": {
    "name": "ipython",
    "version": 3
   },
   "file_extension": ".py",
   "mimetype": "text/x-python",
   "name": "python",
   "nbconvert_exporter": "python",
   "pygments_lexer": "ipython3",
   "version": "3.8.8"
  }
 },
 "nbformat": 4,
 "nbformat_minor": 5
}
